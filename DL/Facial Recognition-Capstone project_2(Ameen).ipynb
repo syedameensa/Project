{
 "cells": [
  {
   "cell_type": "markdown",
   "id": "d2c45913",
   "metadata": {},
   "source": [
    "## specifying the folder where images are present"
   ]
  },
  {
   "cell_type": "code",
   "execution_count": 1,
   "id": "8323cbe5",
   "metadata": {},
   "outputs": [],
   "source": [
    "TrainingImagePath = \"C:\\\\Users\\\\syeda\\\\OneDrive\\\\Documents\\\\Computer vision\\\\Face Rec\\\\train\""
   ]
  },
  {
   "cell_type": "code",
   "execution_count": 2,
   "id": "da596b09",
   "metadata": {},
   "outputs": [],
   "source": [
    "validationImagePath = \"C:\\\\Users\\\\syeda\\\\OneDrive\\\\Documents\\\\Computer vision\\\\Face Rec\\\\validation\""
   ]
  },
  {
   "cell_type": "code",
   "execution_count": 3,
   "id": "0b3a86e5",
   "metadata": {},
   "outputs": [],
   "source": [
    "from keras.preprocessing.image import ImageDataGenerator"
   ]
  },
  {
   "cell_type": "code",
   "execution_count": 4,
   "id": "2c1a367d",
   "metadata": {},
   "outputs": [],
   "source": [
    "#base model\n",
    "\n",
    "train_datagen = ImageDataGenerator(rescale = 1./225)\n",
    "\n",
    "test_datagen = ImageDataGenerator(rescale = 1./225)"
   ]
  },
  {
   "cell_type": "code",
   "execution_count": 5,
   "id": "dfa42c58",
   "metadata": {},
   "outputs": [
    {
     "name": "stdout",
     "output_type": "stream",
     "text": [
      "Found 344 images belonging to 37 classes.\n"
     ]
    }
   ],
   "source": [
    "#Generating the training data\n",
    "training_set = train_datagen.flow_from_directory(TrainingImagePath,\n",
    "                                                target_size = (64,64),\n",
    "                                                batch_size = 20,\n",
    "                                                class_mode = 'categorical')"
   ]
  },
  {
   "cell_type": "markdown",
   "id": "2c15810a",
   "metadata": {},
   "source": [
    "# Validation set"
   ]
  },
  {
   "cell_type": "code",
   "execution_count": 6,
   "id": "3cc075fc",
   "metadata": {},
   "outputs": [
    {
     "name": "stdout",
     "output_type": "stream",
     "text": [
      "Found 111 images belonging to 37 classes.\n"
     ]
    }
   ],
   "source": [
    "#Generating the validation data\n",
    "validation_set = test_datagen.flow_from_directory(validationImagePath,\n",
    "                                                target_size = (64,64),\n",
    "                                                batch_size = 20,\n",
    "                                                class_mode = 'categorical')"
   ]
  },
  {
   "cell_type": "code",
   "execution_count": 7,
   "id": "ece0fe30",
   "metadata": {},
   "outputs": [],
   "source": [
    "# Libraries and model type\n",
    "\n",
    "# Create CNN Deep learning model\n",
    "\n",
    "from keras.models import Sequential\n",
    "from keras.layers import Convolution2D\n",
    "from keras.layers import MaxPool2D\n",
    "from keras.layers import Flatten\n",
    "from keras.layers import Dense"
   ]
  },
  {
   "cell_type": "code",
   "execution_count": 8,
   "id": "2fff8cc7",
   "metadata": {},
   "outputs": [],
   "source": [
    "# Initializing the Convolutional Neural Network\n",
    "\n",
    "classifier = Sequential()"
   ]
  },
  {
   "cell_type": "markdown",
   "id": "4cfe1d78",
   "metadata": {},
   "source": [
    "# MODEL"
   ]
  },
  {
   "cell_type": "code",
   "execution_count": 9,
   "id": "8492de9e",
   "metadata": {},
   "outputs": [],
   "source": [
    "# STEP 1 Convolution\n",
    "# Adding th e first layer of CNN\n",
    "# We are using the format (64,64,3) because we are using Tensorflow backend\n",
    "# It means 3 matrix of size (64x64) pixels representing Red, Green and Blue components of pixels"
   ]
  },
  {
   "cell_type": "code",
   "execution_count": 10,
   "id": "32963cf9",
   "metadata": {},
   "outputs": [],
   "source": [
    "#STEP 1 Convolution\n",
    "classifier.add(Convolution2D(32, kernel_size=(3,3),\n",
    "                            input_shape=(64,64,3), activation ='relu'))"
   ]
  },
  {
   "cell_type": "code",
   "execution_count": 11,
   "id": "89846aab",
   "metadata": {},
   "outputs": [],
   "source": [
    "#STEP 2- Max Pooling\n",
    "classifier.add(MaxPool2D(pool_size=(2,2)))"
   ]
  },
  {
   "cell_type": "code",
   "execution_count": 12,
   "id": "2b18d1c4",
   "metadata": {},
   "outputs": [],
   "source": [
    "# Additional layer of convolution for better accuracy"
   ]
  },
  {
   "cell_type": "code",
   "execution_count": 13,
   "id": "1170bde1",
   "metadata": {},
   "outputs": [],
   "source": [
    "classifier.add(Convolution2D(64, kernel_size=(3,3), activation='relu'))"
   ]
  },
  {
   "cell_type": "code",
   "execution_count": 14,
   "id": "26797a27",
   "metadata": {},
   "outputs": [],
   "source": [
    "classifier.add(MaxPool2D(pool_size=(2,2)))"
   ]
  },
  {
   "cell_type": "code",
   "execution_count": 15,
   "id": "abef6142",
   "metadata": {},
   "outputs": [],
   "source": [
    "#STEP 3- Flattening\n",
    "classifier.add(Flatten())"
   ]
  },
  {
   "cell_type": "code",
   "execution_count": 16,
   "id": "ab05d9c6",
   "metadata": {},
   "outputs": [],
   "source": [
    "#STEP 4 - Fully connected neural network\n",
    "classifier.add(Dense(64, activation='relu'))\n",
    "classifier.add(Dense(37, activation='softmax'))"
   ]
  },
  {
   "cell_type": "code",
   "execution_count": 17,
   "id": "1521fca7",
   "metadata": {},
   "outputs": [
    {
     "name": "stdout",
     "output_type": "stream",
     "text": [
      "Model: \"sequential\"\n",
      "_________________________________________________________________\n",
      " Layer (type)                Output Shape              Param #   \n",
      "=================================================================\n",
      " conv2d (Conv2D)             (None, 62, 62, 32)        896       \n",
      "                                                                 \n",
      " max_pooling2d (MaxPooling2D  (None, 31, 31, 32)       0         \n",
      " )                                                               \n",
      "                                                                 \n",
      " conv2d_1 (Conv2D)           (None, 29, 29, 64)        18496     \n",
      "                                                                 \n",
      " max_pooling2d_1 (MaxPooling  (None, 14, 14, 64)       0         \n",
      " 2D)                                                             \n",
      "                                                                 \n",
      " flatten (Flatten)           (None, 12544)             0         \n",
      "                                                                 \n",
      " dense (Dense)               (None, 64)                802880    \n",
      "                                                                 \n",
      " dense_1 (Dense)             (None, 37)                2405      \n",
      "                                                                 \n",
      "=================================================================\n",
      "Total params: 824,677\n",
      "Trainable params: 824,677\n",
      "Non-trainable params: 0\n",
      "_________________________________________________________________\n"
     ]
    }
   ],
   "source": [
    "classifier.summary()"
   ]
  },
  {
   "cell_type": "markdown",
   "id": "aa3726de",
   "metadata": {},
   "source": [
    "# Compiler"
   ]
  },
  {
   "cell_type": "code",
   "execution_count": 18,
   "id": "21641481",
   "metadata": {},
   "outputs": [],
   "source": [
    "# Compiling the CNN\n",
    "classifier.compile(loss='categorical_crossentropy',\n",
    "                  optimizer = 'adam', metrics =['accuracy'])"
   ]
  },
  {
   "cell_type": "markdown",
   "id": "e1a12966",
   "metadata": {},
   "source": [
    "# Execution of model"
   ]
  },
  {
   "cell_type": "code",
   "execution_count": 19,
   "id": "36a06941",
   "metadata": {},
   "outputs": [],
   "source": [
    "# Starting the model training\n",
    "import warnings\n",
    "warnings.filterwarnings('ignore')"
   ]
  },
  {
   "cell_type": "code",
   "execution_count": 20,
   "id": "48f4fa72",
   "metadata": {
    "scrolled": true
   },
   "outputs": [
    {
     "name": "stdout",
     "output_type": "stream",
     "text": [
      "Epoch 1/10\n",
      "18/18 [==============================] - 21s 1s/step - loss: 3.7194 - accuracy: 0.0262 - val_loss: 3.5887 - val_accuracy: 0.0721\n",
      "Epoch 2/10\n",
      "18/18 [==============================] - 18s 985ms/step - loss: 3.5548 - accuracy: 0.0436 - val_loss: 3.4785 - val_accuracy: 0.0631\n",
      "Epoch 3/10\n",
      "18/18 [==============================] - 18s 989ms/step - loss: 3.3883 - accuracy: 0.1047 - val_loss: 3.2325 - val_accuracy: 0.1622\n",
      "Epoch 4/10\n",
      "18/18 [==============================] - 18s 1s/step - loss: 3.0087 - accuracy: 0.2180 - val_loss: 2.8349 - val_accuracy: 0.2252\n",
      "Epoch 5/10\n",
      "18/18 [==============================] - 18s 1s/step - loss: 2.4181 - accuracy: 0.3605 - val_loss: 2.5284 - val_accuracy: 0.2613\n",
      "Epoch 6/10\n",
      "18/18 [==============================] - 18s 1s/step - loss: 1.8145 - accuracy: 0.4738 - val_loss: 2.0683 - val_accuracy: 0.4595\n",
      "Epoch 7/10\n",
      "18/18 [==============================] - 18s 1s/step - loss: 1.3391 - accuracy: 0.6395 - val_loss: 1.8548 - val_accuracy: 0.5225\n",
      "Epoch 8/10\n",
      "18/18 [==============================] - 17s 996ms/step - loss: 0.9384 - accuracy: 0.7355 - val_loss: 1.6790 - val_accuracy: 0.5495\n",
      "Epoch 9/10\n",
      "18/18 [==============================] - 18s 1s/step - loss: 0.5919 - accuracy: 0.8750 - val_loss: 1.6585 - val_accuracy: 0.5676\n",
      "Epoch 10/10\n",
      "18/18 [==============================] - 17s 948ms/step - loss: 0.3820 - accuracy: 0.9302 - val_loss: 1.5307 - val_accuracy: 0.5766\n"
     ]
    }
   ],
   "source": [
    "history = classifier.fit_generator(training_set, epochs =10,\n",
    "                                  validation_data=validation_set)"
   ]
  },
  {
   "cell_type": "markdown",
   "id": "a667778a",
   "metadata": {},
   "source": [
    "## Accuracy base model"
   ]
  },
  {
   "cell_type": "code",
   "execution_count": 21,
   "id": "da29d502",
   "metadata": {},
   "outputs": [],
   "source": [
    "#Displaying curves of loss and accuracy during training"
   ]
  },
  {
   "cell_type": "code",
   "execution_count": 22,
   "id": "6a3b388c",
   "metadata": {},
   "outputs": [],
   "source": [
    "import matplotlib.pyplot as plt"
   ]
  },
  {
   "cell_type": "code",
   "execution_count": 23,
   "id": "a2f54536",
   "metadata": {},
   "outputs": [],
   "source": [
    "acc = history.history['accuracy']"
   ]
  },
  {
   "cell_type": "code",
   "execution_count": 24,
   "id": "4d3c58b8",
   "metadata": {},
   "outputs": [],
   "source": [
    "val_acc = history.history['val_accuracy']"
   ]
  },
  {
   "cell_type": "code",
   "execution_count": 25,
   "id": "c4eade01",
   "metadata": {},
   "outputs": [],
   "source": [
    "loss = history.history['loss']"
   ]
  },
  {
   "cell_type": "code",
   "execution_count": 26,
   "id": "e04e4857",
   "metadata": {},
   "outputs": [],
   "source": [
    "val_loss = history.history['val_loss']"
   ]
  },
  {
   "cell_type": "code",
   "execution_count": 27,
   "id": "30d0b84f",
   "metadata": {},
   "outputs": [],
   "source": [
    "epochs = range(1, len(acc) + 1)"
   ]
  },
  {
   "cell_type": "code",
   "execution_count": 28,
   "id": "7002cc49",
   "metadata": {},
   "outputs": [
    {
     "data": {
      "text/plain": [
       "<Figure size 432x288 with 0 Axes>"
      ]
     },
     "execution_count": 28,
     "metadata": {},
     "output_type": "execute_result"
    },
    {
     "data": {
      "image/png": "[encoded data removed]",
      "text/plain": [
       "<Figure size 432x288 with 1 Axes>"
      ]
     },
     "metadata": {
      "needs_background": "light"
     },
     "output_type": "display_data"
    },
    {
     "data": {
      "text/plain": [
       "<Figure size 432x288 with 0 Axes>"
      ]
     },
     "metadata": {},
     "output_type": "display_data"
    }
   ],
   "source": [
    "plt.plot(epochs, acc, 'bo', label='Training acc')\n",
    "plt.plot(epochs, val_acc, 'r', label='Validation acc')\n",
    "plt.title('Training and validation accuracy')\n",
    "plt.legend()\n",
    "plt.figure()"
   ]
  },
  {
   "cell_type": "markdown",
   "id": "e204e892",
   "metadata": {},
   "source": [
    "# Loss base model"
   ]
  },
  {
   "cell_type": "code",
   "execution_count": 29,
   "id": "11e1d8e3",
   "metadata": {},
   "outputs": [
    {
     "data": {
      "text/plain": [
       "<Figure size 432x288 with 0 Axes>"
      ]
     },
     "execution_count": 29,
     "metadata": {},
     "output_type": "execute_result"
    },
    {
     "data": {
      "image/png": "[encoded data removed]",
      "text/plain": [
       "<Figure size 432x288 with 1 Axes>"
      ]
     },
     "metadata": {
      "needs_background": "light"
     },
     "output_type": "display_data"
    },
    {
     "data": {
      "text/plain": [
       "<Figure size 432x288 with 0 Axes>"
      ]
     },
     "metadata": {},
     "output_type": "display_data"
    }
   ],
   "source": [
    "plt.plot(epochs, loss, 'bo', label='Training loss')\n",
    "plt.plot(epochs, val_loss, 'r', label='Validation loss')\n",
    "plt.title('Training and validation loss')\n",
    "plt.legend()\n",
    "plt.figure()"
   ]
  },
  {
   "cell_type": "code",
   "execution_count": 30,
   "id": "e42e2f8e",
   "metadata": {},
   "outputs": [],
   "source": [
    "# Lets improve"
   ]
  },
  {
   "cell_type": "code",
   "execution_count": 31,
   "id": "938e7633",
   "metadata": {},
   "outputs": [],
   "source": [
    "# Model 2"
   ]
  },
  {
   "cell_type": "code",
   "execution_count": 33,
   "id": "b327fbe6",
   "metadata": {},
   "outputs": [],
   "source": [
    "# Adding parameters in the ImageDatagenerator\n",
    "train_datagen = ImageDataGenerator(rescale=1./225, shear_range=0.5,\n",
    "                                  zoom_range=0.5, width_shift_range=0.2,\n",
    "                                  height_shift_range=0.2)"
   ]
  },
  {
   "cell_type": "code",
   "execution_count": 34,
   "id": "1cc4e1de",
   "metadata": {},
   "outputs": [],
   "source": [
    "# No transformations are done on the testing images"
   ]
  },
  {
   "cell_type": "code",
   "execution_count": 35,
   "id": "c95e3a4b",
   "metadata": {},
   "outputs": [],
   "source": [
    "test_datgen = ImageDataGenerator(rescale=1./225)"
   ]
  },
  {
   "cell_type": "code",
   "execution_count": 37,
   "id": "e4eec759",
   "metadata": {},
   "outputs": [
    {
     "name": "stdout",
     "output_type": "stream",
     "text": [
      "Found 344 images belonging to 37 classes.\n"
     ]
    }
   ],
   "source": [
    "# Generating the training data\n",
    "training_set = train_datagen.flow_from_directory(TrainingImagePath,\n",
    "                                                target_size=(64,64),\n",
    "                                                batch_size=20,\n",
    "                                                class_mode='categorical')"
   ]
  },
  {
   "cell_type": "code",
   "execution_count": 39,
   "id": "2ac9a009",
   "metadata": {},
   "outputs": [
    {
     "name": "stdout",
     "output_type": "stream",
     "text": [
      "Found 111 images belonging to 37 classes.\n"
     ]
    }
   ],
   "source": [
    "# Generating the validation data\n",
    "validation_set = test_datagen.flow_from_directory(validationImagePath,\n",
    "                                                target_size=(64,64),\n",
    "                                                batch_size=20,\n",
    "                                                class_mode='categorical')"
   ]
  },
  {
   "cell_type": "code",
   "execution_count": 40,
   "id": "dd2270d6",
   "metadata": {},
   "outputs": [],
   "source": [
    "#Create Cnn deep learning model\n",
    "\n",
    "from keras.models import Sequential\n",
    "from keras.layers import Convolution2D\n",
    "from keras.layers import MaxPool2D\n",
    "from keras.layers import Flatten\n",
    "from keras.layers import Dense"
   ]
  },
  {
   "cell_type": "code",
   "execution_count": 41,
   "id": "b35b1bd3",
   "metadata": {},
   "outputs": [],
   "source": [
    "# Initializing the Convolutional Neural Network\n",
    "\n",
    "classifier = Sequential()"
   ]
  },
  {
   "cell_type": "code",
   "execution_count": 42,
   "id": "41ea7190",
   "metadata": {},
   "outputs": [],
   "source": [
    "# Convolution\n",
    "\n",
    "classifier.add(Convolution2D(32, kernel_size=(3,3),\n",
    "                            input_shape=(64,64,3), activation ='relu'))"
   ]
  },
  {
   "cell_type": "code",
   "execution_count": 43,
   "id": "4274ae60",
   "metadata": {},
   "outputs": [],
   "source": [
    "#Max Pooling\n",
    "\n",
    "classifier.add(MaxPool2D(pool_size=(2,2)))"
   ]
  },
  {
   "cell_type": "code",
   "execution_count": 44,
   "id": "09ee17bb",
   "metadata": {},
   "outputs": [],
   "source": [
    "# Additional layer of convolution for better accuracy"
   ]
  },
  {
   "cell_type": "code",
   "execution_count": 45,
   "id": "59700aaf",
   "metadata": {},
   "outputs": [],
   "source": [
    "classifier.add(Convolution2D(64, kernel_size=(3,3), activation='relu'))"
   ]
  },
  {
   "cell_type": "code",
   "execution_count": 46,
   "id": "6a26d79a",
   "metadata": {},
   "outputs": [],
   "source": [
    "classifier.add(MaxPool2D(pool_size=(2,2)))"
   ]
  },
  {
   "cell_type": "code",
   "execution_count": 47,
   "id": "63e421f6",
   "metadata": {},
   "outputs": [],
   "source": [
    "#Flattening"
   ]
  },
  {
   "cell_type": "code",
   "execution_count": 48,
   "id": "ee3eb2d6",
   "metadata": {},
   "outputs": [],
   "source": [
    "classifier.add(Flatten())"
   ]
  },
  {
   "cell_type": "code",
   "execution_count": 49,
   "id": "521c5572",
   "metadata": {},
   "outputs": [],
   "source": [
    "#Fully connected neural network"
   ]
  },
  {
   "cell_type": "code",
   "execution_count": 50,
   "id": "4b484240",
   "metadata": {},
   "outputs": [],
   "source": [
    "classifier.add(Dense(64, activation='relu'))#hidden layer"
   ]
  },
  {
   "cell_type": "code",
   "execution_count": 51,
   "id": "9c0df7bb",
   "metadata": {},
   "outputs": [],
   "source": [
    "classifier.add(Dense(37, activation='softmax'))#output layer"
   ]
  },
  {
   "cell_type": "code",
   "execution_count": 52,
   "id": "2a29ce4b",
   "metadata": {},
   "outputs": [
    {
     "name": "stdout",
     "output_type": "stream",
     "text": [
      "Model: \"sequential_1\"\n",
      "_________________________________________________________________\n",
      " Layer (type)                Output Shape              Param #   \n",
      "=================================================================\n",
      " conv2d_2 (Conv2D)           (None, 62, 62, 32)        896       \n",
      "                                                                 \n",
      " max_pooling2d_2 (MaxPooling  (None, 31, 31, 32)       0         \n",
      " 2D)                                                             \n",
      "                                                                 \n",
      " conv2d_3 (Conv2D)           (None, 29, 29, 64)        18496     \n",
      "                                                                 \n",
      " max_pooling2d_3 (MaxPooling  (None, 14, 14, 64)       0         \n",
      " 2D)                                                             \n",
      "                                                                 \n",
      " flatten_1 (Flatten)         (None, 12544)             0         \n",
      "                                                                 \n",
      " dense_2 (Dense)             (None, 64)                802880    \n",
      "                                                                 \n",
      " dense_3 (Dense)             (None, 37)                2405      \n",
      "                                                                 \n",
      "=================================================================\n",
      "Total params: 824,677\n",
      "Trainable params: 824,677\n",
      "Non-trainable params: 0\n",
      "_________________________________________________________________\n"
     ]
    }
   ],
   "source": [
    "classifier.summary()"
   ]
  },
  {
   "cell_type": "code",
   "execution_count": 53,
   "id": "10684d06",
   "metadata": {},
   "outputs": [],
   "source": [
    "#Compiler"
   ]
  },
  {
   "cell_type": "code",
   "execution_count": 54,
   "id": "cc589088",
   "metadata": {},
   "outputs": [],
   "source": [
    "classifier.compile(loss='categorical_crossentropy',\n",
    "                  optimizer='adam', metrics=['accuracy'])"
   ]
  },
  {
   "cell_type": "code",
   "execution_count": 55,
   "id": "74654438",
   "metadata": {},
   "outputs": [],
   "source": [
    "#Execute"
   ]
  },
  {
   "cell_type": "code",
   "execution_count": 56,
   "id": "e2cf2a98",
   "metadata": {},
   "outputs": [],
   "source": [
    "#Starting the model training"
   ]
  },
  {
   "cell_type": "code",
   "execution_count": 57,
   "id": "76babdab",
   "metadata": {},
   "outputs": [
    {
     "name": "stdout",
     "output_type": "stream",
     "text": [
      "Epoch 1/100\n",
      "18/18 [==============================] - 24s 1s/step - loss: 3.6272 - accuracy: 0.0436 - val_loss: 3.5836 - val_accuracy: 0.0721\n",
      "Epoch 2/100\n",
      "18/18 [==============================] - 23s 1s/step - loss: 3.5705 - accuracy: 0.0698 - val_loss: 3.4872 - val_accuracy: 0.0901\n",
      "Epoch 3/100\n",
      "18/18 [==============================] - 21s 1s/step - loss: 3.4673 - accuracy: 0.0814 - val_loss: 3.2640 - val_accuracy: 0.1081\n",
      "Epoch 4/100\n",
      "18/18 [==============================] - 20s 1s/step - loss: 3.2733 - accuracy: 0.1076 - val_loss: 3.1003 - val_accuracy: 0.1351\n",
      "Epoch 5/100\n",
      "18/18 [==============================] - 19s 1s/step - loss: 3.1755 - accuracy: 0.1512 - val_loss: 3.0219 - val_accuracy: 0.1532\n",
      "Epoch 6/100\n",
      "18/18 [==============================] - 19s 1s/step - loss: 3.0870 - accuracy: 0.1424 - val_loss: 2.8523 - val_accuracy: 0.1712\n",
      "Epoch 7/100\n",
      "18/18 [==============================] - 19s 1s/step - loss: 2.8853 - accuracy: 0.1831 - val_loss: 2.6571 - val_accuracy: 0.1982\n",
      "Epoch 8/100\n",
      "18/18 [==============================] - 19s 1s/step - loss: 2.7357 - accuracy: 0.2209 - val_loss: 2.4120 - val_accuracy: 0.2252\n",
      "Epoch 9/100\n",
      "18/18 [==============================] - 23s 1s/step - loss: 2.4846 - accuracy: 0.2936 - val_loss: 2.4517 - val_accuracy: 0.2613\n",
      "Epoch 10/100\n",
      "18/18 [==============================] - 19s 1s/step - loss: 2.4443 - accuracy: 0.2849 - val_loss: 2.0979 - val_accuracy: 0.3784\n",
      "Epoch 11/100\n",
      "18/18 [==============================] - 18s 994ms/step - loss: 2.2760 - accuracy: 0.3459 - val_loss: 2.2422 - val_accuracy: 0.2883\n",
      "Epoch 12/100\n",
      "18/18 [==============================] - 19s 1s/step - loss: 2.1049 - accuracy: 0.4041 - val_loss: 1.9873 - val_accuracy: 0.3874\n",
      "Epoch 13/100\n",
      "18/18 [==============================] - 19s 1s/step - loss: 1.9586 - accuracy: 0.4186 - val_loss: 2.2145 - val_accuracy: 0.3514\n",
      "Epoch 14/100\n",
      "18/18 [==============================] - 18s 1s/step - loss: 1.9570 - accuracy: 0.4070 - val_loss: 1.7615 - val_accuracy: 0.5045\n",
      "Epoch 15/100\n",
      "18/18 [==============================] - 19s 1s/step - loss: 1.8752 - accuracy: 0.4070 - val_loss: 1.6855 - val_accuracy: 0.4685\n",
      "Epoch 16/100\n",
      "18/18 [==============================] - 19s 1s/step - loss: 1.8292 - accuracy: 0.4680 - val_loss: 1.6812 - val_accuracy: 0.5135\n",
      "Epoch 17/100\n",
      "18/18 [==============================] - 19s 1s/step - loss: 1.7818 - accuracy: 0.4477 - val_loss: 1.6407 - val_accuracy: 0.5135\n",
      "Epoch 18/100\n",
      "18/18 [==============================] - 19s 1s/step - loss: 1.7802 - accuracy: 0.5233 - val_loss: 1.6827 - val_accuracy: 0.5045\n",
      "Epoch 19/100\n",
      "18/18 [==============================] - 19s 1s/step - loss: 1.6120 - accuracy: 0.5378 - val_loss: 1.4371 - val_accuracy: 0.5586\n",
      "Epoch 20/100\n",
      "18/18 [==============================] - 23s 1s/step - loss: 1.6180 - accuracy: 0.5116 - val_loss: 1.3739 - val_accuracy: 0.5766\n",
      "Epoch 21/100\n",
      "18/18 [==============================] - 20s 1s/step - loss: 1.5426 - accuracy: 0.5407 - val_loss: 1.6217 - val_accuracy: 0.5225\n",
      "Epoch 22/100\n",
      "18/18 [==============================] - 19s 1s/step - loss: 1.6314 - accuracy: 0.5058 - val_loss: 1.4397 - val_accuracy: 0.5315\n",
      "Epoch 23/100\n",
      "18/18 [==============================] - 19s 1s/step - loss: 1.4386 - accuracy: 0.5523 - val_loss: 1.3376 - val_accuracy: 0.5586\n",
      "Epoch 24/100\n",
      "18/18 [==============================] - 18s 1s/step - loss: 1.2611 - accuracy: 0.6192 - val_loss: 1.4325 - val_accuracy: 0.5405\n",
      "Epoch 25/100\n",
      "18/18 [==============================] - 19s 1s/step - loss: 1.1721 - accuracy: 0.6628 - val_loss: 1.2966 - val_accuracy: 0.6036\n",
      "Epoch 26/100\n",
      "18/18 [==============================] - 20s 1s/step - loss: 1.2970 - accuracy: 0.6163 - val_loss: 1.1376 - val_accuracy: 0.6396\n",
      "Epoch 27/100\n",
      "18/18 [==============================] - 19s 1s/step - loss: 1.2436 - accuracy: 0.6366 - val_loss: 1.1500 - val_accuracy: 0.6486\n",
      "Epoch 28/100\n",
      "18/18 [==============================] - 19s 1s/step - loss: 1.1679 - accuracy: 0.6541 - val_loss: 1.0368 - val_accuracy: 0.6937\n",
      "Epoch 29/100\n",
      "18/18 [==============================] - 19s 1s/step - loss: 1.1473 - accuracy: 0.6424 - val_loss: 1.1384 - val_accuracy: 0.6216\n",
      "Epoch 30/100\n",
      "18/18 [==============================] - 19s 1s/step - loss: 1.0939 - accuracy: 0.6570 - val_loss: 1.1534 - val_accuracy: 0.6667\n",
      "Epoch 31/100\n",
      "18/18 [==============================] - 19s 1s/step - loss: 1.1210 - accuracy: 0.6628 - val_loss: 1.0937 - val_accuracy: 0.6847\n",
      "Epoch 32/100\n",
      "18/18 [==============================] - 18s 997ms/step - loss: 0.9473 - accuracy: 0.7093 - val_loss: 1.0519 - val_accuracy: 0.7387\n",
      "Epoch 33/100\n",
      "18/18 [==============================] - 18s 1s/step - loss: 1.1037 - accuracy: 0.6802 - val_loss: 1.0878 - val_accuracy: 0.6396\n",
      "Epoch 34/100\n",
      "18/18 [==============================] - 19s 1s/step - loss: 1.1397 - accuracy: 0.6802 - val_loss: 1.0926 - val_accuracy: 0.6667\n",
      "Epoch 35/100\n",
      "18/18 [==============================] - 18s 989ms/step - loss: 0.9071 - accuracy: 0.7297 - val_loss: 0.9830 - val_accuracy: 0.6937\n",
      "Epoch 36/100\n",
      "18/18 [==============================] - 19s 1s/step - loss: 0.9036 - accuracy: 0.7180 - val_loss: 1.0624 - val_accuracy: 0.7027\n",
      "Epoch 37/100\n",
      "18/18 [==============================] - 19s 1s/step - loss: 0.9002 - accuracy: 0.7006 - val_loss: 1.0176 - val_accuracy: 0.6667\n",
      "Epoch 38/100\n",
      "18/18 [==============================] - 18s 1s/step - loss: 1.0277 - accuracy: 0.6890 - val_loss: 1.1226 - val_accuracy: 0.6396\n",
      "Epoch 39/100\n",
      "18/18 [==============================] - 19s 1s/step - loss: 1.0169 - accuracy: 0.7006 - val_loss: 1.4641 - val_accuracy: 0.5946\n",
      "Epoch 40/100\n",
      "18/18 [==============================] - 19s 1s/step - loss: 0.9594 - accuracy: 0.7093 - val_loss: 1.1696 - val_accuracy: 0.6126\n",
      "Epoch 41/100\n",
      "18/18 [==============================] - 19s 1s/step - loss: 0.9289 - accuracy: 0.7297 - val_loss: 0.8972 - val_accuracy: 0.7477\n",
      "Epoch 42/100\n",
      "18/18 [==============================] - 19s 1s/step - loss: 1.1019 - accuracy: 0.6541 - val_loss: 0.9621 - val_accuracy: 0.7027\n",
      "Epoch 43/100\n",
      "18/18 [==============================] - 19s 1s/step - loss: 1.0043 - accuracy: 0.7297 - val_loss: 1.0910 - val_accuracy: 0.6396\n",
      "Epoch 44/100\n",
      "18/18 [==============================] - 19s 1s/step - loss: 0.8911 - accuracy: 0.7122 - val_loss: 0.8612 - val_accuracy: 0.7297\n",
      "Epoch 45/100\n",
      "18/18 [==============================] - 19s 1s/step - loss: 0.8536 - accuracy: 0.7587 - val_loss: 0.7959 - val_accuracy: 0.7748\n",
      "Epoch 46/100\n",
      "18/18 [==============================] - 18s 981ms/step - loss: 0.8496 - accuracy: 0.7500 - val_loss: 0.9087 - val_accuracy: 0.7387\n",
      "Epoch 47/100\n",
      "18/18 [==============================] - 23s 1s/step - loss: 0.7832 - accuracy: 0.7645 - val_loss: 1.0336 - val_accuracy: 0.7297\n",
      "Epoch 48/100\n",
      "18/18 [==============================] - 18s 1s/step - loss: 0.9314 - accuracy: 0.7267 - val_loss: 1.0580 - val_accuracy: 0.6757\n",
      "Epoch 49/100\n",
      "18/18 [==============================] - 18s 993ms/step - loss: 0.7456 - accuracy: 0.7936 - val_loss: 0.9361 - val_accuracy: 0.7568\n",
      "Epoch 50/100\n",
      "18/18 [==============================] - 18s 1s/step - loss: 0.8005 - accuracy: 0.7558 - val_loss: 0.9332 - val_accuracy: 0.7658\n",
      "Epoch 51/100\n",
      "18/18 [==============================] - 19s 1s/step - loss: 0.8671 - accuracy: 0.7384 - val_loss: 0.9035 - val_accuracy: 0.7387\n",
      "Epoch 52/100\n",
      "18/18 [==============================] - 19s 1s/step - loss: 0.8145 - accuracy: 0.7326 - val_loss: 0.9008 - val_accuracy: 0.7568\n",
      "Epoch 53/100\n",
      "18/18 [==============================] - 19s 1s/step - loss: 0.6748 - accuracy: 0.7994 - val_loss: 1.0225 - val_accuracy: 0.7477\n",
      "Epoch 54/100\n",
      "18/18 [==============================] - 18s 1s/step - loss: 0.6864 - accuracy: 0.7965 - val_loss: 0.9290 - val_accuracy: 0.7658\n",
      "Epoch 55/100\n",
      "18/18 [==============================] - 18s 1s/step - loss: 0.7203 - accuracy: 0.7820 - val_loss: 0.8818 - val_accuracy: 0.7387\n",
      "Epoch 56/100\n",
      "18/18 [==============================] - 19s 1s/step - loss: 0.6789 - accuracy: 0.8140 - val_loss: 0.8167 - val_accuracy: 0.7928\n",
      "Epoch 57/100\n",
      "18/18 [==============================] - 19s 1s/step - loss: 0.6664 - accuracy: 0.7762 - val_loss: 0.8396 - val_accuracy: 0.7387\n",
      "Epoch 58/100\n",
      "18/18 [==============================] - 19s 1s/step - loss: 0.6988 - accuracy: 0.7587 - val_loss: 1.1321 - val_accuracy: 0.7207\n",
      "Epoch 59/100\n",
      "18/18 [==============================] - 18s 1s/step - loss: 0.6917 - accuracy: 0.7878 - val_loss: 0.7384 - val_accuracy: 0.7748\n",
      "Epoch 60/100\n",
      "18/18 [==============================] - 19s 1s/step - loss: 0.7367 - accuracy: 0.7936 - val_loss: 0.9107 - val_accuracy: 0.7658\n",
      "Epoch 61/100\n",
      "18/18 [==============================] - 18s 1s/step - loss: 0.6322 - accuracy: 0.8081 - val_loss: 1.0461 - val_accuracy: 0.7477\n",
      "Epoch 62/100\n",
      "18/18 [==============================] - 18s 1s/step - loss: 0.5897 - accuracy: 0.8459 - val_loss: 0.9432 - val_accuracy: 0.7658\n",
      "Epoch 63/100\n",
      "18/18 [==============================] - 19s 1s/step - loss: 0.5842 - accuracy: 0.8256 - val_loss: 0.8090 - val_accuracy: 0.7838\n",
      "Epoch 64/100\n",
      "18/18 [==============================] - 20s 1s/step - loss: 0.6684 - accuracy: 0.7878 - val_loss: 0.8680 - val_accuracy: 0.7928\n",
      "Epoch 65/100\n",
      "18/18 [==============================] - 19s 1s/step - loss: 0.4856 - accuracy: 0.8605 - val_loss: 0.9470 - val_accuracy: 0.7748\n",
      "Epoch 66/100\n",
      "18/18 [==============================] - 19s 1s/step - loss: 0.5461 - accuracy: 0.8169 - val_loss: 0.8366 - val_accuracy: 0.7658\n",
      "Epoch 67/100\n",
      "18/18 [==============================] - 18s 1s/step - loss: 0.7100 - accuracy: 0.7878 - val_loss: 1.0496 - val_accuracy: 0.7658\n",
      "Epoch 68/100\n",
      "18/18 [==============================] - 18s 1s/step - loss: 0.6564 - accuracy: 0.8110 - val_loss: 0.9372 - val_accuracy: 0.7658\n",
      "Epoch 69/100\n",
      "18/18 [==============================] - 18s 1s/step - loss: 0.6387 - accuracy: 0.8140 - val_loss: 0.7599 - val_accuracy: 0.7838\n",
      "Epoch 70/100\n",
      "18/18 [==============================] - 18s 1s/step - loss: 0.5274 - accuracy: 0.8343 - val_loss: 0.8167 - val_accuracy: 0.8018\n",
      "Epoch 71/100\n",
      "18/18 [==============================] - 18s 1s/step - loss: 0.5963 - accuracy: 0.8314 - val_loss: 0.8137 - val_accuracy: 0.7838\n",
      "Epoch 72/100\n",
      "18/18 [==============================] - 18s 1s/step - loss: 0.5918 - accuracy: 0.8140 - val_loss: 0.9471 - val_accuracy: 0.7568\n",
      "Epoch 73/100\n",
      "18/18 [==============================] - 14s 763ms/step - loss: 0.5557 - accuracy: 0.8052 - val_loss: 0.8010 - val_accuracy: 0.7928\n",
      "Epoch 74/100\n",
      "18/18 [==============================] - 9s 517ms/step - loss: 0.5696 - accuracy: 0.8256 - val_loss: 0.7791 - val_accuracy: 0.8108\n",
      "Epoch 75/100\n",
      "18/18 [==============================] - 9s 527ms/step - loss: 0.4678 - accuracy: 0.8547 - val_loss: 0.8765 - val_accuracy: 0.8198\n",
      "Epoch 76/100\n",
      "18/18 [==============================] - 10s 541ms/step - loss: 0.4449 - accuracy: 0.8721 - val_loss: 0.8976 - val_accuracy: 0.7928\n",
      "Epoch 77/100\n",
      "18/18 [==============================] - 10s 557ms/step - loss: 0.5895 - accuracy: 0.8140 - val_loss: 0.7768 - val_accuracy: 0.8108\n",
      "Epoch 78/100\n",
      "18/18 [==============================] - 10s 543ms/step - loss: 0.5429 - accuracy: 0.8256 - val_loss: 0.8707 - val_accuracy: 0.7658\n",
      "Epoch 79/100\n",
      "18/18 [==============================] - 11s 596ms/step - loss: 0.6017 - accuracy: 0.8140 - val_loss: 0.7896 - val_accuracy: 0.8198\n",
      "Epoch 80/100\n",
      "18/18 [==============================] - 11s 589ms/step - loss: 0.5188 - accuracy: 0.8488 - val_loss: 0.7251 - val_accuracy: 0.8288\n",
      "Epoch 81/100\n",
      "18/18 [==============================] - 10s 545ms/step - loss: 0.4842 - accuracy: 0.8605 - val_loss: 1.0922 - val_accuracy: 0.7748\n",
      "Epoch 82/100\n",
      "18/18 [==============================] - 9s 530ms/step - loss: 0.5396 - accuracy: 0.8605 - val_loss: 0.6873 - val_accuracy: 0.7748\n",
      "Epoch 83/100\n",
      "18/18 [==============================] - 10s 536ms/step - loss: 0.5802 - accuracy: 0.8198 - val_loss: 0.7507 - val_accuracy: 0.8468\n",
      "Epoch 84/100\n",
      "18/18 [==============================] - 10s 529ms/step - loss: 0.4671 - accuracy: 0.8634 - val_loss: 1.1315 - val_accuracy: 0.7207\n",
      "Epoch 85/100\n",
      "18/18 [==============================] - 10s 545ms/step - loss: 0.5123 - accuracy: 0.8488 - val_loss: 1.0024 - val_accuracy: 0.7748\n",
      "Epoch 86/100\n",
      "18/18 [==============================] - 11s 606ms/step - loss: 0.4504 - accuracy: 0.8634 - val_loss: 0.8083 - val_accuracy: 0.8288\n",
      "Epoch 87/100\n",
      "18/18 [==============================] - 11s 614ms/step - loss: 0.5240 - accuracy: 0.8547 - val_loss: 0.9145 - val_accuracy: 0.7748\n",
      "Epoch 88/100\n",
      "18/18 [==============================] - 10s 561ms/step - loss: 0.5190 - accuracy: 0.8488 - val_loss: 0.6568 - val_accuracy: 0.8288\n",
      "Epoch 89/100\n",
      "18/18 [==============================] - 11s 592ms/step - loss: 0.5105 - accuracy: 0.8547 - val_loss: 1.0452 - val_accuracy: 0.7568\n",
      "Epoch 90/100\n",
      "18/18 [==============================] - 11s 593ms/step - loss: 0.5940 - accuracy: 0.8169 - val_loss: 0.7522 - val_accuracy: 0.8288\n",
      "Epoch 91/100\n",
      "18/18 [==============================] - 10s 581ms/step - loss: 0.4283 - accuracy: 0.8634 - val_loss: 0.6656 - val_accuracy: 0.8198\n",
      "Epoch 92/100\n",
      "18/18 [==============================] - 10s 588ms/step - loss: 0.5415 - accuracy: 0.8227 - val_loss: 0.6614 - val_accuracy: 0.8108\n",
      "Epoch 93/100\n",
      "18/18 [==============================] - 10s 572ms/step - loss: 0.4007 - accuracy: 0.8837 - val_loss: 1.0992 - val_accuracy: 0.7568\n",
      "Epoch 94/100\n",
      "18/18 [==============================] - 10s 582ms/step - loss: 0.4124 - accuracy: 0.8808 - val_loss: 0.7714 - val_accuracy: 0.8378\n",
      "Epoch 95/100\n",
      "18/18 [==============================] - 11s 602ms/step - loss: 0.4220 - accuracy: 0.8634 - val_loss: 0.8003 - val_accuracy: 0.7928\n",
      "Epoch 96/100\n",
      "18/18 [==============================] - 10s 559ms/step - loss: 0.4814 - accuracy: 0.8488 - val_loss: 0.6842 - val_accuracy: 0.8018\n",
      "Epoch 97/100\n",
      "18/18 [==============================] - 10s 562ms/step - loss: 0.5130 - accuracy: 0.8401 - val_loss: 0.9301 - val_accuracy: 0.8018\n",
      "Epoch 98/100\n",
      "18/18 [==============================] - 10s 585ms/step - loss: 0.4582 - accuracy: 0.8517 - val_loss: 1.0655 - val_accuracy: 0.7477\n",
      "Epoch 99/100\n",
      "18/18 [==============================] - 10s 586ms/step - loss: 0.4268 - accuracy: 0.8808 - val_loss: 0.8860 - val_accuracy: 0.8108\n",
      "Epoch 100/100\n",
      "18/18 [==============================] - 10s 581ms/step - loss: 0.3247 - accuracy: 0.9070 - val_loss: 0.6623 - val_accuracy: 0.8288\n"
     ]
    }
   ],
   "source": [
    "history = classifier.fit_generator(training_set, epochs =100,\n",
    "                                  validation_data=validation_set)"
   ]
  },
  {
   "cell_type": "code",
   "execution_count": 58,
   "id": "5c14f6a1",
   "metadata": {},
   "outputs": [],
   "source": [
    "#Displaying curves of loss and accuracy during training"
   ]
  },
  {
   "cell_type": "code",
   "execution_count": 59,
   "id": "b208c4af",
   "metadata": {},
   "outputs": [],
   "source": [
    "import matplotlib.pyplot as plt"
   ]
  },
  {
   "cell_type": "code",
   "execution_count": 60,
   "id": "661ff31e",
   "metadata": {},
   "outputs": [],
   "source": [
    "acc = history.history['accuracy']"
   ]
  },
  {
   "cell_type": "code",
   "execution_count": 61,
   "id": "fee6cad0",
   "metadata": {},
   "outputs": [],
   "source": [
    "val_acc = history.history['val_accuracy']"
   ]
  },
  {
   "cell_type": "code",
   "execution_count": 62,
   "id": "b81a782b",
   "metadata": {},
   "outputs": [],
   "source": [
    "loss = history.history['loss']"
   ]
  },
  {
   "cell_type": "code",
   "execution_count": 63,
   "id": "32a8ec9e",
   "metadata": {},
   "outputs": [],
   "source": [
    "val_loss = history.history['val_loss']"
   ]
  },
  {
   "cell_type": "code",
   "execution_count": 64,
   "id": "18374cbe",
   "metadata": {},
   "outputs": [],
   "source": [
    "epochs = range(1, len(acc) + 1)"
   ]
  },
  {
   "cell_type": "code",
   "execution_count": 65,
   "id": "9e1bc8ea",
   "metadata": {},
   "outputs": [
    {
     "data": {
      "text/plain": [
       "<Figure size 432x288 with 0 Axes>"
      ]
     },
     "execution_count": 65,
     "metadata": {},
     "output_type": "execute_result"
    },
    {
     "data": {
      "image/png": "[encoded data removed]",
      "text/plain": [
       "<Figure size 432x288 with 1 Axes>"
      ]
     },
     "metadata": {
      "needs_background": "light"
     },
     "output_type": "display_data"
    },
    {
     "data": {
      "text/plain": [
       "<Figure size 432x288 with 0 Axes>"
      ]
     },
     "metadata": {},
     "output_type": "display_data"
    }
   ],
   "source": [
    "plt.plot(epochs, acc, 'bo', label='Training acc')\n",
    "plt.plot(epochs, val_acc, 'g', label='Validation acc')\n",
    "plt.title('Training and validation accuracy')\n",
    "plt.legend()\n",
    "plt.figure()"
   ]
  },
  {
   "cell_type": "code",
   "execution_count": 66,
   "id": "b9a1412f",
   "metadata": {},
   "outputs": [
    {
     "data": {
      "text/plain": [
       "<Figure size 432x288 with 0 Axes>"
      ]
     },
     "execution_count": 66,
     "metadata": {},
     "output_type": "execute_result"
    },
    {
     "data": {
      "image/png": "[encoded data removed]",
      "text/plain": [
       "<Figure size 432x288 with 1 Axes>"
      ]
     },
     "metadata": {
      "needs_background": "light"
     },
     "output_type": "display_data"
    },
    {
     "data": {
      "text/plain": [
       "<Figure size 432x288 with 0 Axes>"
      ]
     },
     "metadata": {},
     "output_type": "display_data"
    }
   ],
   "source": [
    "plt.plot(epochs, loss, 'bo', label='Training loss')\n",
    "plt.plot(epochs, val_loss, 'g', label='Validation loss')\n",
    "plt.title('Training and validation loss')\n",
    "plt.legend()\n",
    "plt.figure()"
   ]
  },
  {
   "cell_type": "code",
   "execution_count": null,
   "id": "3ec302f7",
   "metadata": {},
   "outputs": [],
   "source": [
    " "
   ]
  },
  {
   "cell_type": "code",
   "execution_count": null,
   "id": "16f07878",
   "metadata": {},
   "outputs": [],
   "source": []
  },
  {
   "cell_type": "code",
   "execution_count": null,
   "id": "255bfdc3",
   "metadata": {},
   "outputs": [],
   "source": [
    " "
   ]
  }
 ],
 "metadata": {
  "kernelspec": {
   "display_name": "Python 3 (ipykernel)",
   "language": "python",
   "name": "python3"
  },
  "language_info": {
   "codemirror_mode": {
    "name": "ipython",
    "version": 3
   },
   "file_extension": ".py",
   "mimetype": "text/x-python",
   "name": "python",
   "nbconvert_exporter": "python",
   "pygments_lexer": "ipython3",
   "version": "3.9.12"
  }
 },
 "nbformat": 4,
 "nbformat_minor": 5
}
