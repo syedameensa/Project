{
 "cells": [
  {
   "cell_type": "code",
   "execution_count": 1,
   "id": "2db65b1a",
   "metadata": {},
   "outputs": [],
   "source": [
    "import pandas as pd\n",
    "import matplotlib.pyplot as plt"
   ]
  },
  {
   "cell_type": "code",
   "execution_count": 2,
   "id": "c6f18508",
   "metadata": {},
   "outputs": [
    {
     "name": "stdout",
     "output_type": "stream",
     "text": [
      "<class 'pandas.core.frame.DataFrame'>\n",
      "RangeIndex: 1470 entries, 0 to 1469\n",
      "Data columns (total 20 columns):\n",
      " #   Column                   Non-Null Count  Dtype  \n",
      "---  ------                   --------------  -----  \n",
      " 0   Unnamed: 0               1470 non-null   int64  \n",
      " 1   Attrition                1470 non-null   int64  \n",
      " 2   BusinessTravel           1470 non-null   int64  \n",
      " 3   DailyRate                1470 non-null   int64  \n",
      " 4   Department               1470 non-null   int64  \n",
      " 5   DistanceFromHome         1470 non-null   int64  \n",
      " 6   EducationField           1470 non-null   float64\n",
      " 7   EnvironmentSatisfaction  1470 non-null   int64  \n",
      " 8   JobInvolvement           1470 non-null   int64  \n",
      " 9   JobLevel                 1470 non-null   int64  \n",
      " 10  JobRole                  1470 non-null   int64  \n",
      " 11  JobSatisfaction          1470 non-null   int64  \n",
      " 12  MaritalStatus            1470 non-null   int64  \n",
      " 13  MonthlyIncome            1470 non-null   float64\n",
      " 14  OverTime                 1470 non-null   int64  \n",
      " 15  StockOptionLevel         1470 non-null   int64  \n",
      " 16  TrainingTimesLastYear    1470 non-null   int64  \n",
      " 17  WorkLifeBalance          1470 non-null   int64  \n",
      " 18  YearsInCurrentRole       1470 non-null   float64\n",
      " 19  YearsWithCurrManager     1470 non-null   float64\n",
      "dtypes: float64(4), int64(16)\n",
      "memory usage: 229.8 KB\n"
     ]
    }
   ],
   "source": [
    "df=pd.read_csv('HR.csv')\n",
    "df.info()"
   ]
  },
  {
   "cell_type": "code",
   "execution_count": 3,
   "id": "f6fa160d",
   "metadata": {},
   "outputs": [
    {
     "data": {
      "text/html": [
       "<div>\n",
       "<style scoped>\n",
       "    .dataframe tbody tr th:only-of-type {\n",
       "        vertical-align: middle;\n",
       "    }\n",
       "\n",
       "    .dataframe tbody tr th {\n",
       "        vertical-align: top;\n",
       "    }\n",
       "\n",
       "    .dataframe thead th {\n",
       "        text-align: right;\n",
       "    }\n",
       "</style>\n",
       "<table border=\"1\" class=\"dataframe\">\n",
       "  <thead>\n",
       "    <tr style=\"text-align: right;\">\n",
       "      <th></th>\n",
       "      <th>Attrition</th>\n",
       "      <th>BusinessTravel</th>\n",
       "      <th>DailyRate</th>\n",
       "      <th>Department</th>\n",
       "      <th>DistanceFromHome</th>\n",
       "      <th>EducationField</th>\n",
       "      <th>EnvironmentSatisfaction</th>\n",
       "      <th>JobInvolvement</th>\n",
       "      <th>JobLevel</th>\n",
       "      <th>JobRole</th>\n",
       "      <th>JobSatisfaction</th>\n",
       "      <th>MaritalStatus</th>\n",
       "      <th>MonthlyIncome</th>\n",
       "      <th>OverTime</th>\n",
       "      <th>StockOptionLevel</th>\n",
       "      <th>TrainingTimesLastYear</th>\n",
       "      <th>WorkLifeBalance</th>\n",
       "      <th>YearsInCurrentRole</th>\n",
       "      <th>YearsWithCurrManager</th>\n",
       "    </tr>\n",
       "  </thead>\n",
       "  <tbody>\n",
       "    <tr>\n",
       "      <th>0</th>\n",
       "      <td>1</td>\n",
       "      <td>1</td>\n",
       "      <td>1102</td>\n",
       "      <td>2</td>\n",
       "      <td>1</td>\n",
       "      <td>1.0</td>\n",
       "      <td>2</td>\n",
       "      <td>3</td>\n",
       "      <td>2</td>\n",
       "      <td>7</td>\n",
       "      <td>4</td>\n",
       "      <td>2</td>\n",
       "      <td>5993.0</td>\n",
       "      <td>1</td>\n",
       "      <td>0</td>\n",
       "      <td>0</td>\n",
       "      <td>1</td>\n",
       "      <td>4.0</td>\n",
       "      <td>5.0</td>\n",
       "    </tr>\n",
       "    <tr>\n",
       "      <th>1</th>\n",
       "      <td>0</td>\n",
       "      <td>2</td>\n",
       "      <td>279</td>\n",
       "      <td>1</td>\n",
       "      <td>8</td>\n",
       "      <td>1.0</td>\n",
       "      <td>3</td>\n",
       "      <td>2</td>\n",
       "      <td>2</td>\n",
       "      <td>6</td>\n",
       "      <td>2</td>\n",
       "      <td>1</td>\n",
       "      <td>5130.0</td>\n",
       "      <td>2</td>\n",
       "      <td>1</td>\n",
       "      <td>3</td>\n",
       "      <td>3</td>\n",
       "      <td>7.0</td>\n",
       "      <td>7.0</td>\n",
       "    </tr>\n",
       "    <tr>\n",
       "      <th>2</th>\n",
       "      <td>1</td>\n",
       "      <td>1</td>\n",
       "      <td>1373</td>\n",
       "      <td>1</td>\n",
       "      <td>2</td>\n",
       "      <td>5.0</td>\n",
       "      <td>4</td>\n",
       "      <td>2</td>\n",
       "      <td>1</td>\n",
       "      <td>2</td>\n",
       "      <td>3</td>\n",
       "      <td>2</td>\n",
       "      <td>2090.0</td>\n",
       "      <td>1</td>\n",
       "      <td>0</td>\n",
       "      <td>3</td>\n",
       "      <td>3</td>\n",
       "      <td>0.0</td>\n",
       "      <td>0.0</td>\n",
       "    </tr>\n",
       "    <tr>\n",
       "      <th>3</th>\n",
       "      <td>0</td>\n",
       "      <td>2</td>\n",
       "      <td>1392</td>\n",
       "      <td>1</td>\n",
       "      <td>3</td>\n",
       "      <td>1.0</td>\n",
       "      <td>4</td>\n",
       "      <td>3</td>\n",
       "      <td>1</td>\n",
       "      <td>6</td>\n",
       "      <td>3</td>\n",
       "      <td>1</td>\n",
       "      <td>2909.0</td>\n",
       "      <td>1</td>\n",
       "      <td>0</td>\n",
       "      <td>3</td>\n",
       "      <td>3</td>\n",
       "      <td>7.0</td>\n",
       "      <td>0.0</td>\n",
       "    </tr>\n",
       "    <tr>\n",
       "      <th>4</th>\n",
       "      <td>0</td>\n",
       "      <td>1</td>\n",
       "      <td>591</td>\n",
       "      <td>1</td>\n",
       "      <td>2</td>\n",
       "      <td>2.0</td>\n",
       "      <td>1</td>\n",
       "      <td>3</td>\n",
       "      <td>1</td>\n",
       "      <td>2</td>\n",
       "      <td>2</td>\n",
       "      <td>1</td>\n",
       "      <td>3468.0</td>\n",
       "      <td>2</td>\n",
       "      <td>1</td>\n",
       "      <td>3</td>\n",
       "      <td>3</td>\n",
       "      <td>2.0</td>\n",
       "      <td>2.0</td>\n",
       "    </tr>\n",
       "  </tbody>\n",
       "</table>\n",
       "</div>"
      ],
      "text/plain": [
       "   Attrition  BusinessTravel  DailyRate  Department  DistanceFromHome  \\\n",
       "0          1               1       1102           2                 1   \n",
       "1          0               2        279           1                 8   \n",
       "2          1               1       1373           1                 2   \n",
       "3          0               2       1392           1                 3   \n",
       "4          0               1        591           1                 2   \n",
       "\n",
       "   EducationField  EnvironmentSatisfaction  JobInvolvement  JobLevel  JobRole  \\\n",
       "0             1.0                        2               3         2        7   \n",
       "1             1.0                        3               2         2        6   \n",
       "2             5.0                        4               2         1        2   \n",
       "3             1.0                        4               3         1        6   \n",
       "4             2.0                        1               3         1        2   \n",
       "\n",
       "   JobSatisfaction  MaritalStatus  MonthlyIncome  OverTime  StockOptionLevel  \\\n",
       "0                4              2         5993.0         1                 0   \n",
       "1                2              1         5130.0         2                 1   \n",
       "2                3              2         2090.0         1                 0   \n",
       "3                3              1         2909.0         1                 0   \n",
       "4                2              1         3468.0         2                 1   \n",
       "\n",
       "   TrainingTimesLastYear  WorkLifeBalance  YearsInCurrentRole  \\\n",
       "0                      0                1                 4.0   \n",
       "1                      3                3                 7.0   \n",
       "2                      3                3                 0.0   \n",
       "3                      3                3                 7.0   \n",
       "4                      3                3                 2.0   \n",
       "\n",
       "   YearsWithCurrManager  \n",
       "0                   5.0  \n",
       "1                   7.0  \n",
       "2                   0.0  \n",
       "3                   0.0  \n",
       "4                   2.0  "
      ]
     },
     "execution_count": 3,
     "metadata": {},
     "output_type": "execute_result"
    }
   ],
   "source": [
    "df.drop(['Unnamed: 0'],axis = 1,inplace = True)\n",
    "df.head()"
   ]
  },
  {
   "cell_type": "code",
   "execution_count": 4,
   "id": "a6e062db",
   "metadata": {},
   "outputs": [],
   "source": [
    "x=df.drop(['Attrition'],axis=1)\n",
    "y=df.Attrition"
   ]
  },
  {
   "cell_type": "markdown",
   "id": "245e21a6",
   "metadata": {},
   "source": [
    "# standard scaling"
   ]
  },
  {
   "cell_type": "code",
   "execution_count": 5,
   "id": "feba6134",
   "metadata": {},
   "outputs": [],
   "source": [
    "from sklearn.preprocessing import StandardScaler"
   ]
  },
  {
   "cell_type": "code",
   "execution_count": 6,
   "id": "dc83a9f2",
   "metadata": {},
   "outputs": [],
   "source": [
    "scaler = StandardScaler()\n",
    "X = scaler.fit_transform(x)"
   ]
  },
  {
   "cell_type": "code",
   "execution_count": null,
   "id": "0de39b3b",
   "metadata": {},
   "outputs": [],
   "source": []
  },
  {
   "cell_type": "code",
   "execution_count": 7,
   "id": "e0d08ce1",
   "metadata": {},
   "outputs": [],
   "source": [
    "from sklearn.model_selection import train_test_split"
   ]
  },
  {
   "cell_type": "code",
   "execution_count": 8,
   "id": "9ab50d9d",
   "metadata": {},
   "outputs": [],
   "source": [
    "X_train,X_test,y_train,y_test = train_test_split(x,y,test_size = 0.2,random_state = 8)"
   ]
  },
  {
   "cell_type": "code",
   "execution_count": 10,
   "id": "b81dc93a",
   "metadata": {},
   "outputs": [
    {
     "data": {
      "text/plain": [
       "{'C': 1.0,\n",
       " 'break_ties': False,\n",
       " 'cache_size': 200,\n",
       " 'class_weight': 'balanced',\n",
       " 'coef0': 0.0,\n",
       " 'decision_function_shape': 'ovr',\n",
       " 'degree': 3,\n",
       " 'gamma': 'scale',\n",
       " 'kernel': 'rbf',\n",
       " 'max_iter': -1,\n",
       " 'probability': True,\n",
       " 'random_state': None,\n",
       " 'shrinking': True,\n",
       " 'tol': 0.001,\n",
       " 'verbose': False}"
      ]
     },
     "execution_count": 10,
     "metadata": {},
     "output_type": "execute_result"
    }
   ],
   "source": [
    "from sklearn import svm\n",
    "svc = svm.SVC(class_weight='balanced', probability=True)\n",
    "model_svc = svc.fit(X_train,y_train)\n",
    "model_svc.get_params()"
   ]
  },
  {
   "cell_type": "code",
   "execution_count": 11,
   "id": "df1b0350",
   "metadata": {},
   "outputs": [],
   "source": [
    "y_pred = model_svc.predict(X_test)"
   ]
  },
  {
   "cell_type": "code",
   "execution_count": 12,
   "id": "1239e851",
   "metadata": {},
   "outputs": [],
   "source": [
    "from sklearn.metrics import classification_report,confusion_matrix,accuracy_score,roc_auc_score,auc,roc_curve"
   ]
  },
  {
   "cell_type": "code",
   "execution_count": 13,
   "id": "8471136a",
   "metadata": {},
   "outputs": [
    {
     "data": {
      "text/plain": [
       "0.7108843537414966"
      ]
     },
     "execution_count": 13,
     "metadata": {},
     "output_type": "execute_result"
    }
   ],
   "source": [
    "accuracy_score(y_test,y_pred)"
   ]
  },
  {
   "cell_type": "code",
   "execution_count": 14,
   "id": "ebecd923",
   "metadata": {},
   "outputs": [
    {
     "name": "stdout",
     "output_type": "stream",
     "text": [
      "[[183  68]\n",
      " [ 17  26]]\n"
     ]
    }
   ],
   "source": [
    "print(confusion_matrix(y_test,y_pred))"
   ]
  },
  {
   "cell_type": "code",
   "execution_count": 15,
   "id": "e10b308e",
   "metadata": {},
   "outputs": [
    {
     "name": "stdout",
     "output_type": "stream",
     "text": [
      "              precision    recall  f1-score   support\n",
      "\n",
      "           0       0.92      0.73      0.81       251\n",
      "           1       0.28      0.60      0.38        43\n",
      "\n",
      "    accuracy                           0.71       294\n",
      "   macro avg       0.60      0.67      0.60       294\n",
      "weighted avg       0.82      0.71      0.75       294\n",
      "\n"
     ]
    }
   ],
   "source": [
    "print(classification_report(y_test,y_pred))"
   ]
  },
  {
   "cell_type": "code",
   "execution_count": 16,
   "id": "193a0ed2",
   "metadata": {
    "scrolled": false
   },
   "outputs": [
    {
     "data": {
      "text/plain": [
       "0.6668674140646715"
      ]
     },
     "execution_count": 16,
     "metadata": {},
     "output_type": "execute_result"
    }
   ],
   "source": [
    "roc_auc_score(y_test,y_pred)"
   ]
  },
  {
   "cell_type": "code",
   "execution_count": 17,
   "id": "4aa1432f",
   "metadata": {},
   "outputs": [
    {
     "data": {
      "text/plain": [
       "0.6557027703140924"
      ]
     },
     "execution_count": 17,
     "metadata": {},
     "output_type": "execute_result"
    }
   ],
   "source": [
    "y_pred_prob = model_svc.predict_proba(X_test)\n",
    "fpr,tpr,threshold = roc_curve(y_test,y_pred_prob[:,1])\n",
    "roc_auc = auc(fpr,tpr)\n",
    "roc_auc"
   ]
  },
  {
   "cell_type": "code",
   "execution_count": 18,
   "id": "363d4a41",
   "metadata": {},
   "outputs": [
    {
     "data": {
      "image/png": "[encoded data removed]",
      "text/plain": [
       "<Figure size 432x288 with 1 Axes>"
      ]
     },
     "metadata": {
      "needs_background": "light"
     },
     "output_type": "display_data"
    }
   ],
   "source": [
    "plt.title('ROC Curve for SVM',size = 15)\n",
    "plt.xlabel('False Positive Rate (1-Specificity)',size = 12)\n",
    "plt.ylabel('True Positive Rate (Sensitivity)',size = 12)\n",
    "plt.plot([0, 1], [0, 1],'r--')\n",
    "plt.xlim([0, 1])\n",
    "plt.ylim([0, 1])\n",
    "plt.plot(fpr, tpr, label = 'AUC =' +str(roc_auc))\n",
    "plt.legend(loc=4) #Location of label\n",
    "plt.show()"
   ]
  },
  {
   "cell_type": "code",
   "execution_count": null,
   "id": "19267eba",
   "metadata": {},
   "outputs": [],
   "source": []
  }
 ],
 "metadata": {
  "kernelspec": {
   "display_name": "Python 3 (ipykernel)",
   "language": "python",
   "name": "python3"
  },
  "language_info": {
   "codemirror_mode": {
    "name": "ipython",
    "version": 3
   },
   "file_extension": ".py",
   "mimetype": "text/x-python",
   "name": "python",
   "nbconvert_exporter": "python",
   "pygments_lexer": "ipython3",
   "version": "3.9.12"
  }
 },
 "nbformat": 4,
 "nbformat_minor": 5
}
