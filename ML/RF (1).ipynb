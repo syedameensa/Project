{
 "cells": [
  {
   "cell_type": "markdown",
   "id": "fc2ac6a4",
   "metadata": {},
   "source": [
    "# RANODOM_FOREST"
   ]
  },
  {
   "cell_type": "code",
   "execution_count": 1,
   "id": "07d04610",
   "metadata": {},
   "outputs": [],
   "source": [
    "import pandas as pd\n",
    "import matplotlib.pyplot as plt"
   ]
  },
  {
   "cell_type": "code",
   "execution_count": 2,
   "id": "02c5e142",
   "metadata": {},
   "outputs": [
    {
     "name": "stdout",
     "output_type": "stream",
     "text": [
      "<class 'pandas.core.frame.DataFrame'>\n",
      "RangeIndex: 1470 entries, 0 to 1469\n",
      "Data columns (total 20 columns):\n",
      " #   Column                   Non-Null Count  Dtype  \n",
      "---  ------                   --------------  -----  \n",
      " 0   Unnamed: 0               1470 non-null   int64  \n",
      " 1   Attrition                1470 non-null   int64  \n",
      " 2   BusinessTravel           1470 non-null   int64  \n",
      " 3   DailyRate                1470 non-null   int64  \n",
      " 4   Department               1470 non-null   int64  \n",
      " 5   DistanceFromHome         1470 non-null   int64  \n",
      " 6   EducationField           1470 non-null   float64\n",
      " 7   EnvironmentSatisfaction  1470 non-null   int64  \n",
      " 8   JobInvolvement           1470 non-null   int64  \n",
      " 9   JobLevel                 1470 non-null   int64  \n",
      " 10  JobRole                  1470 non-null   int64  \n",
      " 11  JobSatisfaction          1470 non-null   int64  \n",
      " 12  MaritalStatus            1470 non-null   int64  \n",
      " 13  MonthlyIncome            1470 non-null   float64\n",
      " 14  OverTime                 1470 non-null   int64  \n",
      " 15  StockOptionLevel         1470 non-null   int64  \n",
      " 16  TrainingTimesLastYear    1470 non-null   int64  \n",
      " 17  WorkLifeBalance          1470 non-null   int64  \n",
      " 18  YearsInCurrentRole       1470 non-null   float64\n",
      " 19  YearsWithCurrManager     1470 non-null   float64\n",
      "dtypes: float64(4), int64(16)\n",
      "memory usage: 229.8 KB\n"
     ]
    }
   ],
   "source": [
    "df=pd.read_csv('HR.csv')\n",
    "df.info()"
   ]
  },
  {
   "cell_type": "code",
   "execution_count": 3,
   "id": "de9017b1",
   "metadata": {},
   "outputs": [],
   "source": [
    "df.drop('Unnamed: 0',axis=1,inplace=True)"
   ]
  },
  {
   "cell_type": "code",
   "execution_count": 4,
   "id": "19847f5b",
   "metadata": {},
   "outputs": [
    {
     "name": "stdout",
     "output_type": "stream",
     "text": [
      "<class 'pandas.core.frame.DataFrame'>\n",
      "RangeIndex: 1470 entries, 0 to 1469\n",
      "Data columns (total 19 columns):\n",
      " #   Column                   Non-Null Count  Dtype  \n",
      "---  ------                   --------------  -----  \n",
      " 0   Attrition                1470 non-null   int64  \n",
      " 1   BusinessTravel           1470 non-null   int64  \n",
      " 2   DailyRate                1470 non-null   int64  \n",
      " 3   Department               1470 non-null   int64  \n",
      " 4   DistanceFromHome         1470 non-null   int64  \n",
      " 5   EducationField           1470 non-null   float64\n",
      " 6   EnvironmentSatisfaction  1470 non-null   int64  \n",
      " 7   JobInvolvement           1470 non-null   int64  \n",
      " 8   JobLevel                 1470 non-null   int64  \n",
      " 9   JobRole                  1470 non-null   int64  \n",
      " 10  JobSatisfaction          1470 non-null   int64  \n",
      " 11  MaritalStatus            1470 non-null   int64  \n",
      " 12  MonthlyIncome            1470 non-null   float64\n",
      " 13  OverTime                 1470 non-null   int64  \n",
      " 14  StockOptionLevel         1470 non-null   int64  \n",
      " 15  TrainingTimesLastYear    1470 non-null   int64  \n",
      " 16  WorkLifeBalance          1470 non-null   int64  \n",
      " 17  YearsInCurrentRole       1470 non-null   float64\n",
      " 18  YearsWithCurrManager     1470 non-null   float64\n",
      "dtypes: float64(4), int64(15)\n",
      "memory usage: 218.3 KB\n"
     ]
    }
   ],
   "source": [
    "df.info()"
   ]
  },
  {
   "cell_type": "code",
   "execution_count": 5,
   "id": "2d133ed9",
   "metadata": {},
   "outputs": [],
   "source": [
    "x=df.drop(['Attrition'],axis=1)\n",
    "y=df.Attrition"
   ]
  },
  {
   "cell_type": "markdown",
   "id": "245e21a6",
   "metadata": {},
   "source": [
    "# standard scaling"
   ]
  },
  {
   "cell_type": "code",
   "execution_count": 6,
   "id": "dc83a9f2",
   "metadata": {},
   "outputs": [],
   "source": [
    "#Feature Scaling\n",
    "from sklearn.preprocessing import StandardScaler\n",
    "scaler = StandardScaler()\n",
    "X = scaler.fit_transform(x)"
   ]
  },
  {
   "cell_type": "code",
   "execution_count": null,
   "id": "6d17ca16",
   "metadata": {},
   "outputs": [],
   "source": []
  },
  {
   "cell_type": "code",
   "execution_count": 7,
   "id": "d7a624c4",
   "metadata": {},
   "outputs": [],
   "source": [
    "from sklearn.model_selection import train_test_split"
   ]
  },
  {
   "cell_type": "code",
   "execution_count": 8,
   "id": "1a3453fe",
   "metadata": {},
   "outputs": [],
   "source": [
    "x_train,x_test,y_train,y_test=train_test_split(x,y,test_size=0.2, random_state=42)"
   ]
  },
  {
   "cell_type": "code",
   "execution_count": 9,
   "id": "b6381b1a",
   "metadata": {},
   "outputs": [
    {
     "data": {
      "text/plain": [
       "RandomForestClassifier()"
      ]
     },
     "execution_count": 9,
     "metadata": {},
     "output_type": "execute_result"
    }
   ],
   "source": [
    "from sklearn.ensemble import RandomForestClassifier\n",
    "rf = RandomForestClassifier()\n",
    "rf.fit(x_train,y_train)"
   ]
  },
  {
   "cell_type": "code",
   "execution_count": 10,
   "id": "284f7182",
   "metadata": {},
   "outputs": [],
   "source": [
    "params = {'n_estimators':[20,40,60,80,100],\n",
    "          'max_features':['sqrt',0.25,0.50,0.75,1],\n",
    "          'min_samples_split':[2,4,6]}"
   ]
  },
  {
   "cell_type": "code",
   "execution_count": 11,
   "id": "524ebde8",
   "metadata": {},
   "outputs": [
    {
     "data": {
      "text/plain": [
       "RandomizedSearchCV(cv=10, estimator=RandomForestClassifier(),\n",
       "                   param_distributions={'max_features': ['sqrt', 0.25, 0.5,\n",
       "                                                         0.75, 1],\n",
       "                                        'min_samples_split': [2, 4, 6],\n",
       "                                        'n_estimators': [20, 40, 60, 80, 100]},\n",
       "                   random_state=8)"
      ]
     },
     "execution_count": 11,
     "metadata": {},
     "output_type": "execute_result"
    }
   ],
   "source": [
    "from sklearn.model_selection import RandomizedSearchCV\n",
    "search = RandomizedSearchCV(rf,params,cv = 10,random_state = 8)\n",
    "search.fit(x_train,y_train)"
   ]
  },
  {
   "cell_type": "code",
   "execution_count": 12,
   "id": "e6cace01",
   "metadata": {},
   "outputs": [
    {
     "data": {
      "text/plain": [
       "RandomForestClassifier(max_features='sqrt', n_estimators=40)"
      ]
     },
     "execution_count": 12,
     "metadata": {},
     "output_type": "execute_result"
    }
   ],
   "source": [
    "search.best_estimator_"
   ]
  },
  {
   "cell_type": "code",
   "execution_count": 13,
   "id": "75035512",
   "metadata": {},
   "outputs": [],
   "source": [
    "rf2 = search.best_estimator_\n",
    "model_rf = rf2.fit(x_train,y_train)"
   ]
  },
  {
   "cell_type": "code",
   "execution_count": 14,
   "id": "8cc740d4",
   "metadata": {},
   "outputs": [],
   "source": [
    "y_pred = model_rf.predict(x_test)"
   ]
  },
  {
   "cell_type": "code",
   "execution_count": 15,
   "id": "daa9c03e",
   "metadata": {},
   "outputs": [],
   "source": [
    "from sklearn.metrics import accuracy_score,classification_report,confusion_matrix,roc_curve,auc,roc_auc_score"
   ]
  },
  {
   "cell_type": "code",
   "execution_count": 16,
   "id": "7c0371d7",
   "metadata": {},
   "outputs": [
    {
     "data": {
      "text/plain": [
       "0.8639455782312925"
      ]
     },
     "execution_count": 16,
     "metadata": {},
     "output_type": "execute_result"
    }
   ],
   "source": [
    "accuracy_score(y_pred,y_test)"
   ]
  },
  {
   "cell_type": "code",
   "execution_count": 17,
   "id": "9d94cbb9",
   "metadata": {},
   "outputs": [
    {
     "name": "stdout",
     "output_type": "stream",
     "text": [
      "[[250  35]\n",
      " [  5   4]]\n"
     ]
    }
   ],
   "source": [
    "print(confusion_matrix(y_pred,y_test))"
   ]
  },
  {
   "cell_type": "code",
   "execution_count": 18,
   "id": "2ad4feaa",
   "metadata": {
    "scrolled": true
   },
   "outputs": [
    {
     "name": "stdout",
     "output_type": "stream",
     "text": [
      "              precision    recall  f1-score   support\n",
      "\n",
      "           0       0.98      0.88      0.93       285\n",
      "           1       0.10      0.44      0.17         9\n",
      "\n",
      "    accuracy                           0.86       294\n",
      "   macro avg       0.54      0.66      0.55       294\n",
      "weighted avg       0.95      0.86      0.90       294\n",
      "\n"
     ]
    }
   ],
   "source": [
    "print(classification_report(y_pred,y_test))"
   ]
  },
  {
   "cell_type": "code",
   "execution_count": 19,
   "id": "97d5eca6",
   "metadata": {},
   "outputs": [
    {
     "data": {
      "text/plain": [
       "0.6608187134502924"
      ]
     },
     "execution_count": 19,
     "metadata": {},
     "output_type": "execute_result"
    }
   ],
   "source": [
    "roc_auc_score(y_pred,y_test)"
   ]
  },
  {
   "cell_type": "code",
   "execution_count": 20,
   "id": "4fb2de33",
   "metadata": {},
   "outputs": [
    {
     "data": {
      "text/plain": [
       "0.762292609351433"
      ]
     },
     "execution_count": 20,
     "metadata": {},
     "output_type": "execute_result"
    }
   ],
   "source": [
    "y_pred_prob = model_rf.predict_proba(x_test)\n",
    "fpr,tpr,threshold = roc_curve(y_test,y_pred_prob[:,1])\n",
    "roc_auc = auc(fpr,tpr)\n",
    "roc_auc"
   ]
  },
  {
   "cell_type": "code",
   "execution_count": 21,
   "id": "fe07f8f9",
   "metadata": {},
   "outputs": [
    {
     "data": {
      "image/png": "[encoded data removed]",
      "text/plain": [
       "<Figure size 432x288 with 1 Axes>"
      ]
     },
     "metadata": {
      "needs_background": "light"
     },
     "output_type": "display_data"
    }
   ],
   "source": [
    "plt.title('ROC Curve for Random Forest',size = 15)\n",
    "plt.xlabel('False Positive Rate (1-Specificity)',size = 12)\n",
    "plt.ylabel('True Positive Rate (Sensitivity)',size = 12)\n",
    "plt.plot([0, 1], [0, 1],'r--')\n",
    "plt.xlim([0, 1])\n",
    "plt.ylim([0, 1])\n",
    "plt.plot(fpr, tpr, label = 'AUC =' +str(roc_auc))\n",
    "plt.legend(loc=4) #Location of label\n",
    "plt.show()"
   ]
  },
  {
   "cell_type": "code",
   "execution_count": null,
   "id": "b4fadcf5",
   "metadata": {},
   "outputs": [],
   "source": []
  }
 ],
 "metadata": {
  "kernelspec": {
   "display_name": "Python 3 (ipykernel)",
   "language": "python",
   "name": "python3"
  },
  "language_info": {
   "codemirror_mode": {
    "name": "ipython",
    "version": 3
   },
   "file_extension": ".py",
   "mimetype": "text/x-python",
   "name": "python",
   "nbconvert_exporter": "python",
   "pygments_lexer": "ipython3",
   "version": "3.9.12"
  }
 },
 "nbformat": 4,
 "nbformat_minor": 5
}
