{
 "cells": [
  {
   "cell_type": "code",
   "execution_count": 1,
   "id": "d0b1503e",
   "metadata": {},
   "outputs": [],
   "source": [
    "import pandas as pd\n",
    "import matplotlib.pyplot as plt"
   ]
  },
  {
   "cell_type": "code",
   "execution_count": 2,
   "id": "43159c7b",
   "metadata": {},
   "outputs": [
    {
     "name": "stdout",
     "output_type": "stream",
     "text": [
      "<class 'pandas.core.frame.DataFrame'>\n",
      "RangeIndex: 1470 entries, 0 to 1469\n",
      "Data columns (total 20 columns):\n",
      " #   Column                   Non-Null Count  Dtype  \n",
      "---  ------                   --------------  -----  \n",
      " 0   Unnamed: 0               1470 non-null   int64  \n",
      " 1   Attrition                1470 non-null   int64  \n",
      " 2   BusinessTravel           1470 non-null   int64  \n",
      " 3   DailyRate                1470 non-null   int64  \n",
      " 4   Department               1470 non-null   int64  \n",
      " 5   DistanceFromHome         1470 non-null   int64  \n",
      " 6   EducationField           1470 non-null   float64\n",
      " 7   EnvironmentSatisfaction  1470 non-null   int64  \n",
      " 8   JobInvolvement           1470 non-null   int64  \n",
      " 9   JobLevel                 1470 non-null   int64  \n",
      " 10  JobRole                  1470 non-null   int64  \n",
      " 11  JobSatisfaction          1470 non-null   int64  \n",
      " 12  MaritalStatus            1470 non-null   int64  \n",
      " 13  MonthlyIncome            1470 non-null   float64\n",
      " 14  OverTime                 1470 non-null   int64  \n",
      " 15  StockOptionLevel         1470 non-null   int64  \n",
      " 16  TrainingTimesLastYear    1470 non-null   int64  \n",
      " 17  WorkLifeBalance          1470 non-null   int64  \n",
      " 18  YearsInCurrentRole       1470 non-null   float64\n",
      " 19  YearsWithCurrManager     1470 non-null   float64\n",
      "dtypes: float64(4), int64(16)\n",
      "memory usage: 229.8 KB\n"
     ]
    }
   ],
   "source": [
    "df=pd.read_csv('HR.csv')\n",
    "df.info()"
   ]
  },
  {
   "cell_type": "code",
   "execution_count": 3,
   "id": "c2433fc4",
   "metadata": {},
   "outputs": [],
   "source": [
    "df.drop('Unnamed: 0',axis=1,inplace=True)"
   ]
  },
  {
   "cell_type": "code",
   "execution_count": 4,
   "id": "2b4606a4",
   "metadata": {
    "scrolled": true
   },
   "outputs": [
    {
     "name": "stdout",
     "output_type": "stream",
     "text": [
      "<class 'pandas.core.frame.DataFrame'>\n",
      "RangeIndex: 1470 entries, 0 to 1469\n",
      "Data columns (total 19 columns):\n",
      " #   Column                   Non-Null Count  Dtype  \n",
      "---  ------                   --------------  -----  \n",
      " 0   Attrition                1470 non-null   int64  \n",
      " 1   BusinessTravel           1470 non-null   int64  \n",
      " 2   DailyRate                1470 non-null   int64  \n",
      " 3   Department               1470 non-null   int64  \n",
      " 4   DistanceFromHome         1470 non-null   int64  \n",
      " 5   EducationField           1470 non-null   float64\n",
      " 6   EnvironmentSatisfaction  1470 non-null   int64  \n",
      " 7   JobInvolvement           1470 non-null   int64  \n",
      " 8   JobLevel                 1470 non-null   int64  \n",
      " 9   JobRole                  1470 non-null   int64  \n",
      " 10  JobSatisfaction          1470 non-null   int64  \n",
      " 11  MaritalStatus            1470 non-null   int64  \n",
      " 12  MonthlyIncome            1470 non-null   float64\n",
      " 13  OverTime                 1470 non-null   int64  \n",
      " 14  StockOptionLevel         1470 non-null   int64  \n",
      " 15  TrainingTimesLastYear    1470 non-null   int64  \n",
      " 16  WorkLifeBalance          1470 non-null   int64  \n",
      " 17  YearsInCurrentRole       1470 non-null   float64\n",
      " 18  YearsWithCurrManager     1470 non-null   float64\n",
      "dtypes: float64(4), int64(15)\n",
      "memory usage: 218.3 KB\n"
     ]
    }
   ],
   "source": [
    "df.info()"
   ]
  },
  {
   "cell_type": "code",
   "execution_count": 5,
   "id": "2d133ed9",
   "metadata": {},
   "outputs": [],
   "source": [
    "x=df.drop(['Attrition'],axis=1)\n",
    "y=df.Attrition"
   ]
  },
  {
   "cell_type": "markdown",
   "id": "245e21a6",
   "metadata": {},
   "source": [
    "# standard scaling"
   ]
  },
  {
   "cell_type": "code",
   "execution_count": 6,
   "id": "dc83a9f2",
   "metadata": {},
   "outputs": [],
   "source": [
    "#Feature Scaling\n",
    "from sklearn.preprocessing import StandardScaler\n",
    "scaler = StandardScaler()\n",
    "X = scaler.fit_transform(x)"
   ]
  },
  {
   "cell_type": "code",
   "execution_count": null,
   "id": "6d17ca16",
   "metadata": {},
   "outputs": [],
   "source": []
  },
  {
   "cell_type": "code",
   "execution_count": 7,
   "id": "d7a624c4",
   "metadata": {},
   "outputs": [],
   "source": [
    "from sklearn.model_selection import train_test_split"
   ]
  },
  {
   "cell_type": "code",
   "execution_count": 8,
   "id": "1a3453fe",
   "metadata": {},
   "outputs": [],
   "source": [
    "x_train,x_test,y_train,y_test=train_test_split(x,y,test_size=0.2, random_state=42)"
   ]
  },
  {
   "cell_type": "code",
   "execution_count": 9,
   "id": "c569adac",
   "metadata": {},
   "outputs": [
    {
     "data": {
      "text/plain": [
       "DecisionTreeClassifier()"
      ]
     },
     "execution_count": 9,
     "metadata": {},
     "output_type": "execute_result"
    }
   ],
   "source": [
    "from sklearn.tree import DecisionTreeClassifier\n",
    "dt = DecisionTreeClassifier()\n",
    "dt.fit(x_train,y_train)"
   ]
  },
  {
   "cell_type": "code",
   "execution_count": 10,
   "id": "3d2c4744",
   "metadata": {},
   "outputs": [],
   "source": [
    "model_params = {'criterion' : ['gini','entropy'],\n",
    "                'max_depth': [1,2,3,4,5,6,7,8,9,None]}"
   ]
  },
  {
   "cell_type": "code",
   "execution_count": 11,
   "id": "607d43c0",
   "metadata": {},
   "outputs": [
    {
     "data": {
      "text/plain": [
       "GridSearchCV(cv=10, estimator=DecisionTreeClassifier(),\n",
       "             param_grid={'criterion': ['gini', 'entropy'],\n",
       "                         'max_depth': [1, 2, 3, 4, 5, 6, 7, 8, 9, None]})"
      ]
     },
     "execution_count": 11,
     "metadata": {},
     "output_type": "execute_result"
    }
   ],
   "source": [
    "from sklearn.model_selection import GridSearchCV\n",
    "search = GridSearchCV(dt,model_params,cv = 10)\n",
    "search.fit(x_train,y_train)"
   ]
  },
  {
   "cell_type": "code",
   "execution_count": 12,
   "id": "ecc430ba",
   "metadata": {},
   "outputs": [
    {
     "data": {
      "text/plain": [
       "{'criterion': 'entropy', 'max_depth': 2}"
      ]
     },
     "execution_count": 12,
     "metadata": {},
     "output_type": "execute_result"
    }
   ],
   "source": [
    "search.best_params_"
   ]
  },
  {
   "cell_type": "code",
   "execution_count": 13,
   "id": "7d3292dc",
   "metadata": {},
   "outputs": [],
   "source": [
    "dtree2 = DecisionTreeClassifier(criterion= 'gini', max_depth = None)"
   ]
  },
  {
   "cell_type": "code",
   "execution_count": 14,
   "id": "a45f6255",
   "metadata": {},
   "outputs": [],
   "source": [
    "model = dtree2.fit(x_train,y_train)"
   ]
  },
  {
   "cell_type": "code",
   "execution_count": 15,
   "id": "7f88c2a1",
   "metadata": {},
   "outputs": [],
   "source": [
    "y_pred = model.predict(x_test)"
   ]
  },
  {
   "cell_type": "code",
   "execution_count": 16,
   "id": "8a25adad",
   "metadata": {},
   "outputs": [],
   "source": [
    "from sklearn.metrics import accuracy_score,classification_report,confusion_matrix,roc_curve,auc,roc_auc_score"
   ]
  },
  {
   "cell_type": "code",
   "execution_count": 17,
   "id": "217da9f4",
   "metadata": {},
   "outputs": [
    {
     "data": {
      "text/plain": [
       "0.8095238095238095"
      ]
     },
     "execution_count": 17,
     "metadata": {},
     "output_type": "execute_result"
    }
   ],
   "source": [
    "accuracy_score(y_pred,y_test)"
   ]
  },
  {
   "cell_type": "code",
   "execution_count": 18,
   "id": "1254268f",
   "metadata": {
    "scrolled": true
   },
   "outputs": [
    {
     "name": "stdout",
     "output_type": "stream",
     "text": [
      "[[224  25]\n",
      " [ 31  14]]\n"
     ]
    }
   ],
   "source": [
    "print(confusion_matrix(y_pred,y_test))"
   ]
  },
  {
   "cell_type": "code",
   "execution_count": 19,
   "id": "ef2e4a7d",
   "metadata": {},
   "outputs": [
    {
     "name": "stdout",
     "output_type": "stream",
     "text": [
      "              precision    recall  f1-score   support\n",
      "\n",
      "           0       0.88      0.90      0.89       249\n",
      "           1       0.36      0.31      0.33        45\n",
      "\n",
      "    accuracy                           0.81       294\n",
      "   macro avg       0.62      0.61      0.61       294\n",
      "weighted avg       0.80      0.81      0.80       294\n",
      "\n"
     ]
    }
   ],
   "source": [
    "print(classification_report(y_pred,y_test))"
   ]
  },
  {
   "cell_type": "code",
   "execution_count": 20,
   "id": "35f6539f",
   "metadata": {},
   "outputs": [
    {
     "data": {
      "text/plain": [
       "0.6053547523427042"
      ]
     },
     "execution_count": 20,
     "metadata": {},
     "output_type": "execute_result"
    }
   ],
   "source": [
    "roc_auc_score(y_pred,y_test)"
   ]
  },
  {
   "cell_type": "code",
   "execution_count": 21,
   "id": "f3d5ceb7",
   "metadata": {},
   "outputs": [
    {
     "data": {
      "text/plain": [
       "0.6187028657616893"
      ]
     },
     "execution_count": 21,
     "metadata": {},
     "output_type": "execute_result"
    }
   ],
   "source": [
    "y_pred_prob = model.predict_proba(x_test)\n",
    "fpr,tpr,threshold = roc_curve(y_test,y_pred_prob[:,1])\n",
    "roc_auc = auc(fpr,tpr)\n",
    "roc_auc"
   ]
  },
  {
   "cell_type": "code",
   "execution_count": 22,
   "id": "42b7538a",
   "metadata": {},
   "outputs": [
    {
     "data": {
      "image/png": "[encoded data removed]",
      "text/plain": [
       "<Figure size 432x288 with 1 Axes>"
      ]
     },
     "metadata": {
      "needs_background": "light"
     },
     "output_type": "display_data"
    }
   ],
   "source": [
    "plt.plot(fpr,tpr,'purple',label = 'AREA = ' +str(roc_auc));\n",
    "plt.legend(loc = 4);\n",
    "plt.plot([0,1],[0,1],'--r');\n",
    "plt.xlim([0,1]);\n",
    "plt.ylim([0,1]);\n",
    "plt.title('ROC CURVE OF DECISION TREE',size = 15);\n",
    "plt.xlabel('False Positive Rate (1 - Specificity)',size = 12);\n",
    "plt.ylabel('True Positive Rate (Sensitivity)',size = 12);"
   ]
  },
  {
   "cell_type": "code",
   "execution_count": null,
   "id": "ef3385f3",
   "metadata": {},
   "outputs": [],
   "source": []
  }
 ],
 "metadata": {
  "kernelspec": {
   "display_name": "Python 3 (ipykernel)",
   "language": "python",
   "name": "python3"
  },
  "language_info": {
   "codemirror_mode": {
    "name": "ipython",
    "version": 3
   },
   "file_extension": ".py",
   "mimetype": "text/x-python",
   "name": "python",
   "nbconvert_exporter": "python",
   "pygments_lexer": "ipython3",
   "version": "3.9.12"
  }
 },
 "nbformat": 4,
 "nbformat_minor": 5
}
