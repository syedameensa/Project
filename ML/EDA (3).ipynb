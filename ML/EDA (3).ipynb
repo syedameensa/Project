{
 "cells": [
  {
   "cell_type": "markdown",
   "id": "9a1241ba",
   "metadata": {},
   "source": [
    "# IMPORTING THE PYTHON LIBRARIES"
   ]
  },
  {
   "cell_type": "code",
   "execution_count": 1,
   "id": "5af5eb21",
   "metadata": {},
   "outputs": [],
   "source": [
    "import pandas as pd\n",
    "import numpy as np\n",
    "import matplotlib.pyplot as plt\n",
    "from scipy import stats\n",
    "import seaborn as sns\n",
    "import statsmodels.api as sm\n",
    "from statsmodels.formula.api import ols                               \n",
    "pd.set_option('display.max_column' , None)\n",
    "#plt.rcParams['figure.figsize'] = (9,5)\n",
    "import warnings\n",
    "warnings.filterwarnings('ignore')\n",
    "import scipy.stats as stats\n",
    "from scipy.stats import chi2_contingency"
   ]
  },
  {
   "cell_type": "markdown",
   "id": "4598cdb4",
   "metadata": {},
   "source": [
    "# IMPORTING DATASET"
   ]
  },
  {
   "cell_type": "code",
   "execution_count": 2,
   "id": "812979f2",
   "metadata": {
    "scrolled": true
   },
   "outputs": [],
   "source": [
    "df = pd.read_csv(\"HR Employee Attrition.csv\")\n",
    "df = pd.DataFrame(df)"
   ]
  },
  {
   "cell_type": "markdown",
   "id": "d5e79153",
   "metadata": {},
   "source": [
    "## BASIC CHECKS"
   ]
  },
  {
   "cell_type": "code",
   "execution_count": 3,
   "id": "1edaa139",
   "metadata": {},
   "outputs": [
    {
     "name": "stdout",
     "output_type": "stream",
     "text": [
      "<class 'pandas.core.frame.DataFrame'>\n",
      "RangeIndex: 1470 entries, 0 to 1469\n",
      "Data columns (total 35 columns):\n",
      " #   Column                    Non-Null Count  Dtype \n",
      "---  ------                    --------------  ----- \n",
      " 0   Age                       1470 non-null   int64 \n",
      " 1   Attrition                 1470 non-null   object\n",
      " 2   BusinessTravel            1470 non-null   object\n",
      " 3   DailyRate                 1470 non-null   int64 \n",
      " 4   Department                1470 non-null   object\n",
      " 5   DistanceFromHome          1470 non-null   int64 \n",
      " 6   Education                 1470 non-null   int64 \n",
      " 7   EducationField            1470 non-null   object\n",
      " 8   EmployeeCount             1470 non-null   int64 \n",
      " 9   EmployeeNumber            1470 non-null   int64 \n",
      " 10  EnvironmentSatisfaction   1470 non-null   int64 \n",
      " 11  Gender                    1470 non-null   object\n",
      " 12  HourlyRate                1470 non-null   int64 \n",
      " 13  JobInvolvement            1470 non-null   int64 \n",
      " 14  JobLevel                  1470 non-null   int64 \n",
      " 15  JobRole                   1470 non-null   object\n",
      " 16  JobSatisfaction           1470 non-null   int64 \n",
      " 17  MaritalStatus             1470 non-null   object\n",
      " 18  MonthlyIncome             1470 non-null   int64 \n",
      " 19  MonthlyRate               1470 non-null   int64 \n",
      " 20  NumCompaniesWorked        1470 non-null   int64 \n",
      " 21  Over18                    1470 non-null   object\n",
      " 22  OverTime                  1470 non-null   object\n",
      " 23  PercentSalaryHike         1470 non-null   int64 \n",
      " 24  PerformanceRating         1470 non-null   int64 \n",
      " 25  RelationshipSatisfaction  1470 non-null   int64 \n",
      " 26  StandardHours             1470 non-null   int64 \n",
      " 27  StockOptionLevel          1470 non-null   int64 \n",
      " 28  TotalWorkingYears         1470 non-null   int64 \n",
      " 29  TrainingTimesLastYear     1470 non-null   int64 \n",
      " 30  WorkLifeBalance           1470 non-null   int64 \n",
      " 31  YearsAtCompany            1470 non-null   int64 \n",
      " 32  YearsInCurrentRole        1470 non-null   int64 \n",
      " 33  YearsSinceLastPromotion   1470 non-null   int64 \n",
      " 34  YearsWithCurrManager      1470 non-null   int64 \n",
      "dtypes: int64(26), object(9)\n",
      "memory usage: 402.1+ KB\n"
     ]
    }
   ],
   "source": [
    "df.info()"
   ]
  },
  {
   "cell_type": "markdown",
   "id": "bd4a2d4e",
   "metadata": {},
   "source": [
    "     •Here information tells us that there is no null values are present in data, so we need not to handle null values.\n",
    "     •However it can be seen that there are 9 features or columns which are of object\" data type, so we have to handle           catagorical columns for our model creation"
   ]
  },
  {
   "cell_type": "markdown",
   "id": "b077a916",
   "metadata": {},
   "source": [
    "### Check for duplicated data"
   ]
  },
  {
   "cell_type": "code",
   "execution_count": 4,
   "id": "97cd3641",
   "metadata": {},
   "outputs": [
    {
     "data": {
      "text/plain": [
       "0"
      ]
     },
     "execution_count": 4,
     "metadata": {},
     "output_type": "execute_result"
    }
   ],
   "source": [
    "df.duplicated().sum()"
   ]
  },
  {
   "cell_type": "markdown",
   "id": "b23568a1",
   "metadata": {},
   "source": [
    "•There is no duplicate"
   ]
  },
  {
   "cell_type": "code",
   "execution_count": 5,
   "id": "8887933e",
   "metadata": {},
   "outputs": [
    {
     "data": {
      "text/html": [
       "<div>\n",
       "<style scoped>\n",
       "    .dataframe tbody tr th:only-of-type {\n",
       "        vertical-align: middle;\n",
       "    }\n",
       "\n",
       "    .dataframe tbody tr th {\n",
       "        vertical-align: top;\n",
       "    }\n",
       "\n",
       "    .dataframe thead th {\n",
       "        text-align: right;\n",
       "    }\n",
       "</style>\n",
       "<table border=\"1\" class=\"dataframe\">\n",
       "  <thead>\n",
       "    <tr style=\"text-align: right;\">\n",
       "      <th></th>\n",
       "      <th>Age</th>\n",
       "      <th>Attrition</th>\n",
       "      <th>BusinessTravel</th>\n",
       "      <th>DailyRate</th>\n",
       "      <th>Department</th>\n",
       "      <th>DistanceFromHome</th>\n",
       "      <th>Education</th>\n",
       "      <th>EducationField</th>\n",
       "      <th>EmployeeCount</th>\n",
       "      <th>EmployeeNumber</th>\n",
       "      <th>EnvironmentSatisfaction</th>\n",
       "      <th>Gender</th>\n",
       "      <th>HourlyRate</th>\n",
       "      <th>JobInvolvement</th>\n",
       "      <th>JobLevel</th>\n",
       "      <th>JobRole</th>\n",
       "      <th>JobSatisfaction</th>\n",
       "      <th>MaritalStatus</th>\n",
       "      <th>MonthlyIncome</th>\n",
       "      <th>MonthlyRate</th>\n",
       "      <th>NumCompaniesWorked</th>\n",
       "      <th>Over18</th>\n",
       "      <th>OverTime</th>\n",
       "      <th>PercentSalaryHike</th>\n",
       "      <th>PerformanceRating</th>\n",
       "      <th>RelationshipSatisfaction</th>\n",
       "      <th>StandardHours</th>\n",
       "      <th>StockOptionLevel</th>\n",
       "      <th>TotalWorkingYears</th>\n",
       "      <th>TrainingTimesLastYear</th>\n",
       "      <th>WorkLifeBalance</th>\n",
       "      <th>YearsAtCompany</th>\n",
       "      <th>YearsInCurrentRole</th>\n",
       "      <th>YearsSinceLastPromotion</th>\n",
       "      <th>YearsWithCurrManager</th>\n",
       "    </tr>\n",
       "  </thead>\n",
       "  <tbody>\n",
       "    <tr>\n",
       "      <th>0</th>\n",
       "      <td>41</td>\n",
       "      <td>Yes</td>\n",
       "      <td>Travel_Rarely</td>\n",
       "      <td>1102</td>\n",
       "      <td>Sales</td>\n",
       "      <td>1</td>\n",
       "      <td>2</td>\n",
       "      <td>Life Sciences</td>\n",
       "      <td>1</td>\n",
       "      <td>1</td>\n",
       "      <td>2</td>\n",
       "      <td>Female</td>\n",
       "      <td>94</td>\n",
       "      <td>3</td>\n",
       "      <td>2</td>\n",
       "      <td>Sales Executive</td>\n",
       "      <td>4</td>\n",
       "      <td>Single</td>\n",
       "      <td>5993</td>\n",
       "      <td>19479</td>\n",
       "      <td>8</td>\n",
       "      <td>Y</td>\n",
       "      <td>Yes</td>\n",
       "      <td>11</td>\n",
       "      <td>3</td>\n",
       "      <td>1</td>\n",
       "      <td>80</td>\n",
       "      <td>0</td>\n",
       "      <td>8</td>\n",
       "      <td>0</td>\n",
       "      <td>1</td>\n",
       "      <td>6</td>\n",
       "      <td>4</td>\n",
       "      <td>0</td>\n",
       "      <td>5</td>\n",
       "    </tr>\n",
       "    <tr>\n",
       "      <th>1</th>\n",
       "      <td>49</td>\n",
       "      <td>No</td>\n",
       "      <td>Travel_Frequently</td>\n",
       "      <td>279</td>\n",
       "      <td>Research &amp; Development</td>\n",
       "      <td>8</td>\n",
       "      <td>1</td>\n",
       "      <td>Life Sciences</td>\n",
       "      <td>1</td>\n",
       "      <td>2</td>\n",
       "      <td>3</td>\n",
       "      <td>Male</td>\n",
       "      <td>61</td>\n",
       "      <td>2</td>\n",
       "      <td>2</td>\n",
       "      <td>Research Scientist</td>\n",
       "      <td>2</td>\n",
       "      <td>Married</td>\n",
       "      <td>5130</td>\n",
       "      <td>24907</td>\n",
       "      <td>1</td>\n",
       "      <td>Y</td>\n",
       "      <td>No</td>\n",
       "      <td>23</td>\n",
       "      <td>4</td>\n",
       "      <td>4</td>\n",
       "      <td>80</td>\n",
       "      <td>1</td>\n",
       "      <td>10</td>\n",
       "      <td>3</td>\n",
       "      <td>3</td>\n",
       "      <td>10</td>\n",
       "      <td>7</td>\n",
       "      <td>1</td>\n",
       "      <td>7</td>\n",
       "    </tr>\n",
       "    <tr>\n",
       "      <th>2</th>\n",
       "      <td>37</td>\n",
       "      <td>Yes</td>\n",
       "      <td>Travel_Rarely</td>\n",
       "      <td>1373</td>\n",
       "      <td>Research &amp; Development</td>\n",
       "      <td>2</td>\n",
       "      <td>2</td>\n",
       "      <td>Other</td>\n",
       "      <td>1</td>\n",
       "      <td>4</td>\n",
       "      <td>4</td>\n",
       "      <td>Male</td>\n",
       "      <td>92</td>\n",
       "      <td>2</td>\n",
       "      <td>1</td>\n",
       "      <td>Laboratory Technician</td>\n",
       "      <td>3</td>\n",
       "      <td>Single</td>\n",
       "      <td>2090</td>\n",
       "      <td>2396</td>\n",
       "      <td>6</td>\n",
       "      <td>Y</td>\n",
       "      <td>Yes</td>\n",
       "      <td>15</td>\n",
       "      <td>3</td>\n",
       "      <td>2</td>\n",
       "      <td>80</td>\n",
       "      <td>0</td>\n",
       "      <td>7</td>\n",
       "      <td>3</td>\n",
       "      <td>3</td>\n",
       "      <td>0</td>\n",
       "      <td>0</td>\n",
       "      <td>0</td>\n",
       "      <td>0</td>\n",
       "    </tr>\n",
       "  </tbody>\n",
       "</table>\n",
       "</div>"
      ],
      "text/plain": [
       "   Age Attrition     BusinessTravel  DailyRate              Department  \\\n",
       "0   41       Yes      Travel_Rarely       1102                   Sales   \n",
       "1   49        No  Travel_Frequently        279  Research & Development   \n",
       "2   37       Yes      Travel_Rarely       1373  Research & Development   \n",
       "\n",
       "   DistanceFromHome  Education EducationField  EmployeeCount  EmployeeNumber  \\\n",
       "0                 1          2  Life Sciences              1               1   \n",
       "1                 8          1  Life Sciences              1               2   \n",
       "2                 2          2          Other              1               4   \n",
       "\n",
       "   EnvironmentSatisfaction  Gender  HourlyRate  JobInvolvement  JobLevel  \\\n",
       "0                        2  Female          94               3         2   \n",
       "1                        3    Male          61               2         2   \n",
       "2                        4    Male          92               2         1   \n",
       "\n",
       "                 JobRole  JobSatisfaction MaritalStatus  MonthlyIncome  \\\n",
       "0        Sales Executive                4        Single           5993   \n",
       "1     Research Scientist                2       Married           5130   \n",
       "2  Laboratory Technician                3        Single           2090   \n",
       "\n",
       "   MonthlyRate  NumCompaniesWorked Over18 OverTime  PercentSalaryHike  \\\n",
       "0        19479                   8      Y      Yes                 11   \n",
       "1        24907                   1      Y       No                 23   \n",
       "2         2396                   6      Y      Yes                 15   \n",
       "\n",
       "   PerformanceRating  RelationshipSatisfaction  StandardHours  \\\n",
       "0                  3                         1             80   \n",
       "1                  4                         4             80   \n",
       "2                  3                         2             80   \n",
       "\n",
       "   StockOptionLevel  TotalWorkingYears  TrainingTimesLastYear  \\\n",
       "0                 0                  8                      0   \n",
       "1                 1                 10                      3   \n",
       "2                 0                  7                      3   \n",
       "\n",
       "   WorkLifeBalance  YearsAtCompany  YearsInCurrentRole  \\\n",
       "0                1               6                   4   \n",
       "1                3              10                   7   \n",
       "2                3               0                   0   \n",
       "\n",
       "   YearsSinceLastPromotion  YearsWithCurrManager  \n",
       "0                        0                     5  \n",
       "1                        1                     7  \n",
       "2                        0                     0  "
      ]
     },
     "execution_count": 5,
     "metadata": {},
     "output_type": "execute_result"
    }
   ],
   "source": [
    "df.head(3)"
   ]
  },
  {
   "cell_type": "markdown",
   "id": "722b14f4",
   "metadata": {},
   "source": [
    "•The dataset contains several numerical and categorical columns providing various information on employee's personal and employment details."
   ]
  },
  {
   "cell_type": "code",
   "execution_count": 6,
   "id": "cb08348a",
   "metadata": {},
   "outputs": [
    {
     "data": {
      "text/html": [
       "<div>\n",
       "<style scoped>\n",
       "    .dataframe tbody tr th:only-of-type {\n",
       "        vertical-align: middle;\n",
       "    }\n",
       "\n",
       "    .dataframe tbody tr th {\n",
       "        vertical-align: top;\n",
       "    }\n",
       "\n",
       "    .dataframe thead th {\n",
       "        text-align: right;\n",
       "    }\n",
       "</style>\n",
       "<table border=\"1\" class=\"dataframe\">\n",
       "  <thead>\n",
       "    <tr style=\"text-align: right;\">\n",
       "      <th></th>\n",
       "      <th>count</th>\n",
       "      <th>mean</th>\n",
       "      <th>std</th>\n",
       "      <th>min</th>\n",
       "      <th>25%</th>\n",
       "      <th>50%</th>\n",
       "      <th>75%</th>\n",
       "      <th>max</th>\n",
       "    </tr>\n",
       "  </thead>\n",
       "  <tbody>\n",
       "    <tr>\n",
       "      <th>Age</th>\n",
       "      <td>1470.0</td>\n",
       "      <td>36.923810</td>\n",
       "      <td>9.135373</td>\n",
       "      <td>18.0</td>\n",
       "      <td>30.00</td>\n",
       "      <td>36.0</td>\n",
       "      <td>43.00</td>\n",
       "      <td>60.0</td>\n",
       "    </tr>\n",
       "    <tr>\n",
       "      <th>DailyRate</th>\n",
       "      <td>1470.0</td>\n",
       "      <td>802.485714</td>\n",
       "      <td>403.509100</td>\n",
       "      <td>102.0</td>\n",
       "      <td>465.00</td>\n",
       "      <td>802.0</td>\n",
       "      <td>1157.00</td>\n",
       "      <td>1499.0</td>\n",
       "    </tr>\n",
       "    <tr>\n",
       "      <th>DistanceFromHome</th>\n",
       "      <td>1470.0</td>\n",
       "      <td>9.192517</td>\n",
       "      <td>8.106864</td>\n",
       "      <td>1.0</td>\n",
       "      <td>2.00</td>\n",
       "      <td>7.0</td>\n",
       "      <td>14.00</td>\n",
       "      <td>29.0</td>\n",
       "    </tr>\n",
       "    <tr>\n",
       "      <th>Education</th>\n",
       "      <td>1470.0</td>\n",
       "      <td>2.912925</td>\n",
       "      <td>1.024165</td>\n",
       "      <td>1.0</td>\n",
       "      <td>2.00</td>\n",
       "      <td>3.0</td>\n",
       "      <td>4.00</td>\n",
       "      <td>5.0</td>\n",
       "    </tr>\n",
       "    <tr>\n",
       "      <th>EmployeeCount</th>\n",
       "      <td>1470.0</td>\n",
       "      <td>1.000000</td>\n",
       "      <td>0.000000</td>\n",
       "      <td>1.0</td>\n",
       "      <td>1.00</td>\n",
       "      <td>1.0</td>\n",
       "      <td>1.00</td>\n",
       "      <td>1.0</td>\n",
       "    </tr>\n",
       "    <tr>\n",
       "      <th>EmployeeNumber</th>\n",
       "      <td>1470.0</td>\n",
       "      <td>1024.865306</td>\n",
       "      <td>602.024335</td>\n",
       "      <td>1.0</td>\n",
       "      <td>491.25</td>\n",
       "      <td>1020.5</td>\n",
       "      <td>1555.75</td>\n",
       "      <td>2068.0</td>\n",
       "    </tr>\n",
       "    <tr>\n",
       "      <th>EnvironmentSatisfaction</th>\n",
       "      <td>1470.0</td>\n",
       "      <td>2.721769</td>\n",
       "      <td>1.093082</td>\n",
       "      <td>1.0</td>\n",
       "      <td>2.00</td>\n",
       "      <td>3.0</td>\n",
       "      <td>4.00</td>\n",
       "      <td>4.0</td>\n",
       "    </tr>\n",
       "    <tr>\n",
       "      <th>HourlyRate</th>\n",
       "      <td>1470.0</td>\n",
       "      <td>65.891156</td>\n",
       "      <td>20.329428</td>\n",
       "      <td>30.0</td>\n",
       "      <td>48.00</td>\n",
       "      <td>66.0</td>\n",
       "      <td>83.75</td>\n",
       "      <td>100.0</td>\n",
       "    </tr>\n",
       "    <tr>\n",
       "      <th>JobInvolvement</th>\n",
       "      <td>1470.0</td>\n",
       "      <td>2.729932</td>\n",
       "      <td>0.711561</td>\n",
       "      <td>1.0</td>\n",
       "      <td>2.00</td>\n",
       "      <td>3.0</td>\n",
       "      <td>3.00</td>\n",
       "      <td>4.0</td>\n",
       "    </tr>\n",
       "    <tr>\n",
       "      <th>JobLevel</th>\n",
       "      <td>1470.0</td>\n",
       "      <td>2.063946</td>\n",
       "      <td>1.106940</td>\n",
       "      <td>1.0</td>\n",
       "      <td>1.00</td>\n",
       "      <td>2.0</td>\n",
       "      <td>3.00</td>\n",
       "      <td>5.0</td>\n",
       "    </tr>\n",
       "    <tr>\n",
       "      <th>JobSatisfaction</th>\n",
       "      <td>1470.0</td>\n",
       "      <td>2.728571</td>\n",
       "      <td>1.102846</td>\n",
       "      <td>1.0</td>\n",
       "      <td>2.00</td>\n",
       "      <td>3.0</td>\n",
       "      <td>4.00</td>\n",
       "      <td>4.0</td>\n",
       "    </tr>\n",
       "    <tr>\n",
       "      <th>MonthlyIncome</th>\n",
       "      <td>1470.0</td>\n",
       "      <td>6502.931293</td>\n",
       "      <td>4707.956783</td>\n",
       "      <td>1009.0</td>\n",
       "      <td>2911.00</td>\n",
       "      <td>4919.0</td>\n",
       "      <td>8379.00</td>\n",
       "      <td>19999.0</td>\n",
       "    </tr>\n",
       "    <tr>\n",
       "      <th>MonthlyRate</th>\n",
       "      <td>1470.0</td>\n",
       "      <td>14313.103401</td>\n",
       "      <td>7117.786044</td>\n",
       "      <td>2094.0</td>\n",
       "      <td>8047.00</td>\n",
       "      <td>14235.5</td>\n",
       "      <td>20461.50</td>\n",
       "      <td>26999.0</td>\n",
       "    </tr>\n",
       "    <tr>\n",
       "      <th>NumCompaniesWorked</th>\n",
       "      <td>1470.0</td>\n",
       "      <td>2.693197</td>\n",
       "      <td>2.498009</td>\n",
       "      <td>0.0</td>\n",
       "      <td>1.00</td>\n",
       "      <td>2.0</td>\n",
       "      <td>4.00</td>\n",
       "      <td>9.0</td>\n",
       "    </tr>\n",
       "    <tr>\n",
       "      <th>PercentSalaryHike</th>\n",
       "      <td>1470.0</td>\n",
       "      <td>15.209524</td>\n",
       "      <td>3.659938</td>\n",
       "      <td>11.0</td>\n",
       "      <td>12.00</td>\n",
       "      <td>14.0</td>\n",
       "      <td>18.00</td>\n",
       "      <td>25.0</td>\n",
       "    </tr>\n",
       "    <tr>\n",
       "      <th>PerformanceRating</th>\n",
       "      <td>1470.0</td>\n",
       "      <td>3.153741</td>\n",
       "      <td>0.360824</td>\n",
       "      <td>3.0</td>\n",
       "      <td>3.00</td>\n",
       "      <td>3.0</td>\n",
       "      <td>3.00</td>\n",
       "      <td>4.0</td>\n",
       "    </tr>\n",
       "    <tr>\n",
       "      <th>RelationshipSatisfaction</th>\n",
       "      <td>1470.0</td>\n",
       "      <td>2.712245</td>\n",
       "      <td>1.081209</td>\n",
       "      <td>1.0</td>\n",
       "      <td>2.00</td>\n",
       "      <td>3.0</td>\n",
       "      <td>4.00</td>\n",
       "      <td>4.0</td>\n",
       "    </tr>\n",
       "    <tr>\n",
       "      <th>StandardHours</th>\n",
       "      <td>1470.0</td>\n",
       "      <td>80.000000</td>\n",
       "      <td>0.000000</td>\n",
       "      <td>80.0</td>\n",
       "      <td>80.00</td>\n",
       "      <td>80.0</td>\n",
       "      <td>80.00</td>\n",
       "      <td>80.0</td>\n",
       "    </tr>\n",
       "    <tr>\n",
       "      <th>StockOptionLevel</th>\n",
       "      <td>1470.0</td>\n",
       "      <td>0.793878</td>\n",
       "      <td>0.852077</td>\n",
       "      <td>0.0</td>\n",
       "      <td>0.00</td>\n",
       "      <td>1.0</td>\n",
       "      <td>1.00</td>\n",
       "      <td>3.0</td>\n",
       "    </tr>\n",
       "    <tr>\n",
       "      <th>TotalWorkingYears</th>\n",
       "      <td>1470.0</td>\n",
       "      <td>11.279592</td>\n",
       "      <td>7.780782</td>\n",
       "      <td>0.0</td>\n",
       "      <td>6.00</td>\n",
       "      <td>10.0</td>\n",
       "      <td>15.00</td>\n",
       "      <td>40.0</td>\n",
       "    </tr>\n",
       "    <tr>\n",
       "      <th>TrainingTimesLastYear</th>\n",
       "      <td>1470.0</td>\n",
       "      <td>2.799320</td>\n",
       "      <td>1.289271</td>\n",
       "      <td>0.0</td>\n",
       "      <td>2.00</td>\n",
       "      <td>3.0</td>\n",
       "      <td>3.00</td>\n",
       "      <td>6.0</td>\n",
       "    </tr>\n",
       "    <tr>\n",
       "      <th>WorkLifeBalance</th>\n",
       "      <td>1470.0</td>\n",
       "      <td>2.761224</td>\n",
       "      <td>0.706476</td>\n",
       "      <td>1.0</td>\n",
       "      <td>2.00</td>\n",
       "      <td>3.0</td>\n",
       "      <td>3.00</td>\n",
       "      <td>4.0</td>\n",
       "    </tr>\n",
       "    <tr>\n",
       "      <th>YearsAtCompany</th>\n",
       "      <td>1470.0</td>\n",
       "      <td>7.008163</td>\n",
       "      <td>6.126525</td>\n",
       "      <td>0.0</td>\n",
       "      <td>3.00</td>\n",
       "      <td>5.0</td>\n",
       "      <td>9.00</td>\n",
       "      <td>40.0</td>\n",
       "    </tr>\n",
       "    <tr>\n",
       "      <th>YearsInCurrentRole</th>\n",
       "      <td>1470.0</td>\n",
       "      <td>4.229252</td>\n",
       "      <td>3.623137</td>\n",
       "      <td>0.0</td>\n",
       "      <td>2.00</td>\n",
       "      <td>3.0</td>\n",
       "      <td>7.00</td>\n",
       "      <td>18.0</td>\n",
       "    </tr>\n",
       "    <tr>\n",
       "      <th>YearsSinceLastPromotion</th>\n",
       "      <td>1470.0</td>\n",
       "      <td>2.187755</td>\n",
       "      <td>3.222430</td>\n",
       "      <td>0.0</td>\n",
       "      <td>0.00</td>\n",
       "      <td>1.0</td>\n",
       "      <td>3.00</td>\n",
       "      <td>15.0</td>\n",
       "    </tr>\n",
       "    <tr>\n",
       "      <th>YearsWithCurrManager</th>\n",
       "      <td>1470.0</td>\n",
       "      <td>4.123129</td>\n",
       "      <td>3.568136</td>\n",
       "      <td>0.0</td>\n",
       "      <td>2.00</td>\n",
       "      <td>3.0</td>\n",
       "      <td>7.00</td>\n",
       "      <td>17.0</td>\n",
       "    </tr>\n",
       "  </tbody>\n",
       "</table>\n",
       "</div>"
      ],
      "text/plain": [
       "                           count          mean          std     min      25%  \\\n",
       "Age                       1470.0     36.923810     9.135373    18.0    30.00   \n",
       "DailyRate                 1470.0    802.485714   403.509100   102.0   465.00   \n",
       "DistanceFromHome          1470.0      9.192517     8.106864     1.0     2.00   \n",
       "Education                 1470.0      2.912925     1.024165     1.0     2.00   \n",
       "EmployeeCount             1470.0      1.000000     0.000000     1.0     1.00   \n",
       "EmployeeNumber            1470.0   1024.865306   602.024335     1.0   491.25   \n",
       "EnvironmentSatisfaction   1470.0      2.721769     1.093082     1.0     2.00   \n",
       "HourlyRate                1470.0     65.891156    20.329428    30.0    48.00   \n",
       "JobInvolvement            1470.0      2.729932     0.711561     1.0     2.00   \n",
       "JobLevel                  1470.0      2.063946     1.106940     1.0     1.00   \n",
       "JobSatisfaction           1470.0      2.728571     1.102846     1.0     2.00   \n",
       "MonthlyIncome             1470.0   6502.931293  4707.956783  1009.0  2911.00   \n",
       "MonthlyRate               1470.0  14313.103401  7117.786044  2094.0  8047.00   \n",
       "NumCompaniesWorked        1470.0      2.693197     2.498009     0.0     1.00   \n",
       "PercentSalaryHike         1470.0     15.209524     3.659938    11.0    12.00   \n",
       "PerformanceRating         1470.0      3.153741     0.360824     3.0     3.00   \n",
       "RelationshipSatisfaction  1470.0      2.712245     1.081209     1.0     2.00   \n",
       "StandardHours             1470.0     80.000000     0.000000    80.0    80.00   \n",
       "StockOptionLevel          1470.0      0.793878     0.852077     0.0     0.00   \n",
       "TotalWorkingYears         1470.0     11.279592     7.780782     0.0     6.00   \n",
       "TrainingTimesLastYear     1470.0      2.799320     1.289271     0.0     2.00   \n",
       "WorkLifeBalance           1470.0      2.761224     0.706476     1.0     2.00   \n",
       "YearsAtCompany            1470.0      7.008163     6.126525     0.0     3.00   \n",
       "YearsInCurrentRole        1470.0      4.229252     3.623137     0.0     2.00   \n",
       "YearsSinceLastPromotion   1470.0      2.187755     3.222430     0.0     0.00   \n",
       "YearsWithCurrManager      1470.0      4.123129     3.568136     0.0     2.00   \n",
       "\n",
       "                              50%       75%      max  \n",
       "Age                          36.0     43.00     60.0  \n",
       "DailyRate                   802.0   1157.00   1499.0  \n",
       "DistanceFromHome              7.0     14.00     29.0  \n",
       "Education                     3.0      4.00      5.0  \n",
       "EmployeeCount                 1.0      1.00      1.0  \n",
       "EmployeeNumber             1020.5   1555.75   2068.0  \n",
       "EnvironmentSatisfaction       3.0      4.00      4.0  \n",
       "HourlyRate                   66.0     83.75    100.0  \n",
       "JobInvolvement                3.0      3.00      4.0  \n",
       "JobLevel                      2.0      3.00      5.0  \n",
       "JobSatisfaction               3.0      4.00      4.0  \n",
       "MonthlyIncome              4919.0   8379.00  19999.0  \n",
       "MonthlyRate               14235.5  20461.50  26999.0  \n",
       "NumCompaniesWorked            2.0      4.00      9.0  \n",
       "PercentSalaryHike            14.0     18.00     25.0  \n",
       "PerformanceRating             3.0      3.00      4.0  \n",
       "RelationshipSatisfaction      3.0      4.00      4.0  \n",
       "StandardHours                80.0     80.00     80.0  \n",
       "StockOptionLevel              1.0      1.00      3.0  \n",
       "TotalWorkingYears            10.0     15.00     40.0  \n",
       "TrainingTimesLastYear         3.0      3.00      6.0  \n",
       "WorkLifeBalance               3.0      3.00      4.0  \n",
       "YearsAtCompany                5.0      9.00     40.0  \n",
       "YearsInCurrentRole            3.0      7.00     18.0  \n",
       "YearsSinceLastPromotion       1.0      3.00     15.0  \n",
       "YearsWithCurrManager          3.0      7.00     17.0  "
      ]
     },
     "execution_count": 6,
     "metadata": {},
     "output_type": "execute_result"
    }
   ],
   "source": [
    "df.describe().T"
   ]
  },
  {
   "cell_type": "markdown",
   "id": "60fdaf22",
   "metadata": {},
   "source": [
    "      • Here two columns(Employ_count,Standard Hours) have std=0 so it means they have unique values it means they are not able to use in analysis."
   ]
  },
  {
   "cell_type": "code",
   "execution_count": 7,
   "id": "781fca2f",
   "metadata": {},
   "outputs": [
    {
     "data": {
      "text/html": [
       "<div>\n",
       "<style scoped>\n",
       "    .dataframe tbody tr th:only-of-type {\n",
       "        vertical-align: middle;\n",
       "    }\n",
       "\n",
       "    .dataframe tbody tr th {\n",
       "        vertical-align: top;\n",
       "    }\n",
       "\n",
       "    .dataframe thead th {\n",
       "        text-align: right;\n",
       "    }\n",
       "</style>\n",
       "<table border=\"1\" class=\"dataframe\">\n",
       "  <thead>\n",
       "    <tr style=\"text-align: right;\">\n",
       "      <th></th>\n",
       "      <th>count</th>\n",
       "      <th>unique</th>\n",
       "      <th>top</th>\n",
       "      <th>freq</th>\n",
       "    </tr>\n",
       "  </thead>\n",
       "  <tbody>\n",
       "    <tr>\n",
       "      <th>Attrition</th>\n",
       "      <td>1470</td>\n",
       "      <td>2</td>\n",
       "      <td>No</td>\n",
       "      <td>1233</td>\n",
       "    </tr>\n",
       "    <tr>\n",
       "      <th>BusinessTravel</th>\n",
       "      <td>1470</td>\n",
       "      <td>3</td>\n",
       "      <td>Travel_Rarely</td>\n",
       "      <td>1043</td>\n",
       "    </tr>\n",
       "    <tr>\n",
       "      <th>Department</th>\n",
       "      <td>1470</td>\n",
       "      <td>3</td>\n",
       "      <td>Research &amp; Development</td>\n",
       "      <td>961</td>\n",
       "    </tr>\n",
       "    <tr>\n",
       "      <th>EducationField</th>\n",
       "      <td>1470</td>\n",
       "      <td>6</td>\n",
       "      <td>Life Sciences</td>\n",
       "      <td>606</td>\n",
       "    </tr>\n",
       "    <tr>\n",
       "      <th>Gender</th>\n",
       "      <td>1470</td>\n",
       "      <td>2</td>\n",
       "      <td>Male</td>\n",
       "      <td>882</td>\n",
       "    </tr>\n",
       "    <tr>\n",
       "      <th>JobRole</th>\n",
       "      <td>1470</td>\n",
       "      <td>9</td>\n",
       "      <td>Sales Executive</td>\n",
       "      <td>326</td>\n",
       "    </tr>\n",
       "    <tr>\n",
       "      <th>MaritalStatus</th>\n",
       "      <td>1470</td>\n",
       "      <td>3</td>\n",
       "      <td>Married</td>\n",
       "      <td>673</td>\n",
       "    </tr>\n",
       "    <tr>\n",
       "      <th>Over18</th>\n",
       "      <td>1470</td>\n",
       "      <td>1</td>\n",
       "      <td>Y</td>\n",
       "      <td>1470</td>\n",
       "    </tr>\n",
       "    <tr>\n",
       "      <th>OverTime</th>\n",
       "      <td>1470</td>\n",
       "      <td>2</td>\n",
       "      <td>No</td>\n",
       "      <td>1054</td>\n",
       "    </tr>\n",
       "  </tbody>\n",
       "</table>\n",
       "</div>"
      ],
      "text/plain": [
       "               count unique                     top  freq\n",
       "Attrition       1470      2                      No  1233\n",
       "BusinessTravel  1470      3           Travel_Rarely  1043\n",
       "Department      1470      3  Research & Development   961\n",
       "EducationField  1470      6           Life Sciences   606\n",
       "Gender          1470      2                    Male   882\n",
       "JobRole         1470      9         Sales Executive   326\n",
       "MaritalStatus   1470      3                 Married   673\n",
       "Over18          1470      1                       Y  1470\n",
       "OverTime        1470      2                      No  1054"
      ]
     },
     "execution_count": 7,
     "metadata": {},
     "output_type": "execute_result"
    }
   ],
   "source": [
    "df.describe(include = 'O').T"
   ]
  },
  {
   "cell_type": "markdown",
   "id": "faec6164",
   "metadata": {},
   "source": [
    "       • HERE IN OVER 18 COLUMN WE ONLY HAVE 1 UNIQUE VALUE SO IT MEANS NO ANALYSIS DONE ON IT"
   ]
  },
  {
   "cell_type": "code",
   "execution_count": 8,
   "id": "e5e53483",
   "metadata": {},
   "outputs": [
    {
     "data": {
      "text/plain": [
       "Age                         0\n",
       "Attrition                   0\n",
       "BusinessTravel              0\n",
       "DailyRate                   0\n",
       "Department                  0\n",
       "DistanceFromHome            0\n",
       "Education                   0\n",
       "EducationField              0\n",
       "EmployeeCount               0\n",
       "EmployeeNumber              0\n",
       "EnvironmentSatisfaction     0\n",
       "Gender                      0\n",
       "HourlyRate                  0\n",
       "JobInvolvement              0\n",
       "JobLevel                    0\n",
       "JobRole                     0\n",
       "JobSatisfaction             0\n",
       "MaritalStatus               0\n",
       "MonthlyIncome               0\n",
       "MonthlyRate                 0\n",
       "NumCompaniesWorked          0\n",
       "Over18                      0\n",
       "OverTime                    0\n",
       "PercentSalaryHike           0\n",
       "PerformanceRating           0\n",
       "RelationshipSatisfaction    0\n",
       "StandardHours               0\n",
       "StockOptionLevel            0\n",
       "TotalWorkingYears           0\n",
       "TrainingTimesLastYear       0\n",
       "WorkLifeBalance             0\n",
       "YearsAtCompany              0\n",
       "YearsInCurrentRole          0\n",
       "YearsSinceLastPromotion     0\n",
       "YearsWithCurrManager        0\n",
       "dtype: int64"
      ]
     },
     "execution_count": 8,
     "metadata": {},
     "output_type": "execute_result"
    }
   ],
   "source": [
    "df.isnull().sum()"
   ]
  },
  {
   "cell_type": "code",
   "execution_count": 9,
   "id": "2698c4b7",
   "metadata": {
    "scrolled": true
   },
   "outputs": [
    {
     "data": {
      "text/plain": [
       "<AxesSubplot:>"
      ]
     },
     "execution_count": 9,
     "metadata": {},
     "output_type": "execute_result"
    },
    {
     "data": {
      "image/png": "[encoded data removed]",
      "text/plain": [
       "<Figure size 432x288 with 2 Axes>"
      ]
     },
     "metadata": {
      "needs_background": "light"
     },
     "output_type": "display_data"
    }
   ],
   "source": [
    "sns.heatmap(df.isnull() , cmap = 'viridis')"
   ]
  },
  {
   "cell_type": "markdown",
   "id": "b86b845a",
   "metadata": {},
   "source": [
    "•From above graph, we can see that there are no missing values in our dataset."
   ]
  },
  {
   "cell_type": "code",
   "execution_count": 10,
   "id": "079a6083",
   "metadata": {},
   "outputs": [
    {
     "data": {
      "text/plain": [
       "(1470, 35)"
      ]
     },
     "execution_count": 10,
     "metadata": {},
     "output_type": "execute_result"
    }
   ],
   "source": [
    "df.shape"
   ]
  },
  {
   "cell_type": "markdown",
   "id": "a04ba61a",
   "metadata": {},
   "source": [
    "   •There are 1470 Rows & 35 Columns in our Dataset"
   ]
  },
  {
   "cell_type": "markdown",
   "id": "436ceaff",
   "metadata": {},
   "source": [
    "# EDA (EXPLORATORY DATA ANALSIS )"
   ]
  },
  {
   "cell_type": "markdown",
   "id": "7c3a3356",
   "metadata": {},
   "source": [
    "## Attrition"
   ]
  },
  {
   "cell_type": "markdown",
   "id": "bbe7f760",
   "metadata": {},
   "source": [
    "• ATTRITION--> Attrition is the departure of employees from the organization for any reason or in simple words we can say that employees who want to\n",
    "\n",
    "leave the company.\n",
    "\n",
    ".ATTRITION YES\"> Employee wants to leave the company.\n",
    "\n",
    ".ATTRITION \"NO\" Employee don't want to leave.\n"
   ]
  },
  {
   "cell_type": "code",
   "execution_count": 11,
   "id": "12e74b99",
   "metadata": {},
   "outputs": [
    {
     "data": {
      "text/plain": [
       "No     1233\n",
       "Yes     237\n",
       "Name: Attrition, dtype: int64"
      ]
     },
     "execution_count": 11,
     "metadata": {},
     "output_type": "execute_result"
    }
   ],
   "source": [
    "df.Attrition.value_counts()"
   ]
  },
  {
   "cell_type": "code",
   "execution_count": 12,
   "id": "9e930016",
   "metadata": {
    "scrolled": true
   },
   "outputs": [
    {
     "data": {
      "text/plain": [
       "<AxesSubplot:xlabel='Attrition', ylabel='count'>"
      ]
     },
     "execution_count": 12,
     "metadata": {},
     "output_type": "execute_result"
    },
    {
     "data": {
      "image/png": "[encoded data removed]",
      "text/plain": [
       "<Figure size 432x288 with 1 Axes>"
      ]
     },
     "metadata": {
      "needs_background": "light"
     },
     "output_type": "display_data"
    }
   ],
   "source": [
    "sns.countplot(df.Attrition)"
   ]
  },
  {
   "cell_type": "markdown",
   "id": "6b298494",
   "metadata": {},
   "source": [
    "    • Data of Attrition says that it has more number of \"No\" values and less number of \"Yes\".  \n",
    "    • It can be seen that there is big difference in counts of the values so we can say that it is IMBALANCE DATA"
   ]
  },
  {
   "cell_type": "markdown",
   "id": "384ed7af",
   "metadata": {},
   "source": [
    "## Age           ~Age of an Employee"
   ]
  },
  {
   "cell_type": "code",
   "execution_count": 13,
   "id": "e3e691b1",
   "metadata": {
    "scrolled": true
   },
   "outputs": [
    {
     "data": {
      "text/plain": [
       "35    78\n",
       "34    77\n",
       "36    69\n",
       "31    69\n",
       "29    68\n",
       "32    61\n",
       "30    60\n",
       "33    58\n",
       "38    58\n",
       "40    57\n",
       "37    50\n",
       "27    48\n",
       "28    48\n",
       "42    46\n",
       "39    42\n",
       "45    41\n",
       "41    40\n",
       "26    39\n",
       "44    33\n",
       "46    33\n",
       "43    32\n",
       "50    30\n",
       "25    26\n",
       "24    26\n",
       "49    24\n",
       "47    24\n",
       "55    22\n",
       "51    19\n",
       "53    19\n",
       "48    19\n",
       "54    18\n",
       "52    18\n",
       "22    16\n",
       "56    14\n",
       "23    14\n",
       "58    14\n",
       "21    13\n",
       "20    11\n",
       "59    10\n",
       "19     9\n",
       "18     8\n",
       "60     5\n",
       "57     4\n",
       "Name: Age, dtype: int64"
      ]
     },
     "execution_count": 13,
     "metadata": {},
     "output_type": "execute_result"
    }
   ],
   "source": [
    "df.Age.value_counts()"
   ]
  },
  {
   "cell_type": "code",
   "execution_count": 14,
   "id": "ab7d5845",
   "metadata": {},
   "outputs": [
    {
     "data": {
      "text/plain": [
       "<AxesSubplot:xlabel='Age', ylabel='Count'>"
      ]
     },
     "execution_count": 14,
     "metadata": {},
     "output_type": "execute_result"
    },
    {
     "data": {
      "image/png": "[encoded data removed]",
      "text/plain": [
       "<Figure size 432x288 with 1 Axes>"
      ]
     },
     "metadata": {
      "needs_background": "light"
     },
     "output_type": "display_data"
    }
   ],
   "source": [
    "sns.histplot(x = 'Age' , hue = 'Attrition' , data = df)"
   ]
  },
  {
   "cell_type": "markdown",
   "id": "fb1ddb8a",
   "metadata": {},
   "source": [
    "   • Employees in age of 25 to 35 are more likely to leave the job\n",
    "   \n",
    "   • After 40 age,the distribution tells us that \"Higher the age Lesser will be attrition\""
   ]
  },
  {
   "cell_type": "code",
   "execution_count": 15,
   "id": "9efedb7e",
   "metadata": {},
   "outputs": [
    {
     "data": {
      "text/plain": [
       "<AxesSubplot:xlabel='Age'>"
      ]
     },
     "execution_count": 15,
     "metadata": {},
     "output_type": "execute_result"
    },
    {
     "data": {
      "image/png": "[encoded data removed]",
      "text/plain": [
       "<Figure size 432x288 with 1 Axes>"
      ]
     },
     "metadata": {
      "needs_background": "light"
     },
     "output_type": "display_data"
    }
   ],
   "source": [
    "sns.boxplot(df.Age)"
   ]
  },
  {
   "cell_type": "code",
   "execution_count": 16,
   "id": "3a883c7d",
   "metadata": {
    "scrolled": true
   },
   "outputs": [
    {
     "name": "stdout",
     "output_type": "stream",
     "text": [
      "               df        sum_sq     mean_sq         F  PR(>F)\n",
      "Attrition     1.0    3107.33341  3107.33341  38.17589     0.0\n",
      "Residual   1468.0  119488.13326    81.39519       NaN     NaN\n"
     ]
    }
   ],
   "source": [
    "import statsmodels.api as sm\n",
    "annova = ols('Age ~ Attrition' , data = df).fit()\n",
    "an = sm.stats.anova_lm(annova)\n",
    "print(an.round(decimals = 5))"
   ]
  },
  {
   "cell_type": "markdown",
   "id": "0cf35b11",
   "metadata": {},
   "source": [
    "## Business Travel  ~ That Employee is traveling or not for business purpose"
   ]
  },
  {
   "cell_type": "code",
   "execution_count": 17,
   "id": "dffcfea6",
   "metadata": {},
   "outputs": [
    {
     "data": {
      "text/plain": [
       "Travel_Rarely        1043\n",
       "Travel_Frequently     277\n",
       "Non-Travel            150\n",
       "Name: BusinessTravel, dtype: int64"
      ]
     },
     "execution_count": 17,
     "metadata": {},
     "output_type": "execute_result"
    }
   ],
   "source": [
    "df.BusinessTravel.value_counts()              "
   ]
  },
  {
   "cell_type": "code",
   "execution_count": 18,
   "id": "c821efdf",
   "metadata": {},
   "outputs": [
    {
     "data": {
      "text/plain": [
       "<AxesSubplot:xlabel='BusinessTravel', ylabel='count'>"
      ]
     },
     "execution_count": 18,
     "metadata": {},
     "output_type": "execute_result"
    },
    {
     "data": {
      "image/png": "[encoded data removed]",
      "text/plain": [
       "<Figure size 432x288 with 1 Axes>"
      ]
     },
     "metadata": {
      "needs_background": "light"
     },
     "output_type": "display_data"
    }
   ],
   "source": [
    "sns.countplot(x = 'BusinessTravel' , hue = 'Attrition' , data = df , palette = 'Set3')"
   ]
  },
  {
   "cell_type": "markdown",
   "id": "f2474411",
   "metadata": {},
   "source": [
    "• Graph tells us that company has more count or more no. of employes who travels rarely. It means travel rate of company is less.\n",
    "\n",
    "• There are more employes which travels rarely and are not satisfied with their job\n",
    "\n",
    "• Non-traveller have least count as well as least attrition."
   ]
  },
  {
   "cell_type": "code",
   "execution_count": 19,
   "id": "a7cf3d64",
   "metadata": {},
   "outputs": [],
   "source": [
    "#Mapping\n",
    "df.BusinessTravel = df.BusinessTravel.map({'Non-Travel':0 , 'Travel_Rarely':1 , 'Travel_Frequently':2})"
   ]
  },
  {
   "cell_type": "code",
   "execution_count": 20,
   "id": "2f996d78",
   "metadata": {},
   "outputs": [
    {
     "data": {
      "text/plain": [
       "5.608614476449942e-06"
      ]
     },
     "execution_count": 20,
     "metadata": {},
     "output_type": "execute_result"
    }
   ],
   "source": [
    "#Chi-Square\n",
    "chi2_contingency(pd.crosstab(df.Attrition , df.BusinessTravel))[1]#good predictor"
   ]
  },
  {
   "cell_type": "markdown",
   "id": "ce675ffb",
   "metadata": {},
   "source": [
    "## Daily Rate~ Rating given to employee on daily basis"
   ]
  },
  {
   "cell_type": "code",
   "execution_count": 21,
   "id": "e4b4b621",
   "metadata": {},
   "outputs": [
    {
     "data": {
      "text/plain": [
       "691     6\n",
       "408     5\n",
       "530     5\n",
       "1329    5\n",
       "1082    5\n",
       "       ..\n",
       "650     1\n",
       "279     1\n",
       "316     1\n",
       "314     1\n",
       "628     1\n",
       "Name: DailyRate, Length: 886, dtype: int64"
      ]
     },
     "execution_count": 21,
     "metadata": {},
     "output_type": "execute_result"
    }
   ],
   "source": [
    "df.DailyRate.value_counts()"
   ]
  },
  {
   "cell_type": "code",
   "execution_count": 22,
   "id": "32dc2131",
   "metadata": {},
   "outputs": [
    {
     "data": {
      "text/plain": [
       "<AxesSubplot:xlabel='DailyRate', ylabel='Density'>"
      ]
     },
     "execution_count": 22,
     "metadata": {},
     "output_type": "execute_result"
    },
    {
     "data": {
      "image/png": "[encoded data removed]",
      "text/plain": [
       "<Figure size 432x288 with 1 Axes>"
      ]
     },
     "metadata": {
      "needs_background": "light"
     },
     "output_type": "display_data"
    }
   ],
   "source": [
    "sns.distplot(df.DailyRate)"
   ]
  },
  {
   "cell_type": "code",
   "execution_count": 23,
   "id": "aa1b44d2",
   "metadata": {},
   "outputs": [
    {
     "data": {
      "text/plain": [
       "<AxesSubplot:xlabel='DailyRate'>"
      ]
     },
     "execution_count": 23,
     "metadata": {},
     "output_type": "execute_result"
    },
    {
     "data": {
      "image/png": "[encoded data removed]",
      "text/plain": [
       "<Figure size 432x288 with 1 Axes>"
      ]
     },
     "metadata": {
      "needs_background": "light"
     },
     "output_type": "display_data"
    }
   ],
   "source": [
    "sns.boxplot(df.DailyRate)"
   ]
  },
  {
   "cell_type": "code",
   "execution_count": 24,
   "id": "0872b334",
   "metadata": {},
   "outputs": [
    {
     "name": "stdout",
     "output_type": "stream",
     "text": [
      "               df        sum_sq       mean_sq        F   PR(>F)\n",
      "Attrition     1.0  7.676422e+05  767642.18128  4.72664  0.02986\n",
      "Residual   1468.0  2.384143e+08  162407.58925      NaN      NaN\n"
     ]
    }
   ],
   "source": [
    "#Annova\n",
    "annova = ols('DailyRate ~ Attrition' , data = df).fit()\n",
    "an = sm.stats.anova_lm(annova)\n",
    "print(an.round(decimals = 5))#good predictor"
   ]
  },
  {
   "cell_type": "markdown",
   "id": "e9a342ba",
   "metadata": {},
   "source": [
    "## Department ~ In which Department of company Employee is working"
   ]
  },
  {
   "cell_type": "code",
   "execution_count": 25,
   "id": "881c2a29",
   "metadata": {},
   "outputs": [
    {
     "data": {
      "text/plain": [
       "Research & Development    961\n",
       "Sales                     446\n",
       "Human Resources            63\n",
       "Name: Department, dtype: int64"
      ]
     },
     "execution_count": 25,
     "metadata": {},
     "output_type": "execute_result"
    }
   ],
   "source": [
    "df.Department.value_counts()"
   ]
  },
  {
   "cell_type": "code",
   "execution_count": 26,
   "id": "df37d13d",
   "metadata": {
    "scrolled": true
   },
   "outputs": [
    {
     "data": {
      "text/plain": [
       "<AxesSubplot:xlabel='Department', ylabel='count'>"
      ]
     },
     "execution_count": 26,
     "metadata": {},
     "output_type": "execute_result"
    },
    {
     "data": {
      "image/png": "[encoded data removed]",
      "text/plain": [
       "<Figure size 432x288 with 1 Axes>"
      ]
     },
     "metadata": {
      "needs_background": "light"
     },
     "output_type": "display_data"
    }
   ],
   "source": [
    "sns.countplot(x = 'Department' , hue = 'Attrition' , data = df , palette = 'Set3')"
   ]
  },
  {
   "cell_type": "markdown",
   "id": "7276321c",
   "metadata": {},
   "source": [
    "• There are 3 no. of department are there-> 1. Sales, 2 Research and Development, 3 HR department\n",
    "\n",
    "• \"Research and Development department have more number of Attrition(150 employees) as compared to other two department.  \n",
    "\n",
    "• \"HR Department\" have least Attrition with just 5 to 10 employees"
   ]
  },
  {
   "cell_type": "code",
   "execution_count": 27,
   "id": "4ec7bf38",
   "metadata": {},
   "outputs": [],
   "source": [
    "df.Department = df.Department.map({'Human Resources':3 , 'Sales':2 , 'Research & Development':1})"
   ]
  },
  {
   "cell_type": "code",
   "execution_count": 28,
   "id": "f75ef9ad",
   "metadata": {},
   "outputs": [
    {
     "data": {
      "text/plain": [
       "0.004525606574479633"
      ]
     },
     "execution_count": 28,
     "metadata": {},
     "output_type": "execute_result"
    }
   ],
   "source": [
    "chi2_contingency(pd.crosstab(df.Attrition , df.Department))[1]"
   ]
  },
  {
   "cell_type": "markdown",
   "id": "7ac53c9b",
   "metadata": {},
   "source": [
    "## Distance From Home~ That how much distance is there of an employee from house to office"
   ]
  },
  {
   "cell_type": "code",
   "execution_count": 29,
   "id": "007b72a9",
   "metadata": {},
   "outputs": [
    {
     "data": {
      "text/plain": [
       "2     211\n",
       "1     208\n",
       "10     86\n",
       "9      85\n",
       "3      84\n",
       "7      84\n",
       "8      80\n",
       "5      65\n",
       "4      64\n",
       "6      59\n",
       "16     32\n",
       "11     29\n",
       "24     28\n",
       "23     27\n",
       "29     27\n",
       "15     26\n",
       "18     26\n",
       "26     25\n",
       "25     25\n",
       "20     25\n",
       "28     23\n",
       "19     22\n",
       "14     21\n",
       "12     20\n",
       "17     20\n",
       "22     19\n",
       "13     19\n",
       "21     18\n",
       "27     12\n",
       "Name: DistanceFromHome, dtype: int64"
      ]
     },
     "execution_count": 29,
     "metadata": {},
     "output_type": "execute_result"
    }
   ],
   "source": [
    "df.DistanceFromHome.value_counts()"
   ]
  },
  {
   "cell_type": "code",
   "execution_count": 30,
   "id": "be0c41ed",
   "metadata": {},
   "outputs": [
    {
     "data": {
      "text/plain": [
       "<AxesSubplot:xlabel='DistanceFromHome', ylabel='Count'>"
      ]
     },
     "execution_count": 30,
     "metadata": {},
     "output_type": "execute_result"
    },
    {
     "data": {
      "image/png": "[encoded data removed]",
      "text/plain": [
       "<Figure size 432x288 with 1 Axes>"
      ]
     },
     "metadata": {
      "needs_background": "light"
     },
     "output_type": "display_data"
    }
   ],
   "source": [
    "sns.histplot(x = df.DistanceFromHome , hue = df.Attrition)"
   ]
  },
  {
   "cell_type": "markdown",
   "id": "39fac91c",
   "metadata": {},
   "source": [
    "    • Employee who has distance range of 0-10 km, are more likely to leave the job\n",
    "    • we can also conclude that lesser the distance more number of employees are working"
   ]
  },
  {
   "cell_type": "code",
   "execution_count": 31,
   "id": "e1207610",
   "metadata": {},
   "outputs": [
    {
     "data": {
      "text/plain": [
       "<AxesSubplot:xlabel='DistanceFromHome'>"
      ]
     },
     "execution_count": 31,
     "metadata": {},
     "output_type": "execute_result"
    },
    {
     "data": {
      "image/png": "[encoded data removed]",
      "text/plain": [
       "<Figure size 432x288 with 1 Axes>"
      ]
     },
     "metadata": {
      "needs_background": "light"
     },
     "output_type": "display_data"
    }
   ],
   "source": [
    "sns.boxplot(df.DistanceFromHome)"
   ]
  },
  {
   "cell_type": "code",
   "execution_count": 32,
   "id": "ec35ebd2",
   "metadata": {},
   "outputs": [
    {
     "name": "stdout",
     "output_type": "stream",
     "text": [
      "               df       sum_sq    mean_sq        F   PR(>F)\n",
      "Attrition     1.0    586.22650  586.22650  8.96828  0.00279\n",
      "Residual   1468.0  95958.29119   65.36668      NaN      NaN\n"
     ]
    }
   ],
   "source": [
    "annova = ols('DistanceFromHome ~ Attrition' , data = df).fit()\n",
    "an = sm.stats.anova_lm(annova)\n",
    "print(an.round(decimals = 5))"
   ]
  },
  {
   "cell_type": "markdown",
   "id": "17eb09ce",
   "metadata": {},
   "source": [
    "## Education"
   ]
  },
  {
   "cell_type": "code",
   "execution_count": 33,
   "id": "60d7bb54",
   "metadata": {
    "scrolled": true
   },
   "outputs": [
    {
     "data": {
      "text/plain": [
       "3    572\n",
       "4    398\n",
       "2    282\n",
       "1    170\n",
       "5     48\n",
       "Name: Education, dtype: int64"
      ]
     },
     "execution_count": 33,
     "metadata": {},
     "output_type": "execute_result"
    }
   ],
   "source": [
    "df.Education.value_counts()"
   ]
  },
  {
   "cell_type": "markdown",
   "id": "1764b6af",
   "metadata": {},
   "source": [
    "1 'Below College',\n",
    "2 'College',\n",
    "3 'Bachelor',\n",
    "4 'Master',\n",
    "5 'Doctor'."
   ]
  },
  {
   "cell_type": "code",
   "execution_count": 34,
   "id": "0aa87589",
   "metadata": {},
   "outputs": [
    {
     "data": {
      "text/plain": [
       "<AxesSubplot:xlabel='Education', ylabel='count'>"
      ]
     },
     "execution_count": 34,
     "metadata": {},
     "output_type": "execute_result"
    },
    {
     "data": {
      "image/png": "[encoded data removed]",
      "text/plain": [
       "<Figure size 432x288 with 1 Axes>"
      ]
     },
     "metadata": {
      "needs_background": "light"
     },
     "output_type": "display_data"
    }
   ],
   "source": [
    "sns.countplot(x = df.Education , hue = df.Attrition)"
   ]
  },
  {
   "cell_type": "code",
   "execution_count": null,
   "id": "5c75eca6",
   "metadata": {},
   "outputs": [],
   "source": []
  },
  {
   "cell_type": "code",
   "execution_count": 35,
   "id": "2a36e8c3",
   "metadata": {},
   "outputs": [
    {
     "name": "stdout",
     "output_type": "stream",
     "text": [
      "               df      sum_sq  mean_sq        F   PR(>F)\n",
      "Attrition     1.0     1.51659  1.51659  1.44631  0.22932\n",
      "Residual   1468.0  1539.33783  1.04860      NaN      NaN\n"
     ]
    }
   ],
   "source": [
    "annova = ols('Education ~ Attrition' , data = df).fit()\n",
    "an = sm.stats.anova_lm(annova)\n",
    "print(an.round(decimals = 5))"
   ]
  },
  {
   "cell_type": "code",
   "execution_count": 36,
   "id": "fb909fb8",
   "metadata": {},
   "outputs": [],
   "source": [
    "df.drop(['Education'],axis = 1 , inplace = True)"
   ]
  },
  {
   "cell_type": "markdown",
   "id": "a50135ad",
   "metadata": {},
   "source": [
    "## Education Field~ From which education background Employee belongs to"
   ]
  },
  {
   "cell_type": "code",
   "execution_count": 37,
   "id": "988f24d7",
   "metadata": {},
   "outputs": [
    {
     "data": {
      "text/plain": [
       "Life Sciences       606\n",
       "Medical             464\n",
       "Marketing           159\n",
       "Technical Degree    132\n",
       "Other                82\n",
       "Human Resources      27\n",
       "Name: EducationField, dtype: int64"
      ]
     },
     "execution_count": 37,
     "metadata": {},
     "output_type": "execute_result"
    }
   ],
   "source": [
    "df.EducationField.value_counts()"
   ]
  },
  {
   "cell_type": "code",
   "execution_count": 38,
   "id": "85d4e04a",
   "metadata": {},
   "outputs": [
    {
     "data": {
      "text/plain": [
       "<AxesSubplot:xlabel='EducationField', ylabel='count'>"
      ]
     },
     "execution_count": 38,
     "metadata": {},
     "output_type": "execute_result"
    },
    {
     "data": {
      "image/png": "[encoded data removed]",
      "text/plain": [
       "<Figure size 432x288 with 1 Axes>"
      ]
     },
     "metadata": {
      "needs_background": "light"
     },
     "output_type": "display_data"
    }
   ],
   "source": [
    "sns.countplot(x = 'EducationField' , hue = 'Attrition' , data = df , palette = 'Set3')"
   ]
  },
  {
   "cell_type": "markdown",
   "id": "1bd9eb8b",
   "metadata": {},
   "source": [
    "• First and foremost thing is that Employees who are from Life Science\" and \"Medical\" backgrounds are more as compared to other edication fields.\n",
    "\n",
    "• Nearly 100 number of employees are there who are from Life Science education background will leave the company and followed by Medical education Employees \n",
    "\n",
    "• As we conclude from analysis of Department and Attrition, here also HR educational background employees have least Attrition."
   ]
  },
  {
   "cell_type": "code",
   "execution_count": 39,
   "id": "b7d6f955",
   "metadata": {},
   "outputs": [],
   "source": [
    "df.EducationField = df.EducationField.map({'Medical':2 , 'Life Sciences':1 , 'Marketing':3 , 'Technical Degree':4 , 'Other':5})"
   ]
  },
  {
   "cell_type": "code",
   "execution_count": 40,
   "id": "21e5a404",
   "metadata": {},
   "outputs": [],
   "source": [
    "df.EducationField.fillna(df.EducationField.median() , inplace = True)"
   ]
  },
  {
   "cell_type": "code",
   "execution_count": 41,
   "id": "ec3981ff",
   "metadata": {},
   "outputs": [
    {
     "data": {
      "text/plain": [
       "0.010576348822591126"
      ]
     },
     "execution_count": 41,
     "metadata": {},
     "output_type": "execute_result"
    }
   ],
   "source": [
    "chi2_contingency(pd.crosstab(df.Attrition , df.EducationField))[1]"
   ]
  },
  {
   "cell_type": "markdown",
   "id": "237f1d02",
   "metadata": {},
   "source": [
    "## Employee Count"
   ]
  },
  {
   "cell_type": "code",
   "execution_count": 42,
   "id": "aed2aea6",
   "metadata": {},
   "outputs": [
    {
     "data": {
      "text/plain": [
       "1    1470\n",
       "Name: EmployeeCount, dtype: int64"
      ]
     },
     "execution_count": 42,
     "metadata": {},
     "output_type": "execute_result"
    }
   ],
   "source": [
    "df.EmployeeCount.value_counts()     "
   ]
  },
  {
   "cell_type": "code",
   "execution_count": 43,
   "id": "7374e2be",
   "metadata": {},
   "outputs": [],
   "source": [
    "df.drop(['EmployeeCount'] , axis = 1 , inplace = True)"
   ]
  },
  {
   "cell_type": "markdown",
   "id": "b9ef23eb",
   "metadata": {},
   "source": [
    "## Employee Number"
   ]
  },
  {
   "cell_type": "code",
   "execution_count": 44,
   "id": "8c1c2f3b",
   "metadata": {},
   "outputs": [
    {
     "data": {
      "text/plain": [
       "1       1\n",
       "1391    1\n",
       "1389    1\n",
       "1387    1\n",
       "1383    1\n",
       "       ..\n",
       "659     1\n",
       "657     1\n",
       "656     1\n",
       "655     1\n",
       "2068    1\n",
       "Name: EmployeeNumber, Length: 1470, dtype: int64"
      ]
     },
     "execution_count": 44,
     "metadata": {},
     "output_type": "execute_result"
    }
   ],
   "source": [
    "df.EmployeeNumber.value_counts()"
   ]
  },
  {
   "cell_type": "code",
   "execution_count": 45,
   "id": "315c5050",
   "metadata": {},
   "outputs": [],
   "source": [
    "df.drop(['EmployeeNumber'] , axis = 1 , inplace = True)"
   ]
  },
  {
   "cell_type": "markdown",
   "id": "96cf6002",
   "metadata": {},
   "source": [
    "## Environment Satisfaction~It is that employee satisfied with their environmentof office (rate)"
   ]
  },
  {
   "cell_type": "code",
   "execution_count": 46,
   "id": "8c4ab9da",
   "metadata": {},
   "outputs": [
    {
     "data": {
      "text/plain": [
       "3    453\n",
       "4    446\n",
       "2    287\n",
       "1    284\n",
       "Name: EnvironmentSatisfaction, dtype: int64"
      ]
     },
     "execution_count": 46,
     "metadata": {},
     "output_type": "execute_result"
    }
   ],
   "source": [
    "df.EnvironmentSatisfaction.value_counts()"
   ]
  },
  {
   "cell_type": "markdown",
   "id": "5b7eef0e",
   "metadata": {},
   "source": [
    "1 'Low',\n",
    "2 'Medium',\n",
    "3 'High',\n",
    "4 'Very High'."
   ]
  },
  {
   "cell_type": "code",
   "execution_count": 47,
   "id": "cafb3086",
   "metadata": {},
   "outputs": [
    {
     "data": {
      "text/plain": [
       "<AxesSubplot:xlabel='EnvironmentSatisfaction', ylabel='count'>"
      ]
     },
     "execution_count": 47,
     "metadata": {},
     "output_type": "execute_result"
    },
    {
     "data": {
      "image/png": "[encoded data removed]",
      "text/plain": [
       "<Figure size 432x288 with 1 Axes>"
      ]
     },
     "metadata": {
      "needs_background": "light"
     },
     "output_type": "display_data"
    }
   ],
   "source": [
    "sns.countplot(x = df.EnvironmentSatisfaction , hue = df.Attrition)"
   ]
  },
  {
   "cell_type": "markdown",
   "id": "83c4c6b8",
   "metadata": {},
   "source": [
    "    • Increase in rate of Environment satisfaction gives rise to increase in Attrition'No'"
   ]
  },
  {
   "cell_type": "code",
   "execution_count": 48,
   "id": "6043926b",
   "metadata": {},
   "outputs": [
    {
     "name": "stdout",
     "output_type": "stream",
     "text": [
      "               df     sum_sq   mean_sq         F   PR(>F)\n",
      "Attrition     1.0    18.7546  18.75460  15.85521  0.00007\n",
      "Residual   1468.0  1736.4488   1.18287       NaN      NaN\n"
     ]
    }
   ],
   "source": [
    "annova = ols('EnvironmentSatisfaction ~ Attrition' , data = df).fit()\n",
    "an = sm.stats.anova_lm(annova)\n",
    "print(an.round(decimals = 5))"
   ]
  },
  {
   "cell_type": "markdown",
   "id": "c07f9ab1",
   "metadata": {},
   "source": [
    "## Gender"
   ]
  },
  {
   "cell_type": "code",
   "execution_count": 49,
   "id": "a91b4820",
   "metadata": {},
   "outputs": [
    {
     "data": {
      "text/plain": [
       "Male      882\n",
       "Female    588\n",
       "Name: Gender, dtype: int64"
      ]
     },
     "execution_count": 49,
     "metadata": {},
     "output_type": "execute_result"
    }
   ],
   "source": [
    "df.Gender.value_counts()"
   ]
  },
  {
   "cell_type": "code",
   "execution_count": 50,
   "id": "53d6c626",
   "metadata": {},
   "outputs": [
    {
     "data": {
      "text/plain": [
       "<AxesSubplot:xlabel='Gender', ylabel='count'>"
      ]
     },
     "execution_count": 50,
     "metadata": {},
     "output_type": "execute_result"
    },
    {
     "data": {
      "image/png": "[encoded data removed]",
      "text/plain": [
       "<Figure size 432x288 with 1 Axes>"
      ]
     },
     "metadata": {
      "needs_background": "light"
     },
     "output_type": "display_data"
    }
   ],
   "source": [
    "sns.countplot(x = 'Gender' , hue = 'Attrition' , data = df , palette = 'Set3')"
   ]
  },
  {
   "cell_type": "markdown",
   "id": "70c1f530",
   "metadata": {},
   "source": [
    "    • Male employees are more as compared to Females.\n",
    "    • Males are more likely to quit the job rather than Females."
   ]
  },
  {
   "cell_type": "code",
   "execution_count": 51,
   "id": "b1050651",
   "metadata": {},
   "outputs": [],
   "source": [
    "#Mapping\n",
    "df.Gender = df.Gender.map({'Male':2 , 'Female':1})"
   ]
  },
  {
   "cell_type": "code",
   "execution_count": 52,
   "id": "34e4ef49",
   "metadata": {},
   "outputs": [
    {
     "data": {
      "text/plain": [
       "0.29057244902890855"
      ]
     },
     "execution_count": 52,
     "metadata": {},
     "output_type": "execute_result"
    }
   ],
   "source": [
    "chi2_contingency(pd.crosstab(df.Attrition , df.Gender))[1]"
   ]
  },
  {
   "cell_type": "code",
   "execution_count": 53,
   "id": "4b204c6a",
   "metadata": {},
   "outputs": [],
   "source": [
    "df.drop(['Gender'] , axis = 1 , inplace = True)"
   ]
  },
  {
   "cell_type": "markdown",
   "id": "d2174d96",
   "metadata": {},
   "source": [
    "## Hourly Rate~Rating given to employee on hourly basis"
   ]
  },
  {
   "cell_type": "code",
   "execution_count": 54,
   "id": "51d66a30",
   "metadata": {
    "scrolled": true
   },
   "outputs": [
    {
     "data": {
      "text/plain": [
       "66    29\n",
       "98    28\n",
       "42    28\n",
       "48    28\n",
       "84    28\n",
       "      ..\n",
       "31    15\n",
       "53    14\n",
       "68    14\n",
       "38    13\n",
       "34    12\n",
       "Name: HourlyRate, Length: 71, dtype: int64"
      ]
     },
     "execution_count": 54,
     "metadata": {},
     "output_type": "execute_result"
    }
   ],
   "source": [
    "df.HourlyRate.value_counts()"
   ]
  },
  {
   "cell_type": "code",
   "execution_count": 55,
   "id": "f0251c43",
   "metadata": {},
   "outputs": [
    {
     "data": {
      "text/plain": [
       "<AxesSubplot:xlabel='HourlyRate', ylabel='Density'>"
      ]
     },
     "execution_count": 55,
     "metadata": {},
     "output_type": "execute_result"
    },
    {
     "data": {
      "image/png": "[encoded data removed]",
      "text/plain": [
       "<Figure size 432x288 with 1 Axes>"
      ]
     },
     "metadata": {
      "needs_background": "light"
     },
     "output_type": "display_data"
    }
   ],
   "source": [
    "sns.distplot(df.HourlyRate)"
   ]
  },
  {
   "cell_type": "code",
   "execution_count": 56,
   "id": "a61ab58b",
   "metadata": {},
   "outputs": [
    {
     "data": {
      "text/plain": [
       "<AxesSubplot:xlabel='HourlyRate'>"
      ]
     },
     "execution_count": 56,
     "metadata": {},
     "output_type": "execute_result"
    },
    {
     "data": {
      "image/png": "[encoded data removed]",
      "text/plain": [
       "<Figure size 432x288 with 1 Axes>"
      ]
     },
     "metadata": {
      "needs_background": "light"
     },
     "output_type": "display_data"
    }
   ],
   "source": [
    "sns.boxplot(df.HourlyRate)"
   ]
  },
  {
   "cell_type": "code",
   "execution_count": 57,
   "id": "f0cd59fb",
   "metadata": {},
   "outputs": [
    {
     "name": "stdout",
     "output_type": "stream",
     "text": [
      "               df        sum_sq    mean_sq       F   PR(>F)\n",
      "Attrition     1.0      28.45042   28.45042  0.0688  0.79313\n",
      "Residual   1468.0  607088.13461  413.54778     NaN      NaN\n"
     ]
    }
   ],
   "source": [
    "annova = ols('HourlyRate ~ Attrition' , data = df).fit()\n",
    "an = sm.stats.anova_lm(annova)\n",
    "print(an.round(decimals = 5))"
   ]
  },
  {
   "cell_type": "code",
   "execution_count": 58,
   "id": "f3e05e98",
   "metadata": {},
   "outputs": [],
   "source": [
    "df.drop(['HourlyRate'] , axis = 1 , inplace = True)"
   ]
  },
  {
   "cell_type": "markdown",
   "id": "1927f9b8",
   "metadata": {},
   "source": [
    "## Job Involvement~How much employee is involved in his work(rate)"
   ]
  },
  {
   "cell_type": "code",
   "execution_count": 59,
   "id": "eb3361ff",
   "metadata": {
    "scrolled": false
   },
   "outputs": [
    {
     "data": {
      "text/plain": [
       "3    868\n",
       "2    375\n",
       "4    144\n",
       "1     83\n",
       "Name: JobInvolvement, dtype: int64"
      ]
     },
     "execution_count": 59,
     "metadata": {},
     "output_type": "execute_result"
    }
   ],
   "source": [
    "df.JobInvolvement.value_counts()"
   ]
  },
  {
   "cell_type": "markdown",
   "id": "763713e1",
   "metadata": {},
   "source": [
    "1 'Low',\n",
    "2 'Medium',\n",
    "3 'High',\n",
    "4 'Very High'."
   ]
  },
  {
   "cell_type": "code",
   "execution_count": 60,
   "id": "ee9cb893",
   "metadata": {},
   "outputs": [
    {
     "data": {
      "text/plain": [
       "<AxesSubplot:xlabel='JobInvolvement', ylabel='count'>"
      ]
     },
     "execution_count": 60,
     "metadata": {},
     "output_type": "execute_result"
    },
    {
     "data": {
      "image/png": "[encoded data removed]",
      "text/plain": [
       "<Figure size 432x288 with 1 Axes>"
      ]
     },
     "metadata": {
      "needs_background": "light"
     },
     "output_type": "display_data"
    }
   ],
   "source": [
    "sns.countplot(x = df.JobInvolvement , hue = df.Attrition)"
   ]
  },
  {
   "cell_type": "markdown",
   "id": "79004c7d",
   "metadata": {},
   "source": [
    " • The employees who involved in job more than sufficient are more likely to quit or we can say that they have more pressure of work\n",
    "\n",
    " • Somehow, there are some emp. who are not involved fully in there job but still they are likely to quit."
   ]
  },
  {
   "cell_type": "code",
   "execution_count": 61,
   "id": "179f987b",
   "metadata": {},
   "outputs": [
    {
     "name": "stdout",
     "output_type": "stream",
     "text": [
      "               df     sum_sq   mean_sq         F  PR(>F)\n",
      "Attrition     1.0   12.57302  12.57302  25.24199     0.0\n",
      "Residual   1468.0  731.20997   0.49810       NaN     NaN\n"
     ]
    }
   ],
   "source": [
    "annova = ols('JobInvolvement ~ Attrition' , data = df).fit()\n",
    "an = sm.stats.anova_lm(annova)\n",
    "print(an.round(decimals = 5))"
   ]
  },
  {
   "cell_type": "markdown",
   "id": "8ae0d007",
   "metadata": {},
   "source": [
    "## Job Level~Level of job"
   ]
  },
  {
   "cell_type": "code",
   "execution_count": 62,
   "id": "f1bf3dce",
   "metadata": {},
   "outputs": [
    {
     "data": {
      "text/plain": [
       "1    543\n",
       "2    534\n",
       "3    218\n",
       "4    106\n",
       "5     69\n",
       "Name: JobLevel, dtype: int64"
      ]
     },
     "execution_count": 62,
     "metadata": {},
     "output_type": "execute_result"
    }
   ],
   "source": [
    "df.JobLevel.value_counts()"
   ]
  },
  {
   "cell_type": "code",
   "execution_count": 63,
   "id": "f4d8152f",
   "metadata": {},
   "outputs": [
    {
     "data": {
      "text/plain": [
       "<AxesSubplot:xlabel='JobLevel', ylabel='count'>"
      ]
     },
     "execution_count": 63,
     "metadata": {},
     "output_type": "execute_result"
    },
    {
     "data": {
      "image/png": "[encoded data removed]",
      "text/plain": [
       "<Figure size 432x288 with 1 Axes>"
      ]
     },
     "metadata": {
      "needs_background": "light"
     },
     "output_type": "display_data"
    }
   ],
   "source": [
    "sns.countplot(x = df.JobLevel , hue = df.Attrition)"
   ]
  },
  {
   "cell_type": "markdown",
   "id": "22e7ce17",
   "metadata": {},
   "source": [
    "    • Increase in job level,decrease in chances to leaving the company for employees"
   ]
  },
  {
   "cell_type": "code",
   "execution_count": 64,
   "id": "c298a4de",
   "metadata": {},
   "outputs": [
    {
     "name": "stdout",
     "output_type": "stream",
     "text": [
      "               df      sum_sq   mean_sq         F  PR(>F)\n",
      "Attrition     1.0    51.47324  51.47324  43.21534     0.0\n",
      "Residual   1468.0  1748.51588   1.19109       NaN     NaN\n"
     ]
    }
   ],
   "source": [
    "annova = ols('JobLevel ~ Attrition' , data = df).fit()\n",
    "an = sm.stats.anova_lm(annova)\n",
    "print(an.round(decimals = 5))"
   ]
  },
  {
   "cell_type": "markdown",
   "id": "afc79cfd",
   "metadata": {},
   "source": [
    "## Job Role"
   ]
  },
  {
   "cell_type": "code",
   "execution_count": 65,
   "id": "d0aa5add",
   "metadata": {},
   "outputs": [
    {
     "data": {
      "text/plain": [
       "Sales Executive              326\n",
       "Research Scientist           292\n",
       "Laboratory Technician        259\n",
       "Manufacturing Director       145\n",
       "Healthcare Representative    131\n",
       "Manager                      102\n",
       "Sales Representative          83\n",
       "Research Director             80\n",
       "Human Resources               52\n",
       "Name: JobRole, dtype: int64"
      ]
     },
     "execution_count": 65,
     "metadata": {},
     "output_type": "execute_result"
    }
   ],
   "source": [
    "df.JobRole.value_counts()"
   ]
  },
  {
   "cell_type": "code",
   "execution_count": 66,
   "id": "d7de085c",
   "metadata": {},
   "outputs": [
    {
     "data": {
      "text/plain": [
       "<AxesSubplot:xlabel='JobRole', ylabel='count'>"
      ]
     },
     "execution_count": 66,
     "metadata": {},
     "output_type": "execute_result"
    },
    {
     "data": {
      "image/png": "[encoded data removed]",
      "text/plain": [
       "<Figure size 432x288 with 1 Axes>"
      ]
     },
     "metadata": {
      "needs_background": "light"
     },
     "output_type": "display_data"
    }
   ],
   "source": [
    "sns.countplot(x = 'JobRole' , hue = 'Attrition' , data = df )"
   ]
  },
  {
   "cell_type": "markdown",
   "id": "44aab8c7",
   "metadata": {},
   "source": [
    " • There are less no of Research Director who leaves the company\n",
    "\n",
    " • Laboratory Technician. Sales Executive and Research Scientist are the top 3 job roles in which emloyees have thier Attrition \"Yes\"\n",
    "\n",
    " • Apart from these it can also seen that there are more number of employees in Sales Executive job role"
   ]
  },
  {
   "cell_type": "code",
   "execution_count": 67,
   "id": "530de7b1",
   "metadata": {},
   "outputs": [],
   "source": [
    "#Label Encoder\n",
    "from sklearn.preprocessing import LabelEncoder\n",
    "lr1 = LabelEncoder()\n",
    "df['JobRole'] = lr1.fit_transform(df['JobRole'])"
   ]
  },
  {
   "cell_type": "code",
   "execution_count": 68,
   "id": "6170724b",
   "metadata": {},
   "outputs": [
    {
     "data": {
      "text/plain": [
       "2.752481638050657e-15"
      ]
     },
     "execution_count": 68,
     "metadata": {},
     "output_type": "execute_result"
    }
   ],
   "source": [
    "chi2_contingency(pd.crosstab(df.Attrition , df.JobRole))[1]"
   ]
  },
  {
   "cell_type": "markdown",
   "id": "27082656",
   "metadata": {},
   "source": [
    "## Job Satisfaction~It is that employee satisfied with their job (rate)"
   ]
  },
  {
   "cell_type": "code",
   "execution_count": 69,
   "id": "3834ffc3",
   "metadata": {},
   "outputs": [
    {
     "data": {
      "text/plain": [
       "4    459\n",
       "3    442\n",
       "1    289\n",
       "2    280\n",
       "Name: JobSatisfaction, dtype: int64"
      ]
     },
     "execution_count": 69,
     "metadata": {},
     "output_type": "execute_result"
    }
   ],
   "source": [
    "df.JobSatisfaction.value_counts()"
   ]
  },
  {
   "cell_type": "markdown",
   "id": "fff9c707",
   "metadata": {},
   "source": [
    "1 'Low',\n",
    "2 'Medium',\n",
    "3 'High',\n",
    "4 'Very High'."
   ]
  },
  {
   "cell_type": "code",
   "execution_count": 70,
   "id": "4219f3af",
   "metadata": {},
   "outputs": [
    {
     "data": {
      "text/plain": [
       "<AxesSubplot:xlabel='JobSatisfaction', ylabel='count'>"
      ]
     },
     "execution_count": 70,
     "metadata": {},
     "output_type": "execute_result"
    },
    {
     "data": {
      "image/png": "[encoded data removed]",
      "text/plain": [
       "<Figure size 432x288 with 1 Axes>"
      ]
     },
     "metadata": {
      "needs_background": "light"
     },
     "output_type": "display_data"
    }
   ],
   "source": [
    "sns.countplot(x = df.JobSatisfaction , hue = df.Attrition)"
   ]
  },
  {
   "cell_type": "markdown",
   "id": "55bc9916",
   "metadata": {},
   "source": [
    "    • Increase in rate of job satisfaction gives rise to increase in Attrition'No'"
   ]
  },
  {
   "cell_type": "code",
   "execution_count": 71,
   "id": "313650a8",
   "metadata": {},
   "outputs": [
    {
     "name": "stdout",
     "output_type": "stream",
     "text": [
      "               df     sum_sq   mean_sq      F   PR(>F)\n",
      "Attrition     1.0    19.1326  19.13260  15.89  0.00007\n",
      "Residual   1468.0  1767.5674   1.20406    NaN      NaN\n"
     ]
    }
   ],
   "source": [
    "annova = ols(' JobSatisfaction~ Attrition' , data = df).fit()\n",
    "an = sm.stats.anova_lm(annova)\n",
    "print(an.round(decimals = 5))"
   ]
  },
  {
   "cell_type": "markdown",
   "id": "7d3a9e1e",
   "metadata": {},
   "source": [
    "## Marital Status"
   ]
  },
  {
   "cell_type": "code",
   "execution_count": 72,
   "id": "b9cf24c1",
   "metadata": {},
   "outputs": [
    {
     "data": {
      "text/plain": [
       "Married     673\n",
       "Single      470\n",
       "Divorced    327\n",
       "Name: MaritalStatus, dtype: int64"
      ]
     },
     "execution_count": 72,
     "metadata": {},
     "output_type": "execute_result"
    }
   ],
   "source": [
    "df.MaritalStatus.value_counts()"
   ]
  },
  {
   "cell_type": "code",
   "execution_count": 73,
   "id": "83960515",
   "metadata": {},
   "outputs": [
    {
     "data": {
      "text/plain": [
       "<AxesSubplot:xlabel='MaritalStatus', ylabel='count'>"
      ]
     },
     "execution_count": 73,
     "metadata": {},
     "output_type": "execute_result"
    },
    {
     "data": {
      "image/png": "[encoded data removed]",
      "text/plain": [
       "<Figure size 432x288 with 1 Axes>"
      ]
     },
     "metadata": {
      "needs_background": "light"
     },
     "output_type": "display_data"
    }
   ],
   "source": [
    "sns.countplot(x = 'MaritalStatus' , hue = 'Attrition' , data = df , palette = 'Spectral')"
   ]
  },
  {
   "cell_type": "code",
   "execution_count": 74,
   "id": "b8fb4627",
   "metadata": {},
   "outputs": [],
   "source": [
    "df.MaritalStatus = df.MaritalStatus.map({'Married':1 , 'Single':2 ,'Divorced':3})"
   ]
  },
  {
   "cell_type": "code",
   "execution_count": 75,
   "id": "ffc3725d",
   "metadata": {},
   "outputs": [
    {
     "data": {
      "text/plain": [
       "9.45551106034083e-11"
      ]
     },
     "execution_count": 75,
     "metadata": {},
     "output_type": "execute_result"
    }
   ],
   "source": [
    "chi2_contingency(pd.crosstab(df.Attrition , df.MaritalStatus))[1]"
   ]
  },
  {
   "cell_type": "markdown",
   "id": "b24fb024",
   "metadata": {},
   "source": [
    "## Monthly Income~ Monthly Salary of an employee"
   ]
  },
  {
   "cell_type": "code",
   "execution_count": 76,
   "id": "a524017f",
   "metadata": {},
   "outputs": [
    {
     "data": {
      "text/plain": [
       "2342     4\n",
       "6142     3\n",
       "2741     3\n",
       "2559     3\n",
       "2610     3\n",
       "        ..\n",
       "7104     1\n",
       "2773     1\n",
       "19513    1\n",
       "3447     1\n",
       "4404     1\n",
       "Name: MonthlyIncome, Length: 1349, dtype: int64"
      ]
     },
     "execution_count": 76,
     "metadata": {},
     "output_type": "execute_result"
    }
   ],
   "source": [
    "df.MonthlyIncome.value_counts()"
   ]
  },
  {
   "cell_type": "code",
   "execution_count": 77,
   "id": "68584167",
   "metadata": {},
   "outputs": [
    {
     "data": {
      "text/plain": [
       "<AxesSubplot:xlabel='MonthlyIncome', ylabel='Count'>"
      ]
     },
     "execution_count": 77,
     "metadata": {},
     "output_type": "execute_result"
    },
    {
     "data": {
      "image/png": "[encoded data removed]",
      "text/plain": [
       "<Figure size 432x288 with 1 Axes>"
      ]
     },
     "metadata": {
      "needs_background": "light"
     },
     "output_type": "display_data"
    }
   ],
   "source": [
    "sns.histplot(x = df.MonthlyIncome , hue = df.Attrition)"
   ]
  },
  {
   "cell_type": "markdown",
   "id": "6f4e5094",
   "metadata": {},
   "source": [
    "    • Higher the monthly income give rise to less Attrition\n",
    "    • Employees who have their income aprox.2.5k are more likely to quite their job, because 2.5k is the least range of                 income"
   ]
  },
  {
   "cell_type": "code",
   "execution_count": 78,
   "id": "dc2373f1",
   "metadata": {},
   "outputs": [
    {
     "data": {
      "text/plain": [
       "<AxesSubplot:xlabel='MonthlyIncome'>"
      ]
     },
     "execution_count": 78,
     "metadata": {},
     "output_type": "execute_result"
    },
    {
     "data": {
      "image/png": "[encoded data removed]",
      "text/plain": [
       "<Figure size 432x288 with 1 Axes>"
      ]
     },
     "metadata": {
      "needs_background": "light"
     },
     "output_type": "display_data"
    }
   ],
   "source": [
    "sns.boxplot(df.MonthlyIncome)"
   ]
  },
  {
   "cell_type": "code",
   "execution_count": 79,
   "id": "d4475a95",
   "metadata": {},
   "outputs": [],
   "source": [
    "q1 = df.MonthlyIncome.quantile(0.25)\n",
    "q3 = df.MonthlyIncome.quantile(0.75)\n",
    "iqr = q3 - q1\n",
    "u_b_MonthlyIncome = q3 + (1.5*iqr)\n",
    "l_b_MonthlyIncome = q1 - (1.5*iqr)"
   ]
  },
  {
   "cell_type": "code",
   "execution_count": 80,
   "id": "333dcc9e",
   "metadata": {},
   "outputs": [],
   "source": [
    "df.MonthlyIncome = np.where(df.MonthlyIncome>u_b_MonthlyIncome,u_b_MonthlyIncome, np.where(df.MonthlyIncome <l_b_MonthlyIncome, l_b_MonthlyIncome, df.MonthlyIncome))"
   ]
  },
  {
   "cell_type": "code",
   "execution_count": 81,
   "id": "b6b6c218",
   "metadata": {},
   "outputs": [
    {
     "data": {
      "text/plain": [
       "<AxesSubplot:xlabel='MonthlyIncome'>"
      ]
     },
     "execution_count": 81,
     "metadata": {},
     "output_type": "execute_result"
    },
    {
     "data": {
      "image/png": "[encoded data removed]",
      "text/plain": [
       "<Figure size 432x288 with 1 Axes>"
      ]
     },
     "metadata": {
      "needs_background": "light"
     },
     "output_type": "display_data"
    }
   ],
   "source": [
    "sns.boxplot(df.MonthlyIncome)"
   ]
  },
  {
   "cell_type": "code",
   "execution_count": 82,
   "id": "817c920e",
   "metadata": {},
   "outputs": [
    {
     "name": "stdout",
     "output_type": "stream",
     "text": [
      "               df        sum_sq       mean_sq         F  PR(>F)\n",
      "Attrition     1.0  7.559031e+08  7.559031e+08  40.97123     0.0\n",
      "Residual   1468.0  2.708402e+10  1.844961e+07       NaN     NaN\n"
     ]
    }
   ],
   "source": [
    "annova = ols('MonthlyIncome ~ Attrition' , data = df).fit()\n",
    "an = sm.stats.anova_lm(annova)\n",
    "print(an.round(decimals = 5))"
   ]
  },
  {
   "cell_type": "markdown",
   "id": "a5750823",
   "metadata": {},
   "source": [
    "## Monthly Rate~Rating given to employee on monthly basis"
   ]
  },
  {
   "cell_type": "code",
   "execution_count": 83,
   "id": "c1a05725",
   "metadata": {},
   "outputs": [
    {
     "data": {
      "text/plain": [
       "4223     3\n",
       "9150     3\n",
       "9558     2\n",
       "12858    2\n",
       "22074    2\n",
       "        ..\n",
       "14561    1\n",
       "2671     1\n",
       "5718     1\n",
       "11757    1\n",
       "10228    1\n",
       "Name: MonthlyRate, Length: 1427, dtype: int64"
      ]
     },
     "execution_count": 83,
     "metadata": {},
     "output_type": "execute_result"
    }
   ],
   "source": [
    "df.MonthlyRate.value_counts()"
   ]
  },
  {
   "cell_type": "code",
   "execution_count": 84,
   "id": "2a003a60",
   "metadata": {},
   "outputs": [
    {
     "data": {
      "text/plain": [
       "<AxesSubplot:xlabel='MonthlyRate', ylabel='Density'>"
      ]
     },
     "execution_count": 84,
     "metadata": {},
     "output_type": "execute_result"
    },
    {
     "data": {
      "image/png": "[encoded data removed]",
      "text/plain": [
       "<Figure size 432x288 with 1 Axes>"
      ]
     },
     "metadata": {
      "needs_background": "light"
     },
     "output_type": "display_data"
    }
   ],
   "source": [
    "sns.distplot(df.MonthlyRate)"
   ]
  },
  {
   "cell_type": "code",
   "execution_count": 85,
   "id": "374a9f27",
   "metadata": {},
   "outputs": [
    {
     "data": {
      "text/plain": [
       "<AxesSubplot:xlabel='MonthlyRate'>"
      ]
     },
     "execution_count": 85,
     "metadata": {},
     "output_type": "execute_result"
    },
    {
     "data": {
      "image/png": "[encoded data removed]",
      "text/plain": [
       "<Figure size 432x288 with 1 Axes>"
      ]
     },
     "metadata": {
      "needs_background": "light"
     },
     "output_type": "display_data"
    }
   ],
   "source": [
    "sns.boxplot(df.MonthlyRate)"
   ]
  },
  {
   "cell_type": "code",
   "execution_count": 86,
   "id": "47d36397",
   "metadata": {},
   "outputs": [
    {
     "name": "stdout",
     "output_type": "stream",
     "text": [
      "               df        sum_sq       mean_sq        F   PR(>F)\n",
      "Attrition     1.0  1.712754e+07  1.712754e+07  0.33792  0.56112\n",
      "Residual   1468.0  7.440664e+10  5.068572e+07      NaN      NaN\n"
     ]
    }
   ],
   "source": [
    "annova = ols('MonthlyRate ~ Attrition' , data = df).fit()\n",
    "an = sm.stats.anova_lm(annova)\n",
    "print(an.round(decimals = 5))"
   ]
  },
  {
   "cell_type": "code",
   "execution_count": 87,
   "id": "a77aff09",
   "metadata": {},
   "outputs": [],
   "source": [
    "df.drop(['MonthlyRate'] , axis = 1 , inplace = True)"
   ]
  },
  {
   "cell_type": "markdown",
   "id": "2706e6c0",
   "metadata": {},
   "source": [
    "## Num Companies Worked"
   ]
  },
  {
   "cell_type": "code",
   "execution_count": 88,
   "id": "a6a24ab5",
   "metadata": {},
   "outputs": [
    {
     "data": {
      "text/plain": [
       "1    521\n",
       "0    197\n",
       "3    159\n",
       "2    146\n",
       "4    139\n",
       "7     74\n",
       "6     70\n",
       "5     63\n",
       "9     52\n",
       "8     49\n",
       "Name: NumCompaniesWorked, dtype: int64"
      ]
     },
     "execution_count": 88,
     "metadata": {},
     "output_type": "execute_result"
    }
   ],
   "source": [
    "df.NumCompaniesWorked.value_counts()"
   ]
  },
  {
   "cell_type": "code",
   "execution_count": 89,
   "id": "7ddda11b",
   "metadata": {},
   "outputs": [
    {
     "data": {
      "text/plain": [
       "<AxesSubplot:xlabel='NumCompaniesWorked', ylabel='Count'>"
      ]
     },
     "execution_count": 89,
     "metadata": {},
     "output_type": "execute_result"
    },
    {
     "data": {
      "image/png": "[encoded data removed]",
      "text/plain": [
       "<Figure size 432x288 with 1 Axes>"
      ]
     },
     "metadata": {
      "needs_background": "light"
     },
     "output_type": "display_data"
    }
   ],
   "source": [
    "sns.histplot(x = df.NumCompaniesWorked , hue = df.Attrition)"
   ]
  },
  {
   "cell_type": "markdown",
   "id": "14a00d1a",
   "metadata": {},
   "source": [
    "      • only that employees (no. of emp.=100) who worked with 1 company before have most Attrition, rest have similiar data"
   ]
  },
  {
   "cell_type": "code",
   "execution_count": 90,
   "id": "9fb81a9c",
   "metadata": {},
   "outputs": [
    {
     "name": "stdout",
     "output_type": "stream",
     "text": [
      "               df      sum_sq   mean_sq        F   PR(>F)\n",
      "Attrition     1.0    17.34057  17.34057  2.78229  0.09553\n",
      "Residual   1468.0  9149.29141   6.23249      NaN      NaN\n"
     ]
    }
   ],
   "source": [
    "annova = ols(' NumCompaniesWorked~ Attrition' , data = df).fit()\n",
    "an = sm.stats.anova_lm(annova)\n",
    "print(an.round(decimals = 5))"
   ]
  },
  {
   "cell_type": "code",
   "execution_count": 91,
   "id": "79712d1e",
   "metadata": {},
   "outputs": [],
   "source": [
    "df.drop(['NumCompaniesWorked'] , axis = 1 , inplace = True)"
   ]
  },
  {
   "cell_type": "markdown",
   "id": "c462940e",
   "metadata": {},
   "source": [
    "## Over18"
   ]
  },
  {
   "cell_type": "code",
   "execution_count": 92,
   "id": "2d5f6437",
   "metadata": {},
   "outputs": [
    {
     "data": {
      "text/plain": [
       "Y    1470\n",
       "Name: Over18, dtype: int64"
      ]
     },
     "execution_count": 92,
     "metadata": {},
     "output_type": "execute_result"
    }
   ],
   "source": [
    "df.Over18.value_counts()"
   ]
  },
  {
   "cell_type": "code",
   "execution_count": 93,
   "id": "5c808056",
   "metadata": {},
   "outputs": [],
   "source": [
    "df.drop(['Over18'] , axis = 1 , inplace = True)"
   ]
  },
  {
   "cell_type": "markdown",
   "id": "c21dfb3f",
   "metadata": {},
   "source": [
    "## Over Time"
   ]
  },
  {
   "cell_type": "code",
   "execution_count": 94,
   "id": "dbf081eb",
   "metadata": {},
   "outputs": [
    {
     "data": {
      "text/plain": [
       "No     1054\n",
       "Yes     416\n",
       "Name: OverTime, dtype: int64"
      ]
     },
     "execution_count": 94,
     "metadata": {},
     "output_type": "execute_result"
    }
   ],
   "source": [
    "df.OverTime.value_counts()"
   ]
  },
  {
   "cell_type": "code",
   "execution_count": 95,
   "id": "a7b145dd",
   "metadata": {},
   "outputs": [
    {
     "data": {
      "text/plain": [
       "<AxesSubplot:xlabel='OverTime', ylabel='count'>"
      ]
     },
     "execution_count": 95,
     "metadata": {},
     "output_type": "execute_result"
    },
    {
     "data": {
      "image/png": "[encoded data removed]",
      "text/plain": [
       "<Figure size 432x288 with 1 Axes>"
      ]
     },
     "metadata": {
      "needs_background": "light"
     },
     "output_type": "display_data"
    }
   ],
   "source": [
    "sns.countplot(x = 'OverTime' , hue = 'Attrition' , data = df)"
   ]
  },
  {
   "cell_type": "markdown",
   "id": "99f39a54",
   "metadata": {},
   "source": [
    "  • As for \"Attrition yes\", there is minor difference between the Employees who are doing overtime and who are not doing overtime\n",
    "  \n",
    "  • So we can say that Overtime feature is not much effecting Attrition \n",
    "  \n",
    "  • But we can conclude that most of employees are not doing overtime."
   ]
  },
  {
   "cell_type": "code",
   "execution_count": 96,
   "id": "ccfa6194",
   "metadata": {},
   "outputs": [],
   "source": [
    "df.OverTime = df.OverTime.map({'No':2 , 'Yes':1})"
   ]
  },
  {
   "cell_type": "code",
   "execution_count": 97,
   "id": "633fffb2",
   "metadata": {},
   "outputs": [
    {
     "data": {
      "text/plain": [
       "8.158423721538262e-21"
      ]
     },
     "execution_count": 97,
     "metadata": {},
     "output_type": "execute_result"
    }
   ],
   "source": [
    "chi2_contingency(pd.crosstab(df.Attrition,df.OverTime))[1]"
   ]
  },
  {
   "cell_type": "markdown",
   "id": "743cf5d9",
   "metadata": {},
   "source": [
    "## Percent Salary Hike~ How much percent salary is  increasing annually"
   ]
  },
  {
   "cell_type": "code",
   "execution_count": 98,
   "id": "cc611dcf",
   "metadata": {},
   "outputs": [
    {
     "data": {
      "text/plain": [
       "11    210\n",
       "13    209\n",
       "14    201\n",
       "12    198\n",
       "15    101\n",
       "18     89\n",
       "17     82\n",
       "16     78\n",
       "19     76\n",
       "22     56\n",
       "20     55\n",
       "21     48\n",
       "23     28\n",
       "24     21\n",
       "25     18\n",
       "Name: PercentSalaryHike, dtype: int64"
      ]
     },
     "execution_count": 98,
     "metadata": {},
     "output_type": "execute_result"
    }
   ],
   "source": [
    "df.PercentSalaryHike.value_counts()"
   ]
  },
  {
   "cell_type": "code",
   "execution_count": 99,
   "id": "dbffeab0",
   "metadata": {},
   "outputs": [
    {
     "data": {
      "text/plain": [
       "<AxesSubplot:xlabel='PercentSalaryHike', ylabel='Count'>"
      ]
     },
     "execution_count": 99,
     "metadata": {},
     "output_type": "execute_result"
    },
    {
     "data": {
      "image/png": "[encoded data removed]",
      "text/plain": [
       "<Figure size 432x288 with 1 Axes>"
      ]
     },
     "metadata": {
      "needs_background": "light"
     },
     "output_type": "display_data"
    }
   ],
   "source": [
    "sns.histplot(x = df.PercentSalaryHike , hue = df.Attrition)"
   ]
  },
  {
   "cell_type": "markdown",
   "id": "b4986f24",
   "metadata": {},
   "source": [
    "      • Higher the salary percentage hike, lesser the attrition"
   ]
  },
  {
   "cell_type": "code",
   "execution_count": 100,
   "id": "2d55c9a0",
   "metadata": {},
   "outputs": [
    {
     "data": {
      "text/plain": [
       "<AxesSubplot:xlabel='PercentSalaryHike'>"
      ]
     },
     "execution_count": 100,
     "metadata": {},
     "output_type": "execute_result"
    },
    {
     "data": {
      "image/png": "[encoded data removed]",
      "text/plain": [
       "<Figure size 432x288 with 1 Axes>"
      ]
     },
     "metadata": {
      "needs_background": "light"
     },
     "output_type": "display_data"
    }
   ],
   "source": [
    "sns.boxplot(df.PercentSalaryHike)"
   ]
  },
  {
   "cell_type": "code",
   "execution_count": 101,
   "id": "0c30b00a",
   "metadata": {},
   "outputs": [
    {
     "name": "stdout",
     "output_type": "stream",
     "text": [
      "               df       sum_sq   mean_sq        F   PR(>F)\n",
      "Attrition     1.0      3.57465   3.57465  0.26673  0.60561\n",
      "Residual   1468.0  19673.89202  13.40183      NaN      NaN\n"
     ]
    }
   ],
   "source": [
    "annova = ols('PercentSalaryHike ~ Attrition' , data = df).fit()\n",
    "an = sm.stats.anova_lm(annova)\n",
    "print(an.round(decimals = 5))"
   ]
  },
  {
   "cell_type": "code",
   "execution_count": 102,
   "id": "25419419",
   "metadata": {},
   "outputs": [],
   "source": [
    "df.drop(['PercentSalaryHike'] , axis = 1 , inplace = True)"
   ]
  },
  {
   "cell_type": "markdown",
   "id": "d13c8f95",
   "metadata": {},
   "source": [
    "## Performance Rating~How employee is performing according to his job"
   ]
  },
  {
   "cell_type": "code",
   "execution_count": 103,
   "id": "b04931b8",
   "metadata": {
    "scrolled": true
   },
   "outputs": [
    {
     "data": {
      "text/plain": [
       "3    1244\n",
       "4     226\n",
       "Name: PerformanceRating, dtype: int64"
      ]
     },
     "execution_count": 103,
     "metadata": {},
     "output_type": "execute_result"
    }
   ],
   "source": [
    "df.PerformanceRating.value_counts()"
   ]
  },
  {
   "cell_type": "markdown",
   "id": "c85a1117",
   "metadata": {},
   "source": [
    "1 'Low',\n",
    "2 'Good',\n",
    "3 'Excellent',\n",
    "4 'Outstanding'."
   ]
  },
  {
   "cell_type": "code",
   "execution_count": 104,
   "id": "4b997fea",
   "metadata": {},
   "outputs": [
    {
     "data": {
      "text/plain": [
       "<AxesSubplot:xlabel='PerformanceRating', ylabel='count'>"
      ]
     },
     "execution_count": 104,
     "metadata": {},
     "output_type": "execute_result"
    },
    {
     "data": {
      "image/png": "[encoded data removed]",
      "text/plain": [
       "<Figure size 432x288 with 1 Axes>"
      ]
     },
     "metadata": {
      "needs_background": "light"
     },
     "output_type": "display_data"
    }
   ],
   "source": [
    "sns.countplot(x = 'PerformanceRating' , hue = 'Attrition' , data = df)"
   ]
  },
  {
   "cell_type": "markdown",
   "id": "178603fb",
   "metadata": {},
   "source": [
    "• On an average, most of employees are moderately performed (because performance rating lies in 3-4)\n",
    "\n",
    "• However employes having less Performance rating are more likely to quit or we can say that company wants to fire that employees"
   ]
  },
  {
   "cell_type": "code",
   "execution_count": 105,
   "id": "be89d7c2",
   "metadata": {},
   "outputs": [
    {
     "data": {
      "text/plain": [
       "0.9900745465934576"
      ]
     },
     "execution_count": 105,
     "metadata": {},
     "output_type": "execute_result"
    }
   ],
   "source": [
    "chi2_contingency(pd.crosstab(df.Attrition , df.PerformanceRating))[1]"
   ]
  },
  {
   "cell_type": "code",
   "execution_count": 106,
   "id": "068114a9",
   "metadata": {},
   "outputs": [],
   "source": [
    "df.drop(['PerformanceRating'] , axis = 1 , inplace = True)"
   ]
  },
  {
   "cell_type": "markdown",
   "id": "e0dc6a53",
   "metadata": {},
   "source": [
    "## Relationship Satisfaction"
   ]
  },
  {
   "cell_type": "code",
   "execution_count": 107,
   "id": "a3d20b06",
   "metadata": {},
   "outputs": [
    {
     "data": {
      "text/plain": [
       "3    459\n",
       "4    432\n",
       "2    303\n",
       "1    276\n",
       "Name: RelationshipSatisfaction, dtype: int64"
      ]
     },
     "execution_count": 107,
     "metadata": {},
     "output_type": "execute_result"
    }
   ],
   "source": [
    "df.RelationshipSatisfaction.value_counts()"
   ]
  },
  {
   "cell_type": "markdown",
   "id": "6ab2edbb",
   "metadata": {},
   "source": [
    "1 'Low',\n",
    "2 'Medium',\n",
    "3 'High',\n",
    "4 'Very High'.\n"
   ]
  },
  {
   "cell_type": "code",
   "execution_count": 108,
   "id": "56412d6f",
   "metadata": {},
   "outputs": [
    {
     "data": {
      "text/plain": [
       "<AxesSubplot:xlabel='RelationshipSatisfaction', ylabel='count'>"
      ]
     },
     "execution_count": 108,
     "metadata": {},
     "output_type": "execute_result"
    },
    {
     "data": {
      "image/png": "[encoded data removed]",
      "text/plain": [
       "<Figure size 432x288 with 1 Axes>"
      ]
     },
     "metadata": {
      "needs_background": "light"
     },
     "output_type": "display_data"
    }
   ],
   "source": [
    "sns.countplot(df.RelationshipSatisfaction)"
   ]
  },
  {
   "cell_type": "code",
   "execution_count": 109,
   "id": "b125c067",
   "metadata": {},
   "outputs": [
    {
     "name": "stdout",
     "output_type": "stream",
     "text": [
      "               df      sum_sq  mean_sq        F   PR(>F)\n",
      "Attrition     1.0     3.61361  3.61361  3.09558  0.07871\n",
      "Residual   1468.0  1713.66598  1.16735      NaN      NaN\n"
     ]
    }
   ],
   "source": [
    "annova = ols('RelationshipSatisfaction ~ Attrition' , data = df).fit()\n",
    "an = sm.stats.anova_lm(annova)\n",
    "print(an.round(decimals = 5))"
   ]
  },
  {
   "cell_type": "code",
   "execution_count": 110,
   "id": "4d07c9d2",
   "metadata": {},
   "outputs": [],
   "source": [
    "df.drop(['RelationshipSatisfaction'] , axis = 1 , inplace = True)"
   ]
  },
  {
   "cell_type": "markdown",
   "id": "6ba4dd52",
   "metadata": {},
   "source": [
    "## Standard Hours"
   ]
  },
  {
   "cell_type": "code",
   "execution_count": 111,
   "id": "f2fb984e",
   "metadata": {},
   "outputs": [
    {
     "data": {
      "text/plain": [
       "80    1470\n",
       "Name: StandardHours, dtype: int64"
      ]
     },
     "execution_count": 111,
     "metadata": {},
     "output_type": "execute_result"
    }
   ],
   "source": [
    "df.StandardHours.value_counts()"
   ]
  },
  {
   "cell_type": "code",
   "execution_count": 112,
   "id": "6ff3cca4",
   "metadata": {},
   "outputs": [],
   "source": [
    "df.drop(['StandardHours'] , axis=1 , inplace=True)"
   ]
  },
  {
   "cell_type": "markdown",
   "id": "834bf80b",
   "metadata": {},
   "source": [
    "## Stock Option Level"
   ]
  },
  {
   "cell_type": "code",
   "execution_count": 113,
   "id": "d6798eb5",
   "metadata": {},
   "outputs": [
    {
     "data": {
      "text/plain": [
       "0    631\n",
       "1    596\n",
       "2    158\n",
       "3     85\n",
       "Name: StockOptionLevel, dtype: int64"
      ]
     },
     "execution_count": 113,
     "metadata": {},
     "output_type": "execute_result"
    }
   ],
   "source": [
    "df.StockOptionLevel.value_counts()"
   ]
  },
  {
   "cell_type": "code",
   "execution_count": 114,
   "id": "3f2b536c",
   "metadata": {},
   "outputs": [
    {
     "data": {
      "text/plain": [
       "<AxesSubplot:xlabel='StockOptionLevel', ylabel='count'>"
      ]
     },
     "execution_count": 114,
     "metadata": {},
     "output_type": "execute_result"
    },
    {
     "data": {
      "image/png": "[encoded data removed]",
      "text/plain": [
       "<Figure size 432x288 with 1 Axes>"
      ]
     },
     "metadata": {
      "needs_background": "light"
     },
     "output_type": "display_data"
    }
   ],
   "source": [
    "sns.countplot(x = df.StockOptionLevel , hue = df.Attrition)"
   ]
  },
  {
   "cell_type": "markdown",
   "id": "24c07c19",
   "metadata": {},
   "source": [
    "    • For the epms. who're not having stock option are likely to quit"
   ]
  },
  {
   "cell_type": "code",
   "execution_count": 115,
   "id": "be45f53b",
   "metadata": {},
   "outputs": [
    {
     "name": "stdout",
     "output_type": "stream",
     "text": [
      "               df      sum_sq   mean_sq        F  PR(>F)\n",
      "Attrition     1.0    20.06035  20.06035  28.1405     0.0\n",
      "Residual   1468.0  1046.48454   0.71286      NaN     NaN\n"
     ]
    }
   ],
   "source": [
    "annova = ols('StockOptionLevel ~ Attrition' , data = df).fit()\n",
    "an = sm.stats.anova_lm(annova)\n",
    "print(an.round(decimals = 5))"
   ]
  },
  {
   "cell_type": "markdown",
   "id": "0fbcb03d",
   "metadata": {},
   "source": [
    "## Total Working Years"
   ]
  },
  {
   "cell_type": "code",
   "execution_count": 116,
   "id": "2a3c1eaf",
   "metadata": {},
   "outputs": [
    {
     "data": {
      "text/plain": [
       "10    202\n",
       "6     125\n",
       "8     103\n",
       "9      96\n",
       "5      88\n",
       "7      81\n",
       "1      81\n",
       "4      63\n",
       "12     48\n",
       "3      42\n",
       "15     40\n",
       "16     37\n",
       "11     36\n",
       "13     36\n",
       "21     34\n",
       "17     33\n",
       "2      31\n",
       "14     31\n",
       "20     30\n",
       "18     27\n",
       "19     22\n",
       "23     22\n",
       "22     21\n",
       "24     18\n",
       "25     14\n",
       "28     14\n",
       "26     14\n",
       "0      11\n",
       "29     10\n",
       "31      9\n",
       "32      9\n",
       "30      7\n",
       "33      7\n",
       "27      7\n",
       "36      6\n",
       "34      5\n",
       "37      4\n",
       "35      3\n",
       "40      2\n",
       "38      1\n",
       "Name: TotalWorkingYears, dtype: int64"
      ]
     },
     "execution_count": 116,
     "metadata": {},
     "output_type": "execute_result"
    }
   ],
   "source": [
    "df.TotalWorkingYears.value_counts()"
   ]
  },
  {
   "cell_type": "code",
   "execution_count": 117,
   "id": "b295b707",
   "metadata": {},
   "outputs": [
    {
     "data": {
      "text/plain": [
       "<AxesSubplot:xlabel='TotalWorkingYears', ylabel='Density'>"
      ]
     },
     "execution_count": 117,
     "metadata": {},
     "output_type": "execute_result"
    },
    {
     "data": {
      "image/png": "[encoded data removed]",
      "text/plain": [
       "<Figure size 432x288 with 1 Axes>"
      ]
     },
     "metadata": {
      "needs_background": "light"
     },
     "output_type": "display_data"
    }
   ],
   "source": [
    "sns.distplot(df.TotalWorkingYears)"
   ]
  },
  {
   "cell_type": "code",
   "execution_count": 118,
   "id": "6302e577",
   "metadata": {},
   "outputs": [
    {
     "data": {
      "text/plain": [
       "<AxesSubplot:xlabel='TotalWorkingYears'>"
      ]
     },
     "execution_count": 118,
     "metadata": {},
     "output_type": "execute_result"
    },
    {
     "data": {
      "image/png": "[encoded data removed]",
      "text/plain": [
       "<Figure size 432x288 with 1 Axes>"
      ]
     },
     "metadata": {
      "needs_background": "light"
     },
     "output_type": "display_data"
    }
   ],
   "source": [
    "sns.boxplot(df.TotalWorkingYears)"
   ]
  },
  {
   "cell_type": "code",
   "execution_count": 119,
   "id": "eeb9891a",
   "metadata": {},
   "outputs": [],
   "source": [
    "q1 = df.TotalWorkingYears.quantile(0.25)\n",
    "q3 = df.TotalWorkingYears.quantile(0.75)\n",
    "iqr = q3 - q1\n",
    "u_b_TotalWorkingYears = q3 + (1.5*iqr)\n",
    "l_b_TotalWorkingYears = q1 - (1.5*iqr)"
   ]
  },
  {
   "cell_type": "code",
   "execution_count": 120,
   "id": "da789b8b",
   "metadata": {},
   "outputs": [],
   "source": [
    "df.TotalWorkingYears = np.where(df.TotalWorkingYears>u_b_TotalWorkingYears,u_b_TotalWorkingYears, np.where(df.TotalWorkingYears <l_b_TotalWorkingYears, l_b_TotalWorkingYears, df.TotalWorkingYears))"
   ]
  },
  {
   "cell_type": "code",
   "execution_count": 121,
   "id": "6ca92416",
   "metadata": {},
   "outputs": [
    {
     "data": {
      "text/plain": [
       "<AxesSubplot:xlabel='TotalWorkingYears'>"
      ]
     },
     "execution_count": 121,
     "metadata": {},
     "output_type": "execute_result"
    },
    {
     "data": {
      "image/png": "[encoded data removed]",
      "text/plain": [
       "<Figure size 432x288 with 1 Axes>"
      ]
     },
     "metadata": {
      "needs_background": "light"
     },
     "output_type": "display_data"
    }
   ],
   "source": [
    "sns.boxplot(df.TotalWorkingYears)"
   ]
  },
  {
   "cell_type": "code",
   "execution_count": 122,
   "id": "042eb9ca",
   "metadata": {},
   "outputs": [
    {
     "name": "stdout",
     "output_type": "stream",
     "text": [
      "               df       sum_sq     mean_sq         F  PR(>F)\n",
      "Attrition     1.0   2556.78507  2556.78507  49.51117     0.0\n",
      "Residual   1468.0  75808.35115    51.64057       NaN     NaN\n"
     ]
    }
   ],
   "source": [
    "annova = ols('TotalWorkingYears ~ Attrition' , data = df).fit()\n",
    "an = sm.stats.anova_lm(annova)\n",
    "print(an.round(decimals = 5))"
   ]
  },
  {
   "cell_type": "markdown",
   "id": "378bb85a",
   "metadata": {},
   "source": [
    "## Training Times LastYear"
   ]
  },
  {
   "cell_type": "code",
   "execution_count": 123,
   "id": "c819dd49",
   "metadata": {},
   "outputs": [
    {
     "data": {
      "text/plain": [
       "2    547\n",
       "3    491\n",
       "4    123\n",
       "5    119\n",
       "1     71\n",
       "6     65\n",
       "0     54\n",
       "Name: TrainingTimesLastYear, dtype: int64"
      ]
     },
     "execution_count": 123,
     "metadata": {},
     "output_type": "execute_result"
    }
   ],
   "source": [
    "df.TrainingTimesLastYear.value_counts()"
   ]
  },
  {
   "cell_type": "code",
   "execution_count": 124,
   "id": "5448368c",
   "metadata": {},
   "outputs": [
    {
     "data": {
      "text/plain": [
       "<AxesSubplot:xlabel='TrainingTimesLastYear', ylabel='count'>"
      ]
     },
     "execution_count": 124,
     "metadata": {},
     "output_type": "execute_result"
    },
    {
     "data": {
      "image/png": "[encoded data removed]",
      "text/plain": [
       "<Figure size 432x288 with 1 Axes>"
      ]
     },
     "metadata": {
      "needs_background": "light"
     },
     "output_type": "display_data"
    }
   ],
   "source": [
    "sns.countplot(df.TrainingTimesLastYear)"
   ]
  },
  {
   "cell_type": "code",
   "execution_count": 125,
   "id": "0a43a605",
   "metadata": {},
   "outputs": [
    {
     "name": "stdout",
     "output_type": "stream",
     "text": [
      "               df      sum_sq  mean_sq        F   PR(>F)\n",
      "Attrition     1.0     8.63813  8.63813  5.21165  0.02258\n",
      "Residual   1468.0  2433.16119  1.65747      NaN      NaN\n"
     ]
    }
   ],
   "source": [
    "annova = ols('TrainingTimesLastYear ~ Attrition' , data = df).fit()\n",
    "an = sm.stats.anova_lm(annova)\n",
    "print(an.round(decimals = 5))"
   ]
  },
  {
   "cell_type": "markdown",
   "id": "c782f0ec",
   "metadata": {},
   "source": [
    "## Work Life Balance"
   ]
  },
  {
   "cell_type": "code",
   "execution_count": 126,
   "id": "0edc1d09",
   "metadata": {},
   "outputs": [
    {
     "data": {
      "text/plain": [
       "3    893\n",
       "2    344\n",
       "4    153\n",
       "1     80\n",
       "Name: WorkLifeBalance, dtype: int64"
      ]
     },
     "execution_count": 126,
     "metadata": {},
     "output_type": "execute_result"
    }
   ],
   "source": [
    "df.WorkLifeBalance.value_counts()"
   ]
  },
  {
   "cell_type": "markdown",
   "id": "812214f9",
   "metadata": {},
   "source": [
    "1 'Bad',\n",
    "2 'Good',\n",
    "3 'Better',\n",
    "4 'Best'."
   ]
  },
  {
   "cell_type": "code",
   "execution_count": 127,
   "id": "f2ea245c",
   "metadata": {},
   "outputs": [
    {
     "data": {
      "text/plain": [
       "<AxesSubplot:xlabel='WorkLifeBalance', ylabel='count'>"
      ]
     },
     "execution_count": 127,
     "metadata": {},
     "output_type": "execute_result"
    },
    {
     "data": {
      "image/png": "[encoded data removed]",
      "text/plain": [
       "<Figure size 432x288 with 1 Axes>"
      ]
     },
     "metadata": {
      "needs_background": "light"
     },
     "output_type": "display_data"
    }
   ],
   "source": [
    "sns.countplot(df.WorkLifeBalance)"
   ]
  },
  {
   "cell_type": "code",
   "execution_count": 128,
   "id": "d2066316",
   "metadata": {},
   "outputs": [
    {
     "name": "stdout",
     "output_type": "stream",
     "text": [
      "               df     sum_sq  mean_sq        F   PR(>F)\n",
      "Attrition     1.0    2.99743  2.99743  6.02612  0.01421\n",
      "Residual   1468.0  730.19237  0.49741      NaN      NaN\n"
     ]
    }
   ],
   "source": [
    "annova = ols('WorkLifeBalance ~ Attrition' , data = df).fit()\n",
    "an = sm.stats.anova_lm(annova)\n",
    "print(an.round(decimals = 5))"
   ]
  },
  {
   "cell_type": "markdown",
   "id": "83abd8a1",
   "metadata": {},
   "source": [
    "## Years At Company"
   ]
  },
  {
   "cell_type": "code",
   "execution_count": 129,
   "id": "675b6e8c",
   "metadata": {},
   "outputs": [
    {
     "data": {
      "text/plain": [
       "5     196\n",
       "1     171\n",
       "3     128\n",
       "2     127\n",
       "10    120\n",
       "4     110\n",
       "7      90\n",
       "9      82\n",
       "8      80\n",
       "6      76\n",
       "0      44\n",
       "11     32\n",
       "20     27\n",
       "13     24\n",
       "15     20\n",
       "14     18\n",
       "22     15\n",
       "12     14\n",
       "21     14\n",
       "18     13\n",
       "16     12\n",
       "19     11\n",
       "17      9\n",
       "24      6\n",
       "33      5\n",
       "25      4\n",
       "26      4\n",
       "31      3\n",
       "32      3\n",
       "27      2\n",
       "36      2\n",
       "29      2\n",
       "23      2\n",
       "37      1\n",
       "40      1\n",
       "34      1\n",
       "30      1\n",
       "Name: YearsAtCompany, dtype: int64"
      ]
     },
     "execution_count": 129,
     "metadata": {},
     "output_type": "execute_result"
    }
   ],
   "source": [
    "df.YearsAtCompany.value_counts()"
   ]
  },
  {
   "cell_type": "code",
   "execution_count": 130,
   "id": "20a82e3e",
   "metadata": {},
   "outputs": [
    {
     "data": {
      "text/plain": [
       "<AxesSubplot:xlabel='YearsAtCompany', ylabel='Count'>"
      ]
     },
     "execution_count": 130,
     "metadata": {},
     "output_type": "execute_result"
    },
    {
     "data": {
      "image/png": "[encoded data removed]",
      "text/plain": [
       "<Figure size 432x288 with 1 Axes>"
      ]
     },
     "metadata": {
      "needs_background": "light"
     },
     "output_type": "display_data"
    }
   ],
   "source": [
    "sns.histplot(x = df.YearsAtCompany , hue = df.Attrition)"
   ]
  },
  {
   "cell_type": "markdown",
   "id": "e13ef5a7",
   "metadata": {},
   "source": [
    "    • Freshers have higher data of \"Attrition Yes\" that is of 75 no. of workers or more than half of freshers.\n",
    "\n",
    "    • Apart from this Employees who ranges from 1 to 10 year working on this company are also likely to quit thier job."
   ]
  },
  {
   "cell_type": "code",
   "execution_count": 131,
   "id": "c384b0db",
   "metadata": {},
   "outputs": [
    {
     "data": {
      "text/plain": [
       "<AxesSubplot:xlabel='YearsAtCompany'>"
      ]
     },
     "execution_count": 131,
     "metadata": {},
     "output_type": "execute_result"
    },
    {
     "data": {
      "image/png": "[encoded data removed]",
      "text/plain": [
       "<Figure size 432x288 with 1 Axes>"
      ]
     },
     "metadata": {
      "needs_background": "light"
     },
     "output_type": "display_data"
    }
   ],
   "source": [
    "sns.boxplot(df.YearsAtCompany)"
   ]
  },
  {
   "cell_type": "code",
   "execution_count": 132,
   "id": "d435ec98",
   "metadata": {},
   "outputs": [],
   "source": [
    "q1 = df.YearsAtCompany.quantile(0.25)\n",
    "q3 = df.YearsAtCompany.quantile(0.75)\n",
    "iqr = q3 - q1\n",
    "u_b_YearsAtCompany = q3 + (1.5*iqr)\n",
    "l_b_YearsAtCompany = q1 - (1.5*iqr)"
   ]
  },
  {
   "cell_type": "code",
   "execution_count": 133,
   "id": "ce57cab1",
   "metadata": {},
   "outputs": [],
   "source": [
    "df.YearsAtCompany = np.where(df.YearsAtCompany>u_b_YearsAtCompany,u_b_YearsAtCompany, np.where(df.YearsAtCompany <l_b_YearsAtCompany, l_b_YearsAtCompany, df.YearsAtCompany))"
   ]
  },
  {
   "cell_type": "code",
   "execution_count": 134,
   "id": "1774d52e",
   "metadata": {},
   "outputs": [
    {
     "data": {
      "text/plain": [
       "<AxesSubplot:xlabel='YearsAtCompany'>"
      ]
     },
     "execution_count": 134,
     "metadata": {},
     "output_type": "execute_result"
    },
    {
     "data": {
      "image/png": "[encoded data removed]",
      "text/plain": [
       "<Figure size 432x288 with 1 Axes>"
      ]
     },
     "metadata": {
      "needs_background": "light"
     },
     "output_type": "display_data"
    }
   ],
   "source": [
    "sns.boxplot(df.YearsAtCompany)"
   ]
  },
  {
   "cell_type": "code",
   "execution_count": 135,
   "id": "bd9aadcd",
   "metadata": {},
   "outputs": [
    {
     "name": "stdout",
     "output_type": "stream",
     "text": [
      "               df       sum_sq    mean_sq        F  PR(>F)\n",
      "Attrition     1.0    962.38148  962.38148  39.6705     0.0\n",
      "Residual   1468.0  35612.75865   24.25937      NaN     NaN\n"
     ]
    }
   ],
   "source": [
    "annova = ols('YearsAtCompany ~ Attrition' , data = df).fit()\n",
    "an = sm.stats.anova_lm(annova)\n",
    "print(an.round(decimals = 5))"
   ]
  },
  {
   "cell_type": "markdown",
   "id": "7bd4f4b5",
   "metadata": {},
   "source": [
    "## Years In CurrentRole"
   ]
  },
  {
   "cell_type": "code",
   "execution_count": 136,
   "id": "830667e2",
   "metadata": {},
   "outputs": [
    {
     "data": {
      "text/plain": [
       "2     372\n",
       "0     244\n",
       "7     222\n",
       "3     135\n",
       "4     104\n",
       "8      89\n",
       "9      67\n",
       "1      57\n",
       "6      37\n",
       "5      36\n",
       "10     29\n",
       "11     22\n",
       "13     14\n",
       "14     11\n",
       "12     10\n",
       "15      8\n",
       "16      7\n",
       "17      4\n",
       "18      2\n",
       "Name: YearsInCurrentRole, dtype: int64"
      ]
     },
     "execution_count": 136,
     "metadata": {},
     "output_type": "execute_result"
    }
   ],
   "source": [
    "df.YearsInCurrentRole.value_counts()"
   ]
  },
  {
   "cell_type": "code",
   "execution_count": 137,
   "id": "b293d92a",
   "metadata": {},
   "outputs": [
    {
     "data": {
      "text/plain": [
       "<AxesSubplot:xlabel='YearsInCurrentRole', ylabel='Density'>"
      ]
     },
     "execution_count": 137,
     "metadata": {},
     "output_type": "execute_result"
    },
    {
     "data": {
      "image/png": "[encoded data removed]",
      "text/plain": [
       "<Figure size 432x288 with 1 Axes>"
      ]
     },
     "metadata": {
      "needs_background": "light"
     },
     "output_type": "display_data"
    }
   ],
   "source": [
    "sns.distplot(df.YearsInCurrentRole)"
   ]
  },
  {
   "cell_type": "code",
   "execution_count": 138,
   "id": "9012979b",
   "metadata": {},
   "outputs": [
    {
     "data": {
      "text/plain": [
       "<AxesSubplot:xlabel='YearsInCurrentRole'>"
      ]
     },
     "execution_count": 138,
     "metadata": {},
     "output_type": "execute_result"
    },
    {
     "data": {
      "image/png": "[encoded data removed]",
      "text/plain": [
       "<Figure size 432x288 with 1 Axes>"
      ]
     },
     "metadata": {
      "needs_background": "light"
     },
     "output_type": "display_data"
    }
   ],
   "source": [
    "sns.boxplot(df.YearsInCurrentRole)"
   ]
  },
  {
   "cell_type": "code",
   "execution_count": 139,
   "id": "f2234bc5",
   "metadata": {},
   "outputs": [],
   "source": [
    "q1 = df.YearsInCurrentRole.quantile(0.25)\n",
    "q3 = df.YearsInCurrentRole.quantile(0.75)\n",
    "iqr = q3 - q1\n",
    "u_b_YearsInCurrentRole = q3 + (1.5*iqr)\n",
    "l_b_YearsInCurrentRole = q1 - (1.5*iqr)"
   ]
  },
  {
   "cell_type": "code",
   "execution_count": 140,
   "id": "8d61ae35",
   "metadata": {},
   "outputs": [],
   "source": [
    "df.YearsInCurrentRole = np.where(df.YearsInCurrentRole>u_b_YearsInCurrentRole,u_b_YearsInCurrentRole, np.where(df.YearsInCurrentRole <l_b_YearsInCurrentRole, l_b_YearsInCurrentRole, df.YearsInCurrentRole))"
   ]
  },
  {
   "cell_type": "code",
   "execution_count": 141,
   "id": "5e4c2112",
   "metadata": {},
   "outputs": [
    {
     "data": {
      "text/plain": [
       "<AxesSubplot:xlabel='YearsInCurrentRole'>"
      ]
     },
     "execution_count": 141,
     "metadata": {},
     "output_type": "execute_result"
    },
    {
     "data": {
      "image/png": "[encoded data removed]",
      "text/plain": [
       "<Figure size 432x288 with 1 Axes>"
      ]
     },
     "metadata": {
      "needs_background": "light"
     },
     "output_type": "display_data"
    }
   ],
   "source": [
    "sns.boxplot(df.YearsInCurrentRole)"
   ]
  },
  {
   "cell_type": "code",
   "execution_count": 142,
   "id": "455e5222",
   "metadata": {},
   "outputs": [
    {
     "name": "stdout",
     "output_type": "stream",
     "text": [
      "               df       sum_sq    mean_sq         F  PR(>F)\n",
      "Attrition     1.0    484.21799  484.21799  39.30606     0.0\n",
      "Residual   1468.0  18084.54205   12.31917       NaN     NaN\n"
     ]
    }
   ],
   "source": [
    "annova = ols('YearsInCurrentRole ~ Attrition' , data = df).fit()\n",
    "an = sm.stats.anova_lm(annova)\n",
    "print(an.round(decimals = 5))"
   ]
  },
  {
   "cell_type": "markdown",
   "id": "39050968",
   "metadata": {},
   "source": [
    "## Years Since Last Promotion"
   ]
  },
  {
   "cell_type": "code",
   "execution_count": 143,
   "id": "be24f14a",
   "metadata": {},
   "outputs": [
    {
     "data": {
      "text/plain": [
       "0     581\n",
       "1     357\n",
       "2     159\n",
       "7      76\n",
       "4      61\n",
       "3      52\n",
       "5      45\n",
       "6      32\n",
       "11     24\n",
       "8      18\n",
       "9      17\n",
       "15     13\n",
       "13     10\n",
       "12     10\n",
       "14      9\n",
       "10      6\n",
       "Name: YearsSinceLastPromotion, dtype: int64"
      ]
     },
     "execution_count": 143,
     "metadata": {},
     "output_type": "execute_result"
    }
   ],
   "source": [
    "df.YearsSinceLastPromotion.value_counts()"
   ]
  },
  {
   "cell_type": "code",
   "execution_count": 144,
   "id": "03c2100b",
   "metadata": {},
   "outputs": [
    {
     "data": {
      "text/plain": [
       "<AxesSubplot:xlabel='YearsSinceLastPromotion', ylabel='Density'>"
      ]
     },
     "execution_count": 144,
     "metadata": {},
     "output_type": "execute_result"
    },
    {
     "data": {
      "image/png": "[encoded data removed]",
      "text/plain": [
       "<Figure size 432x288 with 1 Axes>"
      ]
     },
     "metadata": {
      "needs_background": "light"
     },
     "output_type": "display_data"
    }
   ],
   "source": [
    "sns.distplot(df.YearsSinceLastPromotion)"
   ]
  },
  {
   "cell_type": "code",
   "execution_count": 145,
   "id": "6b83e749",
   "metadata": {},
   "outputs": [
    {
     "data": {
      "text/plain": [
       "<AxesSubplot:xlabel='YearsSinceLastPromotion'>"
      ]
     },
     "execution_count": 145,
     "metadata": {},
     "output_type": "execute_result"
    },
    {
     "data": {
      "image/png": "[encoded data removed]",
      "text/plain": [
       "<Figure size 432x288 with 1 Axes>"
      ]
     },
     "metadata": {
      "needs_background": "light"
     },
     "output_type": "display_data"
    }
   ],
   "source": [
    "sns.boxplot(df.YearsSinceLastPromotion)"
   ]
  },
  {
   "cell_type": "code",
   "execution_count": 146,
   "id": "0c6c95aa",
   "metadata": {},
   "outputs": [],
   "source": [
    "q1 =  df.YearsSinceLastPromotion.quantile(0.25)\n",
    "q3 = df.YearsSinceLastPromotion.quantile(0.75)\n",
    "iqr = q3 - q1\n",
    "u_b_YearsSinceLastPromotion = q3 + (1.5*iqr)\n",
    "l_b_YearsSinceLastPromotion = q1 - (1.5*iqr)"
   ]
  },
  {
   "cell_type": "code",
   "execution_count": 147,
   "id": "aaeda3e9",
   "metadata": {},
   "outputs": [],
   "source": [
    "df.YearsSinceLastPromotion = np.where(df.YearsSinceLastPromotion>u_b_YearsSinceLastPromotion,u_b_YearsSinceLastPromotion, np.where(df.YearsSinceLastPromotion <l_b_YearsSinceLastPromotion, l_b_YearsSinceLastPromotion, df.YearsSinceLastPromotion))"
   ]
  },
  {
   "cell_type": "code",
   "execution_count": 148,
   "id": "e5de5a52",
   "metadata": {},
   "outputs": [
    {
     "data": {
      "text/plain": [
       "<AxesSubplot:xlabel='YearsSinceLastPromotion'>"
      ]
     },
     "execution_count": 148,
     "metadata": {},
     "output_type": "execute_result"
    },
    {
     "data": {
      "image/png": "[encoded data removed]",
      "text/plain": [
       "<Figure size 432x288 with 1 Axes>"
      ]
     },
     "metadata": {
      "needs_background": "light"
     },
     "output_type": "display_data"
    }
   ],
   "source": [
    "sns.boxplot(df.YearsSinceLastPromotion)"
   ]
  },
  {
   "cell_type": "code",
   "execution_count": 149,
   "id": "a6308bf8",
   "metadata": {},
   "outputs": [
    {
     "name": "stdout",
     "output_type": "stream",
     "text": [
      "               df      sum_sq   mean_sq        F   PR(>F)\n",
      "Attrition     1.0    12.67742  12.67742  2.06569  0.15086\n",
      "Residual   1468.0  9009.30914   6.13713      NaN      NaN\n"
     ]
    }
   ],
   "source": [
    "annova = ols('YearsSinceLastPromotion ~ Attrition' , data = df).fit()\n",
    "an = sm.stats.anova_lm(annova)\n",
    "print(an.round(decimals = 5))"
   ]
  },
  {
   "cell_type": "code",
   "execution_count": 150,
   "id": "e2a8e76b",
   "metadata": {},
   "outputs": [],
   "source": [
    "df.drop(['YearsSinceLastPromotion'] , axis = 1 , inplace = True)"
   ]
  },
  {
   "cell_type": "markdown",
   "id": "ad4fad8f",
   "metadata": {},
   "source": [
    "## Years With CurrManager"
   ]
  },
  {
   "cell_type": "code",
   "execution_count": 151,
   "id": "4a5c43d0",
   "metadata": {},
   "outputs": [
    {
     "data": {
      "text/plain": [
       "2     344\n",
       "0     263\n",
       "7     216\n",
       "3     142\n",
       "8     107\n",
       "4      98\n",
       "1      76\n",
       "9      64\n",
       "5      31\n",
       "6      29\n",
       "10     27\n",
       "11     22\n",
       "12     18\n",
       "13     14\n",
       "17      7\n",
       "15      5\n",
       "14      5\n",
       "16      2\n",
       "Name: YearsWithCurrManager, dtype: int64"
      ]
     },
     "execution_count": 151,
     "metadata": {},
     "output_type": "execute_result"
    }
   ],
   "source": [
    "df.YearsWithCurrManager.value_counts()"
   ]
  },
  {
   "cell_type": "code",
   "execution_count": 152,
   "id": "bf89ce70",
   "metadata": {},
   "outputs": [
    {
     "data": {
      "text/plain": [
       "<AxesSubplot:xlabel='YearsWithCurrManager', ylabel='Density'>"
      ]
     },
     "execution_count": 152,
     "metadata": {},
     "output_type": "execute_result"
    },
    {
     "data": {
      "image/png": "[encoded data removed]",
      "text/plain": [
       "<Figure size 432x288 with 1 Axes>"
      ]
     },
     "metadata": {
      "needs_background": "light"
     },
     "output_type": "display_data"
    }
   ],
   "source": [
    "sns.distplot(df.YearsWithCurrManager)"
   ]
  },
  {
   "cell_type": "code",
   "execution_count": 153,
   "id": "1a6f535f",
   "metadata": {},
   "outputs": [
    {
     "data": {
      "text/plain": [
       "<AxesSubplot:xlabel='YearsWithCurrManager'>"
      ]
     },
     "execution_count": 153,
     "metadata": {},
     "output_type": "execute_result"
    },
    {
     "data": {
      "image/png": "[encoded data removed]",
      "text/plain": [
       "<Figure size 432x288 with 1 Axes>"
      ]
     },
     "metadata": {
      "needs_background": "light"
     },
     "output_type": "display_data"
    }
   ],
   "source": [
    "sns.boxplot(df.YearsWithCurrManager)"
   ]
  },
  {
   "cell_type": "code",
   "execution_count": 154,
   "id": "092185d9",
   "metadata": {},
   "outputs": [],
   "source": [
    "q1 = df.YearsWithCurrManager.quantile(0.25)\n",
    "q3 = df.YearsWithCurrManager.quantile(0.75)\n",
    "iqr = q3 - q1\n",
    "u_b_YearsWithCurrManager = q3 + (1.5*iqr)\n",
    "l_b_YearsWithCurrManager = q1 - (1.5*iqr)"
   ]
  },
  {
   "cell_type": "code",
   "execution_count": 155,
   "id": "2d5adb64",
   "metadata": {},
   "outputs": [],
   "source": [
    "df.YearsWithCurrManager = np.where(df.YearsWithCurrManager>u_b_YearsWithCurrManager,u_b_YearsWithCurrManager, np.where(df.YearsWithCurrManager <l_b_YearsWithCurrManager, l_b_YearsWithCurrManager, df.YearsWithCurrManager))"
   ]
  },
  {
   "cell_type": "code",
   "execution_count": 156,
   "id": "af798b25",
   "metadata": {},
   "outputs": [
    {
     "data": {
      "text/plain": [
       "<AxesSubplot:xlabel='YearsWithCurrManager'>"
      ]
     },
     "execution_count": 156,
     "metadata": {},
     "output_type": "execute_result"
    },
    {
     "data": {
      "image/png": "[encoded data removed]",
      "text/plain": [
       "<Figure size 432x288 with 1 Axes>"
      ]
     },
     "metadata": {
      "needs_background": "light"
     },
     "output_type": "display_data"
    }
   ],
   "source": [
    "sns.boxplot(df.YearsWithCurrManager)"
   ]
  },
  {
   "cell_type": "code",
   "execution_count": 157,
   "id": "f171504e",
   "metadata": {},
   "outputs": [
    {
     "name": "stdout",
     "output_type": "stream",
     "text": [
      "               df       sum_sq    mean_sq        F  PR(>F)\n",
      "Attrition     1.0    445.14591  445.14591  36.8562     0.0\n",
      "Residual   1468.0  17730.37178   12.07791      NaN     NaN\n"
     ]
    }
   ],
   "source": [
    "annova = ols('YearsWithCurrManager ~ Attrition' , data = df).fit()\n",
    "an = sm.stats.anova_lm(annova)\n",
    "print(an.round(decimals = 5))"
   ]
  },
  {
   "cell_type": "code",
   "execution_count": 158,
   "id": "cb5e55a7",
   "metadata": {},
   "outputs": [
    {
     "name": "stdout",
     "output_type": "stream",
     "text": [
      "<class 'pandas.core.frame.DataFrame'>\n",
      "RangeIndex: 1470 entries, 0 to 1469\n",
      "Data columns (total 22 columns):\n",
      " #   Column                   Non-Null Count  Dtype  \n",
      "---  ------                   --------------  -----  \n",
      " 0   Age                      1470 non-null   int64  \n",
      " 1   Attrition                1470 non-null   object \n",
      " 2   BusinessTravel           1470 non-null   int64  \n",
      " 3   DailyRate                1470 non-null   int64  \n",
      " 4   Department               1470 non-null   int64  \n",
      " 5   DistanceFromHome         1470 non-null   int64  \n",
      " 6   EducationField           1470 non-null   float64\n",
      " 7   EnvironmentSatisfaction  1470 non-null   int64  \n",
      " 8   JobInvolvement           1470 non-null   int64  \n",
      " 9   JobLevel                 1470 non-null   int64  \n",
      " 10  JobRole                  1470 non-null   int32  \n",
      " 11  JobSatisfaction          1470 non-null   int64  \n",
      " 12  MaritalStatus            1470 non-null   int64  \n",
      " 13  MonthlyIncome            1470 non-null   float64\n",
      " 14  OverTime                 1470 non-null   int64  \n",
      " 15  StockOptionLevel         1470 non-null   int64  \n",
      " 16  TotalWorkingYears        1470 non-null   float64\n",
      " 17  TrainingTimesLastYear    1470 non-null   int64  \n",
      " 18  WorkLifeBalance          1470 non-null   int64  \n",
      " 19  YearsAtCompany           1470 non-null   float64\n",
      " 20  YearsInCurrentRole       1470 non-null   float64\n",
      " 21  YearsWithCurrManager     1470 non-null   float64\n",
      "dtypes: float64(6), int32(1), int64(14), object(1)\n",
      "memory usage: 247.0+ KB\n"
     ]
    }
   ],
   "source": [
    "df.info()"
   ]
  },
  {
   "cell_type": "code",
   "execution_count": 159,
   "id": "d30c9931",
   "metadata": {},
   "outputs": [],
   "source": [
    "cont  =  df.loc[:,['Age','DailyRate','DistanceFromHome','MonthlyIncome','TotalWorkingYears','YearsAtCompany','YearsWithCurrManager','YearsInCurrentRole']]"
   ]
  },
  {
   "cell_type": "code",
   "execution_count": 160,
   "id": "4b04d67e",
   "metadata": {},
   "outputs": [
    {
     "data": {
      "text/plain": [
       "<AxesSubplot:>"
      ]
     },
     "execution_count": 160,
     "metadata": {},
     "output_type": "execute_result"
    },
    {
     "data": {
      "image/png": "[encoded data removed]",
      "text/plain": [
       "<Figure size 1440x1440 with 2 Axes>"
      ]
     },
     "metadata": {
      "needs_background": "light"
     },
     "output_type": "display_data"
    }
   ],
   "source": [
    "plt.figure(figsize = (20,20))\n",
    "sns.heatmap(cont.corr() , annot = True)"
   ]
  },
  {
   "cell_type": "code",
   "execution_count": 161,
   "id": "a1a56764",
   "metadata": {},
   "outputs": [
    {
     "name": "stdout",
     "output_type": "stream",
     "text": [
      "                feature        VIF\n",
      "0                   Age  10.832337\n",
      "1             DailyRate   4.236934\n",
      "2      DistanceFromHome   2.179766\n",
      "3         MonthlyIncome   7.859733\n",
      "4     TotalWorkingYears  11.957443\n",
      "5        YearsAtCompany  16.590266\n",
      "6  YearsWithCurrManager   7.903196\n",
      "7    YearsInCurrentRole   7.848655\n"
     ]
    }
   ],
   "source": [
    "from statsmodels.stats.outliers_influence import variance_inflation_factor\n",
    "\n",
    "vif_data = pd.DataFrame()\n",
    "vif_data[\"feature\"] = cont.columns\n",
    "  \n",
    "vif_data[\"VIF\"] = [variance_inflation_factor(cont.values,i) for i in range(len(cont.columns))]\n",
    "  \n",
    "print(vif_data)"
   ]
  },
  {
   "cell_type": "code",
   "execution_count": 162,
   "id": "b4106a86",
   "metadata": {},
   "outputs": [],
   "source": [
    "df = df.drop(['Age' , 'TotalWorkingYears' , 'YearsAtCompany'] , axis = 1)"
   ]
  },
  {
   "cell_type": "code",
   "execution_count": 163,
   "id": "26e7d8a1",
   "metadata": {},
   "outputs": [
    {
     "data": {
      "text/html": [
       "<div>\n",
       "<style scoped>\n",
       "    .dataframe tbody tr th:only-of-type {\n",
       "        vertical-align: middle;\n",
       "    }\n",
       "\n",
       "    .dataframe tbody tr th {\n",
       "        vertical-align: top;\n",
       "    }\n",
       "\n",
       "    .dataframe thead th {\n",
       "        text-align: right;\n",
       "    }\n",
       "</style>\n",
       "<table border=\"1\" class=\"dataframe\">\n",
       "  <thead>\n",
       "    <tr style=\"text-align: right;\">\n",
       "      <th></th>\n",
       "      <th>Attrition</th>\n",
       "      <th>BusinessTravel</th>\n",
       "      <th>DailyRate</th>\n",
       "      <th>Department</th>\n",
       "      <th>DistanceFromHome</th>\n",
       "      <th>EducationField</th>\n",
       "      <th>EnvironmentSatisfaction</th>\n",
       "      <th>JobInvolvement</th>\n",
       "      <th>JobLevel</th>\n",
       "      <th>JobRole</th>\n",
       "      <th>JobSatisfaction</th>\n",
       "      <th>MaritalStatus</th>\n",
       "      <th>MonthlyIncome</th>\n",
       "      <th>OverTime</th>\n",
       "      <th>StockOptionLevel</th>\n",
       "      <th>TrainingTimesLastYear</th>\n",
       "      <th>WorkLifeBalance</th>\n",
       "      <th>YearsInCurrentRole</th>\n",
       "      <th>YearsWithCurrManager</th>\n",
       "    </tr>\n",
       "  </thead>\n",
       "  <tbody>\n",
       "    <tr>\n",
       "      <th>0</th>\n",
       "      <td>Yes</td>\n",
       "      <td>1</td>\n",
       "      <td>1102</td>\n",
       "      <td>2</td>\n",
       "      <td>1</td>\n",
       "      <td>1.0</td>\n",
       "      <td>2</td>\n",
       "      <td>3</td>\n",
       "      <td>2</td>\n",
       "      <td>7</td>\n",
       "      <td>4</td>\n",
       "      <td>2</td>\n",
       "      <td>5993.0</td>\n",
       "      <td>1</td>\n",
       "      <td>0</td>\n",
       "      <td>0</td>\n",
       "      <td>1</td>\n",
       "      <td>4.0</td>\n",
       "      <td>5.0</td>\n",
       "    </tr>\n",
       "    <tr>\n",
       "      <th>1</th>\n",
       "      <td>No</td>\n",
       "      <td>2</td>\n",
       "      <td>279</td>\n",
       "      <td>1</td>\n",
       "      <td>8</td>\n",
       "      <td>1.0</td>\n",
       "      <td>3</td>\n",
       "      <td>2</td>\n",
       "      <td>2</td>\n",
       "      <td>6</td>\n",
       "      <td>2</td>\n",
       "      <td>1</td>\n",
       "      <td>5130.0</td>\n",
       "      <td>2</td>\n",
       "      <td>1</td>\n",
       "      <td>3</td>\n",
       "      <td>3</td>\n",
       "      <td>7.0</td>\n",
       "      <td>7.0</td>\n",
       "    </tr>\n",
       "    <tr>\n",
       "      <th>2</th>\n",
       "      <td>Yes</td>\n",
       "      <td>1</td>\n",
       "      <td>1373</td>\n",
       "      <td>1</td>\n",
       "      <td>2</td>\n",
       "      <td>5.0</td>\n",
       "      <td>4</td>\n",
       "      <td>2</td>\n",
       "      <td>1</td>\n",
       "      <td>2</td>\n",
       "      <td>3</td>\n",
       "      <td>2</td>\n",
       "      <td>2090.0</td>\n",
       "      <td>1</td>\n",
       "      <td>0</td>\n",
       "      <td>3</td>\n",
       "      <td>3</td>\n",
       "      <td>0.0</td>\n",
       "      <td>0.0</td>\n",
       "    </tr>\n",
       "    <tr>\n",
       "      <th>3</th>\n",
       "      <td>No</td>\n",
       "      <td>2</td>\n",
       "      <td>1392</td>\n",
       "      <td>1</td>\n",
       "      <td>3</td>\n",
       "      <td>1.0</td>\n",
       "      <td>4</td>\n",
       "      <td>3</td>\n",
       "      <td>1</td>\n",
       "      <td>6</td>\n",
       "      <td>3</td>\n",
       "      <td>1</td>\n",
       "      <td>2909.0</td>\n",
       "      <td>1</td>\n",
       "      <td>0</td>\n",
       "      <td>3</td>\n",
       "      <td>3</td>\n",
       "      <td>7.0</td>\n",
       "      <td>0.0</td>\n",
       "    </tr>\n",
       "    <tr>\n",
       "      <th>4</th>\n",
       "      <td>No</td>\n",
       "      <td>1</td>\n",
       "      <td>591</td>\n",
       "      <td>1</td>\n",
       "      <td>2</td>\n",
       "      <td>2.0</td>\n",
       "      <td>1</td>\n",
       "      <td>3</td>\n",
       "      <td>1</td>\n",
       "      <td>2</td>\n",
       "      <td>2</td>\n",
       "      <td>1</td>\n",
       "      <td>3468.0</td>\n",
       "      <td>2</td>\n",
       "      <td>1</td>\n",
       "      <td>3</td>\n",
       "      <td>3</td>\n",
       "      <td>2.0</td>\n",
       "      <td>2.0</td>\n",
       "    </tr>\n",
       "  </tbody>\n",
       "</table>\n",
       "</div>"
      ],
      "text/plain": [
       "  Attrition  BusinessTravel  DailyRate  Department  DistanceFromHome  \\\n",
       "0       Yes               1       1102           2                 1   \n",
       "1        No               2        279           1                 8   \n",
       "2       Yes               1       1373           1                 2   \n",
       "3        No               2       1392           1                 3   \n",
       "4        No               1        591           1                 2   \n",
       "\n",
       "   EducationField  EnvironmentSatisfaction  JobInvolvement  JobLevel  JobRole  \\\n",
       "0             1.0                        2               3         2        7   \n",
       "1             1.0                        3               2         2        6   \n",
       "2             5.0                        4               2         1        2   \n",
       "3             1.0                        4               3         1        6   \n",
       "4             2.0                        1               3         1        2   \n",
       "\n",
       "   JobSatisfaction  MaritalStatus  MonthlyIncome  OverTime  StockOptionLevel  \\\n",
       "0                4              2         5993.0         1                 0   \n",
       "1                2              1         5130.0         2                 1   \n",
       "2                3              2         2090.0         1                 0   \n",
       "3                3              1         2909.0         1                 0   \n",
       "4                2              1         3468.0         2                 1   \n",
       "\n",
       "   TrainingTimesLastYear  WorkLifeBalance  YearsInCurrentRole  \\\n",
       "0                      0                1                 4.0   \n",
       "1                      3                3                 7.0   \n",
       "2                      3                3                 0.0   \n",
       "3                      3                3                 7.0   \n",
       "4                      3                3                 2.0   \n",
       "\n",
       "   YearsWithCurrManager  \n",
       "0                   5.0  \n",
       "1                   7.0  \n",
       "2                   0.0  \n",
       "3                   0.0  \n",
       "4                   2.0  "
      ]
     },
     "execution_count": 163,
     "metadata": {},
     "output_type": "execute_result"
    }
   ],
   "source": [
    "df.head()"
   ]
  },
  {
   "cell_type": "code",
   "execution_count": 164,
   "id": "fa3fa9fe",
   "metadata": {
    "scrolled": true
   },
   "outputs": [
    {
     "name": "stdout",
     "output_type": "stream",
     "text": [
      "<class 'pandas.core.frame.DataFrame'>\n",
      "RangeIndex: 1470 entries, 0 to 1469\n",
      "Data columns (total 19 columns):\n",
      " #   Column                   Non-Null Count  Dtype  \n",
      "---  ------                   --------------  -----  \n",
      " 0   Attrition                1470 non-null   object \n",
      " 1   BusinessTravel           1470 non-null   int64  \n",
      " 2   DailyRate                1470 non-null   int64  \n",
      " 3   Department               1470 non-null   int64  \n",
      " 4   DistanceFromHome         1470 non-null   int64  \n",
      " 5   EducationField           1470 non-null   float64\n",
      " 6   EnvironmentSatisfaction  1470 non-null   int64  \n",
      " 7   JobInvolvement           1470 non-null   int64  \n",
      " 8   JobLevel                 1470 non-null   int64  \n",
      " 9   JobRole                  1470 non-null   int32  \n",
      " 10  JobSatisfaction          1470 non-null   int64  \n",
      " 11  MaritalStatus            1470 non-null   int64  \n",
      " 12  MonthlyIncome            1470 non-null   float64\n",
      " 13  OverTime                 1470 non-null   int64  \n",
      " 14  StockOptionLevel         1470 non-null   int64  \n",
      " 15  TrainingTimesLastYear    1470 non-null   int64  \n",
      " 16  WorkLifeBalance          1470 non-null   int64  \n",
      " 17  YearsInCurrentRole       1470 non-null   float64\n",
      " 18  YearsWithCurrManager     1470 non-null   float64\n",
      "dtypes: float64(4), int32(1), int64(13), object(1)\n",
      "memory usage: 212.6+ KB\n"
     ]
    }
   ],
   "source": [
    "df.info()"
   ]
  },
  {
   "cell_type": "markdown",
   "id": "fe9ca817",
   "metadata": {},
   "source": [
    "# handling unbalanced data"
   ]
  },
  {
   "cell_type": "code",
   "execution_count": 165,
   "id": "d4e79642",
   "metadata": {
    "scrolled": true
   },
   "outputs": [
    {
     "data": {
      "image/png": "[encoded data removed]",
      "text/plain": [
       "<Figure size 432x288 with 1 Axes>"
      ]
     },
     "metadata": {},
     "output_type": "display_data"
    }
   ],
   "source": [
    "target_var = pd.crosstab(index = df['Attrition'] , columns = '% observations')\n",
    "plt.pie(target_var['% observations'] , labels = target_var['% observations'].index , autopct = '%.0f%%')\n",
    "plt.title('Target: Attrition')\n",
    "plt.show()"
   ]
  },
  {
   "cell_type": "code",
   "execution_count": 166,
   "id": "4bda6111",
   "metadata": {},
   "outputs": [],
   "source": [
    "df.Attrition = df.Attrition.map({'No':0 , 'Yes':1})"
   ]
  },
  {
   "cell_type": "code",
   "execution_count": 167,
   "id": "beb42729",
   "metadata": {},
   "outputs": [
    {
     "data": {
      "text/plain": [
       "0    1233\n",
       "1     237\n",
       "Name: Attrition, dtype: int64"
      ]
     },
     "execution_count": 167,
     "metadata": {},
     "output_type": "execute_result"
    }
   ],
   "source": [
    "df.Attrition.value_counts()"
   ]
  },
  {
   "cell_type": "code",
   "execution_count": 168,
   "id": "28926d32",
   "metadata": {},
   "outputs": [],
   "source": [
    "df.to_csv('HR.csv')"
   ]
  },
  {
   "cell_type": "markdown",
   "id": "5aa2dbdf",
   "metadata": {},
   "source": [
    "## without smote"
   ]
  },
  {
   "cell_type": "code",
   "execution_count": 169,
   "id": "145c68ba",
   "metadata": {},
   "outputs": [],
   "source": [
    "x = df.drop(['Attrition'],axis = 1)\n",
    "y = df.Attrition"
   ]
  },
  {
   "cell_type": "code",
   "execution_count": 170,
   "id": "5564dcd4",
   "metadata": {},
   "outputs": [],
   "source": [
    "from sklearn.model_selection import train_test_split"
   ]
  },
  {
   "cell_type": "code",
   "execution_count": 171,
   "id": "5aca0d71",
   "metadata": {},
   "outputs": [],
   "source": [
    "x_train , x_test , y_train , y_test = train_test_split(x , y , test_size = 0.2 , random_state = 8)"
   ]
  },
  {
   "cell_type": "code",
   "execution_count": 172,
   "id": "2ea9fb2a",
   "metadata": {},
   "outputs": [
    {
     "data": {
      "text/plain": [
       "Index(['BusinessTravel', 'DailyRate', 'Department', 'DistanceFromHome',\n",
       "       'EducationField', 'EnvironmentSatisfaction', 'JobInvolvement',\n",
       "       'JobLevel', 'JobRole', 'JobSatisfaction', 'MaritalStatus',\n",
       "       'MonthlyIncome', 'OverTime', 'StockOptionLevel',\n",
       "       'TrainingTimesLastYear', 'WorkLifeBalance', 'YearsInCurrentRole',\n",
       "       'YearsWithCurrManager'],\n",
       "      dtype='object')"
      ]
     },
     "execution_count": 172,
     "metadata": {},
     "output_type": "execute_result"
    }
   ],
   "source": [
    "x.columns"
   ]
  },
  {
   "cell_type": "code",
   "execution_count": 173,
   "id": "2a8b27d8",
   "metadata": {},
   "outputs": [],
   "source": [
    "from sklearn.linear_model import LogisticRegression\n",
    "log = LogisticRegression(solver='liblinear' , random_state = 8) "
   ]
  },
  {
   "cell_type": "code",
   "execution_count": 174,
   "id": "06fbc2ee",
   "metadata": {},
   "outputs": [],
   "source": [
    "model = log.fit(x_train , y_train)"
   ]
  },
  {
   "cell_type": "code",
   "execution_count": 175,
   "id": "86949773",
   "metadata": {},
   "outputs": [
    {
     "data": {
      "text/plain": [
       "array([0.73247476])"
      ]
     },
     "execution_count": 175,
     "metadata": {},
     "output_type": "execute_result"
    }
   ],
   "source": [
    "model.intercept_"
   ]
  },
  {
   "cell_type": "code",
   "execution_count": 176,
   "id": "5d774588",
   "metadata": {},
   "outputs": [
    {
     "data": {
      "text/plain": [
       "array([[ 1.03445573e+00,  3.83770245e-05,  5.62476150e-01,\n",
       "         4.74954285e-02,  1.02796701e-01, -2.67613356e-01,\n",
       "        -2.90890929e-01,  1.52356813e-02,  7.98645642e-02,\n",
       "        -2.16180145e-01,  2.30978868e-01, -1.30751849e-04,\n",
       "        -1.22433515e+00, -4.83839993e-01, -1.20554613e-01,\n",
       "        -3.11699591e-02, -1.38212486e-01,  1.44392704e-02]])"
      ]
     },
     "execution_count": 176,
     "metadata": {},
     "output_type": "execute_result"
    }
   ],
   "source": [
    "model.coef_"
   ]
  },
  {
   "cell_type": "code",
   "execution_count": 177,
   "id": "6f96522d",
   "metadata": {},
   "outputs": [],
   "source": [
    "y_pred = model.predict(x_test)"
   ]
  },
  {
   "cell_type": "code",
   "execution_count": 178,
   "id": "68259fc4",
   "metadata": {},
   "outputs": [],
   "source": [
    "from sklearn import metrics"
   ]
  },
  {
   "cell_type": "code",
   "execution_count": 179,
   "id": "e67faa66",
   "metadata": {},
   "outputs": [
    {
     "data": {
      "text/plain": [
       "array([[244,   7],\n",
       "       [ 36,   7]], dtype=int64)"
      ]
     },
     "execution_count": 179,
     "metadata": {},
     "output_type": "execute_result"
    }
   ],
   "source": [
    "cm = metrics.confusion_matrix(y_test , y_pred)\n",
    "cm"
   ]
  },
  {
   "cell_type": "code",
   "execution_count": 180,
   "id": "ab59814d",
   "metadata": {},
   "outputs": [],
   "source": [
    "from sklearn.metrics import accuracy_score,classification_report,confusion_matrix"
   ]
  },
  {
   "cell_type": "code",
   "execution_count": 181,
   "id": "883b385d",
   "metadata": {},
   "outputs": [
    {
     "data": {
      "text/plain": [
       "0.8537414965986394"
      ]
     },
     "execution_count": 181,
     "metadata": {},
     "output_type": "execute_result"
    }
   ],
   "source": [
    "accuracy_score(y_test , y_pred)"
   ]
  },
  {
   "cell_type": "code",
   "execution_count": 182,
   "id": "2f99c3a3",
   "metadata": {
    "scrolled": true
   },
   "outputs": [
    {
     "name": "stdout",
     "output_type": "stream",
     "text": [
      "              precision    recall  f1-score   support\n",
      "\n",
      "           0       0.87      0.97      0.92       251\n",
      "           1       0.50      0.16      0.25        43\n",
      "\n",
      "    accuracy                           0.85       294\n",
      "   macro avg       0.69      0.57      0.58       294\n",
      "weighted avg       0.82      0.85      0.82       294\n",
      "\n"
     ]
    }
   ],
   "source": [
    "print(classification_report(y_test , y_pred))"
   ]
  },
  {
   "cell_type": "code",
   "execution_count": 183,
   "id": "f0adf91b",
   "metadata": {},
   "outputs": [],
   "source": [
    "from sklearn.metrics import roc_curve,auc,roc_auc_score"
   ]
  },
  {
   "cell_type": "code",
   "execution_count": 184,
   "id": "4add9da7",
   "metadata": {},
   "outputs": [
    {
     "name": "stdout",
     "output_type": "stream",
     "text": [
      "0.7551190586491245\n"
     ]
    }
   ],
   "source": [
    "y_p_p = model.predict_proba(x_test)\n",
    "fpr , tpr , threshold = roc_curve(y_test , y_p_p[:,1])    \n",
    "roc_auc = auc(fpr , tpr)\n",
    "print(roc_auc)"
   ]
  },
  {
   "cell_type": "code",
   "execution_count": 185,
   "id": "3822cef2",
   "metadata": {},
   "outputs": [
    {
     "data": {
      "image/png": "[encoded data removed]",
      "text/plain": [
       "<Figure size 432x288 with 1 Axes>"
      ]
     },
     "metadata": {
      "needs_background": "light"
     },
     "output_type": "display_data"
    }
   ],
   "source": [
    "plt.title('ROC Curve for LogisticRegression',size = 15)\n",
    "plt.xlabel('False Positive Rate (1-Specificity)',size = 12)\n",
    "plt.ylabel('True Positive Rate (Sensitivity)',size = 12)\n",
    "plt.plot([0 , 1] , [0 , 1] ,'r--')\n",
    "plt.xlim([0 , 1])\n",
    "plt.ylim([0 , 1])\n",
    "plt.plot(fpr , tpr , label = 'AUC =' +str(roc_auc))\n",
    "plt.legend(loc = 4) #Location of label\n",
    "plt.show()"
   ]
  },
  {
   "cell_type": "markdown",
   "id": "24add563",
   "metadata": {},
   "source": [
    "## with smote"
   ]
  },
  {
   "cell_type": "code",
   "execution_count": 186,
   "id": "04972d99",
   "metadata": {
    "scrolled": true
   },
   "outputs": [
    {
     "data": {
      "text/plain": [
       "0    1233\n",
       "1     237\n",
       "Name: Attrition, dtype: int64"
      ]
     },
     "execution_count": 186,
     "metadata": {},
     "output_type": "execute_result"
    }
   ],
   "source": [
    "df.Attrition.value_counts()"
   ]
  },
  {
   "cell_type": "markdown",
   "id": "7f1b1571",
   "metadata": {},
   "source": [
    "Our target variable class is imbalanced, so we will use SMOTE to over sample the minority class for balancing"
   ]
  },
  {
   "cell_type": "code",
   "execution_count": 187,
   "id": "292aee9d",
   "metadata": {},
   "outputs": [],
   "source": [
    "no = df[df.Attrition == 0]\n",
    "yes = df[df.Attrition == 1]"
   ]
  },
  {
   "cell_type": "code",
   "execution_count": 188,
   "id": "d1685ad6",
   "metadata": {},
   "outputs": [],
   "source": [
    "from sklearn.utils import resample\n",
    "os = resample(yes , replace = True , n_samples = len(no) , random_state = 8)"
   ]
  },
  {
   "cell_type": "code",
   "execution_count": 189,
   "id": "16e6c19b",
   "metadata": {},
   "outputs": [],
   "source": [
    "df= pd.concat([no , os])"
   ]
  },
  {
   "cell_type": "code",
   "execution_count": 190,
   "id": "b5ef1bb5",
   "metadata": {},
   "outputs": [
    {
     "data": {
      "text/plain": [
       "0    1233\n",
       "1    1233\n",
       "Name: Attrition, dtype: int64"
      ]
     },
     "execution_count": 190,
     "metadata": {},
     "output_type": "execute_result"
    }
   ],
   "source": [
    "df.Attrition.value_counts()"
   ]
  },
  {
   "cell_type": "code",
   "execution_count": 191,
   "id": "1d1ec6a7",
   "metadata": {},
   "outputs": [
    {
     "data": {
      "image/png": "[encoded data removed]",
      "text/plain": [
       "<Figure size 432x288 with 1 Axes>"
      ]
     },
     "metadata": {},
     "output_type": "display_data"
    }
   ],
   "source": [
    "target_var = pd.crosstab(index = df['Attrition'],columns = '% observations')\n",
    "plt.pie(target_var['% observations'] , labels = target_var['% observations'].index , autopct = '%.0f%%')\n",
    "plt.title('Target: Attrition')\n",
    "plt.show()"
   ]
  },
  {
   "cell_type": "code",
   "execution_count": 192,
   "id": "5a4f06fb",
   "metadata": {},
   "outputs": [],
   "source": [
    "x2 = df.drop(['Attrition'],axis = 1)\n",
    "y2 = df.Attrition"
   ]
  },
  {
   "cell_type": "code",
   "execution_count": 193,
   "id": "576987de",
   "metadata": {},
   "outputs": [],
   "source": [
    "x_train , x_test , y_train , y_test = train_test_split(x2 , y2 , test_size = 0.2 , random_state = 8)"
   ]
  },
  {
   "cell_type": "code",
   "execution_count": 194,
   "id": "a9346558",
   "metadata": {},
   "outputs": [],
   "source": [
    "from sklearn.linear_model import LogisticRegression\n",
    "log1 = LogisticRegression(solver = 'liblinear' , random_state = 8) "
   ]
  },
  {
   "cell_type": "code",
   "execution_count": 195,
   "id": "aedd0e64",
   "metadata": {},
   "outputs": [],
   "source": [
    "model = log1.fit(x_train , y_train)"
   ]
  },
  {
   "cell_type": "code",
   "execution_count": 196,
   "id": "006c8bfb",
   "metadata": {},
   "outputs": [
    {
     "data": {
      "text/plain": [
       "array([4.25638881])"
      ]
     },
     "execution_count": 196,
     "metadata": {},
     "output_type": "execute_result"
    }
   ],
   "source": [
    "model.intercept_"
   ]
  },
  {
   "cell_type": "code",
   "execution_count": 197,
   "id": "5623ba11",
   "metadata": {},
   "outputs": [
    {
     "data": {
      "text/plain": [
       "array([[ 8.71680121e-01, -2.25328752e-04,  4.18535589e-01,\n",
       "         3.46733716e-02,  1.60736778e-01, -3.14881719e-01,\n",
       "        -3.64343110e-01,  5.76438389e-03,  3.36679836e-02,\n",
       "        -2.62181785e-01,  4.21488882e-02, -1.02430203e-04,\n",
       "        -1.33607948e+00, -3.98754599e-01, -1.44007770e-01,\n",
       "        -1.46201291e-01, -1.94096403e-02, -7.12676701e-02]])"
      ]
     },
     "execution_count": 197,
     "metadata": {},
     "output_type": "execute_result"
    }
   ],
   "source": [
    "model.coef_"
   ]
  },
  {
   "cell_type": "code",
   "execution_count": 198,
   "id": "7ab7332b",
   "metadata": {},
   "outputs": [],
   "source": [
    "y_pred1 = model.predict(x_test)"
   ]
  },
  {
   "cell_type": "code",
   "execution_count": 199,
   "id": "37488d25",
   "metadata": {},
   "outputs": [
    {
     "name": "stdout",
     "output_type": "stream",
     "text": [
      "[[168  83]\n",
      " [ 60 183]]\n"
     ]
    }
   ],
   "source": [
    "print(confusion_matrix(y_test,y_pred1))"
   ]
  },
  {
   "cell_type": "code",
   "execution_count": 200,
   "id": "3f450e9a",
   "metadata": {},
   "outputs": [
    {
     "data": {
      "text/plain": [
       "0.7105263157894737"
      ]
     },
     "execution_count": 200,
     "metadata": {},
     "output_type": "execute_result"
    }
   ],
   "source": [
    "accuracy_score(y_test , y_pred1)"
   ]
  },
  {
   "cell_type": "code",
   "execution_count": 201,
   "id": "90f25837",
   "metadata": {},
   "outputs": [
    {
     "name": "stdout",
     "output_type": "stream",
     "text": [
      "              precision    recall  f1-score   support\n",
      "\n",
      "           0       0.74      0.67      0.70       251\n",
      "           1       0.69      0.75      0.72       243\n",
      "\n",
      "    accuracy                           0.71       494\n",
      "   macro avg       0.71      0.71      0.71       494\n",
      "weighted avg       0.71      0.71      0.71       494\n",
      "\n"
     ]
    }
   ],
   "source": [
    "print(classification_report(y_test , y_pred1))"
   ]
  },
  {
   "cell_type": "code",
   "execution_count": 202,
   "id": "c9dc48a4",
   "metadata": {},
   "outputs": [
    {
     "name": "stdout",
     "output_type": "stream",
     "text": [
      "0.8109619136622235\n"
     ]
    }
   ],
   "source": [
    "y_p_p = model.predict_proba(x_test)\n",
    "fpr , tpr , threshold = roc_curve(y_test , y_p_p[:,1])    \n",
    "roc_auc = auc(fpr , tpr)\n",
    "print(roc_auc)"
   ]
  },
  {
   "cell_type": "code",
   "execution_count": 203,
   "id": "e6d2ee2f",
   "metadata": {},
   "outputs": [
    {
     "data": {
      "image/png": "[encoded data removed]",
      "text/plain": [
       "<Figure size 432x288 with 1 Axes>"
      ]
     },
     "metadata": {
      "needs_background": "light"
     },
     "output_type": "display_data"
    }
   ],
   "source": [
    "plt.title('ROC Curve for LogisticRegression',size = 15)\n",
    "plt.xlabel('False Positive Rate (1-Specificity)',size = 12)\n",
    "plt.ylabel('True Positive Rate (Sensitivity)',size = 12)\n",
    "plt.plot([0 , 1], [0, 1],'r--')\n",
    "plt.xlim([0 , 1])\n",
    "plt.ylim([0 , 1])\n",
    "plt.plot(fpr , tpr , label = 'AUC =' +str(roc_auc))\n",
    "plt.legend(loc = 4) #Location of label\n",
    "plt.show()"
   ]
  },
  {
   "cell_type": "code",
   "execution_count": null,
   "id": "90c03bf5",
   "metadata": {},
   "outputs": [],
   "source": []
  },
  {
   "cell_type": "markdown",
   "id": "f8f10b10",
   "metadata": {},
   "source": [
    "## GLM"
   ]
  },
  {
   "cell_type": "code",
   "execution_count": 204,
   "id": "fad77a03",
   "metadata": {},
   "outputs": [],
   "source": [
    "import statsmodels.formula.api as smf"
   ]
  },
  {
   "cell_type": "code",
   "execution_count": 205,
   "id": "41459aea",
   "metadata": {},
   "outputs": [],
   "source": [
    "col = df.columns"
   ]
  },
  {
   "cell_type": "code",
   "execution_count": 206,
   "id": "fd7685c7",
   "metadata": {},
   "outputs": [
    {
     "name": "stdout",
     "output_type": "stream",
     "text": [
      "Attrition + BusinessTravel + DailyRate + Department + DistanceFromHome + EducationField + EnvironmentSatisfaction + JobInvolvement + JobLevel + JobRole + JobSatisfaction + MaritalStatus + MonthlyIncome + OverTime + StockOptionLevel + TrainingTimesLastYear + WorkLifeBalance + YearsInCurrentRole + YearsWithCurrManager + "
     ]
    }
   ],
   "source": [
    "for i in col:\n",
    "    print(i,'+',end = \" \")"
   ]
  },
  {
   "cell_type": "code",
   "execution_count": 207,
   "id": "31715bc8",
   "metadata": {},
   "outputs": [
    {
     "name": "stdout",
     "output_type": "stream",
     "text": [
      "                 Generalized Linear Model Regression Results                  \n",
      "==============================================================================\n",
      "Dep. Variable:              Attrition   No. Observations:                 2466\n",
      "Model:                            GLM   Df Residuals:                     2447\n",
      "Model Family:                Binomial   Df Model:                           18\n",
      "Link Function:                  Logit   Scale:                          1.0000\n",
      "Method:                          IRLS   Log-Likelihood:                -1289.2\n",
      "Date:                Sat, 01 Apr 2023   Deviance:                       2578.5\n",
      "Time:                        14:44:29   Pearson chi2:                 2.47e+03\n",
      "No. Iterations:                     5   Pseudo R-squ. (CS):             0.2887\n",
      "Covariance Type:            nonrobust                                         \n",
      "===========================================================================================\n",
      "                              coef    std err          z      P>|z|      [0.025      0.975]\n",
      "-------------------------------------------------------------------------------------------\n",
      "Intercept                   5.8938      0.457     12.907      0.000       4.999       6.789\n",
      "BusinessTravel              0.6837      0.094      7.291      0.000       0.500       0.867\n",
      "DailyRate                  -0.0004      0.000     -3.409      0.001      -0.001      -0.000\n",
      "Department                  0.3821      0.093      4.127      0.000       0.201       0.564\n",
      "DistanceFromHome            0.0270      0.006      4.420      0.000       0.015       0.039\n",
      "EducationField              0.1860      0.042      4.450      0.000       0.104       0.268\n",
      "EnvironmentSatisfaction    -0.3648      0.044     -8.205      0.000      -0.452      -0.278\n",
      "JobInvolvement             -0.4623      0.068     -6.831      0.000      -0.595      -0.330\n",
      "JobLevel                   -0.0697      0.146     -0.478      0.632      -0.355       0.216\n",
      "JobRole                     0.0158      0.021      0.751      0.453      -0.025       0.057\n",
      "JobSatisfaction            -0.2689      0.044     -6.115      0.000      -0.355      -0.183\n",
      "MaritalStatus              -0.0434      0.066     -0.659      0.510      -0.173       0.086\n",
      "MonthlyIncome           -9.291e-05   3.77e-05     -2.467      0.014      -0.000   -1.91e-05\n",
      "OverTime                   -1.4605      0.103    -14.228      0.000      -1.662      -1.259\n",
      "StockOptionLevel           -0.4048      0.057     -7.099      0.000      -0.517      -0.293\n",
      "TrainingTimesLastYear      -0.1936      0.039     -5.024      0.000      -0.269      -0.118\n",
      "WorkLifeBalance            -0.1875      0.066     -2.834      0.005      -0.317      -0.058\n",
      "YearsInCurrentRole         -0.0175      0.022     -0.778      0.437      -0.061       0.027\n",
      "YearsWithCurrManager       -0.0818      0.022     -3.654      0.000      -0.126      -0.038\n",
      "===========================================================================================\n"
     ]
    }
   ],
   "source": [
    "gml = smf.glm(formula = 'Attrition ~ BusinessTravel + DailyRate + Department + DistanceFromHome + EducationField + EnvironmentSatisfaction + JobInvolvement + JobLevel + JobRole + JobSatisfaction + MaritalStatus + MonthlyIncome + OverTime + StockOptionLevel + TrainingTimesLastYear + WorkLifeBalance + YearsInCurrentRole + YearsWithCurrManager',data=df,family=sm.families.Binomial())\n",
    "result = gml.fit()\n",
    "print(result.summary())"
   ]
  },
  {
   "cell_type": "code",
   "execution_count": 208,
   "id": "b8767229",
   "metadata": {},
   "outputs": [],
   "source": [
    "df.drop(['JobLevel','JobRole','MaritalStatus','YearsInCurrentRole'],axis = 1,inplace = True)"
   ]
  },
  {
   "cell_type": "code",
   "execution_count": 209,
   "id": "1278e8a2",
   "metadata": {},
   "outputs": [
    {
     "data": {
      "text/plain": [
       "[0,\n",
       " 1,\n",
       " 0,\n",
       " 0,\n",
       " 0,\n",
       " 0,\n",
       " 0,\n",
       " 0,\n",
       " 0,\n",
       " 1,\n",
       " 1,\n",
       " 0,\n",
       " 0,\n",
       " 0,\n",
       " 0,\n",
       " 0,\n",
       " 0,\n",
       " 0,\n",
       " 0,\n",
       " 0,\n",
       " 0,\n",
       " 0,\n",
       " 0,\n",
       " 0,\n",
       " 0,\n",
       " 0,\n",
       " 0,\n",
       " 0,\n",
       " 0,\n",
       " 1,\n",
       " 0,\n",
       " 0,\n",
       " 0,\n",
       " 0,\n",
       " 0,\n",
       " 0,\n",
       " 1,\n",
       " 1,\n",
       " 0,\n",
       " 1,\n",
       " 0,\n",
       " 1,\n",
       " 0,\n",
       " 0,\n",
       " 1,\n",
       " 0,\n",
       " 0,\n",
       " 0,\n",
       " 0,\n",
       " 0,\n",
       " 0,\n",
       " 0,\n",
       " 0,\n",
       " 1,\n",
       " 0,\n",
       " 1,\n",
       " 1,\n",
       " 0,\n",
       " 0,\n",
       " 0,\n",
       " 0,\n",
       " 0,\n",
       " 1,\n",
       " 1,\n",
       " 0,\n",
       " 1,\n",
       " 0,\n",
       " 0,\n",
       " 0,\n",
       " 0,\n",
       " 0,\n",
       " 0,\n",
       " 1,\n",
       " 0,\n",
       " 0,\n",
       " 0,\n",
       " 1,\n",
       " 0,\n",
       " 1,\n",
       " 0,\n",
       " 0,\n",
       " 1,\n",
       " 0,\n",
       " 0,\n",
       " 0,\n",
       " 0,\n",
       " 0,\n",
       " 0,\n",
       " 0,\n",
       " 1,\n",
       " 0,\n",
       " 0,\n",
       " 1,\n",
       " 0,\n",
       " 0,\n",
       " 0,\n",
       " 0,\n",
       " 0,\n",
       " 0,\n",
       " 0,\n",
       " 0,\n",
       " 1,\n",
       " 0,\n",
       " 0,\n",
       " 1,\n",
       " 0,\n",
       " 0,\n",
       " 1,\n",
       " 0,\n",
       " 0,\n",
       " 0,\n",
       " 0,\n",
       " 0,\n",
       " 1,\n",
       " 1,\n",
       " 0,\n",
       " 1,\n",
       " 1,\n",
       " 0,\n",
       " 0,\n",
       " 0,\n",
       " 0,\n",
       " 0,\n",
       " 0,\n",
       " 0,\n",
       " 0,\n",
       " 1,\n",
       " 0,\n",
       " 0,\n",
       " 0,\n",
       " 1,\n",
       " 1,\n",
       " 0,\n",
       " 1,\n",
       " 0,\n",
       " 0,\n",
       " 0,\n",
       " 0,\n",
       " 1,\n",
       " 0,\n",
       " 0,\n",
       " 0,\n",
       " 0,\n",
       " 0,\n",
       " 1,\n",
       " 0,\n",
       " 0,\n",
       " 1,\n",
       " 1,\n",
       " 0,\n",
       " 0,\n",
       " 0,\n",
       " 1,\n",
       " 0,\n",
       " 0,\n",
       " 0,\n",
       " 0,\n",
       " 0,\n",
       " 0,\n",
       " 0,\n",
       " 0,\n",
       " 0,\n",
       " 0,\n",
       " 0,\n",
       " 0,\n",
       " 1,\n",
       " 1,\n",
       " 0,\n",
       " 0,\n",
       " 0,\n",
       " 1,\n",
       " 0,\n",
       " 1,\n",
       " 0,\n",
       " 0,\n",
       " 1,\n",
       " 0,\n",
       " 0,\n",
       " 0,\n",
       " 0,\n",
       " 0,\n",
       " 0,\n",
       " 0,\n",
       " 0,\n",
       " 0,\n",
       " 1,\n",
       " 0,\n",
       " 0,\n",
       " 0,\n",
       " 0,\n",
       " 1,\n",
       " 0,\n",
       " 0,\n",
       " 0,\n",
       " 0,\n",
       " 1,\n",
       " 0,\n",
       " 0,\n",
       " 0,\n",
       " 0,\n",
       " 0,\n",
       " 0,\n",
       " 0,\n",
       " 0,\n",
       " 0,\n",
       " 0,\n",
       " 0,\n",
       " 0,\n",
       " 1,\n",
       " 0,\n",
       " 0,\n",
       " 0,\n",
       " 1,\n",
       " 0,\n",
       " 0,\n",
       " 1,\n",
       " 0,\n",
       " 0,\n",
       " 1,\n",
       " 0,\n",
       " 0,\n",
       " 1,\n",
       " 1,\n",
       " 0,\n",
       " 0,\n",
       " 0,\n",
       " 0,\n",
       " 0,\n",
       " 0,\n",
       " 0,\n",
       " 0,\n",
       " 0,\n",
       " 0,\n",
       " 1,\n",
       " 0,\n",
       " 0,\n",
       " 0,\n",
       " 0,\n",
       " 0,\n",
       " 1,\n",
       " 1,\n",
       " 0,\n",
       " 0,\n",
       " 0,\n",
       " 1,\n",
       " 0,\n",
       " 0,\n",
       " 1,\n",
       " 0,\n",
       " 0,\n",
       " 0,\n",
       " 0,\n",
       " 0,\n",
       " 1,\n",
       " 0,\n",
       " 0,\n",
       " 0,\n",
       " 0,\n",
       " 0,\n",
       " 0,\n",
       " 0,\n",
       " 1,\n",
       " 1,\n",
       " 0,\n",
       " 1,\n",
       " 0,\n",
       " 0,\n",
       " 0,\n",
       " 0,\n",
       " 1,\n",
       " 1,\n",
       " 0,\n",
       " 0,\n",
       " 0,\n",
       " 0,\n",
       " 0,\n",
       " 0,\n",
       " 1,\n",
       " 0,\n",
       " 0,\n",
       " 1,\n",
       " 0,\n",
       " 0,\n",
       " 0,\n",
       " 1,\n",
       " 1,\n",
       " 0,\n",
       " 0,\n",
       " 0,\n",
       " 0,\n",
       " 0,\n",
       " 1,\n",
       " 0,\n",
       " 0,\n",
       " 1,\n",
       " 1,\n",
       " 0,\n",
       " 0,\n",
       " 1,\n",
       " 0,\n",
       " 1,\n",
       " 0,\n",
       " 1,\n",
       " 0,\n",
       " 0,\n",
       " 0,\n",
       " 0,\n",
       " 0,\n",
       " 0,\n",
       " 0,\n",
       " 0,\n",
       " 0,\n",
       " 0,\n",
       " 1,\n",
       " 0,\n",
       " 0,\n",
       " 0,\n",
       " 0,\n",
       " 0,\n",
       " 0,\n",
       " 0,\n",
       " 0,\n",
       " 1,\n",
       " 1,\n",
       " 1,\n",
       " 0,\n",
       " 0,\n",
       " 0,\n",
       " 0,\n",
       " 1,\n",
       " 0,\n",
       " 0,\n",
       " 0,\n",
       " 0,\n",
       " 0,\n",
       " 0,\n",
       " 1,\n",
       " 1,\n",
       " 0,\n",
       " 0,\n",
       " 0,\n",
       " 0,\n",
       " 0,\n",
       " 0,\n",
       " 0,\n",
       " 0,\n",
       " 0,\n",
       " 0,\n",
       " 1,\n",
       " 0,\n",
       " 0,\n",
       " 0,\n",
       " 0,\n",
       " 1,\n",
       " 0,\n",
       " 0,\n",
       " 0,\n",
       " 0,\n",
       " 0,\n",
       " 1,\n",
       " 0,\n",
       " 0,\n",
       " 0,\n",
       " 0,\n",
       " 0,\n",
       " 1,\n",
       " 0,\n",
       " 0,\n",
       " 1,\n",
       " 0,\n",
       " 0,\n",
       " 0,\n",
       " 1,\n",
       " 0,\n",
       " 0,\n",
       " 0,\n",
       " 0,\n",
       " 0,\n",
       " 0,\n",
       " 0,\n",
       " 1,\n",
       " 0,\n",
       " 0,\n",
       " 0,\n",
       " 0,\n",
       " 0,\n",
       " 1,\n",
       " 1,\n",
       " 0,\n",
       " 1,\n",
       " 0,\n",
       " 0,\n",
       " 1,\n",
       " 0,\n",
       " 0,\n",
       " 0,\n",
       " 0,\n",
       " 0,\n",
       " 0,\n",
       " 0,\n",
       " 0,\n",
       " 0,\n",
       " 1,\n",
       " 0,\n",
       " 1,\n",
       " 1,\n",
       " 1,\n",
       " 0,\n",
       " 0,\n",
       " 1,\n",
       " 0,\n",
       " 0,\n",
       " 1,\n",
       " 1,\n",
       " 0,\n",
       " 0,\n",
       " 1,\n",
       " 1,\n",
       " 1,\n",
       " 0,\n",
       " 1,\n",
       " 0,\n",
       " 1,\n",
       " 1,\n",
       " 0,\n",
       " 0,\n",
       " 1,\n",
       " 0,\n",
       " 0,\n",
       " 0,\n",
       " 0,\n",
       " 0,\n",
       " 1,\n",
       " 1,\n",
       " 0,\n",
       " 0,\n",
       " 0,\n",
       " 0,\n",
       " 0,\n",
       " 0,\n",
       " 0,\n",
       " 0,\n",
       " 0,\n",
       " 0,\n",
       " 0,\n",
       " 0,\n",
       " 0,\n",
       " 0,\n",
       " 0,\n",
       " 0,\n",
       " 1,\n",
       " 0,\n",
       " 0,\n",
       " 1,\n",
       " 0,\n",
       " 0,\n",
       " 0,\n",
       " 0,\n",
       " 0,\n",
       " 1,\n",
       " 0,\n",
       " 0,\n",
       " 0,\n",
       " 0,\n",
       " 0,\n",
       " 0,\n",
       " 0,\n",
       " 0,\n",
       " 1,\n",
       " 0,\n",
       " 0,\n",
       " 0,\n",
       " 0,\n",
       " 0,\n",
       " 1,\n",
       " 0,\n",
       " 0,\n",
       " 0,\n",
       " 1,\n",
       " 0,\n",
       " 0,\n",
       " 0,\n",
       " 0,\n",
       " 1,\n",
       " 0,\n",
       " 0,\n",
       " 0,\n",
       " 0,\n",
       " 1,\n",
       " 1,\n",
       " 1,\n",
       " 1,\n",
       " 0,\n",
       " 0,\n",
       " 0,\n",
       " 0,\n",
       " 0,\n",
       " 0,\n",
       " 0,\n",
       " 0,\n",
       " 0,\n",
       " 0,\n",
       " 0,\n",
       " 0,\n",
       " 0,\n",
       " 1,\n",
       " 0,\n",
       " 1,\n",
       " 1,\n",
       " 1,\n",
       " 0,\n",
       " 1,\n",
       " 1,\n",
       " 0,\n",
       " 0,\n",
       " 0,\n",
       " 1,\n",
       " 0,\n",
       " 0,\n",
       " 0,\n",
       " 0,\n",
       " 1,\n",
       " 0,\n",
       " 1,\n",
       " 0,\n",
       " 0,\n",
       " 0,\n",
       " 1,\n",
       " 1,\n",
       " 0,\n",
       " 0,\n",
       " 0,\n",
       " 0,\n",
       " 0,\n",
       " 1,\n",
       " 1,\n",
       " 1,\n",
       " 1,\n",
       " 0,\n",
       " 0,\n",
       " 1,\n",
       " 0,\n",
       " 0,\n",
       " 1,\n",
       " 1,\n",
       " 0,\n",
       " 0,\n",
       " 0,\n",
       " 0,\n",
       " 1,\n",
       " 0,\n",
       " 0,\n",
       " 1,\n",
       " 1,\n",
       " 0,\n",
       " 0,\n",
       " 1,\n",
       " 0,\n",
       " 1,\n",
       " 0,\n",
       " 0,\n",
       " 0,\n",
       " 1,\n",
       " 0,\n",
       " 0,\n",
       " 0,\n",
       " 0,\n",
       " 1,\n",
       " 1,\n",
       " 1,\n",
       " 0,\n",
       " 0,\n",
       " 0,\n",
       " 0,\n",
       " 0,\n",
       " 0,\n",
       " 0,\n",
       " 1,\n",
       " 1,\n",
       " 0,\n",
       " 0,\n",
       " 0,\n",
       " 1,\n",
       " 0,\n",
       " 0,\n",
       " 0,\n",
       " 0,\n",
       " 0,\n",
       " 0,\n",
       " 0,\n",
       " 0,\n",
       " 1,\n",
       " 0,\n",
       " 0,\n",
       " 0,\n",
       " 0,\n",
       " 0,\n",
       " 0,\n",
       " 0,\n",
       " 0,\n",
       " 1,\n",
       " 0,\n",
       " 0,\n",
       " 0,\n",
       " 1,\n",
       " 0,\n",
       " 1,\n",
       " 0,\n",
       " 0,\n",
       " 0,\n",
       " 0,\n",
       " 0,\n",
       " 1,\n",
       " 0,\n",
       " 0,\n",
       " 1,\n",
       " 1,\n",
       " 0,\n",
       " 0,\n",
       " 0,\n",
       " 0,\n",
       " 0,\n",
       " 0,\n",
       " 0,\n",
       " 0,\n",
       " 1,\n",
       " 0,\n",
       " 1,\n",
       " 0,\n",
       " 0,\n",
       " 1,\n",
       " 0,\n",
       " 0,\n",
       " 0,\n",
       " 0,\n",
       " 1,\n",
       " 1,\n",
       " 0,\n",
       " 1,\n",
       " 0,\n",
       " 1,\n",
       " 0,\n",
       " 0,\n",
       " 1,\n",
       " 0,\n",
       " 0,\n",
       " 0,\n",
       " 0,\n",
       " 0,\n",
       " 0,\n",
       " 0,\n",
       " 0,\n",
       " 1,\n",
       " 1,\n",
       " 0,\n",
       " 0,\n",
       " 0,\n",
       " 0,\n",
       " 0,\n",
       " 0,\n",
       " 0,\n",
       " 0,\n",
       " 1,\n",
       " 0,\n",
       " 0,\n",
       " 0,\n",
       " 0,\n",
       " 0,\n",
       " 0,\n",
       " 0,\n",
       " 1,\n",
       " 0,\n",
       " 0,\n",
       " 0,\n",
       " 0,\n",
       " 0,\n",
       " 0,\n",
       " 1,\n",
       " 0,\n",
       " 0,\n",
       " 0,\n",
       " 1,\n",
       " 0,\n",
       " 0,\n",
       " 0,\n",
       " 0,\n",
       " 1,\n",
       " 1,\n",
       " 0,\n",
       " 1,\n",
       " 1,\n",
       " 0,\n",
       " 0,\n",
       " 0,\n",
       " 1,\n",
       " 0,\n",
       " 1,\n",
       " 0,\n",
       " 0,\n",
       " 0,\n",
       " 0,\n",
       " 1,\n",
       " 0,\n",
       " 0,\n",
       " 0,\n",
       " 0,\n",
       " 0,\n",
       " 0,\n",
       " 0,\n",
       " 1,\n",
       " 0,\n",
       " 1,\n",
       " 0,\n",
       " 1,\n",
       " 0,\n",
       " 0,\n",
       " 1,\n",
       " 0,\n",
       " 0,\n",
       " 0,\n",
       " 0,\n",
       " 0,\n",
       " 0,\n",
       " 1,\n",
       " 0,\n",
       " 0,\n",
       " 0,\n",
       " 0,\n",
       " 0,\n",
       " 0,\n",
       " 0,\n",
       " 1,\n",
       " 0,\n",
       " 1,\n",
       " 0,\n",
       " 1,\n",
       " 0,\n",
       " 0,\n",
       " 1,\n",
       " 0,\n",
       " 1,\n",
       " 0,\n",
       " 0,\n",
       " 0,\n",
       " 0,\n",
       " 1,\n",
       " 0,\n",
       " 0,\n",
       " 0,\n",
       " 0,\n",
       " 1,\n",
       " 0,\n",
       " 0,\n",
       " 0,\n",
       " 0,\n",
       " 0,\n",
       " 0,\n",
       " 0,\n",
       " 0,\n",
       " 1,\n",
       " 0,\n",
       " 1,\n",
       " 0,\n",
       " 0,\n",
       " 1,\n",
       " 0,\n",
       " 0,\n",
       " 0,\n",
       " 1,\n",
       " 0,\n",
       " 0,\n",
       " 1,\n",
       " 1,\n",
       " 0,\n",
       " 0,\n",
       " 1,\n",
       " 0,\n",
       " 0,\n",
       " 1,\n",
       " 0,\n",
       " 0,\n",
       " 0,\n",
       " 0,\n",
       " 0,\n",
       " 0,\n",
       " 0,\n",
       " 0,\n",
       " 0,\n",
       " 0,\n",
       " 0,\n",
       " 0,\n",
       " 0,\n",
       " 0,\n",
       " 0,\n",
       " 0,\n",
       " 0,\n",
       " 0,\n",
       " 0,\n",
       " 0,\n",
       " 1,\n",
       " 1,\n",
       " 0,\n",
       " 0,\n",
       " 0,\n",
       " 0,\n",
       " 0,\n",
       " 1,\n",
       " 0,\n",
       " 0,\n",
       " 0,\n",
       " 0,\n",
       " 0,\n",
       " 1,\n",
       " 0,\n",
       " 0,\n",
       " 0,\n",
       " 0,\n",
       " 0,\n",
       " 0,\n",
       " 1,\n",
       " 1,\n",
       " 0,\n",
       " 0,\n",
       " 1,\n",
       " 0,\n",
       " 1,\n",
       " 0,\n",
       " 0,\n",
       " 0,\n",
       " 1,\n",
       " 1,\n",
       " 1,\n",
       " 0,\n",
       " 1,\n",
       " 0,\n",
       " 0,\n",
       " 0,\n",
       " 0,\n",
       " 1,\n",
       " 0,\n",
       " 0,\n",
       " 0,\n",
       " 1,\n",
       " 0,\n",
       " 0,\n",
       " 0,\n",
       " 0,\n",
       " 0,\n",
       " 1,\n",
       " 1,\n",
       " 0,\n",
       " 0,\n",
       " 0,\n",
       " 0,\n",
       " 0,\n",
       " 0,\n",
       " 1,\n",
       " 0,\n",
       " 0,\n",
       " 1,\n",
       " 0,\n",
       " 0,\n",
       " 0,\n",
       " 0,\n",
       " 0,\n",
       " 0,\n",
       " 0,\n",
       " 0,\n",
       " 0,\n",
       " 0,\n",
       " 0,\n",
       " 1,\n",
       " 0,\n",
       " 0,\n",
       " 1,\n",
       " 0,\n",
       " 0,\n",
       " 0,\n",
       " 0,\n",
       " 0,\n",
       " 0,\n",
       " 1,\n",
       " 0,\n",
       " 0,\n",
       " 0,\n",
       " 1,\n",
       " 1,\n",
       " 1,\n",
       " 1,\n",
       " 0,\n",
       " 0,\n",
       " 0,\n",
       " 0,\n",
       " 0,\n",
       " 0,\n",
       " 0,\n",
       " 0,\n",
       " 0,\n",
       " 0,\n",
       " 1,\n",
       " 1,\n",
       " 1,\n",
       " 1,\n",
       " 0,\n",
       " 0,\n",
       " 0,\n",
       " 1,\n",
       " 0,\n",
       " 0,\n",
       " 1,\n",
       " 1,\n",
       " 0,\n",
       " 1,\n",
       " 0,\n",
       " 0,\n",
       " 0,\n",
       " 0,\n",
       " 1,\n",
       " 0,\n",
       " 0,\n",
       " 0,\n",
       " 1,\n",
       " 0,\n",
       " 0,\n",
       " 0,\n",
       " 1,\n",
       " 1,\n",
       " 0,\n",
       " 0,\n",
       " 0,\n",
       " 0,\n",
       " 0,\n",
       " 0,\n",
       " 1,\n",
       " 1,\n",
       " 0,\n",
       " 0,\n",
       " 1,\n",
       " 0,\n",
       " 1,\n",
       " 0,\n",
       " 0,\n",
       " 0,\n",
       " 0,\n",
       " 0,\n",
       " 0,\n",
       " 0,\n",
       " 1,\n",
       " 0,\n",
       " 0,\n",
       " 0,\n",
       " 1,\n",
       " 1,\n",
       " 1,\n",
       " 1,\n",
       " 1,\n",
       " 0,\n",
       " 0,\n",
       " 0,\n",
       " 0,\n",
       " 0,\n",
       " 1,\n",
       " 0,\n",
       " 0,\n",
       " 0,\n",
       " 0,\n",
       " 0,\n",
       " 0,\n",
       " 1,\n",
       " 0,\n",
       " 0,\n",
       " 0,\n",
       " 1,\n",
       " 1,\n",
       " 0,\n",
       " 1,\n",
       " 0,\n",
       " 1,\n",
       " 1,\n",
       " 0,\n",
       " 0,\n",
       " 0,\n",
       " 0,\n",
       " 0,\n",
       " 0,\n",
       " 0,\n",
       " 1,\n",
       " 0,\n",
       " 0,\n",
       " 0,\n",
       " 0,\n",
       " 0,\n",
       " 0,\n",
       " 1,\n",
       " 0,\n",
       " 0,\n",
       " 0,\n",
       " 1,\n",
       " 1,\n",
       " 0,\n",
       " ...]"
      ]
     },
     "execution_count": 209,
     "metadata": {},
     "output_type": "execute_result"
    }
   ],
   "source": [
    "pred_glm = result.predict()\n",
    "pred_nominal = [0 if x < 0.5 else 1 for x in pred_glm]\n",
    "pred_nominal"
   ]
  },
  {
   "cell_type": "code",
   "execution_count": 210,
   "id": "b9dbf5aa",
   "metadata": {},
   "outputs": [],
   "source": [
    "from sklearn.metrics import accuracy_score , classification_report , confusion_matrix , roc_curve , auc , roc_auc_score"
   ]
  },
  {
   "cell_type": "code",
   "execution_count": 211,
   "id": "96cadbbc",
   "metadata": {},
   "outputs": [
    {
     "name": "stdout",
     "output_type": "stream",
     "text": [
      "[[920 313]\n",
      " [320 913]]\n"
     ]
    }
   ],
   "source": [
    "print(confusion_matrix(df['Attrition'] , pred_nominal))"
   ]
  },
  {
   "cell_type": "code",
   "execution_count": 212,
   "id": "82ed0968",
   "metadata": {},
   "outputs": [
    {
     "data": {
      "text/plain": [
       "0.8187634061681693"
      ]
     },
     "execution_count": 212,
     "metadata": {},
     "output_type": "execute_result"
    }
   ],
   "source": [
    "fpr , tpr , threshold = roc_curve(df['Attrition'] , pred_glm)\n",
    "roc_auc = auc(fpr , tpr)\n",
    "roc_auc"
   ]
  },
  {
   "cell_type": "code",
   "execution_count": 213,
   "id": "32a0a716",
   "metadata": {},
   "outputs": [
    {
     "name": "stdout",
     "output_type": "stream",
     "text": [
      "              precision    recall  f1-score   support\n",
      "\n",
      "           0      0.742     0.746     0.744      1233\n",
      "           1      0.745     0.740     0.743      1233\n",
      "\n",
      "    accuracy                          0.743      2466\n",
      "   macro avg      0.743     0.743     0.743      2466\n",
      "weighted avg      0.743     0.743     0.743      2466\n",
      "\n"
     ]
    }
   ],
   "source": [
    "print(classification_report(df['Attrition'] , pred_nominal , digits = 3))"
   ]
  },
  {
   "cell_type": "code",
   "execution_count": 214,
   "id": "3b2c8aa8",
   "metadata": {
    "scrolled": true
   },
   "outputs": [
    {
     "data": {
      "image/png": "[encoded data removed]",
      "text/plain": [
       "<Figure size 432x288 with 1 Axes>"
      ]
     },
     "metadata": {
      "needs_background": "light"
     },
     "output_type": "display_data"
    }
   ],
   "source": [
    "plt.title('ROC Curve for GLM',size = 15)\n",
    "plt.xlabel('False Positive Rate (1-Specificity)',size = 12)\n",
    "plt.ylabel('True Positive Rate (Sensitivity)',size = 12)\n",
    "plt.plot([0 , 1], [0 , 1],'r--')\n",
    "plt.xlim([0 , 1])\n",
    "plt.ylim([0 , 1])\n",
    "plt.plot(fpr , tpr , label = 'AUC =' +str(roc_auc))\n",
    "plt.legend(loc = 4) #Location of label\n",
    "plt.show()"
   ]
  }
 ],
 "metadata": {
  "kernelspec": {
   "display_name": "Python 3 (ipykernel)",
   "language": "python",
   "name": "python3"
  },
  "language_info": {
   "codemirror_mode": {
    "name": "ipython",
    "version": 3
   },
   "file_extension": ".py",
   "mimetype": "text/x-python",
   "name": "python",
   "nbconvert_exporter": "python",
   "pygments_lexer": "ipython3",
   "version": "3.9.12"
  }
 },
 "nbformat": 4,
 "nbformat_minor": 5
}
