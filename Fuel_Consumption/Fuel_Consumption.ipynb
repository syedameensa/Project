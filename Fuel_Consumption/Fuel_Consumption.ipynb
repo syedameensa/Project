{
 "cells": [
  {
   "cell_type": "code",
   "execution_count": 1,
   "id": "44e5df6a",
   "metadata": {},
   "outputs": [],
   "source": [
    "import pandas as pd \n",
    "import numpy as np\n",
    "import matplotlib.pyplot as plt\n",
    "import seaborn as sns\n",
    "pd.set_option('display.max_column',None)\n",
    "from scipy import stats\n",
    "import statsmodels.api as sm\n",
    "from statsmodels.formula.api import ols\n",
    "import statsmodels.formula.api as smf"
   ]
  },
  {
   "cell_type": "code",
   "execution_count": 2,
   "id": "6f287eb0",
   "metadata": {},
   "outputs": [],
   "source": [
    "df=pd.read_csv('Fuel_Consumption_2000-2022.csv')"
   ]
  },
  {
   "cell_type": "code",
   "execution_count": 3,
   "id": "cc75f5e5",
   "metadata": {},
   "outputs": [
    {
     "data": {
      "text/html": [
       "<div>\n",
       "<style scoped>\n",
       "    .dataframe tbody tr th:only-of-type {\n",
       "        vertical-align: middle;\n",
       "    }\n",
       "\n",
       "    .dataframe tbody tr th {\n",
       "        vertical-align: top;\n",
       "    }\n",
       "\n",
       "    .dataframe thead th {\n",
       "        text-align: right;\n",
       "    }\n",
       "</style>\n",
       "<table border=\"1\" class=\"dataframe\">\n",
       "  <thead>\n",
       "    <tr style=\"text-align: right;\">\n",
       "      <th></th>\n",
       "      <th>YEAR</th>\n",
       "      <th>MAKE</th>\n",
       "      <th>MODEL</th>\n",
       "      <th>VEHICLE CLASS</th>\n",
       "      <th>ENGINE SIZE</th>\n",
       "      <th>CYLINDERS</th>\n",
       "      <th>TRANSMISSION</th>\n",
       "      <th>FUEL</th>\n",
       "      <th>FUEL CONSUMPTION</th>\n",
       "      <th>HWY (L/100 km)</th>\n",
       "      <th>COMB (L/100 km)</th>\n",
       "      <th>COMB (mpg)</th>\n",
       "      <th>EMISSIONS</th>\n",
       "    </tr>\n",
       "  </thead>\n",
       "  <tbody>\n",
       "    <tr>\n",
       "      <th>0</th>\n",
       "      <td>2000</td>\n",
       "      <td>ACURA</td>\n",
       "      <td>1.6EL</td>\n",
       "      <td>COMPACT</td>\n",
       "      <td>1.6</td>\n",
       "      <td>4</td>\n",
       "      <td>A4</td>\n",
       "      <td>X</td>\n",
       "      <td>9.2</td>\n",
       "      <td>6.7</td>\n",
       "      <td>8.1</td>\n",
       "      <td>35</td>\n",
       "      <td>186</td>\n",
       "    </tr>\n",
       "    <tr>\n",
       "      <th>1</th>\n",
       "      <td>2000</td>\n",
       "      <td>ACURA</td>\n",
       "      <td>1.6EL</td>\n",
       "      <td>COMPACT</td>\n",
       "      <td>1.6</td>\n",
       "      <td>4</td>\n",
       "      <td>M5</td>\n",
       "      <td>X</td>\n",
       "      <td>8.5</td>\n",
       "      <td>6.5</td>\n",
       "      <td>7.6</td>\n",
       "      <td>37</td>\n",
       "      <td>175</td>\n",
       "    </tr>\n",
       "    <tr>\n",
       "      <th>2</th>\n",
       "      <td>2000</td>\n",
       "      <td>ACURA</td>\n",
       "      <td>3.2TL</td>\n",
       "      <td>MID-SIZE</td>\n",
       "      <td>3.2</td>\n",
       "      <td>6</td>\n",
       "      <td>AS5</td>\n",
       "      <td>Z</td>\n",
       "      <td>12.2</td>\n",
       "      <td>7.4</td>\n",
       "      <td>10.0</td>\n",
       "      <td>28</td>\n",
       "      <td>230</td>\n",
       "    </tr>\n",
       "    <tr>\n",
       "      <th>3</th>\n",
       "      <td>2000</td>\n",
       "      <td>ACURA</td>\n",
       "      <td>3.5RL</td>\n",
       "      <td>MID-SIZE</td>\n",
       "      <td>3.5</td>\n",
       "      <td>6</td>\n",
       "      <td>A4</td>\n",
       "      <td>Z</td>\n",
       "      <td>13.4</td>\n",
       "      <td>9.2</td>\n",
       "      <td>11.5</td>\n",
       "      <td>25</td>\n",
       "      <td>264</td>\n",
       "    </tr>\n",
       "    <tr>\n",
       "      <th>4</th>\n",
       "      <td>2000</td>\n",
       "      <td>ACURA</td>\n",
       "      <td>INTEGRA</td>\n",
       "      <td>SUBCOMPACT</td>\n",
       "      <td>1.8</td>\n",
       "      <td>4</td>\n",
       "      <td>A4</td>\n",
       "      <td>X</td>\n",
       "      <td>10.0</td>\n",
       "      <td>7.0</td>\n",
       "      <td>8.6</td>\n",
       "      <td>33</td>\n",
       "      <td>198</td>\n",
       "    </tr>\n",
       "    <tr>\n",
       "      <th>...</th>\n",
       "      <td>...</td>\n",
       "      <td>...</td>\n",
       "      <td>...</td>\n",
       "      <td>...</td>\n",
       "      <td>...</td>\n",
       "      <td>...</td>\n",
       "      <td>...</td>\n",
       "      <td>...</td>\n",
       "      <td>...</td>\n",
       "      <td>...</td>\n",
       "      <td>...</td>\n",
       "      <td>...</td>\n",
       "      <td>...</td>\n",
       "    </tr>\n",
       "    <tr>\n",
       "      <th>22551</th>\n",
       "      <td>2022</td>\n",
       "      <td>Volvo</td>\n",
       "      <td>XC40 T5 AWD</td>\n",
       "      <td>SUV: Small</td>\n",
       "      <td>2.0</td>\n",
       "      <td>4</td>\n",
       "      <td>AS8</td>\n",
       "      <td>Z</td>\n",
       "      <td>10.7</td>\n",
       "      <td>7.7</td>\n",
       "      <td>9.4</td>\n",
       "      <td>30</td>\n",
       "      <td>219</td>\n",
       "    </tr>\n",
       "    <tr>\n",
       "      <th>22552</th>\n",
       "      <td>2022</td>\n",
       "      <td>Volvo</td>\n",
       "      <td>XC60 B5 AWD</td>\n",
       "      <td>SUV: Small</td>\n",
       "      <td>2.0</td>\n",
       "      <td>4</td>\n",
       "      <td>AS8</td>\n",
       "      <td>Z</td>\n",
       "      <td>10.5</td>\n",
       "      <td>8.1</td>\n",
       "      <td>9.4</td>\n",
       "      <td>30</td>\n",
       "      <td>219</td>\n",
       "    </tr>\n",
       "    <tr>\n",
       "      <th>22553</th>\n",
       "      <td>2022</td>\n",
       "      <td>Volvo</td>\n",
       "      <td>XC60 B6 AWD</td>\n",
       "      <td>SUV: Small</td>\n",
       "      <td>2.0</td>\n",
       "      <td>4</td>\n",
       "      <td>AS8</td>\n",
       "      <td>Z</td>\n",
       "      <td>11.0</td>\n",
       "      <td>8.7</td>\n",
       "      <td>9.9</td>\n",
       "      <td>29</td>\n",
       "      <td>232</td>\n",
       "    </tr>\n",
       "    <tr>\n",
       "      <th>22554</th>\n",
       "      <td>2022</td>\n",
       "      <td>Volvo</td>\n",
       "      <td>XC90 T5 AWD</td>\n",
       "      <td>SUV: Standard</td>\n",
       "      <td>2.0</td>\n",
       "      <td>4</td>\n",
       "      <td>AS8</td>\n",
       "      <td>Z</td>\n",
       "      <td>11.5</td>\n",
       "      <td>8.4</td>\n",
       "      <td>10.1</td>\n",
       "      <td>28</td>\n",
       "      <td>236</td>\n",
       "    </tr>\n",
       "    <tr>\n",
       "      <th>22555</th>\n",
       "      <td>2022</td>\n",
       "      <td>Volvo</td>\n",
       "      <td>XC90 T6 AWD</td>\n",
       "      <td>SUV: Standard</td>\n",
       "      <td>2.0</td>\n",
       "      <td>4</td>\n",
       "      <td>AS8</td>\n",
       "      <td>Z</td>\n",
       "      <td>12.4</td>\n",
       "      <td>8.9</td>\n",
       "      <td>10.8</td>\n",
       "      <td>26</td>\n",
       "      <td>252</td>\n",
       "    </tr>\n",
       "  </tbody>\n",
       "</table>\n",
       "<p>22556 rows × 13 columns</p>\n",
       "</div>"
      ],
      "text/plain": [
       "       YEAR   MAKE        MODEL  VEHICLE CLASS  ENGINE SIZE  CYLINDERS  \\\n",
       "0      2000  ACURA        1.6EL        COMPACT          1.6          4   \n",
       "1      2000  ACURA        1.6EL        COMPACT          1.6          4   \n",
       "2      2000  ACURA        3.2TL       MID-SIZE          3.2          6   \n",
       "3      2000  ACURA        3.5RL       MID-SIZE          3.5          6   \n",
       "4      2000  ACURA      INTEGRA     SUBCOMPACT          1.8          4   \n",
       "...     ...    ...          ...            ...          ...        ...   \n",
       "22551  2022  Volvo  XC40 T5 AWD     SUV: Small          2.0          4   \n",
       "22552  2022  Volvo  XC60 B5 AWD     SUV: Small          2.0          4   \n",
       "22553  2022  Volvo  XC60 B6 AWD     SUV: Small          2.0          4   \n",
       "22554  2022  Volvo  XC90 T5 AWD  SUV: Standard          2.0          4   \n",
       "22555  2022  Volvo  XC90 T6 AWD  SUV: Standard          2.0          4   \n",
       "\n",
       "      TRANSMISSION FUEL  FUEL CONSUMPTION  HWY (L/100 km)  COMB (L/100 km)  \\\n",
       "0               A4    X               9.2             6.7              8.1   \n",
       "1               M5    X               8.5             6.5              7.6   \n",
       "2              AS5    Z              12.2             7.4             10.0   \n",
       "3               A4    Z              13.4             9.2             11.5   \n",
       "4               A4    X              10.0             7.0              8.6   \n",
       "...            ...  ...               ...             ...              ...   \n",
       "22551          AS8    Z              10.7             7.7              9.4   \n",
       "22552          AS8    Z              10.5             8.1              9.4   \n",
       "22553          AS8    Z              11.0             8.7              9.9   \n",
       "22554          AS8    Z              11.5             8.4             10.1   \n",
       "22555          AS8    Z              12.4             8.9             10.8   \n",
       "\n",
       "       COMB (mpg)  EMISSIONS  \n",
       "0              35        186  \n",
       "1              37        175  \n",
       "2              28        230  \n",
       "3              25        264  \n",
       "4              33        198  \n",
       "...           ...        ...  \n",
       "22551          30        219  \n",
       "22552          30        219  \n",
       "22553          29        232  \n",
       "22554          28        236  \n",
       "22555          26        252  \n",
       "\n",
       "[22556 rows x 13 columns]"
      ]
     },
     "execution_count": 3,
     "metadata": {},
     "output_type": "execute_result"
    }
   ],
   "source": [
    "df"
   ]
  },
  {
   "cell_type": "code",
   "execution_count": 4,
   "id": "f585a16e",
   "metadata": {},
   "outputs": [
    {
     "data": {
      "text/html": [
       "<div>\n",
       "<style scoped>\n",
       "    .dataframe tbody tr th:only-of-type {\n",
       "        vertical-align: middle;\n",
       "    }\n",
       "\n",
       "    .dataframe tbody tr th {\n",
       "        vertical-align: top;\n",
       "    }\n",
       "\n",
       "    .dataframe thead th {\n",
       "        text-align: right;\n",
       "    }\n",
       "</style>\n",
       "<table border=\"1\" class=\"dataframe\">\n",
       "  <thead>\n",
       "    <tr style=\"text-align: right;\">\n",
       "      <th></th>\n",
       "      <th>YEAR</th>\n",
       "      <th>MAKE</th>\n",
       "      <th>MODEL</th>\n",
       "      <th>VEHICLE CLASS</th>\n",
       "      <th>ENGINE SIZE</th>\n",
       "      <th>CYLINDERS</th>\n",
       "      <th>TRANSMISSION</th>\n",
       "      <th>FUEL</th>\n",
       "      <th>FUEL CONSUMPTION</th>\n",
       "      <th>HWY (L/100 km)</th>\n",
       "      <th>COMB (L/100 km)</th>\n",
       "      <th>COMB (mpg)</th>\n",
       "      <th>EMISSIONS</th>\n",
       "    </tr>\n",
       "  </thead>\n",
       "  <tbody>\n",
       "    <tr>\n",
       "      <th>0</th>\n",
       "      <td>2000</td>\n",
       "      <td>ACURA</td>\n",
       "      <td>1.6EL</td>\n",
       "      <td>COMPACT</td>\n",
       "      <td>1.6</td>\n",
       "      <td>4</td>\n",
       "      <td>A4</td>\n",
       "      <td>X</td>\n",
       "      <td>9.2</td>\n",
       "      <td>6.7</td>\n",
       "      <td>8.1</td>\n",
       "      <td>35</td>\n",
       "      <td>186</td>\n",
       "    </tr>\n",
       "    <tr>\n",
       "      <th>1</th>\n",
       "      <td>2000</td>\n",
       "      <td>ACURA</td>\n",
       "      <td>1.6EL</td>\n",
       "      <td>COMPACT</td>\n",
       "      <td>1.6</td>\n",
       "      <td>4</td>\n",
       "      <td>M5</td>\n",
       "      <td>X</td>\n",
       "      <td>8.5</td>\n",
       "      <td>6.5</td>\n",
       "      <td>7.6</td>\n",
       "      <td>37</td>\n",
       "      <td>175</td>\n",
       "    </tr>\n",
       "    <tr>\n",
       "      <th>2</th>\n",
       "      <td>2000</td>\n",
       "      <td>ACURA</td>\n",
       "      <td>3.2TL</td>\n",
       "      <td>MID-SIZE</td>\n",
       "      <td>3.2</td>\n",
       "      <td>6</td>\n",
       "      <td>AS5</td>\n",
       "      <td>Z</td>\n",
       "      <td>12.2</td>\n",
       "      <td>7.4</td>\n",
       "      <td>10.0</td>\n",
       "      <td>28</td>\n",
       "      <td>230</td>\n",
       "    </tr>\n",
       "    <tr>\n",
       "      <th>3</th>\n",
       "      <td>2000</td>\n",
       "      <td>ACURA</td>\n",
       "      <td>3.5RL</td>\n",
       "      <td>MID-SIZE</td>\n",
       "      <td>3.5</td>\n",
       "      <td>6</td>\n",
       "      <td>A4</td>\n",
       "      <td>Z</td>\n",
       "      <td>13.4</td>\n",
       "      <td>9.2</td>\n",
       "      <td>11.5</td>\n",
       "      <td>25</td>\n",
       "      <td>264</td>\n",
       "    </tr>\n",
       "    <tr>\n",
       "      <th>4</th>\n",
       "      <td>2000</td>\n",
       "      <td>ACURA</td>\n",
       "      <td>INTEGRA</td>\n",
       "      <td>SUBCOMPACT</td>\n",
       "      <td>1.8</td>\n",
       "      <td>4</td>\n",
       "      <td>A4</td>\n",
       "      <td>X</td>\n",
       "      <td>10.0</td>\n",
       "      <td>7.0</td>\n",
       "      <td>8.6</td>\n",
       "      <td>33</td>\n",
       "      <td>198</td>\n",
       "    </tr>\n",
       "  </tbody>\n",
       "</table>\n",
       "</div>"
      ],
      "text/plain": [
       "   YEAR   MAKE    MODEL VEHICLE CLASS  ENGINE SIZE  CYLINDERS TRANSMISSION  \\\n",
       "0  2000  ACURA    1.6EL       COMPACT          1.6          4           A4   \n",
       "1  2000  ACURA    1.6EL       COMPACT          1.6          4           M5   \n",
       "2  2000  ACURA    3.2TL      MID-SIZE          3.2          6          AS5   \n",
       "3  2000  ACURA    3.5RL      MID-SIZE          3.5          6           A4   \n",
       "4  2000  ACURA  INTEGRA    SUBCOMPACT          1.8          4           A4   \n",
       "\n",
       "  FUEL  FUEL CONSUMPTION  HWY (L/100 km)  COMB (L/100 km)  COMB (mpg)  \\\n",
       "0    X               9.2             6.7              8.1          35   \n",
       "1    X               8.5             6.5              7.6          37   \n",
       "2    Z              12.2             7.4             10.0          28   \n",
       "3    Z              13.4             9.2             11.5          25   \n",
       "4    X              10.0             7.0              8.6          33   \n",
       "\n",
       "   EMISSIONS  \n",
       "0        186  \n",
       "1        175  \n",
       "2        230  \n",
       "3        264  \n",
       "4        198  "
      ]
     },
     "execution_count": 4,
     "metadata": {},
     "output_type": "execute_result"
    }
   ],
   "source": [
    "df.head()"
   ]
  },
  {
   "cell_type": "code",
   "execution_count": 5,
   "id": "7e4063c0",
   "metadata": {},
   "outputs": [
    {
     "name": "stdout",
     "output_type": "stream",
     "text": [
      "<class 'pandas.core.frame.DataFrame'>\n",
      "RangeIndex: 22556 entries, 0 to 22555\n",
      "Data columns (total 13 columns):\n",
      " #   Column            Non-Null Count  Dtype  \n",
      "---  ------            --------------  -----  \n",
      " 0   YEAR              22556 non-null  int64  \n",
      " 1   MAKE              22556 non-null  object \n",
      " 2   MODEL             22556 non-null  object \n",
      " 3   VEHICLE CLASS     22556 non-null  object \n",
      " 4   ENGINE SIZE       22556 non-null  float64\n",
      " 5   CYLINDERS         22556 non-null  int64  \n",
      " 6   TRANSMISSION      22556 non-null  object \n",
      " 7   FUEL              22556 non-null  object \n",
      " 8   FUEL CONSUMPTION  22556 non-null  float64\n",
      " 9   HWY (L/100 km)    22556 non-null  float64\n",
      " 10  COMB (L/100 km)   22556 non-null  float64\n",
      " 11  COMB (mpg)        22556 non-null  int64  \n",
      " 12  EMISSIONS         22556 non-null  int64  \n",
      "dtypes: float64(4), int64(4), object(5)\n",
      "memory usage: 2.2+ MB\n"
     ]
    }
   ],
   "source": [
    "df.info()"
   ]
  },
  {
   "cell_type": "code",
   "execution_count": 6,
   "id": "abb8315d",
   "metadata": {},
   "outputs": [
    {
     "data": {
      "text/plain": [
       "YEAR                0\n",
       "MAKE                0\n",
       "MODEL               0\n",
       "VEHICLE CLASS       0\n",
       "ENGINE SIZE         0\n",
       "CYLINDERS           0\n",
       "TRANSMISSION        0\n",
       "FUEL                0\n",
       "FUEL CONSUMPTION    0\n",
       "HWY (L/100 km)      0\n",
       "COMB (L/100 km)     0\n",
       "COMB (mpg)          0\n",
       "EMISSIONS           0\n",
       "dtype: int64"
      ]
     },
     "execution_count": 6,
     "metadata": {},
     "output_type": "execute_result"
    }
   ],
   "source": [
    "df.isnull().sum()"
   ]
  },
  {
   "cell_type": "code",
   "execution_count": 7,
   "id": "318da1a7",
   "metadata": {},
   "outputs": [],
   "source": [
    "df=df.rename({'VEHICLE CLASS':'VEHICLE_CLASS','ENGINE SIZE':'ENGINE_SIZE','FUEL CONSUMPTION':'FUEL_CONSUMPTION'},axis=1)"
   ]
  },
  {
   "cell_type": "code",
   "execution_count": 8,
   "id": "36ed5652",
   "metadata": {},
   "outputs": [
    {
     "data": {
      "text/plain": [
       "Index(['YEAR', 'MAKE', 'MODEL', 'VEHICLE_CLASS', 'ENGINE_SIZE', 'CYLINDERS',\n",
       "       'TRANSMISSION', 'FUEL', 'FUEL_CONSUMPTION', 'HWY (L/100 km)',\n",
       "       'COMB (L/100 km)', 'COMB (mpg)', 'EMISSIONS'],\n",
       "      dtype='object')"
      ]
     },
     "execution_count": 8,
     "metadata": {},
     "output_type": "execute_result"
    }
   ],
   "source": [
    "df.columns"
   ]
  },
  {
   "cell_type": "code",
   "execution_count": 9,
   "id": "a28bd0ce",
   "metadata": {},
   "outputs": [
    {
     "data": {
      "text/plain": [
       "12.2    399\n",
       "11.9    360\n",
       "10.8    346\n",
       "11.7    341\n",
       "11.8    339\n",
       "       ... \n",
       "27.2      1\n",
       "26.2      1\n",
       "5.2       1\n",
       "3.6       1\n",
       "26.5      1\n",
       "Name: FUEL_CONSUMPTION, Length: 228, dtype: int64"
      ]
     },
     "execution_count": 9,
     "metadata": {},
     "output_type": "execute_result"
    }
   ],
   "source": [
    "df.FUEL_CONSUMPTION.value_counts()"
   ]
  },
  {
   "cell_type": "code",
   "execution_count": 10,
   "id": "0be97629",
   "metadata": {},
   "outputs": [
    {
     "name": "stderr",
     "output_type": "stream",
     "text": [
      "C:\\Users\\syeda\\anaconda3\\lib\\site-packages\\seaborn\\distributions.py:2619: FutureWarning: `distplot` is a deprecated function and will be removed in a future version. Please adapt your code to use either `displot` (a figure-level function with similar flexibility) or `histplot` (an axes-level function for histograms).\n",
      "  warnings.warn(msg, FutureWarning)\n"
     ]
    },
    {
     "data": {
      "text/plain": [
       "Text(0.5, 1.0, 'fuel consumption')"
      ]
     },
     "execution_count": 10,
     "metadata": {},
     "output_type": "execute_result"
    },
    {
     "data": {
      "image/png": "[encoded data removed]",
      "text/plain": [
       "<Figure size 432x288 with 1 Axes>"
      ]
     },
     "metadata": {
      "needs_background": "light"
     },
     "output_type": "display_data"
    }
   ],
   "source": [
    "sns.distplot(df.FUEL_CONSUMPTION)\n",
    "plt.title('fuel consumption')"
   ]
  },
  {
   "cell_type": "code",
   "execution_count": 11,
   "id": "b6f81d74",
   "metadata": {},
   "outputs": [
    {
     "name": "stderr",
     "output_type": "stream",
     "text": [
      "C:\\Users\\syeda\\anaconda3\\lib\\site-packages\\seaborn\\_decorators.py:36: FutureWarning: Pass the following variable as a keyword arg: x. From version 0.12, the only valid positional argument will be `data`, and passing other arguments without an explicit keyword will result in an error or misinterpretation.\n",
      "  warnings.warn(\n"
     ]
    },
    {
     "data": {
      "text/plain": [
       "Text(0.5, 1.0, 'FUEL_CONSUMPTION')"
      ]
     },
     "execution_count": 11,
     "metadata": {},
     "output_type": "execute_result"
    },
    {
     "data": {
      "image/png": "[encoded data removed]",
      "text/plain": [
       "<Figure size 432x288 with 1 Axes>"
      ]
     },
     "metadata": {
      "needs_background": "light"
     },
     "output_type": "display_data"
    }
   ],
   "source": [
    "sns.boxplot(df.FUEL_CONSUMPTION)\n",
    "plt.title('FUEL_CONSUMPTION')"
   ]
  },
  {
   "cell_type": "code",
   "execution_count": 12,
   "id": "8bbd4608",
   "metadata": {},
   "outputs": [],
   "source": [
    "q1=df.FUEL_CONSUMPTION.quantile(0.25)\n",
    "q3=df.FUEL_CONSUMPTION.quantile(0.75)\n",
    "iqr=q3-q1\n",
    "upper_bond_FUEL_CONSUMPTION=q3+(1.5*iqr)\n",
    "lower_bond_FUEL_CONSUMPTION=q1-(1.5*iqr)\n",
    "df.FUEL_CONSUMPTION=np.where(df.FUEL_CONSUMPTION>upper_bond_FUEL_CONSUMPTION,upper_bond_FUEL_CONSUMPTION, np.where(df.FUEL_CONSUMPTION <lower_bond_FUEL_CONSUMPTION, lower_bond_FUEL_CONSUMPTION, df.FUEL_CONSUMPTION))"
   ]
  },
  {
   "cell_type": "code",
   "execution_count": 13,
   "id": "18efd9fa",
   "metadata": {},
   "outputs": [
    {
     "name": "stderr",
     "output_type": "stream",
     "text": [
      "C:\\Users\\syeda\\anaconda3\\lib\\site-packages\\seaborn\\_decorators.py:36: FutureWarning: Pass the following variable as a keyword arg: x. From version 0.12, the only valid positional argument will be `data`, and passing other arguments without an explicit keyword will result in an error or misinterpretation.\n",
      "  warnings.warn(\n"
     ]
    },
    {
     "data": {
      "text/plain": [
       "Text(0.5, 1.0, 'FUEL_CONSUMPTION')"
      ]
     },
     "execution_count": 13,
     "metadata": {},
     "output_type": "execute_result"
    },
    {
     "data": {
      "image/png": "[encoded data removed]",
      "text/plain": [
       "<Figure size 432x288 with 1 Axes>"
      ]
     },
     "metadata": {
      "needs_background": "light"
     },
     "output_type": "display_data"
    }
   ],
   "source": [
    "sns.boxplot(df.FUEL_CONSUMPTION)\n",
    "plt.title('FUEL_CONSUMPTION')"
   ]
  },
  {
   "cell_type": "code",
   "execution_count": 14,
   "id": "5eebd637",
   "metadata": {},
   "outputs": [
    {
     "data": {
      "text/plain": [
       "2015    1132\n",
       "2016    1110\n",
       "2009    1092\n",
       "2018    1083\n",
       "2012    1081\n",
       "2008    1079\n",
       "2011    1076\n",
       "2017    1058\n",
       "2013    1058\n",
       "2019    1056\n",
       "2007    1043\n",
       "2014    1040\n",
       "2010    1021\n",
       "2005    1019\n",
       "2020     968\n",
       "2006     968\n",
       "2022     955\n",
       "2021     941\n",
       "2004     898\n",
       "2003     820\n",
       "2002     740\n",
       "2001     679\n",
       "2000     639\n",
       "Name: YEAR, dtype: int64"
      ]
     },
     "execution_count": 14,
     "metadata": {},
     "output_type": "execute_result"
    }
   ],
   "source": [
    "df.YEAR.value_counts()"
   ]
  },
  {
   "cell_type": "code",
   "execution_count": 15,
   "id": "15cb3c0f",
   "metadata": {},
   "outputs": [
    {
     "data": {
      "text/plain": [
       "CHEVROLET        1725\n",
       "BMW              1490\n",
       "GMC              1357\n",
       "FORD             1276\n",
       "MERCEDES-BENZ     935\n",
       "                 ... \n",
       "ALFA ROMEO          8\n",
       "SRT                 4\n",
       "GENESIS             4\n",
       "BUGATTI             3\n",
       "PLYMOUTH            2\n",
       "Name: MAKE, Length: 87, dtype: int64"
      ]
     },
     "execution_count": 15,
     "metadata": {},
     "output_type": "execute_result"
    }
   ],
   "source": [
    "df.MAKE.value_counts()"
   ]
  },
  {
   "cell_type": "code",
   "execution_count": 16,
   "id": "e56ea1fc",
   "metadata": {},
   "outputs": [
    {
     "data": {
      "text/plain": [
       "<AxesSubplot:xlabel='MAKE', ylabel='count'>"
      ]
     },
     "execution_count": 16,
     "metadata": {},
     "output_type": "execute_result"
    },
    {
     "data": {
      "image/png": "[encoded data removed]",
      "text/plain": [
       "<Figure size 432x288 with 1 Axes>"
      ]
     },
     "metadata": {
      "needs_background": "light"
     },
     "output_type": "display_data"
    }
   ],
   "source": [
    "sns.countplot(x='MAKE',data=df)"
   ]
  },
  {
   "cell_type": "code",
   "execution_count": 17,
   "id": "38c4b0f7",
   "metadata": {},
   "outputs": [],
   "source": [
    "from sklearn.preprocessing import LabelEncoder"
   ]
  },
  {
   "cell_type": "code",
   "execution_count": 18,
   "id": "ccd102b6",
   "metadata": {},
   "outputs": [],
   "source": [
    "encoder = LabelEncoder()\n",
    "\n",
    "df_encoded = df\n",
    "\n",
    "df_encoded[\"MAKE\"] = encoder.fit_transform(df[\"MAKE\"])\n",
    "df_encoded[\"MODEL\"] = encoder.fit_transform(df[\"MODEL\"])\n",
    "df_encoded[\"VEHICLE_CLASS\"] = encoder.fit_transform(df[\"VEHICLE_CLASS\"])\n",
    "df_encoded[\"TRANSMISSION\"] = encoder.fit_transform(df[\"TRANSMISSION\"])\n",
    "df_encoded[\"FUEL\"] = encoder.fit_transform(df[\"FUEL\"])"
   ]
  },
  {
   "cell_type": "code",
   "execution_count": 19,
   "id": "bec30f30",
   "metadata": {},
   "outputs": [
    {
     "name": "stdout",
     "output_type": "stream",
     "text": [
      "                       df        sum_sq       mean_sq           F  PR(>F)\n",
      "FUEL_CONSUMPTION      1.0  9.357265e+05  935726.49307  1633.12083     0.0\n",
      "Residual          22554.0  1.292273e+07     572.96832         NaN     NaN\n"
     ]
    }
   ],
   "source": [
    "annova=ols('MAKE ~FUEL_CONSUMPTION',data=df).fit()\n",
    "an=sm.stats.anova_lm(annova)\n",
    "print(an.round(decimals=5))"
   ]
  },
  {
   "cell_type": "code",
   "execution_count": 20,
   "id": "376c8fcd",
   "metadata": {},
   "outputs": [
    {
     "data": {
      "text/plain": [
       "2204    89\n",
       "2633    88\n",
       "3029    61\n",
       "3374    58\n",
       "520     57\n",
       "        ..\n",
       "2784     1\n",
       "642      1\n",
       "756      1\n",
       "129      1\n",
       "4068     1\n",
       "Name: MODEL, Length: 4242, dtype: int64"
      ]
     },
     "execution_count": 20,
     "metadata": {},
     "output_type": "execute_result"
    }
   ],
   "source": [
    "df.MODEL.value_counts()"
   ]
  },
  {
   "cell_type": "code",
   "execution_count": 21,
   "id": "0ff400e6",
   "metadata": {},
   "outputs": [
    {
     "name": "stderr",
     "output_type": "stream",
     "text": [
      "C:\\Users\\syeda\\anaconda3\\lib\\site-packages\\seaborn\\distributions.py:2619: FutureWarning: `distplot` is a deprecated function and will be removed in a future version. Please adapt your code to use either `displot` (a figure-level function with similar flexibility) or `histplot` (an axes-level function for histograms).\n",
      "  warnings.warn(msg, FutureWarning)\n"
     ]
    },
    {
     "data": {
      "text/plain": [
       "<AxesSubplot:xlabel='MODEL', ylabel='Density'>"
      ]
     },
     "execution_count": 21,
     "metadata": {},
     "output_type": "execute_result"
    },
    {
     "data": {
      "image/png": "[encoded data removed]",
      "text/plain": [
       "<Figure size 432x288 with 1 Axes>"
      ]
     },
     "metadata": {
      "needs_background": "light"
     },
     "output_type": "display_data"
    }
   ],
   "source": [
    "sns.distplot(df.MODEL)"
   ]
  },
  {
   "cell_type": "code",
   "execution_count": 22,
   "id": "da95b692",
   "metadata": {},
   "outputs": [
    {
     "name": "stderr",
     "output_type": "stream",
     "text": [
      "C:\\Users\\syeda\\anaconda3\\lib\\site-packages\\seaborn\\_decorators.py:36: FutureWarning: Pass the following variable as a keyword arg: x. From version 0.12, the only valid positional argument will be `data`, and passing other arguments without an explicit keyword will result in an error or misinterpretation.\n",
      "  warnings.warn(\n"
     ]
    },
    {
     "data": {
      "text/plain": [
       "<AxesSubplot:xlabel='MODEL'>"
      ]
     },
     "execution_count": 22,
     "metadata": {},
     "output_type": "execute_result"
    },
    {
     "data": {
      "image/png": "[encoded data removed]",
      "text/plain": [
       "<Figure size 432x288 with 1 Axes>"
      ]
     },
     "metadata": {
      "needs_background": "light"
     },
     "output_type": "display_data"
    }
   ],
   "source": [
    "sns.boxplot(df.MODEL)"
   ]
  },
  {
   "cell_type": "code",
   "execution_count": 23,
   "id": "01a99b0b",
   "metadata": {},
   "outputs": [
    {
     "name": "stdout",
     "output_type": "stream",
     "text": [
      "                       df        sum_sq       mean_sq          F  PR(>F)\n",
      "FUEL_CONSUMPTION      1.0  1.779291e+08  1.779291e+08  122.33959     0.0\n",
      "Residual          22554.0  3.280224e+10  1.454387e+06        NaN     NaN\n"
     ]
    }
   ],
   "source": [
    "annova=ols('MODEL ~FUEL_CONSUMPTION',data=df).fit()\n",
    "an=sm.stats.anova_lm(annova)\n",
    "print(an.round(decimals=5))"
   ]
  },
  {
   "cell_type": "code",
   "execution_count": 24,
   "id": "3eb9ae52",
   "metadata": {},
   "outputs": [
    {
     "data": {
      "text/plain": [
       "18    2640\n",
       "0     2636\n",
       "4     2300\n",
       "11    1689\n",
       "17    1559\n",
       "2     1086\n",
       "27     999\n",
       "21     929\n",
       "19     827\n",
       "5      783\n",
       "16     737\n",
       "7      660\n",
       "22     608\n",
       "13     515\n",
       "20     514\n",
       "1      491\n",
       "26     451\n",
       "3      417\n",
       "10     403\n",
       "6      366\n",
       "15     343\n",
       "29     332\n",
       "28     313\n",
       "30     287\n",
       "8      211\n",
       "25     140\n",
       "12     108\n",
       "23      62\n",
       "14      52\n",
       "24      44\n",
       "9       42\n",
       "31      12\n",
       "Name: VEHICLE_CLASS, dtype: int64"
      ]
     },
     "execution_count": 24,
     "metadata": {},
     "output_type": "execute_result"
    }
   ],
   "source": [
    "df.VEHICLE_CLASS.value_counts()"
   ]
  },
  {
   "cell_type": "code",
   "execution_count": 25,
   "id": "81b67887",
   "metadata": {},
   "outputs": [
    {
     "name": "stderr",
     "output_type": "stream",
     "text": [
      "C:\\Users\\syeda\\anaconda3\\lib\\site-packages\\seaborn\\_decorators.py:36: FutureWarning: Pass the following variable as a keyword arg: x. From version 0.12, the only valid positional argument will be `data`, and passing other arguments without an explicit keyword will result in an error or misinterpretation.\n",
      "  warnings.warn(\n"
     ]
    },
    {
     "data": {
      "text/plain": [
       "<AxesSubplot:xlabel='VEHICLE_CLASS', ylabel='count'>"
      ]
     },
     "execution_count": 25,
     "metadata": {},
     "output_type": "execute_result"
    },
    {
     "data": {
      "image/png": "[encoded data removed]",
      "text/plain": [
       "<Figure size 432x288 with 1 Axes>"
      ]
     },
     "metadata": {
      "needs_background": "light"
     },
     "output_type": "display_data"
    }
   ],
   "source": [
    "sns.countplot(df.VEHICLE_CLASS)"
   ]
  },
  {
   "cell_type": "code",
   "execution_count": 26,
   "id": "e58402f4",
   "metadata": {},
   "outputs": [
    {
     "data": {
      "text/plain": [
       "2.0    3020\n",
       "3.0    2070\n",
       "2.5    1506\n",
       "3.5    1467\n",
       "5.3    1230\n",
       "       ... \n",
       "2.1       5\n",
       "0.9       3\n",
       "6.3       3\n",
       "0.8       3\n",
       "4.1       1\n",
       "Name: ENGINE_SIZE, Length: 63, dtype: int64"
      ]
     },
     "execution_count": 26,
     "metadata": {},
     "output_type": "execute_result"
    }
   ],
   "source": [
    "df.ENGINE_SIZE.value_counts()"
   ]
  },
  {
   "cell_type": "code",
   "execution_count": 27,
   "id": "588cb78f",
   "metadata": {},
   "outputs": [
    {
     "name": "stderr",
     "output_type": "stream",
     "text": [
      "C:\\Users\\syeda\\anaconda3\\lib\\site-packages\\seaborn\\distributions.py:2619: FutureWarning: `distplot` is a deprecated function and will be removed in a future version. Please adapt your code to use either `displot` (a figure-level function with similar flexibility) or `histplot` (an axes-level function for histograms).\n",
      "  warnings.warn(msg, FutureWarning)\n"
     ]
    },
    {
     "data": {
      "text/plain": [
       "<AxesSubplot:xlabel='ENGINE_SIZE', ylabel='Density'>"
      ]
     },
     "execution_count": 27,
     "metadata": {},
     "output_type": "execute_result"
    },
    {
     "data": {
      "image/png": "[encoded data removed]",
      "text/plain": [
       "<Figure size 432x288 with 1 Axes>"
      ]
     },
     "metadata": {
      "needs_background": "light"
     },
     "output_type": "display_data"
    }
   ],
   "source": [
    "sns.distplot(df.ENGINE_SIZE)"
   ]
  },
  {
   "cell_type": "code",
   "execution_count": 28,
   "id": "34457d83",
   "metadata": {},
   "outputs": [
    {
     "name": "stderr",
     "output_type": "stream",
     "text": [
      "C:\\Users\\syeda\\anaconda3\\lib\\site-packages\\seaborn\\_decorators.py:36: FutureWarning: Pass the following variable as a keyword arg: x. From version 0.12, the only valid positional argument will be `data`, and passing other arguments without an explicit keyword will result in an error or misinterpretation.\n",
      "  warnings.warn(\n"
     ]
    },
    {
     "data": {
      "text/plain": [
       "<AxesSubplot:xlabel='ENGINE_SIZE'>"
      ]
     },
     "execution_count": 28,
     "metadata": {},
     "output_type": "execute_result"
    },
    {
     "data": {
      "image/png": "[encoded data removed]",
      "text/plain": [
       "<Figure size 432x288 with 1 Axes>"
      ]
     },
     "metadata": {
      "needs_background": "light"
     },
     "output_type": "display_data"
    }
   ],
   "source": [
    "sns.boxplot(df.ENGINE_SIZE)"
   ]
  },
  {
   "cell_type": "code",
   "execution_count": 29,
   "id": "d944ce79",
   "metadata": {},
   "outputs": [
    {
     "name": "stdout",
     "output_type": "stream",
     "text": [
      "                       df       sum_sq      mean_sq           F  PR(>F)\n",
      "FUEL_CONSUMPTION      1.0  27719.75758  27719.75758  49999.5682     0.0\n",
      "Residual          22554.0  12503.93623      0.55440         NaN     NaN\n"
     ]
    }
   ],
   "source": [
    "annova=ols('ENGINE_SIZE ~FUEL_CONSUMPTION',data=df).fit()\n",
    "an=sm.stats.anova_lm(annova)\n",
    "print(an.round(decimals=5))"
   ]
  },
  {
   "cell_type": "code",
   "execution_count": 30,
   "id": "edd67a1e",
   "metadata": {},
   "outputs": [
    {
     "data": {
      "text/plain": [
       "4     8049\n",
       "6     8021\n",
       "8     5187\n",
       "5      499\n",
       "12     451\n",
       "10     162\n",
       "3      159\n",
       "2       16\n",
       "16      12\n",
       "Name: CYLINDERS, dtype: int64"
      ]
     },
     "execution_count": 30,
     "metadata": {},
     "output_type": "execute_result"
    }
   ],
   "source": [
    "df.CYLINDERS.value_counts()"
   ]
  },
  {
   "cell_type": "code",
   "execution_count": 31,
   "id": "b656c882",
   "metadata": {},
   "outputs": [
    {
     "name": "stderr",
     "output_type": "stream",
     "text": [
      "C:\\Users\\syeda\\anaconda3\\lib\\site-packages\\seaborn\\distributions.py:2619: FutureWarning: `distplot` is a deprecated function and will be removed in a future version. Please adapt your code to use either `displot` (a figure-level function with similar flexibility) or `histplot` (an axes-level function for histograms).\n",
      "  warnings.warn(msg, FutureWarning)\n"
     ]
    },
    {
     "data": {
      "text/plain": [
       "<AxesSubplot:xlabel='CYLINDERS', ylabel='Density'>"
      ]
     },
     "execution_count": 31,
     "metadata": {},
     "output_type": "execute_result"
    },
    {
     "data": {
      "image/png": "[encoded data removed]",
      "text/plain": [
       "<Figure size 432x288 with 1 Axes>"
      ]
     },
     "metadata": {
      "needs_background": "light"
     },
     "output_type": "display_data"
    }
   ],
   "source": [
    "sns.distplot(df.CYLINDERS)"
   ]
  },
  {
   "cell_type": "code",
   "execution_count": 32,
   "id": "43a02be1",
   "metadata": {},
   "outputs": [
    {
     "name": "stderr",
     "output_type": "stream",
     "text": [
      "C:\\Users\\syeda\\anaconda3\\lib\\site-packages\\seaborn\\_decorators.py:36: FutureWarning: Pass the following variable as a keyword arg: x. From version 0.12, the only valid positional argument will be `data`, and passing other arguments without an explicit keyword will result in an error or misinterpretation.\n",
      "  warnings.warn(\n"
     ]
    },
    {
     "data": {
      "text/plain": [
       "<AxesSubplot:xlabel='CYLINDERS'>"
      ]
     },
     "execution_count": 32,
     "metadata": {},
     "output_type": "execute_result"
    },
    {
     "data": {
      "image/png": "[encoded data removed]",
      "text/plain": [
       "<Figure size 432x288 with 1 Axes>"
      ]
     },
     "metadata": {
      "needs_background": "light"
     },
     "output_type": "display_data"
    }
   ],
   "source": [
    "sns.boxplot(df.CYLINDERS)"
   ]
  },
  {
   "cell_type": "code",
   "execution_count": 33,
   "id": "82d09076",
   "metadata": {},
   "outputs": [
    {
     "name": "stdout",
     "output_type": "stream",
     "text": [
      "                       df       sum_sq      mean_sq            F  PR(>F)\n",
      "FUEL_CONSUMPTION      1.0  47825.84721  47825.84721  40170.30648     0.0\n",
      "Residual          22554.0  26852.27604      1.19058          NaN     NaN\n"
     ]
    }
   ],
   "source": [
    "annova=ols('CYLINDERS ~FUEL_CONSUMPTION',data=df).fit()\n",
    "an=sm.stats.anova_lm(annova)\n",
    "print(an.round(decimals=5))"
   ]
  },
  {
   "cell_type": "code",
   "execution_count": 34,
   "id": "2e6f765a",
   "metadata": {},
   "outputs": [
    {
     "data": {
      "text/plain": [
       "2     3519\n",
       "16    2834\n",
       "28    2609\n",
       "27    2104\n",
       "4     1965\n",
       "18    1733\n",
       "3     1420\n",
       "15     865\n",
       "20     816\n",
       "6      794\n",
       "10     689\n",
       "17     614\n",
       "7      529\n",
       "13     335\n",
       "5      278\n",
       "14     245\n",
       "9      214\n",
       "11     164\n",
       "0      162\n",
       "24     143\n",
       "23     137\n",
       "29     130\n",
       "19     110\n",
       "25      78\n",
       "22      25\n",
       "1       24\n",
       "21       8\n",
       "8        6\n",
       "12       5\n",
       "26       1\n",
       "Name: TRANSMISSION, dtype: int64"
      ]
     },
     "execution_count": 34,
     "metadata": {},
     "output_type": "execute_result"
    }
   ],
   "source": [
    "df.TRANSMISSION.value_counts()"
   ]
  },
  {
   "cell_type": "code",
   "execution_count": 35,
   "id": "aa155a8c",
   "metadata": {},
   "outputs": [
    {
     "name": "stderr",
     "output_type": "stream",
     "text": [
      "C:\\Users\\syeda\\anaconda3\\lib\\site-packages\\seaborn\\distributions.py:2619: FutureWarning: `distplot` is a deprecated function and will be removed in a future version. Please adapt your code to use either `displot` (a figure-level function with similar flexibility) or `histplot` (an axes-level function for histograms).\n",
      "  warnings.warn(msg, FutureWarning)\n"
     ]
    },
    {
     "data": {
      "text/plain": [
       "<AxesSubplot:xlabel='TRANSMISSION', ylabel='Density'>"
      ]
     },
     "execution_count": 35,
     "metadata": {},
     "output_type": "execute_result"
    },
    {
     "data": {
      "image/png": "[encoded data removed]",
      "text/plain": [
       "<Figure size 432x288 with 1 Axes>"
      ]
     },
     "metadata": {
      "needs_background": "light"
     },
     "output_type": "display_data"
    }
   ],
   "source": [
    "sns.distplot(df.TRANSMISSION)"
   ]
  },
  {
   "cell_type": "code",
   "execution_count": 36,
   "id": "d019d5c5",
   "metadata": {},
   "outputs": [
    {
     "name": "stderr",
     "output_type": "stream",
     "text": [
      "C:\\Users\\syeda\\anaconda3\\lib\\site-packages\\seaborn\\_decorators.py:36: FutureWarning: Pass the following variable as a keyword arg: x. From version 0.12, the only valid positional argument will be `data`, and passing other arguments without an explicit keyword will result in an error or misinterpretation.\n",
      "  warnings.warn(\n"
     ]
    },
    {
     "data": {
      "text/plain": [
       "<AxesSubplot:xlabel='TRANSMISSION'>"
      ]
     },
     "execution_count": 36,
     "metadata": {},
     "output_type": "execute_result"
    },
    {
     "data": {
      "image/png": "[encoded data removed]",
      "text/plain": [
       "<Figure size 432x288 with 1 Axes>"
      ]
     },
     "metadata": {
      "needs_background": "light"
     },
     "output_type": "display_data"
    }
   ],
   "source": [
    "sns.boxplot(df.TRANSMISSION)"
   ]
  },
  {
   "cell_type": "code",
   "execution_count": 37,
   "id": "c1c47b5e",
   "metadata": {},
   "outputs": [
    {
     "name": "stdout",
     "output_type": "stream",
     "text": [
      "                       df        sum_sq       mean_sq           F  PR(>F)\n",
      "FUEL_CONSUMPTION      1.0  2.258150e+05  225815.04547  2811.78441     0.0\n",
      "Residual          22554.0  1.811317e+06      80.31023         NaN     NaN\n"
     ]
    }
   ],
   "source": [
    "annova=ols('TRANSMISSION ~FUEL_CONSUMPTION',data=df).fit()\n",
    "an=sm.stats.anova_lm(annova)\n",
    "print(an.round(decimals=5))"
   ]
  },
  {
   "cell_type": "code",
   "execution_count": 38,
   "id": "845243a7",
   "metadata": {},
   "outputs": [
    {
     "data": {
      "text/plain": [
       "3    11822\n",
       "4     9316\n",
       "1     1071\n",
       "0      314\n",
       "2       33\n",
       "Name: FUEL, dtype: int64"
      ]
     },
     "execution_count": 38,
     "metadata": {},
     "output_type": "execute_result"
    }
   ],
   "source": [
    "df.FUEL.value_counts()\n"
   ]
  },
  {
   "cell_type": "code",
   "execution_count": 39,
   "id": "21b719d0",
   "metadata": {},
   "outputs": [
    {
     "name": "stderr",
     "output_type": "stream",
     "text": [
      "C:\\Users\\syeda\\anaconda3\\lib\\site-packages\\seaborn\\_decorators.py:36: FutureWarning: Pass the following variable as a keyword arg: x. From version 0.12, the only valid positional argument will be `data`, and passing other arguments without an explicit keyword will result in an error or misinterpretation.\n",
      "  warnings.warn(\n"
     ]
    },
    {
     "data": {
      "text/plain": [
       "<AxesSubplot:xlabel='FUEL', ylabel='count'>"
      ]
     },
     "execution_count": 39,
     "metadata": {},
     "output_type": "execute_result"
    },
    {
     "data": {
      "image/png": "[encoded data removed]",
      "text/plain": [
       "<Figure size 432x288 with 1 Axes>"
      ]
     },
     "metadata": {
      "needs_background": "light"
     },
     "output_type": "display_data"
    }
   ],
   "source": [
    "sns.countplot(df.FUEL)"
   ]
  },
  {
   "cell_type": "code",
   "execution_count": 40,
   "id": "b917ad8b",
   "metadata": {},
   "outputs": [
    {
     "name": "stdout",
     "output_type": "stream",
     "text": [
      "                       df       sum_sq    mean_sq          F  PR(>F)\n",
      "FUEL_CONSUMPTION      1.0    186.31471  186.31471  288.42973     0.0\n",
      "Residual          22554.0  14569.03212    0.64596        NaN     NaN\n"
     ]
    }
   ],
   "source": [
    "annova=ols('FUEL ~FUEL_CONSUMPTION',data=df).fit()\n",
    "an=sm.stats.anova_lm(annova)\n",
    "print(an.round(decimals=5))"
   ]
  },
  {
   "cell_type": "code",
   "execution_count": 41,
   "id": "da26fb18",
   "metadata": {},
   "outputs": [],
   "source": [
    "df=df.rename({'HWY (L/100 km)':'HWY_(L/100_km)'},axis=1)"
   ]
  },
  {
   "cell_type": "code",
   "execution_count": 42,
   "id": "9e01c97c",
   "metadata": {},
   "outputs": [
    {
     "data": {
      "text/plain": [
       "Index(['YEAR', 'MAKE', 'MODEL', 'VEHICLE_CLASS', 'ENGINE_SIZE', 'CYLINDERS',\n",
       "       'TRANSMISSION', 'FUEL', 'FUEL_CONSUMPTION', 'HWY_(L/100_km)',\n",
       "       'COMB (L/100 km)', 'COMB (mpg)', 'EMISSIONS'],\n",
       "      dtype='object')"
      ]
     },
     "execution_count": 42,
     "metadata": {},
     "output_type": "execute_result"
    }
   ],
   "source": [
    "df.columns"
   ]
  },
  {
   "cell_type": "code",
   "execution_count": 43,
   "id": "db2d0a83",
   "metadata": {},
   "outputs": [
    {
     "data": {
      "text/plain": [
       "(22556, 13)"
      ]
     },
     "execution_count": 43,
     "metadata": {},
     "output_type": "execute_result"
    }
   ],
   "source": [
    "df.shape"
   ]
  },
  {
   "cell_type": "code",
   "execution_count": 44,
   "id": "515240d1",
   "metadata": {},
   "outputs": [],
   "source": [
    "df=df.drop(['HWY_(L/100_km)','COMB (L/100 km)','COMB (mpg)','EMISSIONS'],axis=1,)"
   ]
  },
  {
   "cell_type": "markdown",
   "id": "b000c1e6",
   "metadata": {},
   "source": [
    "# SPLIT THE MODEL"
   ]
  },
  {
   "cell_type": "code",
   "execution_count": 45,
   "id": "59d02123",
   "metadata": {},
   "outputs": [],
   "source": [
    "from sklearn.model_selection import train_test_split,GridSearchCV\n",
    "from sklearn.preprocessing import StandardScaler\n",
    "from sklearn.metrics import mean_squared_error"
   ]
  },
  {
   "cell_type": "code",
   "execution_count": 46,
   "id": "f8364ae9",
   "metadata": {},
   "outputs": [],
   "source": [
    "x=df.iloc[:,df.columns!='FUEL_CONSUMPTION']"
   ]
  },
  {
   "cell_type": "code",
   "execution_count": 47,
   "id": "731d24ff",
   "metadata": {},
   "outputs": [],
   "source": [
    "y=df.iloc[:,df.columns=='FUEL_CONSUMPTION']"
   ]
  },
  {
   "cell_type": "code",
   "execution_count": 48,
   "id": "cb48b726",
   "metadata": {},
   "outputs": [
    {
     "data": {
      "text/plain": [
       "(22556, 8)"
      ]
     },
     "execution_count": 48,
     "metadata": {},
     "output_type": "execute_result"
    }
   ],
   "source": [
    "x.shape"
   ]
  },
  {
   "cell_type": "code",
   "execution_count": 49,
   "id": "11639540",
   "metadata": {},
   "outputs": [
    {
     "name": "stdout",
     "output_type": "stream",
     "text": [
      "<class 'pandas.core.frame.DataFrame'>\n",
      "RangeIndex: 22556 entries, 0 to 22555\n",
      "Data columns (total 8 columns):\n",
      " #   Column         Non-Null Count  Dtype  \n",
      "---  ------         --------------  -----  \n",
      " 0   YEAR           22556 non-null  int64  \n",
      " 1   MAKE           22556 non-null  int32  \n",
      " 2   MODEL          22556 non-null  int32  \n",
      " 3   VEHICLE_CLASS  22556 non-null  int32  \n",
      " 4   ENGINE_SIZE    22556 non-null  float64\n",
      " 5   CYLINDERS      22556 non-null  int64  \n",
      " 6   TRANSMISSION   22556 non-null  int32  \n",
      " 7   FUEL           22556 non-null  int32  \n",
      "dtypes: float64(1), int32(5), int64(2)\n",
      "memory usage: 969.3 KB\n"
     ]
    }
   ],
   "source": [
    "x.info()"
   ]
  },
  {
   "cell_type": "code",
   "execution_count": 50,
   "id": "2d712b3b",
   "metadata": {},
   "outputs": [
    {
     "name": "stdout",
     "output_type": "stream",
     "text": [
      "<class 'pandas.core.frame.DataFrame'>\n",
      "RangeIndex: 22556 entries, 0 to 22555\n",
      "Data columns (total 8 columns):\n",
      " #   Column         Non-Null Count  Dtype  \n",
      "---  ------         --------------  -----  \n",
      " 0   YEAR           22556 non-null  int64  \n",
      " 1   MAKE           22556 non-null  int32  \n",
      " 2   MODEL          22556 non-null  int32  \n",
      " 3   VEHICLE_CLASS  22556 non-null  int32  \n",
      " 4   ENGINE_SIZE    22556 non-null  float64\n",
      " 5   CYLINDERS      22556 non-null  int64  \n",
      " 6   TRANSMISSION   22556 non-null  int32  \n",
      " 7   FUEL           22556 non-null  int32  \n",
      "dtypes: float64(1), int32(5), int64(2)\n",
      "memory usage: 969.3 KB\n"
     ]
    }
   ],
   "source": [
    "x.info()"
   ]
  },
  {
   "cell_type": "code",
   "execution_count": 51,
   "id": "6976aa07",
   "metadata": {},
   "outputs": [],
   "source": [
    "x=x.rename({'VEHICLE CLASS':'VEHICLE_CLASS'},axis=1)"
   ]
  },
  {
   "cell_type": "code",
   "execution_count": 52,
   "id": "b84a97ee",
   "metadata": {},
   "outputs": [],
   "source": [
    "df=df.drop(['VEHICLE_CLASS'],axis=1)"
   ]
  },
  {
   "cell_type": "code",
   "execution_count": 53,
   "id": "9e2292a4",
   "metadata": {},
   "outputs": [
    {
     "data": {
      "text/plain": [
       "Index(['YEAR', 'MAKE', 'MODEL', 'VEHICLE_CLASS', 'ENGINE_SIZE', 'CYLINDERS',\n",
       "       'TRANSMISSION', 'FUEL'],\n",
       "      dtype='object')"
      ]
     },
     "execution_count": 53,
     "metadata": {},
     "output_type": "execute_result"
    }
   ],
   "source": [
    "x.columns"
   ]
  },
  {
   "cell_type": "code",
   "execution_count": 54,
   "id": "12226e31",
   "metadata": {},
   "outputs": [
    {
     "data": {
      "text/plain": [
       "(22556, 1)"
      ]
     },
     "execution_count": 54,
     "metadata": {},
     "output_type": "execute_result"
    }
   ],
   "source": [
    "y.shape"
   ]
  },
  {
   "cell_type": "code",
   "execution_count": 55,
   "id": "679f06b1",
   "metadata": {},
   "outputs": [
    {
     "name": "stdout",
     "output_type": "stream",
     "text": [
      "<class 'pandas.core.frame.DataFrame'>\n",
      "RangeIndex: 22556 entries, 0 to 22555\n",
      "Data columns (total 1 columns):\n",
      " #   Column            Non-Null Count  Dtype  \n",
      "---  ------            --------------  -----  \n",
      " 0   FUEL_CONSUMPTION  22556 non-null  float64\n",
      "dtypes: float64(1)\n",
      "memory usage: 176.3 KB\n"
     ]
    }
   ],
   "source": [
    "y.info()"
   ]
  },
  {
   "cell_type": "code",
   "execution_count": 56,
   "id": "3ea52f81",
   "metadata": {},
   "outputs": [],
   "source": [
    "x_train,x_test,y_train,y_test = train_test_split(x,y,test_size=0.35,random_state=42)"
   ]
  },
  {
   "cell_type": "code",
   "execution_count": 57,
   "id": "4cd6540b",
   "metadata": {},
   "outputs": [],
   "source": [
    "from sklearn.linear_model import LinearRegression\n",
    "from sklearn.linear_model import Lasso\n",
    "from sklearn import metrics"
   ]
  },
  {
   "cell_type": "code",
   "execution_count": 58,
   "id": "47ab35f0",
   "metadata": {},
   "outputs": [],
   "source": [
    "linear_reg=LinearRegression()"
   ]
  },
  {
   "cell_type": "code",
   "execution_count": 60,
   "id": "e43983aa",
   "metadata": {},
   "outputs": [
    {
     "data": {
      "text/plain": [
       "LinearRegression()"
      ]
     },
     "execution_count": 60,
     "metadata": {},
     "output_type": "execute_result"
    }
   ],
   "source": [
    "linear_reg.fit(x_train,y_train)"
   ]
  },
  {
   "cell_type": "code",
   "execution_count": 61,
   "id": "55b4b118",
   "metadata": {},
   "outputs": [],
   "source": [
    "training_data_prediction = linear_reg.predict(x_train)"
   ]
  },
  {
   "cell_type": "code",
   "execution_count": 62,
   "id": "715ca044",
   "metadata": {},
   "outputs": [
    {
     "name": "stdout",
     "output_type": "stream",
     "text": [
      "R squared Error :  0.7392001660580387\n"
     ]
    }
   ],
   "source": [
    "error_score = metrics.r2_score(y_train, training_data_prediction)\n",
    "print(\"R squared Error : \", error_score)"
   ]
  },
  {
   "cell_type": "code",
   "execution_count": 63,
   "id": "76fc7f0b",
   "metadata": {},
   "outputs": [],
   "source": [
    "test_data_prediction = linear_reg.predict(x_test)"
   ]
  },
  {
   "cell_type": "code",
   "execution_count": 64,
   "id": "94029085",
   "metadata": {},
   "outputs": [
    {
     "name": "stdout",
     "output_type": "stream",
     "text": [
      "R squared Error :  0.7328612555701433\n"
     ]
    }
   ],
   "source": [
    "error_score = metrics.r2_score(y_test,test_data_prediction)\n",
    "print(\"R squared Error : \", error_score)"
   ]
  },
  {
   "cell_type": "code",
   "execution_count": 65,
   "id": "a3c8056c",
   "metadata": {},
   "outputs": [],
   "source": [
    "from sklearn.model_selection import GridSearchCV"
   ]
  },
  {
   "cell_type": "code",
   "execution_count": 66,
   "id": "64b726ff",
   "metadata": {},
   "outputs": [],
   "source": [
    "from sklearn.tree import DecisionTreeRegressor"
   ]
  },
  {
   "cell_type": "code",
   "execution_count": 67,
   "id": "1623fb4b",
   "metadata": {},
   "outputs": [
    {
     "name": "stdout",
     "output_type": "stream",
     "text": [
      "7895\n"
     ]
    }
   ],
   "source": [
    "y_pred=linear_reg.predict(x_test)\n",
    "print(len(y_pred))"
   ]
  },
  {
   "cell_type": "code",
   "execution_count": 68,
   "id": "f1f911b8",
   "metadata": {},
   "outputs": [
    {
     "name": "stdout",
     "output_type": "stream",
     "text": [
      "mean-squared-error 2.960049420841952\n"
     ]
    }
   ],
   "source": [
    "print('mean-squared-error',metrics.mean_squared_error(y_test,y_pred))"
   ]
  },
  {
   "cell_type": "code",
   "execution_count": 69,
   "id": "b08002b7",
   "metadata": {},
   "outputs": [
    {
     "name": "stdout",
     "output_type": "stream",
     "text": [
      "r2score 0.7328612555701433\n"
     ]
    }
   ],
   "source": [
    "print('r2score',metrics.r2_score(y_test,y_pred))"
   ]
  },
  {
   "cell_type": "code",
   "execution_count": 70,
   "id": "fd0b7673",
   "metadata": {},
   "outputs": [
    {
     "name": "stdout",
     "output_type": "stream",
     "text": [
      "Root Mean Squared Error: 1.7204794159890295\n"
     ]
    }
   ],
   "source": [
    "print (\"Root Mean Squared Error:\" , np.sqrt(metrics.mean_squared_error(y_test,y_pred)))"
   ]
  },
  {
   "cell_type": "code",
   "execution_count": null,
   "id": "0ba15f02",
   "metadata": {},
   "outputs": [],
   "source": []
  }
 ],
 "metadata": {
  "kernelspec": {
   "display_name": "Python 3 (ipykernel)",
   "language": "python",
   "name": "python3"
  },
  "language_info": {
   "codemirror_mode": {
    "name": "ipython",
    "version": 3
   },
   "file_extension": ".py",
   "mimetype": "text/x-python",
   "name": "python",
   "nbconvert_exporter": "python",
   "pygments_lexer": "ipython3",
   "version": "3.9.12"
  }
 },
 "nbformat": 4,
 "nbformat_minor": 5
}
