{
 "cells": [
  {
   "cell_type": "code",
   "execution_count": 1,
   "id": "a39b5fe9",
   "metadata": {},
   "outputs": [],
   "source": [
    "import pandas as pd\n",
    "import numpy as np\n",
    "import seaborn as sns\n",
    "import matplotlib.pyplot as plt"
   ]
  },
  {
   "cell_type": "code",
   "execution_count": 2,
   "id": "c1ea7155",
   "metadata": {},
   "outputs": [],
   "source": [
    "df = pd.read_csv('Churn_model.csv')"
   ]
  },
  {
   "cell_type": "code",
   "execution_count": 3,
   "id": "eb19ba33",
   "metadata": {},
   "outputs": [
    {
     "data": {
      "text/html": [
       "<div>\n",
       "<style scoped>\n",
       "    .dataframe tbody tr th:only-of-type {\n",
       "        vertical-align: middle;\n",
       "    }\n",
       "\n",
       "    .dataframe tbody tr th {\n",
       "        vertical-align: top;\n",
       "    }\n",
       "\n",
       "    .dataframe thead th {\n",
       "        text-align: right;\n",
       "    }\n",
       "</style>\n",
       "<table border=\"1\" class=\"dataframe\">\n",
       "  <thead>\n",
       "    <tr style=\"text-align: right;\">\n",
       "      <th></th>\n",
       "      <th>SeniorCitizen</th>\n",
       "      <th>Partner</th>\n",
       "      <th>Dependents</th>\n",
       "      <th>MultipleLines</th>\n",
       "      <th>InternetService</th>\n",
       "      <th>OnlineSecurity</th>\n",
       "      <th>OnlineBackup</th>\n",
       "      <th>DeviceProtection</th>\n",
       "      <th>TechSupport</th>\n",
       "      <th>StreamingTV</th>\n",
       "      <th>StreamingMovies</th>\n",
       "      <th>Contract</th>\n",
       "      <th>PaperlessBilling</th>\n",
       "      <th>PaymentMethod</th>\n",
       "      <th>Churn</th>\n",
       "      <th>tenure</th>\n",
       "      <th>MonthlyCharges</th>\n",
       "      <th>TotalCharges</th>\n",
       "    </tr>\n",
       "  </thead>\n",
       "  <tbody>\n",
       "    <tr>\n",
       "      <th>0</th>\n",
       "      <td>0</td>\n",
       "      <td>0</td>\n",
       "      <td>0</td>\n",
       "      <td>0</td>\n",
       "      <td>1</td>\n",
       "      <td>2</td>\n",
       "      <td>0</td>\n",
       "      <td>0</td>\n",
       "      <td>0</td>\n",
       "      <td>0</td>\n",
       "      <td>0</td>\n",
       "      <td>0.0</td>\n",
       "      <td>1</td>\n",
       "      <td>1</td>\n",
       "      <td>1</td>\n",
       "      <td>0.758426</td>\n",
       "      <td>-0.278080</td>\n",
       "      <td>0.286083</td>\n",
       "    </tr>\n",
       "    <tr>\n",
       "      <th>1</th>\n",
       "      <td>0</td>\n",
       "      <td>1</td>\n",
       "      <td>0</td>\n",
       "      <td>2</td>\n",
       "      <td>1</td>\n",
       "      <td>0</td>\n",
       "      <td>0</td>\n",
       "      <td>0</td>\n",
       "      <td>0</td>\n",
       "      <td>0</td>\n",
       "      <td>2</td>\n",
       "      <td>0.0</td>\n",
       "      <td>1</td>\n",
       "      <td>2</td>\n",
       "      <td>1</td>\n",
       "      <td>1.613592</td>\n",
       "      <td>-0.873018</td>\n",
       "      <td>0.213067</td>\n",
       "    </tr>\n",
       "    <tr>\n",
       "      <th>2</th>\n",
       "      <td>0</td>\n",
       "      <td>1</td>\n",
       "      <td>0</td>\n",
       "      <td>1</td>\n",
       "      <td>0</td>\n",
       "      <td>0</td>\n",
       "      <td>2</td>\n",
       "      <td>0</td>\n",
       "      <td>0</td>\n",
       "      <td>0</td>\n",
       "      <td>2</td>\n",
       "      <td>0.0</td>\n",
       "      <td>1</td>\n",
       "      <td>0</td>\n",
       "      <td>1</td>\n",
       "      <td>-0.911184</td>\n",
       "      <td>0.692433</td>\n",
       "      <td>-0.646863</td>\n",
       "    </tr>\n",
       "    <tr>\n",
       "      <th>3</th>\n",
       "      <td>1</td>\n",
       "      <td>1</td>\n",
       "      <td>0</td>\n",
       "      <td>0</td>\n",
       "      <td>1</td>\n",
       "      <td>2</td>\n",
       "      <td>0</td>\n",
       "      <td>0</td>\n",
       "      <td>0</td>\n",
       "      <td>0</td>\n",
       "      <td>0</td>\n",
       "      <td>0.0</td>\n",
       "      <td>1</td>\n",
       "      <td>0</td>\n",
       "      <td>1</td>\n",
       "      <td>-0.829739</td>\n",
       "      <td>-1.486236</td>\n",
       "      <td>-0.888808</td>\n",
       "    </tr>\n",
       "    <tr>\n",
       "      <th>4</th>\n",
       "      <td>0</td>\n",
       "      <td>0</td>\n",
       "      <td>0</td>\n",
       "      <td>1</td>\n",
       "      <td>0</td>\n",
       "      <td>0</td>\n",
       "      <td>0</td>\n",
       "      <td>0</td>\n",
       "      <td>0</td>\n",
       "      <td>0</td>\n",
       "      <td>0</td>\n",
       "      <td>0.0</td>\n",
       "      <td>1</td>\n",
       "      <td>3</td>\n",
       "      <td>1</td>\n",
       "      <td>0.391927</td>\n",
       "      <td>0.057611</td>\n",
       "      <td>0.212957</td>\n",
       "    </tr>\n",
       "  </tbody>\n",
       "</table>\n",
       "</div>"
      ],
      "text/plain": [
       "   SeniorCitizen  Partner  Dependents  MultipleLines  InternetService  \\\n",
       "0              0        0           0              0                1   \n",
       "1              0        1           0              2                1   \n",
       "2              0        1           0              1                0   \n",
       "3              1        1           0              0                1   \n",
       "4              0        0           0              1                0   \n",
       "\n",
       "   OnlineSecurity  OnlineBackup  DeviceProtection  TechSupport  StreamingTV  \\\n",
       "0               2             0                 0            0            0   \n",
       "1               0             0                 0            0            0   \n",
       "2               0             2                 0            0            0   \n",
       "3               2             0                 0            0            0   \n",
       "4               0             0                 0            0            0   \n",
       "\n",
       "   StreamingMovies  Contract  PaperlessBilling  PaymentMethod  Churn  \\\n",
       "0                0       0.0                 1              1      1   \n",
       "1                2       0.0                 1              2      1   \n",
       "2                2       0.0                 1              0      1   \n",
       "3                0       0.0                 1              0      1   \n",
       "4                0       0.0                 1              3      1   \n",
       "\n",
       "     tenure  MonthlyCharges  TotalCharges  \n",
       "0  0.758426       -0.278080      0.286083  \n",
       "1  1.613592       -0.873018      0.213067  \n",
       "2 -0.911184        0.692433     -0.646863  \n",
       "3 -0.829739       -1.486236     -0.888808  \n",
       "4  0.391927        0.057611      0.212957  "
      ]
     },
     "execution_count": 3,
     "metadata": {},
     "output_type": "execute_result"
    }
   ],
   "source": [
    "df.drop(['Unnamed: 0'],axis = 1,inplace = True)\n",
    "df.head()\n"
   ]
  },
  {
   "cell_type": "code",
   "execution_count": 4,
   "id": "c1b918fe",
   "metadata": {},
   "outputs": [],
   "source": [
    "X = df.drop(['Churn'],axis = 1)\n",
    "y = df.loc[:,'Churn']"
   ]
  },
  {
   "cell_type": "code",
   "execution_count": 5,
   "id": "a77e8f34",
   "metadata": {},
   "outputs": [],
   "source": [
    "from sklearn.model_selection import train_test_split"
   ]
  },
  {
   "cell_type": "code",
   "execution_count": 6,
   "id": "bb742286",
   "metadata": {},
   "outputs": [],
   "source": [
    "X_train,X_test,y_train,y_test = train_test_split(X,y,test_size = 0.2,random_state = 8)"
   ]
  },
  {
   "cell_type": "code",
   "execution_count": 7,
   "id": "969b4fce",
   "metadata": {},
   "outputs": [],
   "source": [
    "from sklearn import svm"
   ]
  },
  {
   "cell_type": "code",
   "execution_count": 8,
   "id": "c8e89ea9",
   "metadata": {},
   "outputs": [],
   "source": [
    "svc = svm.SVC(class_weight='balanced', kernel='linear')"
   ]
  },
  {
   "cell_type": "code",
   "execution_count": 9,
   "id": "53fffafb",
   "metadata": {},
   "outputs": [],
   "source": [
    "model_svc = svc.fit(X_train,y_train)"
   ]
  },
  {
   "cell_type": "code",
   "execution_count": 10,
   "id": "13740117",
   "metadata": {},
   "outputs": [],
   "source": [
    "y_pred = model_svc.predict(X_test)"
   ]
  },
  {
   "cell_type": "code",
   "execution_count": 11,
   "id": "3cb91816",
   "metadata": {},
   "outputs": [],
   "source": [
    "from sklearn.metrics import classification_report,confusion_matrix,accuracy_score,roc_auc_score"
   ]
  },
  {
   "cell_type": "code",
   "execution_count": 12,
   "id": "3b2f0bdd",
   "metadata": {},
   "outputs": [
    {
     "name": "stdout",
     "output_type": "stream",
     "text": [
      "[[562 448]\n",
      " [129 930]]\n"
     ]
    }
   ],
   "source": [
    "print(confusion_matrix(y_test,y_pred))"
   ]
  },
  {
   "cell_type": "code",
   "execution_count": 13,
   "id": "59517598",
   "metadata": {},
   "outputs": [
    {
     "name": "stdout",
     "output_type": "stream",
     "text": [
      "              precision    recall  f1-score   support\n",
      "\n",
      "           0       0.81      0.56      0.66      1010\n",
      "           1       0.67      0.88      0.76      1059\n",
      "\n",
      "    accuracy                           0.72      2069\n",
      "   macro avg       0.74      0.72      0.71      2069\n",
      "weighted avg       0.74      0.72      0.71      2069\n",
      "\n"
     ]
    }
   ],
   "source": [
    "print(classification_report(y_test,y_pred))"
   ]
  },
  {
   "cell_type": "code",
   "execution_count": 14,
   "id": "ed864447",
   "metadata": {},
   "outputs": [
    {
     "data": {
      "text/plain": [
       "0.7211213146447559"
      ]
     },
     "execution_count": 14,
     "metadata": {},
     "output_type": "execute_result"
    }
   ],
   "source": [
    "accuracy_score(y_test,y_pred)"
   ]
  },
  {
   "cell_type": "code",
   "execution_count": 15,
   "id": "55f2450f",
   "metadata": {},
   "outputs": [
    {
     "data": {
      "text/plain": [
       "0.7173113062014417"
      ]
     },
     "execution_count": 15,
     "metadata": {},
     "output_type": "execute_result"
    }
   ],
   "source": [
    "roc_auc_score(y_test,y_pred)"
   ]
  },
  {
   "cell_type": "code",
   "execution_count": null,
   "id": "2f1a76ed",
   "metadata": {},
   "outputs": [],
   "source": []
  },
  {
   "cell_type": "code",
   "execution_count": null,
   "id": "fa491fc3",
   "metadata": {},
   "outputs": [],
   "source": []
  },
  {
   "cell_type": "markdown",
   "id": "4f9c3c70",
   "metadata": {},
   "source": [
    "_________________________________________________________________________________________"
   ]
  },
  {
   "cell_type": "markdown",
   "id": "3f0843b8",
   "metadata": {},
   "source": [
    "____________________________________________________________________________________"
   ]
  },
  {
   "cell_type": "code",
   "execution_count": 16,
   "id": "10805f53",
   "metadata": {},
   "outputs": [],
   "source": [
    "svc2 =svm.SVC(class_weight='balanced', probability=True)"
   ]
  },
  {
   "cell_type": "code",
   "execution_count": 17,
   "id": "83ccf071",
   "metadata": {},
   "outputs": [],
   "source": [
    "model_svc2 = svc2.fit(X_train,y_train)"
   ]
  },
  {
   "cell_type": "code",
   "execution_count": 18,
   "id": "f362de7d",
   "metadata": {},
   "outputs": [],
   "source": [
    "y_pred2 = model_svc2.predict(X_test)"
   ]
  },
  {
   "cell_type": "code",
   "execution_count": 19,
   "id": "37306a3d",
   "metadata": {},
   "outputs": [
    {
     "name": "stdout",
     "output_type": "stream",
     "text": [
      "[[726 284]\n",
      " [205 854]]\n"
     ]
    }
   ],
   "source": [
    "print(confusion_matrix(y_test,y_pred2))"
   ]
  },
  {
   "cell_type": "code",
   "execution_count": 20,
   "id": "c4b1da9a",
   "metadata": {},
   "outputs": [
    {
     "name": "stdout",
     "output_type": "stream",
     "text": [
      "              precision    recall  f1-score   support\n",
      "\n",
      "           0       0.78      0.72      0.75      1010\n",
      "           1       0.75      0.81      0.78      1059\n",
      "\n",
      "    accuracy                           0.76      2069\n",
      "   macro avg       0.77      0.76      0.76      2069\n",
      "weighted avg       0.76      0.76      0.76      2069\n",
      "\n"
     ]
    }
   ],
   "source": [
    "print(classification_report(y_test,y_pred2))"
   ]
  },
  {
   "cell_type": "code",
   "execution_count": 21,
   "id": "2c66319f",
   "metadata": {},
   "outputs": [
    {
     "data": {
      "text/plain": [
       "0.763653939101015"
      ]
     },
     "execution_count": 21,
     "metadata": {},
     "output_type": "execute_result"
    }
   ],
   "source": [
    "accuracy_score(y_test,y_pred2)"
   ]
  },
  {
   "cell_type": "markdown",
   "id": "29660dcf",
   "metadata": {},
   "source": [
    "________________________________________________________________________________"
   ]
  },
  {
   "cell_type": "code",
   "execution_count": 22,
   "id": "15c594aa",
   "metadata": {},
   "outputs": [],
   "source": [
    "svc3 =svm.SVC(class_weight='balanced', probability=True,kernel='linear')"
   ]
  },
  {
   "cell_type": "code",
   "execution_count": 23,
   "id": "203ce02c",
   "metadata": {},
   "outputs": [],
   "source": [
    "model_svc3 = svc3.fit(X_train,y_train)"
   ]
  },
  {
   "cell_type": "code",
   "execution_count": 24,
   "id": "c45d468c",
   "metadata": {},
   "outputs": [],
   "source": [
    "y_pred3 = model_svc3.predict(X_test)"
   ]
  },
  {
   "cell_type": "code",
   "execution_count": 25,
   "id": "83959d70",
   "metadata": {},
   "outputs": [
    {
     "data": {
      "text/plain": [
       "array([[562, 448],\n",
       "       [129, 930]], dtype=int64)"
      ]
     },
     "execution_count": 25,
     "metadata": {},
     "output_type": "execute_result"
    }
   ],
   "source": [
    "confusion_matrix(y_test,y_pred3)"
   ]
  },
  {
   "cell_type": "code",
   "execution_count": 26,
   "id": "8adefb04",
   "metadata": {},
   "outputs": [
    {
     "name": "stdout",
     "output_type": "stream",
     "text": [
      "              precision    recall  f1-score   support\n",
      "\n",
      "           0       0.81      0.56      0.66      1010\n",
      "           1       0.67      0.88      0.76      1059\n",
      "\n",
      "    accuracy                           0.72      2069\n",
      "   macro avg       0.74      0.72      0.71      2069\n",
      "weighted avg       0.74      0.72      0.71      2069\n",
      "\n"
     ]
    }
   ],
   "source": [
    "print(classification_report(y_test,y_pred3))"
   ]
  },
  {
   "cell_type": "code",
   "execution_count": 27,
   "id": "c771b9a7",
   "metadata": {},
   "outputs": [
    {
     "data": {
      "text/plain": [
       "0.7211213146447559"
      ]
     },
     "execution_count": 27,
     "metadata": {},
     "output_type": "execute_result"
    }
   ],
   "source": [
    "accuracy_score(y_test,y_pred3)"
   ]
  },
  {
   "cell_type": "markdown",
   "id": "90a470a5",
   "metadata": {},
   "source": [
    "________________________________________________________________________________"
   ]
  },
  {
   "cell_type": "code",
   "execution_count": 28,
   "id": "f200ff76",
   "metadata": {},
   "outputs": [],
   "source": [
    "svc4 =svm.SVC(class_weight='balanced', probability=True,kernel='poly')"
   ]
  },
  {
   "cell_type": "code",
   "execution_count": 29,
   "id": "9c9dfe8c",
   "metadata": {},
   "outputs": [],
   "source": [
    "model_svc4 = svc4.fit(X_train,y_train)"
   ]
  },
  {
   "cell_type": "code",
   "execution_count": 30,
   "id": "04c68f4c",
   "metadata": {},
   "outputs": [],
   "source": [
    "y_pred4 = model_svc4.predict(X_test)"
   ]
  },
  {
   "cell_type": "code",
   "execution_count": 31,
   "id": "b7defb63",
   "metadata": {},
   "outputs": [
    {
     "name": "stdout",
     "output_type": "stream",
     "text": [
      "[[714 296]\n",
      " [212 847]]\n"
     ]
    }
   ],
   "source": [
    "print(confusion_matrix(y_test,y_pred4))"
   ]
  },
  {
   "cell_type": "code",
   "execution_count": 32,
   "id": "6db18cdb",
   "metadata": {},
   "outputs": [
    {
     "name": "stdout",
     "output_type": "stream",
     "text": [
      "              precision    recall  f1-score   support\n",
      "\n",
      "           0       0.77      0.71      0.74      1010\n",
      "           1       0.74      0.80      0.77      1059\n",
      "\n",
      "    accuracy                           0.75      2069\n",
      "   macro avg       0.76      0.75      0.75      2069\n",
      "weighted avg       0.76      0.75      0.75      2069\n",
      "\n"
     ]
    }
   ],
   "source": [
    "print(classification_report(y_test,y_pred4))"
   ]
  },
  {
   "cell_type": "code",
   "execution_count": 33,
   "id": "23514a13",
   "metadata": {},
   "outputs": [
    {
     "data": {
      "text/plain": [
       "0.7544707588206864"
      ]
     },
     "execution_count": 33,
     "metadata": {},
     "output_type": "execute_result"
    }
   ],
   "source": [
    "accuracy_score(y_test,y_pred4)"
   ]
  },
  {
   "cell_type": "code",
   "execution_count": null,
   "id": "76dcd045",
   "metadata": {},
   "outputs": [],
   "source": []
  }
 ],
 "metadata": {
  "kernelspec": {
   "display_name": "Python 3 (ipykernel)",
   "language": "python",
   "name": "python3"
  },
  "language_info": {
   "codemirror_mode": {
    "name": "ipython",
    "version": 3
   },
   "file_extension": ".py",
   "mimetype": "text/x-python",
   "name": "python",
   "nbconvert_exporter": "python",
   "pygments_lexer": "ipython3",
   "version": "3.9.12"
  }
 },
 "nbformat": 4,
 "nbformat_minor": 5
}
