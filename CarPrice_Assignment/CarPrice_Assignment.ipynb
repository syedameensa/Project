{
 "cells": [
  {
   "cell_type": "code",
   "execution_count": 1,
   "id": "42521b5f",
   "metadata": {},
   "outputs": [],
   "source": [
    "import pandas as pd\n",
    "import numpy as np\n",
    "import matplotlib.pyplot as plt\n",
    "import seaborn as sns\n",
    "from scipy import stats\n",
    "import statsmodels.api as sm\n",
    "from statsmodels.formula.api import ols\n",
    "from statsmodels.stats.multicomp import pairwise_tukeyhsd           \n",
    "import statsmodels.formula.api as smf\n",
    "pd.set_option('display.max_column',None)\n",
    "from sklearn.linear_model import LinearRegression\n",
    "import warnings\n",
    "warnings.filterwarnings('ignore')"
   ]
  },
  {
   "cell_type": "code",
   "execution_count": 2,
   "id": "74dd524b",
   "metadata": {},
   "outputs": [
    {
     "name": "stdout",
     "output_type": "stream",
     "text": [
      "<class 'pandas.core.frame.DataFrame'>\n",
      "RangeIndex: 205 entries, 0 to 204\n",
      "Data columns (total 26 columns):\n",
      " #   Column            Non-Null Count  Dtype  \n",
      "---  ------            --------------  -----  \n",
      " 0   car_ID            205 non-null    int64  \n",
      " 1   symboling         205 non-null    int64  \n",
      " 2   CarName           205 non-null    object \n",
      " 3   fueltype          205 non-null    object \n",
      " 4   aspiration        205 non-null    object \n",
      " 5   doornumber        205 non-null    object \n",
      " 6   carbody           205 non-null    object \n",
      " 7   drivewheel        205 non-null    object \n",
      " 8   enginelocation    205 non-null    object \n",
      " 9   wheelbase         205 non-null    float64\n",
      " 10  carlength         205 non-null    float64\n",
      " 11  carwidth          205 non-null    float64\n",
      " 12  carheight         205 non-null    float64\n",
      " 13  curbweight        205 non-null    int64  \n",
      " 14  enginetype        205 non-null    object \n",
      " 15  cylindernumber    205 non-null    object \n",
      " 16  enginesize        205 non-null    int64  \n",
      " 17  fuelsystem        205 non-null    object \n",
      " 18  boreratio         205 non-null    float64\n",
      " 19  stroke            205 non-null    float64\n",
      " 20  compressionratio  205 non-null    float64\n",
      " 21  horsepower        205 non-null    int64  \n",
      " 22  peakrpm           205 non-null    int64  \n",
      " 23  citympg           205 non-null    int64  \n",
      " 24  highwaympg        205 non-null    int64  \n",
      " 25  price             205 non-null    float64\n",
      "dtypes: float64(8), int64(8), object(10)\n",
      "memory usage: 41.8+ KB\n"
     ]
    }
   ],
   "source": [
    "df=pd.read_csv(\"CarPrice_Assignment.csv.xls\")\n",
    "df.info()"
   ]
  },
  {
   "cell_type": "code",
   "execution_count": 3,
   "id": "cc567bfe",
   "metadata": {},
   "outputs": [
    {
     "data": {
      "text/html": [
       "<div>\n",
       "<style scoped>\n",
       "    .dataframe tbody tr th:only-of-type {\n",
       "        vertical-align: middle;\n",
       "    }\n",
       "\n",
       "    .dataframe tbody tr th {\n",
       "        vertical-align: top;\n",
       "    }\n",
       "\n",
       "    .dataframe thead th {\n",
       "        text-align: right;\n",
       "    }\n",
       "</style>\n",
       "<table border=\"1\" class=\"dataframe\">\n",
       "  <thead>\n",
       "    <tr style=\"text-align: right;\">\n",
       "      <th></th>\n",
       "      <th>car_ID</th>\n",
       "      <th>symboling</th>\n",
       "      <th>CarName</th>\n",
       "      <th>fueltype</th>\n",
       "      <th>aspiration</th>\n",
       "      <th>doornumber</th>\n",
       "      <th>carbody</th>\n",
       "      <th>drivewheel</th>\n",
       "      <th>enginelocation</th>\n",
       "      <th>wheelbase</th>\n",
       "      <th>carlength</th>\n",
       "      <th>carwidth</th>\n",
       "      <th>carheight</th>\n",
       "      <th>curbweight</th>\n",
       "      <th>enginetype</th>\n",
       "      <th>cylindernumber</th>\n",
       "      <th>enginesize</th>\n",
       "      <th>fuelsystem</th>\n",
       "      <th>boreratio</th>\n",
       "      <th>stroke</th>\n",
       "      <th>compressionratio</th>\n",
       "      <th>horsepower</th>\n",
       "      <th>peakrpm</th>\n",
       "      <th>citympg</th>\n",
       "      <th>highwaympg</th>\n",
       "      <th>price</th>\n",
       "    </tr>\n",
       "  </thead>\n",
       "  <tbody>\n",
       "    <tr>\n",
       "      <th>0</th>\n",
       "      <td>1</td>\n",
       "      <td>3</td>\n",
       "      <td>alfa-romero giulia</td>\n",
       "      <td>gas</td>\n",
       "      <td>std</td>\n",
       "      <td>two</td>\n",
       "      <td>convertible</td>\n",
       "      <td>rwd</td>\n",
       "      <td>front</td>\n",
       "      <td>88.6</td>\n",
       "      <td>168.8</td>\n",
       "      <td>64.1</td>\n",
       "      <td>48.8</td>\n",
       "      <td>2548</td>\n",
       "      <td>dohc</td>\n",
       "      <td>four</td>\n",
       "      <td>130</td>\n",
       "      <td>mpfi</td>\n",
       "      <td>3.47</td>\n",
       "      <td>2.68</td>\n",
       "      <td>9.0</td>\n",
       "      <td>111</td>\n",
       "      <td>5000</td>\n",
       "      <td>21</td>\n",
       "      <td>27</td>\n",
       "      <td>13495.0</td>\n",
       "    </tr>\n",
       "    <tr>\n",
       "      <th>1</th>\n",
       "      <td>2</td>\n",
       "      <td>3</td>\n",
       "      <td>alfa-romero stelvio</td>\n",
       "      <td>gas</td>\n",
       "      <td>std</td>\n",
       "      <td>two</td>\n",
       "      <td>convertible</td>\n",
       "      <td>rwd</td>\n",
       "      <td>front</td>\n",
       "      <td>88.6</td>\n",
       "      <td>168.8</td>\n",
       "      <td>64.1</td>\n",
       "      <td>48.8</td>\n",
       "      <td>2548</td>\n",
       "      <td>dohc</td>\n",
       "      <td>four</td>\n",
       "      <td>130</td>\n",
       "      <td>mpfi</td>\n",
       "      <td>3.47</td>\n",
       "      <td>2.68</td>\n",
       "      <td>9.0</td>\n",
       "      <td>111</td>\n",
       "      <td>5000</td>\n",
       "      <td>21</td>\n",
       "      <td>27</td>\n",
       "      <td>16500.0</td>\n",
       "    </tr>\n",
       "  </tbody>\n",
       "</table>\n",
       "</div>"
      ],
      "text/plain": [
       "   car_ID  symboling              CarName fueltype aspiration doornumber  \\\n",
       "0       1          3   alfa-romero giulia      gas        std        two   \n",
       "1       2          3  alfa-romero stelvio      gas        std        two   \n",
       "\n",
       "       carbody drivewheel enginelocation  wheelbase  carlength  carwidth  \\\n",
       "0  convertible        rwd          front       88.6      168.8      64.1   \n",
       "1  convertible        rwd          front       88.6      168.8      64.1   \n",
       "\n",
       "   carheight  curbweight enginetype cylindernumber  enginesize fuelsystem  \\\n",
       "0       48.8        2548       dohc           four         130       mpfi   \n",
       "1       48.8        2548       dohc           four         130       mpfi   \n",
       "\n",
       "   boreratio  stroke  compressionratio  horsepower  peakrpm  citympg  \\\n",
       "0       3.47    2.68               9.0         111     5000       21   \n",
       "1       3.47    2.68               9.0         111     5000       21   \n",
       "\n",
       "   highwaympg    price  \n",
       "0          27  13495.0  \n",
       "1          27  16500.0  "
      ]
     },
     "execution_count": 3,
     "metadata": {},
     "output_type": "execute_result"
    }
   ],
   "source": [
    "df.head(2)"
   ]
  },
  {
   "cell_type": "code",
   "execution_count": 4,
   "id": "05117b1c",
   "metadata": {},
   "outputs": [
    {
     "data": {
      "text/html": [
       "<div>\n",
       "<style scoped>\n",
       "    .dataframe tbody tr th:only-of-type {\n",
       "        vertical-align: middle;\n",
       "    }\n",
       "\n",
       "    .dataframe tbody tr th {\n",
       "        vertical-align: top;\n",
       "    }\n",
       "\n",
       "    .dataframe thead th {\n",
       "        text-align: right;\n",
       "    }\n",
       "</style>\n",
       "<table border=\"1\" class=\"dataframe\">\n",
       "  <thead>\n",
       "    <tr style=\"text-align: right;\">\n",
       "      <th></th>\n",
       "      <th>car_ID</th>\n",
       "      <th>symboling</th>\n",
       "      <th>wheelbase</th>\n",
       "      <th>carlength</th>\n",
       "      <th>carwidth</th>\n",
       "      <th>carheight</th>\n",
       "      <th>curbweight</th>\n",
       "      <th>enginesize</th>\n",
       "      <th>boreratio</th>\n",
       "      <th>stroke</th>\n",
       "      <th>compressionratio</th>\n",
       "      <th>horsepower</th>\n",
       "      <th>peakrpm</th>\n",
       "      <th>citympg</th>\n",
       "      <th>highwaympg</th>\n",
       "      <th>price</th>\n",
       "    </tr>\n",
       "  </thead>\n",
       "  <tbody>\n",
       "    <tr>\n",
       "      <th>count</th>\n",
       "      <td>205.000000</td>\n",
       "      <td>205.000000</td>\n",
       "      <td>205.000000</td>\n",
       "      <td>205.000000</td>\n",
       "      <td>205.000000</td>\n",
       "      <td>205.000000</td>\n",
       "      <td>205.000000</td>\n",
       "      <td>205.000000</td>\n",
       "      <td>205.000000</td>\n",
       "      <td>205.000000</td>\n",
       "      <td>205.000000</td>\n",
       "      <td>205.000000</td>\n",
       "      <td>205.000000</td>\n",
       "      <td>205.000000</td>\n",
       "      <td>205.000000</td>\n",
       "      <td>205.000000</td>\n",
       "    </tr>\n",
       "    <tr>\n",
       "      <th>mean</th>\n",
       "      <td>103.000000</td>\n",
       "      <td>0.834146</td>\n",
       "      <td>98.756585</td>\n",
       "      <td>174.049268</td>\n",
       "      <td>65.907805</td>\n",
       "      <td>53.724878</td>\n",
       "      <td>2555.565854</td>\n",
       "      <td>126.907317</td>\n",
       "      <td>3.329756</td>\n",
       "      <td>3.255415</td>\n",
       "      <td>10.142537</td>\n",
       "      <td>104.117073</td>\n",
       "      <td>5125.121951</td>\n",
       "      <td>25.219512</td>\n",
       "      <td>30.751220</td>\n",
       "      <td>13276.710571</td>\n",
       "    </tr>\n",
       "    <tr>\n",
       "      <th>std</th>\n",
       "      <td>59.322565</td>\n",
       "      <td>1.245307</td>\n",
       "      <td>6.021776</td>\n",
       "      <td>12.337289</td>\n",
       "      <td>2.145204</td>\n",
       "      <td>2.443522</td>\n",
       "      <td>520.680204</td>\n",
       "      <td>41.642693</td>\n",
       "      <td>0.270844</td>\n",
       "      <td>0.313597</td>\n",
       "      <td>3.972040</td>\n",
       "      <td>39.544167</td>\n",
       "      <td>476.985643</td>\n",
       "      <td>6.542142</td>\n",
       "      <td>6.886443</td>\n",
       "      <td>7988.852332</td>\n",
       "    </tr>\n",
       "    <tr>\n",
       "      <th>min</th>\n",
       "      <td>1.000000</td>\n",
       "      <td>-2.000000</td>\n",
       "      <td>86.600000</td>\n",
       "      <td>141.100000</td>\n",
       "      <td>60.300000</td>\n",
       "      <td>47.800000</td>\n",
       "      <td>1488.000000</td>\n",
       "      <td>61.000000</td>\n",
       "      <td>2.540000</td>\n",
       "      <td>2.070000</td>\n",
       "      <td>7.000000</td>\n",
       "      <td>48.000000</td>\n",
       "      <td>4150.000000</td>\n",
       "      <td>13.000000</td>\n",
       "      <td>16.000000</td>\n",
       "      <td>5118.000000</td>\n",
       "    </tr>\n",
       "    <tr>\n",
       "      <th>25%</th>\n",
       "      <td>52.000000</td>\n",
       "      <td>0.000000</td>\n",
       "      <td>94.500000</td>\n",
       "      <td>166.300000</td>\n",
       "      <td>64.100000</td>\n",
       "      <td>52.000000</td>\n",
       "      <td>2145.000000</td>\n",
       "      <td>97.000000</td>\n",
       "      <td>3.150000</td>\n",
       "      <td>3.110000</td>\n",
       "      <td>8.600000</td>\n",
       "      <td>70.000000</td>\n",
       "      <td>4800.000000</td>\n",
       "      <td>19.000000</td>\n",
       "      <td>25.000000</td>\n",
       "      <td>7788.000000</td>\n",
       "    </tr>\n",
       "    <tr>\n",
       "      <th>50%</th>\n",
       "      <td>103.000000</td>\n",
       "      <td>1.000000</td>\n",
       "      <td>97.000000</td>\n",
       "      <td>173.200000</td>\n",
       "      <td>65.500000</td>\n",
       "      <td>54.100000</td>\n",
       "      <td>2414.000000</td>\n",
       "      <td>120.000000</td>\n",
       "      <td>3.310000</td>\n",
       "      <td>3.290000</td>\n",
       "      <td>9.000000</td>\n",
       "      <td>95.000000</td>\n",
       "      <td>5200.000000</td>\n",
       "      <td>24.000000</td>\n",
       "      <td>30.000000</td>\n",
       "      <td>10295.000000</td>\n",
       "    </tr>\n",
       "    <tr>\n",
       "      <th>75%</th>\n",
       "      <td>154.000000</td>\n",
       "      <td>2.000000</td>\n",
       "      <td>102.400000</td>\n",
       "      <td>183.100000</td>\n",
       "      <td>66.900000</td>\n",
       "      <td>55.500000</td>\n",
       "      <td>2935.000000</td>\n",
       "      <td>141.000000</td>\n",
       "      <td>3.580000</td>\n",
       "      <td>3.410000</td>\n",
       "      <td>9.400000</td>\n",
       "      <td>116.000000</td>\n",
       "      <td>5500.000000</td>\n",
       "      <td>30.000000</td>\n",
       "      <td>34.000000</td>\n",
       "      <td>16503.000000</td>\n",
       "    </tr>\n",
       "    <tr>\n",
       "      <th>max</th>\n",
       "      <td>205.000000</td>\n",
       "      <td>3.000000</td>\n",
       "      <td>120.900000</td>\n",
       "      <td>208.100000</td>\n",
       "      <td>72.300000</td>\n",
       "      <td>59.800000</td>\n",
       "      <td>4066.000000</td>\n",
       "      <td>326.000000</td>\n",
       "      <td>3.940000</td>\n",
       "      <td>4.170000</td>\n",
       "      <td>23.000000</td>\n",
       "      <td>288.000000</td>\n",
       "      <td>6600.000000</td>\n",
       "      <td>49.000000</td>\n",
       "      <td>54.000000</td>\n",
       "      <td>45400.000000</td>\n",
       "    </tr>\n",
       "  </tbody>\n",
       "</table>\n",
       "</div>"
      ],
      "text/plain": [
       "           car_ID   symboling   wheelbase   carlength    carwidth   carheight  \\\n",
       "count  205.000000  205.000000  205.000000  205.000000  205.000000  205.000000   \n",
       "mean   103.000000    0.834146   98.756585  174.049268   65.907805   53.724878   \n",
       "std     59.322565    1.245307    6.021776   12.337289    2.145204    2.443522   \n",
       "min      1.000000   -2.000000   86.600000  141.100000   60.300000   47.800000   \n",
       "25%     52.000000    0.000000   94.500000  166.300000   64.100000   52.000000   \n",
       "50%    103.000000    1.000000   97.000000  173.200000   65.500000   54.100000   \n",
       "75%    154.000000    2.000000  102.400000  183.100000   66.900000   55.500000   \n",
       "max    205.000000    3.000000  120.900000  208.100000   72.300000   59.800000   \n",
       "\n",
       "        curbweight  enginesize   boreratio      stroke  compressionratio  \\\n",
       "count   205.000000  205.000000  205.000000  205.000000        205.000000   \n",
       "mean   2555.565854  126.907317    3.329756    3.255415         10.142537   \n",
       "std     520.680204   41.642693    0.270844    0.313597          3.972040   \n",
       "min    1488.000000   61.000000    2.540000    2.070000          7.000000   \n",
       "25%    2145.000000   97.000000    3.150000    3.110000          8.600000   \n",
       "50%    2414.000000  120.000000    3.310000    3.290000          9.000000   \n",
       "75%    2935.000000  141.000000    3.580000    3.410000          9.400000   \n",
       "max    4066.000000  326.000000    3.940000    4.170000         23.000000   \n",
       "\n",
       "       horsepower      peakrpm     citympg  highwaympg         price  \n",
       "count  205.000000   205.000000  205.000000  205.000000    205.000000  \n",
       "mean   104.117073  5125.121951   25.219512   30.751220  13276.710571  \n",
       "std     39.544167   476.985643    6.542142    6.886443   7988.852332  \n",
       "min     48.000000  4150.000000   13.000000   16.000000   5118.000000  \n",
       "25%     70.000000  4800.000000   19.000000   25.000000   7788.000000  \n",
       "50%     95.000000  5200.000000   24.000000   30.000000  10295.000000  \n",
       "75%    116.000000  5500.000000   30.000000   34.000000  16503.000000  \n",
       "max    288.000000  6600.000000   49.000000   54.000000  45400.000000  "
      ]
     },
     "execution_count": 4,
     "metadata": {},
     "output_type": "execute_result"
    }
   ],
   "source": [
    "df.describe()"
   ]
  },
  {
   "cell_type": "code",
   "execution_count": 5,
   "id": "5921392a",
   "metadata": {},
   "outputs": [
    {
     "data": {
      "text/plain": [
       "(205, 26)"
      ]
     },
     "execution_count": 5,
     "metadata": {},
     "output_type": "execute_result"
    }
   ],
   "source": [
    "df.shape"
   ]
  },
  {
   "cell_type": "code",
   "execution_count": 6,
   "id": "603b667e",
   "metadata": {
    "scrolled": true
   },
   "outputs": [
    {
     "data": {
      "text/plain": [
       "car_ID              0\n",
       "symboling           0\n",
       "CarName             0\n",
       "fueltype            0\n",
       "aspiration          0\n",
       "doornumber          0\n",
       "carbody             0\n",
       "drivewheel          0\n",
       "enginelocation      0\n",
       "wheelbase           0\n",
       "carlength           0\n",
       "carwidth            0\n",
       "carheight           0\n",
       "curbweight          0\n",
       "enginetype          0\n",
       "cylindernumber      0\n",
       "enginesize          0\n",
       "fuelsystem          0\n",
       "boreratio           0\n",
       "stroke              0\n",
       "compressionratio    0\n",
       "horsepower          0\n",
       "peakrpm             0\n",
       "citympg             0\n",
       "highwaympg          0\n",
       "price               0\n",
       "dtype: int64"
      ]
     },
     "execution_count": 6,
     "metadata": {},
     "output_type": "execute_result"
    }
   ],
   "source": [
    "df.isnull().sum()"
   ]
  },
  {
   "cell_type": "code",
   "execution_count": 7,
   "id": "5d94571e",
   "metadata": {},
   "outputs": [],
   "source": [
    "df.drop(\"car_ID\",axis=1,inplace=True)"
   ]
  },
  {
   "cell_type": "code",
   "execution_count": 8,
   "id": "ea2eccf4",
   "metadata": {},
   "outputs": [
    {
     "data": {
      "text/plain": [
       "(205, 25)"
      ]
     },
     "execution_count": 8,
     "metadata": {},
     "output_type": "execute_result"
    }
   ],
   "source": [
    "df.shape"
   ]
  },
  {
   "cell_type": "markdown",
   "id": "c6a76d58",
   "metadata": {},
   "source": [
    "### price"
   ]
  },
  {
   "cell_type": "code",
   "execution_count": 9,
   "id": "93992901",
   "metadata": {
    "scrolled": true
   },
   "outputs": [
    {
     "data": {
      "text/plain": [
       "8921.0     2\n",
       "9279.0     2\n",
       "7898.0     2\n",
       "8916.5     2\n",
       "7775.0     2\n",
       "          ..\n",
       "45400.0    1\n",
       "16503.0    1\n",
       "5389.0     1\n",
       "6189.0     1\n",
       "22625.0    1\n",
       "Name: price, Length: 189, dtype: int64"
      ]
     },
     "execution_count": 9,
     "metadata": {},
     "output_type": "execute_result"
    }
   ],
   "source": [
    "df.price.value_counts()"
   ]
  },
  {
   "cell_type": "code",
   "execution_count": 10,
   "id": "3c9480b8",
   "metadata": {
    "scrolled": true
   },
   "outputs": [
    {
     "data": {
      "text/plain": [
       "<AxesSubplot:xlabel='price', ylabel='Density'>"
      ]
     },
     "execution_count": 10,
     "metadata": {},
     "output_type": "execute_result"
    },
    {
     "data": {
      "image/png": "[encoded data removed]",
      "text/plain": [
       "<Figure size 432x288 with 1 Axes>"
      ]
     },
     "metadata": {
      "needs_background": "light"
     },
     "output_type": "display_data"
    }
   ],
   "source": [
    "sns.distplot(df.price)"
   ]
  },
  {
   "cell_type": "code",
   "execution_count": 11,
   "id": "0330464d",
   "metadata": {
    "scrolled": false
   },
   "outputs": [
    {
     "data": {
      "text/plain": [
       "<AxesSubplot:xlabel='price'>"
      ]
     },
     "execution_count": 11,
     "metadata": {},
     "output_type": "execute_result"
    },
    {
     "data": {
      "image/png": "[encoded data removed]",
      "text/plain": [
       "<Figure size 432x288 with 1 Axes>"
      ]
     },
     "metadata": {
      "needs_background": "light"
     },
     "output_type": "display_data"
    }
   ],
   "source": [
    "sns.boxplot(df.price)    "
   ]
  },
  {
   "cell_type": "markdown",
   "id": "744ceab6",
   "metadata": {},
   "source": [
    "# symboling ---cat"
   ]
  },
  {
   "cell_type": "code",
   "execution_count": 12,
   "id": "afbf931b",
   "metadata": {},
   "outputs": [
    {
     "data": {
      "text/plain": [
       " 0    67\n",
       " 1    54\n",
       " 2    32\n",
       " 3    27\n",
       "-1    22\n",
       "-2     3\n",
       "Name: symboling, dtype: int64"
      ]
     },
     "execution_count": 12,
     "metadata": {},
     "output_type": "execute_result"
    }
   ],
   "source": [
    "df.symboling.value_counts()"
   ]
  },
  {
   "cell_type": "code",
   "execution_count": 13,
   "id": "cbc3ce38",
   "metadata": {
    "scrolled": false
   },
   "outputs": [
    {
     "data": {
      "text/plain": [
       "<AxesSubplot:xlabel='symboling', ylabel='count'>"
      ]
     },
     "execution_count": 13,
     "metadata": {},
     "output_type": "execute_result"
    },
    {
     "data": {
      "image/png": "[encoded data removed]",
      "text/plain": [
       "<Figure size 432x288 with 1 Axes>"
      ]
     },
     "metadata": {
      "needs_background": "light"
     },
     "output_type": "display_data"
    }
   ],
   "source": [
    "sns.countplot(df.symboling)"
   ]
  },
  {
   "cell_type": "code",
   "execution_count": 14,
   "id": "35dee7bf",
   "metadata": {
    "scrolled": true
   },
   "outputs": [
    {
     "name": "stdout",
     "output_type": "stream",
     "text": [
      "              df        sum_sq       mean_sq        F   PR(>F)\n",
      "symboling    1.0  8.328034e+07  8.328034e+07  1.30685  0.25431\n",
      "Residual   203.0  1.293636e+10  6.372591e+07      NaN      NaN\n"
     ]
    }
   ],
   "source": [
    "#target_con ~ predection_cat-----anova\n",
    "annova=ols('price ~ symboling',data=df).fit()\n",
    "an=sm.stats.anova_lm(annova)\n",
    "print(an.round(decimals=5))"
   ]
  },
  {
   "cell_type": "code",
   "execution_count": 15,
   "id": "b00ea1f5",
   "metadata": {},
   "outputs": [],
   "source": [
    "df.drop(\"symboling\",axis=1,inplace=True)"
   ]
  },
  {
   "cell_type": "markdown",
   "id": "562e9239",
   "metadata": {},
   "source": [
    "# CarName"
   ]
  },
  {
   "cell_type": "code",
   "execution_count": 16,
   "id": "ea119378",
   "metadata": {
    "scrolled": true
   },
   "outputs": [
    {
     "data": {
      "text/plain": [
       "toyota corona           6\n",
       "toyota corolla          6\n",
       "peugeot 504             6\n",
       "subaru dl               4\n",
       "mitsubishi mirage g4    3\n",
       "                       ..\n",
       "mazda glc 4             1\n",
       "mazda rx2 coupe         1\n",
       "maxda glc deluxe        1\n",
       "maxda rx3               1\n",
       "volvo 246               1\n",
       "Name: CarName, Length: 147, dtype: int64"
      ]
     },
     "execution_count": 16,
     "metadata": {},
     "output_type": "execute_result"
    }
   ],
   "source": [
    "df.CarName.value_counts()"
   ]
  },
  {
   "cell_type": "code",
   "execution_count": 17,
   "id": "0707af80",
   "metadata": {
    "scrolled": true
   },
   "outputs": [
    {
     "data": {
      "text/plain": [
       "<AxesSubplot:xlabel='CarName', ylabel='count'>"
      ]
     },
     "execution_count": 17,
     "metadata": {},
     "output_type": "execute_result"
    },
    {
     "data": {
      "image/png": "[encoded data removed]",
      "text/plain": [
       "<Figure size 432x288 with 1 Axes>"
      ]
     },
     "metadata": {
      "needs_background": "light"
     },
     "output_type": "display_data"
    }
   ],
   "source": [
    "sns.countplot(df.CarName)"
   ]
  },
  {
   "cell_type": "code",
   "execution_count": 18,
   "id": "8561a733",
   "metadata": {},
   "outputs": [
    {
     "name": "stdout",
     "output_type": "stream",
     "text": [
      "             df        sum_sq       mean_sq        F  PR(>F)\n",
      "CarName   146.0  1.243317e+10  8.515869e+07  8.42191     0.0\n",
      "Residual   58.0  5.864709e+08  1.011157e+07      NaN     NaN\n"
     ]
    }
   ],
   "source": [
    "annova=ols('price ~ CarName',data=df).fit()\n",
    "an=sm.stats.anova_lm(annova)\n",
    "print(an.round(decimals=5))"
   ]
  },
  {
   "cell_type": "markdown",
   "id": "0f067b3e",
   "metadata": {},
   "source": [
    "### fueltype"
   ]
  },
  {
   "cell_type": "code",
   "execution_count": 19,
   "id": "9164f1b9",
   "metadata": {
    "scrolled": true
   },
   "outputs": [
    {
     "data": {
      "text/plain": [
       "gas       185\n",
       "diesel     20\n",
       "Name: fueltype, dtype: int64"
      ]
     },
     "execution_count": 19,
     "metadata": {},
     "output_type": "execute_result"
    }
   ],
   "source": [
    "df.fueltype.value_counts()"
   ]
  },
  {
   "cell_type": "code",
   "execution_count": 20,
   "id": "e1fef718",
   "metadata": {},
   "outputs": [],
   "source": [
    "from sklearn.preprocessing import LabelEncoder\n",
    "lr = LabelEncoder()\n",
    "df['fueltype'] = lr.fit_transform(df['fueltype'])"
   ]
  },
  {
   "cell_type": "code",
   "execution_count": 21,
   "id": "90ac2591",
   "metadata": {
    "scrolled": true
   },
   "outputs": [
    {
     "data": {
      "text/plain": [
       "<AxesSubplot:xlabel='fueltype', ylabel='count'>"
      ]
     },
     "execution_count": 21,
     "metadata": {},
     "output_type": "execute_result"
    },
    {
     "data": {
      "image/png": "[encoded data removed]",
      "text/plain": [
       "<Figure size 432x288 with 1 Axes>"
      ]
     },
     "metadata": {
      "needs_background": "light"
     },
     "output_type": "display_data"
    }
   ],
   "source": [
    "sns.countplot(df.fueltype)"
   ]
  },
  {
   "cell_type": "code",
   "execution_count": 22,
   "id": "6d927c4c",
   "metadata": {},
   "outputs": [
    {
     "name": "stdout",
     "output_type": "stream",
     "text": [
      "             df        sum_sq       mean_sq        F   PR(>F)\n",
      "fueltype    1.0  1.454053e+08  1.454053e+08  2.29274  0.13154\n",
      "Residual  203.0  1.287423e+10  6.341987e+07      NaN      NaN\n"
     ]
    }
   ],
   "source": [
    "#target_con ~ predection_cat-----anova\n",
    "annova=ols('price ~ fueltype',data=df).fit()\n",
    "an=sm.stats.anova_lm(annova)\n",
    "print(an.round(decimals=5))"
   ]
  },
  {
   "cell_type": "code",
   "execution_count": 23,
   "id": "643c49c1",
   "metadata": {},
   "outputs": [],
   "source": [
    "df.drop(\"fueltype\",axis=1,inplace=True)"
   ]
  },
  {
   "cell_type": "markdown",
   "id": "4866e91f",
   "metadata": {},
   "source": [
    "### aspiration"
   ]
  },
  {
   "cell_type": "code",
   "execution_count": 24,
   "id": "ca8f1fd5",
   "metadata": {
    "scrolled": true
   },
   "outputs": [
    {
     "data": {
      "text/plain": [
       "std      168\n",
       "turbo     37\n",
       "Name: aspiration, dtype: int64"
      ]
     },
     "execution_count": 24,
     "metadata": {},
     "output_type": "execute_result"
    }
   ],
   "source": [
    "df.aspiration.value_counts()"
   ]
  },
  {
   "cell_type": "code",
   "execution_count": 25,
   "id": "6afadc5b",
   "metadata": {},
   "outputs": [],
   "source": [
    "from sklearn.preprocessing import LabelEncoder\n",
    "lr1 = LabelEncoder()\n",
    "df['aspiration'] = lr1.fit_transform(df['aspiration'])"
   ]
  },
  {
   "cell_type": "code",
   "execution_count": 26,
   "id": "9cbbd4ab",
   "metadata": {
    "scrolled": true
   },
   "outputs": [
    {
     "data": {
      "text/plain": [
       "<AxesSubplot:xlabel='aspiration', ylabel='count'>"
      ]
     },
     "execution_count": 26,
     "metadata": {},
     "output_type": "execute_result"
    },
    {
     "data": {
      "image/png": "[encoded data removed]",
      "text/plain": [
       "<Figure size 432x288 with 1 Axes>"
      ]
     },
     "metadata": {
      "needs_background": "light"
     },
     "output_type": "display_data"
    }
   ],
   "source": [
    "sns.countplot(df.aspiration)"
   ]
  },
  {
   "cell_type": "code",
   "execution_count": 27,
   "id": "aa45be10",
   "metadata": {},
   "outputs": [
    {
     "name": "stdout",
     "output_type": "stream",
     "text": [
      "               df        sum_sq       mean_sq        F  PR(>F)\n",
      "aspiration    1.0  4.121724e+08  4.121724e+08  6.63662  0.0107\n",
      "Residual    203.0  1.260747e+10  6.210575e+07      NaN     NaN\n"
     ]
    }
   ],
   "source": [
    "#target_con ~ predection_cat-----anova\n",
    "annova=ols('price ~ aspiration',data=df).fit()\n",
    "an=sm.stats.anova_lm(annova)\n",
    "print(an.round(decimals=5))"
   ]
  },
  {
   "cell_type": "markdown",
   "id": "e4b5afa7",
   "metadata": {},
   "source": [
    "### doornumber"
   ]
  },
  {
   "cell_type": "code",
   "execution_count": 28,
   "id": "f05ab80b",
   "metadata": {
    "scrolled": false
   },
   "outputs": [
    {
     "data": {
      "text/plain": [
       "four    115\n",
       "two      90\n",
       "Name: doornumber, dtype: int64"
      ]
     },
     "execution_count": 28,
     "metadata": {},
     "output_type": "execute_result"
    }
   ],
   "source": [
    "df.doornumber.value_counts()"
   ]
  },
  {
   "cell_type": "code",
   "execution_count": 29,
   "id": "c6561358",
   "metadata": {},
   "outputs": [],
   "source": [
    "lr2 = LabelEncoder()\n",
    "df['doornumber'] = lr2.fit_transform(df['doornumber'])"
   ]
  },
  {
   "cell_type": "code",
   "execution_count": 30,
   "id": "f7876232",
   "metadata": {
    "scrolled": true
   },
   "outputs": [
    {
     "data": {
      "text/plain": [
       "<AxesSubplot:xlabel='doornumber', ylabel='count'>"
      ]
     },
     "execution_count": 30,
     "metadata": {},
     "output_type": "execute_result"
    },
    {
     "data": {
      "image/png": "[encoded data removed]",
      "text/plain": [
       "<Figure size 432x288 with 1 Axes>"
      ]
     },
     "metadata": {
      "needs_background": "light"
     },
     "output_type": "display_data"
    }
   ],
   "source": [
    "sns.countplot(df.doornumber)"
   ]
  },
  {
   "cell_type": "code",
   "execution_count": 31,
   "id": "f29bd619",
   "metadata": {
    "scrolled": true
   },
   "outputs": [
    {
     "name": "stdout",
     "output_type": "stream",
     "text": [
      "               df        sum_sq       mean_sq        F   PR(>F)\n",
      "doornumber    1.0  1.319520e+07  1.319520e+07  0.20595  0.65045\n",
      "Residual    203.0  1.300644e+10  6.407115e+07      NaN      NaN\n"
     ]
    }
   ],
   "source": [
    "annova=ols('price ~ doornumber',data=df).fit()\n",
    "an=sm.stats.anova_lm(annova)\n",
    "print(an.round(decimals=5))"
   ]
  },
  {
   "cell_type": "code",
   "execution_count": 32,
   "id": "3c301ad7",
   "metadata": {},
   "outputs": [],
   "source": [
    "df.drop(\"doornumber\",axis=1,inplace=True)"
   ]
  },
  {
   "cell_type": "markdown",
   "id": "acb64623",
   "metadata": {},
   "source": [
    "### carbody"
   ]
  },
  {
   "cell_type": "code",
   "execution_count": 33,
   "id": "def000da",
   "metadata": {
    "scrolled": false
   },
   "outputs": [
    {
     "data": {
      "text/plain": [
       "sedan          96\n",
       "hatchback      70\n",
       "wagon          25\n",
       "hardtop         8\n",
       "convertible     6\n",
       "Name: carbody, dtype: int64"
      ]
     },
     "execution_count": 33,
     "metadata": {},
     "output_type": "execute_result"
    }
   ],
   "source": [
    "df.carbody.value_counts()"
   ]
  },
  {
   "cell_type": "code",
   "execution_count": 34,
   "id": "ad011eba",
   "metadata": {},
   "outputs": [],
   "source": [
    "from sklearn.preprocessing import LabelEncoder\n",
    "lr3 = LabelEncoder()\n",
    "df['carbody'] = lr3.fit_transform(df['carbody'])"
   ]
  },
  {
   "cell_type": "code",
   "execution_count": 35,
   "id": "1513c2fd",
   "metadata": {
    "scrolled": true
   },
   "outputs": [
    {
     "data": {
      "text/plain": [
       "<AxesSubplot:xlabel='carbody', ylabel='count'>"
      ]
     },
     "execution_count": 35,
     "metadata": {},
     "output_type": "execute_result"
    },
    {
     "data": {
      "image/png": "[encoded data removed]",
      "text/plain": [
       "<Figure size 432x288 with 1 Axes>"
      ]
     },
     "metadata": {
      "needs_background": "light"
     },
     "output_type": "display_data"
    }
   ],
   "source": [
    "sns.countplot(df.carbody)"
   ]
  },
  {
   "cell_type": "code",
   "execution_count": 36,
   "id": "f621d0e6",
   "metadata": {},
   "outputs": [
    {
     "name": "stdout",
     "output_type": "stream",
     "text": [
      "             df        sum_sq       mean_sq        F   PR(>F)\n",
      "carbody     1.0  9.181339e+07  9.181339e+07  1.44171  0.23126\n",
      "Residual  203.0  1.292783e+10  6.368387e+07      NaN      NaN\n"
     ]
    }
   ],
   "source": [
    "#target_con ~ predection_cat-----anova\n",
    "annova=ols('price ~ carbody',data=df).fit()\n",
    "an=sm.stats.anova_lm(annova)\n",
    "print(an.round(decimals=5))"
   ]
  },
  {
   "cell_type": "code",
   "execution_count": 37,
   "id": "f4cc4c89",
   "metadata": {},
   "outputs": [],
   "source": [
    "df.drop(['carbody'],axis=1,inplace=True)"
   ]
  },
  {
   "cell_type": "code",
   "execution_count": 38,
   "id": "be945812",
   "metadata": {},
   "outputs": [
    {
     "data": {
      "text/plain": [
       "Index(['CarName', 'aspiration', 'drivewheel', 'enginelocation', 'wheelbase',\n",
       "       'carlength', 'carwidth', 'carheight', 'curbweight', 'enginetype',\n",
       "       'cylindernumber', 'enginesize', 'fuelsystem', 'boreratio', 'stroke',\n",
       "       'compressionratio', 'horsepower', 'peakrpm', 'citympg', 'highwaympg',\n",
       "       'price'],\n",
       "      dtype='object')"
      ]
     },
     "execution_count": 38,
     "metadata": {},
     "output_type": "execute_result"
    }
   ],
   "source": [
    "df.columns"
   ]
  },
  {
   "cell_type": "markdown",
   "id": "e1f104bc",
   "metadata": {},
   "source": [
    "### drivewheel"
   ]
  },
  {
   "cell_type": "code",
   "execution_count": 39,
   "id": "3d03f237",
   "metadata": {
    "scrolled": false
   },
   "outputs": [
    {
     "data": {
      "text/plain": [
       "fwd    120\n",
       "rwd     76\n",
       "4wd      9\n",
       "Name: drivewheel, dtype: int64"
      ]
     },
     "execution_count": 39,
     "metadata": {},
     "output_type": "execute_result"
    }
   ],
   "source": [
    "df.drivewheel.value_counts()"
   ]
  },
  {
   "cell_type": "code",
   "execution_count": 40,
   "id": "5e3beacb",
   "metadata": {},
   "outputs": [],
   "source": [
    "lr4 = LabelEncoder()\n",
    "df['drivewheel'] = lr4.fit_transform(df['drivewheel'])"
   ]
  },
  {
   "cell_type": "code",
   "execution_count": 41,
   "id": "71feaa86",
   "metadata": {},
   "outputs": [],
   "source": [
    "df.drivewheel=df.drivewheel.replace({0:2})"
   ]
  },
  {
   "cell_type": "code",
   "execution_count": 42,
   "id": "04c32cb9",
   "metadata": {},
   "outputs": [
    {
     "data": {
      "text/plain": [
       "<AxesSubplot:xlabel='drivewheel', ylabel='count'>"
      ]
     },
     "execution_count": 42,
     "metadata": {},
     "output_type": "execute_result"
    },
    {
     "data": {
      "image/png": "[encoded data removed]",
      "text/plain": [
       "<Figure size 432x288 with 1 Axes>"
      ]
     },
     "metadata": {
      "needs_background": "light"
     },
     "output_type": "display_data"
    }
   ],
   "source": [
    "sns.countplot(df.drivewheel)"
   ]
  },
  {
   "cell_type": "code",
   "execution_count": 43,
   "id": "c20556b2",
   "metadata": {},
   "outputs": [
    {
     "name": "stdout",
     "output_type": "stream",
     "text": [
      "               df        sum_sq       mean_sq          F  PR(>F)\n",
      "drivewheel    1.0  4.717590e+09  4.717590e+09  115.35355     0.0\n",
      "Residual    203.0  8.302049e+09  4.089679e+07        NaN     NaN\n"
     ]
    }
   ],
   "source": [
    "annova=ols('price ~ drivewheel',data=df).fit()\n",
    "an=sm.stats.anova_lm(annova)\n",
    "print(an.round(decimals=5))"
   ]
  },
  {
   "cell_type": "markdown",
   "id": "ee9abc3a",
   "metadata": {},
   "source": [
    "#### enginelocation"
   ]
  },
  {
   "cell_type": "code",
   "execution_count": 44,
   "id": "8b351d9c",
   "metadata": {
    "scrolled": true
   },
   "outputs": [
    {
     "data": {
      "text/plain": [
       "front    202\n",
       "rear       3\n",
       "Name: enginelocation, dtype: int64"
      ]
     },
     "execution_count": 44,
     "metadata": {},
     "output_type": "execute_result"
    }
   ],
   "source": [
    "df.enginelocation.value_counts()"
   ]
  },
  {
   "cell_type": "code",
   "execution_count": 45,
   "id": "1ae299ba",
   "metadata": {},
   "outputs": [],
   "source": [
    "lr5 = LabelEncoder()\n",
    "df['enginelocation'] = lr5.fit_transform(df['enginelocation'])"
   ]
  },
  {
   "cell_type": "code",
   "execution_count": 46,
   "id": "a400e1ff",
   "metadata": {
    "scrolled": false
   },
   "outputs": [
    {
     "data": {
      "text/plain": [
       "<AxesSubplot:xlabel='enginelocation', ylabel='count'>"
      ]
     },
     "execution_count": 46,
     "metadata": {},
     "output_type": "execute_result"
    },
    {
     "data": {
      "image/png": "[encoded data removed]",
      "text/plain": [
       "<Figure size 432x288 with 1 Axes>"
      ]
     },
     "metadata": {
      "needs_background": "light"
     },
     "output_type": "display_data"
    }
   ],
   "source": [
    "sns.countplot(df.enginelocation)"
   ]
  },
  {
   "cell_type": "code",
   "execution_count": 47,
   "id": "bc6f7092",
   "metadata": {},
   "outputs": [
    {
     "name": "stdout",
     "output_type": "stream",
     "text": [
      "                   df        sum_sq       mean_sq         F  PR(>F)\n",
      "enginelocation    1.0  1.374973e+09  1.374973e+09  23.96974     0.0\n",
      "Residual        203.0  1.164467e+10  5.736289e+07       NaN     NaN\n"
     ]
    }
   ],
   "source": [
    "annova=ols('price ~ enginelocation',data=df).fit()\n",
    "an=sm.stats.anova_lm(annova)\n",
    "print(an.round(decimals=5))"
   ]
  },
  {
   "cell_type": "markdown",
   "id": "ab022d5c",
   "metadata": {},
   "source": [
    "### wheelbase"
   ]
  },
  {
   "cell_type": "code",
   "execution_count": 48,
   "id": "2ce2fbc1",
   "metadata": {
    "scrolled": true
   },
   "outputs": [
    {
     "data": {
      "text/plain": [
       "94.5     21\n",
       "93.7     20\n",
       "95.7     13\n",
       "96.5      8\n",
       "97.3      7\n",
       "98.4      7\n",
       "104.3     6\n",
       "100.4     6\n",
       "107.9     6\n",
       "98.8      6\n",
       "99.1      6\n",
       "96.3      6\n",
       "109.1     5\n",
       "93.1      5\n",
       "97.2      5\n",
       "95.9      5\n",
       "102.4     5\n",
       "97.0      4\n",
       "95.3      4\n",
       "114.2     4\n",
       "101.2     4\n",
       "110.0     3\n",
       "103.5     3\n",
       "89.5      3\n",
       "105.8     3\n",
       "96.1      2\n",
       "102.9     2\n",
       "104.5     2\n",
       "91.3      2\n",
       "96.9      2\n",
       "88.6      2\n",
       "113.0     2\n",
       "99.8      2\n",
       "115.6     2\n",
       "103.3     2\n",
       "86.6      2\n",
       "104.9     2\n",
       "93.3      1\n",
       "99.4      1\n",
       "99.5      1\n",
       "88.4      1\n",
       "94.3      1\n",
       "96.0      1\n",
       "95.1      1\n",
       "93.0      1\n",
       "102.0     1\n",
       "106.7     1\n",
       "108.0     1\n",
       "96.6      1\n",
       "99.2      1\n",
       "112.0     1\n",
       "102.7     1\n",
       "120.9     1\n",
       "Name: wheelbase, dtype: int64"
      ]
     },
     "execution_count": 48,
     "metadata": {},
     "output_type": "execute_result"
    }
   ],
   "source": [
    "df.wheelbase.value_counts()"
   ]
  },
  {
   "cell_type": "code",
   "execution_count": 49,
   "id": "742c1c4f",
   "metadata": {
    "scrolled": true
   },
   "outputs": [
    {
     "data": {
      "text/plain": [
       "<AxesSubplot:xlabel='wheelbase', ylabel='Density'>"
      ]
     },
     "execution_count": 49,
     "metadata": {},
     "output_type": "execute_result"
    },
    {
     "data": {
      "image/png": "[encoded data removed]",
      "text/plain": [
       "<Figure size 432x288 with 1 Axes>"
      ]
     },
     "metadata": {
      "needs_background": "light"
     },
     "output_type": "display_data"
    }
   ],
   "source": [
    "sns.distplot(df.wheelbase)"
   ]
  },
  {
   "cell_type": "code",
   "execution_count": 50,
   "id": "1bbf0509",
   "metadata": {
    "scrolled": true
   },
   "outputs": [
    {
     "data": {
      "text/plain": [
       "<AxesSubplot:xlabel='wheelbase'>"
      ]
     },
     "execution_count": 50,
     "metadata": {},
     "output_type": "execute_result"
    },
    {
     "data": {
      "image/png": "[encoded data removed]",
      "text/plain": [
       "<Figure size 432x288 with 1 Axes>"
      ]
     },
     "metadata": {
      "needs_background": "light"
     },
     "output_type": "display_data"
    }
   ],
   "source": [
    "sns.boxplot(df.wheelbase) "
   ]
  },
  {
   "cell_type": "markdown",
   "id": "7781c070",
   "metadata": {},
   "source": [
    "### carlength"
   ]
  },
  {
   "cell_type": "code",
   "execution_count": 51,
   "id": "f475ca4b",
   "metadata": {
    "scrolled": false
   },
   "outputs": [
    {
     "data": {
      "text/plain": [
       "157.3    15\n",
       "188.8    11\n",
       "171.7     7\n",
       "186.7     7\n",
       "166.3     7\n",
       "         ..\n",
       "165.6     1\n",
       "187.5     1\n",
       "180.3     1\n",
       "208.1     1\n",
       "199.2     1\n",
       "Name: carlength, Length: 75, dtype: int64"
      ]
     },
     "execution_count": 51,
     "metadata": {},
     "output_type": "execute_result"
    }
   ],
   "source": [
    "df.carlength.value_counts()"
   ]
  },
  {
   "cell_type": "code",
   "execution_count": 52,
   "id": "eb4749ae",
   "metadata": {
    "scrolled": true
   },
   "outputs": [
    {
     "data": {
      "text/plain": [
       "<AxesSubplot:xlabel='carlength', ylabel='Density'>"
      ]
     },
     "execution_count": 52,
     "metadata": {},
     "output_type": "execute_result"
    },
    {
     "data": {
      "image/png": "[encoded data removed]",
      "text/plain": [
       "<Figure size 432x288 with 1 Axes>"
      ]
     },
     "metadata": {
      "needs_background": "light"
     },
     "output_type": "display_data"
    }
   ],
   "source": [
    "sns.distplot(df.carlength)"
   ]
  },
  {
   "cell_type": "code",
   "execution_count": 53,
   "id": "e8b20b44",
   "metadata": {
    "scrolled": true
   },
   "outputs": [
    {
     "data": {
      "text/plain": [
       "<AxesSubplot:xlabel='carlength'>"
      ]
     },
     "execution_count": 53,
     "metadata": {},
     "output_type": "execute_result"
    },
    {
     "data": {
      "image/png": "[encoded data removed]",
      "text/plain": [
       "<Figure size 432x288 with 1 Axes>"
      ]
     },
     "metadata": {
      "needs_background": "light"
     },
     "output_type": "display_data"
    }
   ],
   "source": [
    "sns.boxplot(df.carlength)  "
   ]
  },
  {
   "cell_type": "markdown",
   "id": "a83a2446",
   "metadata": {},
   "source": [
    "### carwidth"
   ]
  },
  {
   "cell_type": "code",
   "execution_count": 54,
   "id": "336275e5",
   "metadata": {
    "scrolled": true
   },
   "outputs": [
    {
     "data": {
      "text/plain": [
       "63.8    24\n",
       "66.5    23\n",
       "65.4    15\n",
       "63.6    11\n",
       "64.4    10\n",
       "68.4    10\n",
       "64.0     9\n",
       "65.5     8\n",
       "65.2     7\n",
       "64.2     6\n",
       "66.3     6\n",
       "65.6     6\n",
       "67.2     6\n",
       "67.9     5\n",
       "66.9     5\n",
       "65.7     4\n",
       "68.9     4\n",
       "64.8     4\n",
       "63.9     3\n",
       "70.3     3\n",
       "71.7     3\n",
       "71.4     3\n",
       "65.0     3\n",
       "68.3     2\n",
       "67.7     2\n",
       "64.1     2\n",
       "66.1     2\n",
       "69.6     2\n",
       "64.6     2\n",
       "72.0     1\n",
       "68.0     1\n",
       "70.5     1\n",
       "61.8     1\n",
       "66.0     1\n",
       "62.5     1\n",
       "70.6     1\n",
       "72.3     1\n",
       "66.6     1\n",
       "63.4     1\n",
       "60.3     1\n",
       "70.9     1\n",
       "66.4     1\n",
       "66.2     1\n",
       "68.8     1\n",
       "Name: carwidth, dtype: int64"
      ]
     },
     "execution_count": 54,
     "metadata": {},
     "output_type": "execute_result"
    }
   ],
   "source": [
    "df.carwidth.value_counts()"
   ]
  },
  {
   "cell_type": "code",
   "execution_count": 55,
   "id": "9745bcb4",
   "metadata": {},
   "outputs": [
    {
     "data": {
      "text/plain": [
       "<AxesSubplot:xlabel='carwidth', ylabel='Density'>"
      ]
     },
     "execution_count": 55,
     "metadata": {},
     "output_type": "execute_result"
    },
    {
     "data": {
      "image/png": "[encoded data removed]",
      "text/plain": [
       "<Figure size 432x288 with 1 Axes>"
      ]
     },
     "metadata": {
      "needs_background": "light"
     },
     "output_type": "display_data"
    }
   ],
   "source": [
    "sns.distplot(df.carwidth)"
   ]
  },
  {
   "cell_type": "code",
   "execution_count": 56,
   "id": "6ce91528",
   "metadata": {
    "scrolled": false
   },
   "outputs": [
    {
     "data": {
      "text/plain": [
       "<AxesSubplot:xlabel='carwidth'>"
      ]
     },
     "execution_count": 56,
     "metadata": {},
     "output_type": "execute_result"
    },
    {
     "data": {
      "image/png": "[encoded data removed]",
      "text/plain": [
       "<Figure size 432x288 with 1 Axes>"
      ]
     },
     "metadata": {
      "needs_background": "light"
     },
     "output_type": "display_data"
    }
   ],
   "source": [
    "sns.boxplot(df.carwidth)"
   ]
  },
  {
   "cell_type": "code",
   "execution_count": 57,
   "id": "76e23388",
   "metadata": {},
   "outputs": [],
   "source": [
    "iqr=stats.iqr(df.carwidth)\n",
    "q3=df.carwidth.quantile(0.75)\n",
    "upper_bond_carwidth=q3+(1.5*iqr)"
   ]
  },
  {
   "cell_type": "code",
   "execution_count": 58,
   "id": "4757d594",
   "metadata": {},
   "outputs": [],
   "source": [
    "df.carwidth=np.where(df.carwidth>upper_bond_carwidth,upper_bond_carwidth,df.price)"
   ]
  },
  {
   "cell_type": "markdown",
   "id": "dd5ab1f9",
   "metadata": {},
   "source": [
    "### carheight"
   ]
  },
  {
   "cell_type": "code",
   "execution_count": 59,
   "id": "359b44d9",
   "metadata": {
    "scrolled": true
   },
   "outputs": [
    {
     "data": {
      "text/plain": [
       "50.8    14\n",
       "52.0    12\n",
       "55.7    12\n",
       "54.1    10\n",
       "54.5    10\n",
       "55.5     9\n",
       "56.7     8\n",
       "54.3     8\n",
       "52.6     7\n",
       "56.1     7\n",
       "51.6     7\n",
       "53.0     6\n",
       "52.8     6\n",
       "54.9     6\n",
       "50.2     6\n",
       "53.7     5\n",
       "55.1     5\n",
       "50.6     5\n",
       "49.6     4\n",
       "58.7     4\n",
       "53.3     4\n",
       "52.5     3\n",
       "59.1     3\n",
       "56.2     3\n",
       "49.7     3\n",
       "57.5     3\n",
       "53.5     3\n",
       "54.4     2\n",
       "53.9     2\n",
       "56.3     2\n",
       "50.5     2\n",
       "59.8     2\n",
       "56.5     2\n",
       "54.7     2\n",
       "48.8     2\n",
       "49.4     2\n",
       "51.4     2\n",
       "51.0     1\n",
       "54.8     1\n",
       "55.4     1\n",
       "56.0     1\n",
       "55.2     1\n",
       "53.2     1\n",
       "47.8     1\n",
       "55.9     1\n",
       "52.4     1\n",
       "55.6     1\n",
       "53.1     1\n",
       "58.3     1\n",
       "Name: carheight, dtype: int64"
      ]
     },
     "execution_count": 59,
     "metadata": {},
     "output_type": "execute_result"
    }
   ],
   "source": [
    "df.carheight.value_counts()"
   ]
  },
  {
   "cell_type": "code",
   "execution_count": 60,
   "id": "823fca97",
   "metadata": {
    "scrolled": true
   },
   "outputs": [
    {
     "data": {
      "text/plain": [
       "<AxesSubplot:xlabel='carheight', ylabel='Density'>"
      ]
     },
     "execution_count": 60,
     "metadata": {},
     "output_type": "execute_result"
    },
    {
     "data": {
      "image/png": "[encoded data removed]",
      "text/plain": [
       "<Figure size 432x288 with 1 Axes>"
      ]
     },
     "metadata": {
      "needs_background": "light"
     },
     "output_type": "display_data"
    }
   ],
   "source": [
    "sns.distplot(df.carheight)"
   ]
  },
  {
   "cell_type": "code",
   "execution_count": 61,
   "id": "a06d901d",
   "metadata": {
    "scrolled": false
   },
   "outputs": [
    {
     "data": {
      "text/plain": [
       "<AxesSubplot:xlabel='carheight'>"
      ]
     },
     "execution_count": 61,
     "metadata": {},
     "output_type": "execute_result"
    },
    {
     "data": {
      "image/png": "[encoded data removed]",
      "text/plain": [
       "<Figure size 432x288 with 1 Axes>"
      ]
     },
     "metadata": {
      "needs_background": "light"
     },
     "output_type": "display_data"
    }
   ],
   "source": [
    "sns.boxplot(df.carheight) "
   ]
  },
  {
   "cell_type": "markdown",
   "id": "f50a34f3",
   "metadata": {},
   "source": [
    "### curbweight"
   ]
  },
  {
   "cell_type": "code",
   "execution_count": 62,
   "id": "121ded9a",
   "metadata": {
    "scrolled": false
   },
   "outputs": [
    {
     "data": {
      "text/plain": [
       "2385    4\n",
       "1918    3\n",
       "2275    3\n",
       "1989    3\n",
       "2410    2\n",
       "       ..\n",
       "2370    1\n",
       "2328    1\n",
       "2833    1\n",
       "2921    1\n",
       "3062    1\n",
       "Name: curbweight, Length: 171, dtype: int64"
      ]
     },
     "execution_count": 62,
     "metadata": {},
     "output_type": "execute_result"
    }
   ],
   "source": [
    "df.curbweight.value_counts()"
   ]
  },
  {
   "cell_type": "code",
   "execution_count": 63,
   "id": "dbef894e",
   "metadata": {
    "scrolled": true
   },
   "outputs": [
    {
     "data": {
      "text/plain": [
       "<AxesSubplot:xlabel='curbweight', ylabel='Density'>"
      ]
     },
     "execution_count": 63,
     "metadata": {},
     "output_type": "execute_result"
    },
    {
     "data": {
      "image/png": "[encoded data removed]",
      "text/plain": [
       "<Figure size 432x288 with 1 Axes>"
      ]
     },
     "metadata": {
      "needs_background": "light"
     },
     "output_type": "display_data"
    }
   ],
   "source": [
    "sns.distplot(df.curbweight) "
   ]
  },
  {
   "cell_type": "code",
   "execution_count": 64,
   "id": "4bb70bfd",
   "metadata": {
    "scrolled": true
   },
   "outputs": [
    {
     "data": {
      "text/plain": [
       "<AxesSubplot:xlabel='curbweight'>"
      ]
     },
     "execution_count": 64,
     "metadata": {},
     "output_type": "execute_result"
    },
    {
     "data": {
      "image/png": "[encoded data removed]",
      "text/plain": [
       "<Figure size 432x288 with 1 Axes>"
      ]
     },
     "metadata": {
      "needs_background": "light"
     },
     "output_type": "display_data"
    }
   ],
   "source": [
    "sns.boxplot(df.curbweight)"
   ]
  },
  {
   "cell_type": "markdown",
   "id": "07270e94",
   "metadata": {},
   "source": [
    "### enginetype"
   ]
  },
  {
   "cell_type": "code",
   "execution_count": 65,
   "id": "8f2a2e33",
   "metadata": {
    "scrolled": true
   },
   "outputs": [
    {
     "data": {
      "text/plain": [
       "ohc      148\n",
       "ohcf      15\n",
       "ohcv      13\n",
       "dohc      12\n",
       "l         12\n",
       "rotor      4\n",
       "dohcv      1\n",
       "Name: enginetype, dtype: int64"
      ]
     },
     "execution_count": 65,
     "metadata": {},
     "output_type": "execute_result"
    }
   ],
   "source": [
    "df.enginetype.value_counts()"
   ]
  },
  {
   "cell_type": "code",
   "execution_count": 66,
   "id": "18b10c3d",
   "metadata": {},
   "outputs": [],
   "source": [
    "lr6 = LabelEncoder()\n",
    "df['enginetype'] = lr6.fit_transform(df['enginetype'])"
   ]
  },
  {
   "cell_type": "code",
   "execution_count": 67,
   "id": "9d1bac52",
   "metadata": {
    "scrolled": true
   },
   "outputs": [
    {
     "data": {
      "text/plain": [
       "<AxesSubplot:xlabel='enginetype', ylabel='count'>"
      ]
     },
     "execution_count": 67,
     "metadata": {},
     "output_type": "execute_result"
    },
    {
     "data": {
      "image/png": "[encoded data removed]",
      "text/plain": [
       "<Figure size 432x288 with 1 Axes>"
      ]
     },
     "metadata": {
      "needs_background": "light"
     },
     "output_type": "display_data"
    }
   ],
   "source": [
    "sns.countplot(df.enginetype)"
   ]
  },
  {
   "cell_type": "code",
   "execution_count": 68,
   "id": "5b8245a4",
   "metadata": {},
   "outputs": [
    {
     "name": "stdout",
     "output_type": "stream",
     "text": [
      "                  sum_sq     df      F   PR(>F)\n",
      "enginetype  3.147871e+07    1.0  0.492  0.48384\n",
      "Residual    1.298816e+10  203.0    NaN      NaN\n"
     ]
    }
   ],
   "source": [
    "annova=ols('price ~ enginetype',data=df).fit()\n",
    "an=sm.stats.anova_lm(annova,typ=2)\n",
    "print(an.round(decimals=5))"
   ]
  },
  {
   "cell_type": "code",
   "execution_count": 69,
   "id": "af1769c7",
   "metadata": {},
   "outputs": [],
   "source": [
    "df.drop(['enginetype'],axis=1,inplace=True)"
   ]
  },
  {
   "cell_type": "markdown",
   "id": "bdefd453",
   "metadata": {},
   "source": [
    "### cylindernumber"
   ]
  },
  {
   "cell_type": "code",
   "execution_count": 70,
   "id": "18cc9735",
   "metadata": {
    "scrolled": true
   },
   "outputs": [
    {
     "data": {
      "text/plain": [
       "four      159\n",
       "six        24\n",
       "five       11\n",
       "eight       5\n",
       "two         4\n",
       "three       1\n",
       "twelve      1\n",
       "Name: cylindernumber, dtype: int64"
      ]
     },
     "execution_count": 70,
     "metadata": {},
     "output_type": "execute_result"
    }
   ],
   "source": [
    "df.cylindernumber.value_counts()"
   ]
  },
  {
   "cell_type": "code",
   "execution_count": 71,
   "id": "d351cb4b",
   "metadata": {},
   "outputs": [],
   "source": [
    "lr7 = LabelEncoder()\n",
    "df['cylindernumber'] = lr7.fit_transform(df['cylindernumber'])"
   ]
  },
  {
   "cell_type": "code",
   "execution_count": 72,
   "id": "3778e47b",
   "metadata": {
    "scrolled": true
   },
   "outputs": [
    {
     "data": {
      "text/plain": [
       "<AxesSubplot:xlabel='cylindernumber', ylabel='count'>"
      ]
     },
     "execution_count": 72,
     "metadata": {},
     "output_type": "execute_result"
    },
    {
     "data": {
      "image/png": "[encoded data removed]",
      "text/plain": [
       "<Figure size 432x288 with 1 Axes>"
      ]
     },
     "metadata": {
      "needs_background": "light"
     },
     "output_type": "display_data"
    }
   ],
   "source": [
    "sns.countplot(df.cylindernumber)"
   ]
  },
  {
   "cell_type": "code",
   "execution_count": 73,
   "id": "0f9f8dcd",
   "metadata": {},
   "outputs": [
    {
     "name": "stdout",
     "output_type": "stream",
     "text": [
      "                      sum_sq     df        F   PR(>F)\n",
      "cylindernumber  9.937874e+06    1.0  0.15507  0.69415\n",
      "Residual        1.300970e+10  203.0      NaN      NaN\n"
     ]
    }
   ],
   "source": [
    "annova=ols('price ~ cylindernumber',data=df).fit()\n",
    "an=sm.stats.anova_lm(annova,typ=2)\n",
    "print(an.round(decimals=5))"
   ]
  },
  {
   "cell_type": "code",
   "execution_count": 74,
   "id": "d5c2e4b9",
   "metadata": {},
   "outputs": [],
   "source": [
    "df.drop(['cylindernumber'],axis=1,inplace=True)"
   ]
  },
  {
   "cell_type": "markdown",
   "id": "89807b42",
   "metadata": {},
   "source": [
    "### enginesize"
   ]
  },
  {
   "cell_type": "code",
   "execution_count": 75,
   "id": "b8d3f26f",
   "metadata": {
    "scrolled": true
   },
   "outputs": [
    {
     "data": {
      "text/plain": [
       "122    15\n",
       "92     15\n",
       "97     14\n",
       "98     14\n",
       "108    13\n",
       "90     12\n",
       "110    12\n",
       "109     8\n",
       "120     7\n",
       "141     7\n",
       "152     6\n",
       "181     6\n",
       "146     6\n",
       "121     6\n",
       "156     5\n",
       "136     5\n",
       "91      5\n",
       "183     4\n",
       "130     4\n",
       "171     3\n",
       "70      3\n",
       "194     3\n",
       "209     3\n",
       "164     3\n",
       "258     2\n",
       "140     2\n",
       "134     2\n",
       "234     2\n",
       "132     2\n",
       "131     2\n",
       "173     1\n",
       "203     1\n",
       "161     1\n",
       "80      1\n",
       "151     1\n",
       "103     1\n",
       "304     1\n",
       "308     1\n",
       "326     1\n",
       "119     1\n",
       "111     1\n",
       "79      1\n",
       "61      1\n",
       "145     1\n",
       "Name: enginesize, dtype: int64"
      ]
     },
     "execution_count": 75,
     "metadata": {},
     "output_type": "execute_result"
    }
   ],
   "source": [
    "df.enginesize.value_counts()"
   ]
  },
  {
   "cell_type": "code",
   "execution_count": 76,
   "id": "c6e77c7d",
   "metadata": {},
   "outputs": [
    {
     "data": {
      "text/plain": [
       "<AxesSubplot:xlabel='enginesize', ylabel='Density'>"
      ]
     },
     "execution_count": 76,
     "metadata": {},
     "output_type": "execute_result"
    },
    {
     "data": {
      "image/png": "[encoded data removed]",
      "text/plain": [
       "<Figure size 432x288 with 1 Axes>"
      ]
     },
     "metadata": {
      "needs_background": "light"
     },
     "output_type": "display_data"
    }
   ],
   "source": [
    "sns.distplot(df.enginesize)"
   ]
  },
  {
   "cell_type": "code",
   "execution_count": 77,
   "id": "27a917c2",
   "metadata": {
    "scrolled": true
   },
   "outputs": [
    {
     "data": {
      "text/plain": [
       "<AxesSubplot:xlabel='enginesize'>"
      ]
     },
     "execution_count": 77,
     "metadata": {},
     "output_type": "execute_result"
    },
    {
     "data": {
      "image/png": "[encoded data removed]",
      "text/plain": [
       "<Figure size 432x288 with 1 Axes>"
      ]
     },
     "metadata": {
      "needs_background": "light"
     },
     "output_type": "display_data"
    }
   ],
   "source": [
    "sns.boxplot(df.enginesize)"
   ]
  },
  {
   "cell_type": "code",
   "execution_count": 78,
   "id": "01037927",
   "metadata": {},
   "outputs": [],
   "source": [
    "iqr=stats.iqr(df.enginesize)\n",
    "q3=df.enginesize.quantile(0.75)\n",
    "upper_bond_enginesize=q3+(1.5*iqr)"
   ]
  },
  {
   "cell_type": "code",
   "execution_count": 79,
   "id": "f4ffcc4e",
   "metadata": {},
   "outputs": [],
   "source": [
    "df.enginesize=np.where(df.enginesize>upper_bond_enginesize,upper_bond_enginesize,df.price)"
   ]
  },
  {
   "cell_type": "code",
   "execution_count": 80,
   "id": "47b245e2",
   "metadata": {
    "scrolled": false
   },
   "outputs": [
    {
     "data": {
      "text/plain": [
       "<AxesSubplot:xlabel='enginesize'>"
      ]
     },
     "execution_count": 80,
     "metadata": {},
     "output_type": "execute_result"
    },
    {
     "data": {
      "image/png": "[encoded data removed]",
      "text/plain": [
       "<Figure size 432x288 with 1 Axes>"
      ]
     },
     "metadata": {
      "needs_background": "light"
     },
     "output_type": "display_data"
    }
   ],
   "source": [
    "sns.boxplot(df.enginesize)"
   ]
  },
  {
   "cell_type": "code",
   "execution_count": 81,
   "id": "a630e07b",
   "metadata": {},
   "outputs": [
    {
     "data": {
      "text/plain": [
       "Index(['CarName', 'aspiration', 'drivewheel', 'enginelocation', 'wheelbase',\n",
       "       'carlength', 'carwidth', 'carheight', 'curbweight', 'enginesize',\n",
       "       'fuelsystem', 'boreratio', 'stroke', 'compressionratio', 'horsepower',\n",
       "       'peakrpm', 'citympg', 'highwaympg', 'price'],\n",
       "      dtype='object')"
      ]
     },
     "execution_count": 81,
     "metadata": {},
     "output_type": "execute_result"
    }
   ],
   "source": [
    "df.columns"
   ]
  },
  {
   "cell_type": "markdown",
   "id": "ce2899c4",
   "metadata": {},
   "source": [
    "### fuelsystem"
   ]
  },
  {
   "cell_type": "code",
   "execution_count": 82,
   "id": "dcfaa15b",
   "metadata": {
    "scrolled": true
   },
   "outputs": [
    {
     "data": {
      "text/plain": [
       "mpfi    94\n",
       "2bbl    66\n",
       "idi     20\n",
       "1bbl    11\n",
       "spdi     9\n",
       "4bbl     3\n",
       "mfi      1\n",
       "spfi     1\n",
       "Name: fuelsystem, dtype: int64"
      ]
     },
     "execution_count": 82,
     "metadata": {},
     "output_type": "execute_result"
    }
   ],
   "source": [
    "df.fuelsystem.value_counts()"
   ]
  },
  {
   "cell_type": "code",
   "execution_count": 83,
   "id": "b2bea16b",
   "metadata": {
    "scrolled": true
   },
   "outputs": [
    {
     "data": {
      "text/plain": [
       "<AxesSubplot:xlabel='fuelsystem', ylabel='count'>"
      ]
     },
     "execution_count": 83,
     "metadata": {},
     "output_type": "execute_result"
    },
    {
     "data": {
      "image/png": "[encoded data removed]",
      "text/plain": [
       "<Figure size 432x288 with 1 Axes>"
      ]
     },
     "metadata": {
      "needs_background": "light"
     },
     "output_type": "display_data"
    }
   ],
   "source": [
    "sns.countplot(df.fuelsystem)"
   ]
  },
  {
   "cell_type": "code",
   "execution_count": 84,
   "id": "7cbbbe6f",
   "metadata": {},
   "outputs": [
    {
     "name": "stdout",
     "output_type": "stream",
     "text": [
      "                  sum_sq     df         F  PR(>F)\n",
      "fuelsystem  4.651199e+09    7.0  15.64186     0.0\n",
      "Residual    8.368441e+09  197.0       NaN     NaN\n"
     ]
    }
   ],
   "source": [
    "#target_con ~ predection_cat-----anova\n",
    "annova=ols('price ~ fuelsystem',data=df).fit()\n",
    "an=sm.stats.anova_lm(annova,typ=2)\n",
    "print(an.round(decimals=5))"
   ]
  },
  {
   "cell_type": "code",
   "execution_count": 85,
   "id": "c7f69ae2",
   "metadata": {},
   "outputs": [
    {
     "name": "stdout",
     "output_type": "stream",
     "text": [
      "     Multiple Comparison of Means - Tukey HSD, FWER=0.05     \n",
      "=============================================================\n",
      "group1 group2  meandiff  p-adj     lower      upper    reject\n",
      "-------------------------------------------------------------\n",
      "  1bbl   2bbl   -77.3939    1.0  -6580.5935  6425.8056  False\n",
      "  1bbl   4bbl  4589.4545 0.9601  -8416.9445 17595.8536  False\n",
      "  1bbl    idi  8282.6045 0.0191    786.7779 15778.4312   True\n",
      "  1bbl    mfi  5408.4545 0.9933 -15448.1836 26265.0927  False\n",
      "  1bbl   mpfi 10199.0574 0.0001    3835.728 16562.3868   True\n",
      "  1bbl   spdi   3434.899 0.9388   -5540.369  12410.167  False\n",
      "  1bbl   spfi  3492.4545 0.9996 -17364.1836 24349.0927  False\n",
      "  2bbl   4bbl  4666.8485 0.9273  -7121.2017 16454.8987  False\n",
      "  2bbl    idi  8359.9985    0.0    3263.026 13456.9709   True\n",
      "  2bbl    mfi  5485.8485 0.9909 -14633.5717 25605.2686  False\n",
      "  2bbl   mpfi 10276.4513   -0.0   7069.6347 13483.2679   True\n",
      "  2bbl   spdi  3512.2929 0.7978  -3583.2795 10607.8653  False\n",
      "  2bbl   spfi  3569.8485 0.9994 -16549.5717 23689.2686  False\n",
      "  4bbl    idi    3693.15 0.9843  -8670.2614 16056.5614  False\n",
      "  4bbl    mfi      819.0    1.0 -22238.8811 23876.8811  False\n",
      "  4bbl   mpfi  5609.6028 0.8237  -6101.8653 17321.0709  False\n",
      "  4bbl   spdi -1154.5556    1.0 -14467.0294 12157.9183  False\n",
      "  4bbl   spfi    -1097.0    1.0 -24154.8811 21960.8811  False\n",
      "   idi    mfi   -2874.15 0.9999 -23335.9896 17587.6896  False\n",
      "   idi   mpfi  1916.4528 0.9328  -3000.8112  6833.7169  False\n",
      "   idi   spdi -4847.7056 0.5847 -12862.8762  3167.4651  False\n",
      "   idi   spfi   -4790.15 0.9964 -25251.9896 15671.6896  False\n",
      "   mfi   mpfi  4790.6028  0.996 -15284.0435 24865.2492  False\n",
      "   mfi   spdi -1973.5556    1.0 -23022.4249 19075.3138  False\n",
      "   mfi   spfi    -1916.0    1.0 -30156.0216 26324.0216  False\n",
      "  mpfi   spdi -6764.1584  0.064 -13731.7624   203.4456  False\n",
      "  mpfi   spfi -6706.6028 0.9704 -26781.2492 13368.0435  False\n",
      "  spdi   spfi    57.5556    1.0 -20991.3138 21106.4249  False\n",
      "-------------------------------------------------------------\n"
     ]
    }
   ],
   "source": [
    "tukey = pairwise_tukeyhsd(df.price,df.fuelsystem,alpha=0.05)\n",
    "print (tukey)"
   ]
  },
  {
   "cell_type": "code",
   "execution_count": 86,
   "id": "660ec971",
   "metadata": {},
   "outputs": [],
   "source": [
    "df['fuelsystem'].replace({'4bbl':'1bbl'},inplace=True)\n",
    "df['fuelsystem'].replace({'4bbl':'1bbl'},inplace=True)\n",
    "df['fuelsystem'].replace({'spfi':'idi'},inplace=True)"
   ]
  },
  {
   "cell_type": "code",
   "execution_count": 87,
   "id": "f1d150fa",
   "metadata": {},
   "outputs": [
    {
     "name": "stdout",
     "output_type": "stream",
     "text": [
      "     Multiple Comparison of Means - Tukey HSD, FWER=0.05     \n",
      "=============================================================\n",
      "group1 group2  meandiff  p-adj     lower      upper    reject\n",
      "-------------------------------------------------------------\n",
      "  1bbl   2bbl -1060.8485 0.9938   -6575.232   4453.535  False\n",
      "  1bbl    idi  7071.0476 0.0231    604.8598 13537.2354   True\n",
      "  1bbl    mfi     4425.0 0.9863 -14973.5635 23823.5635  False\n",
      "  1bbl   mpfi  9215.6028    0.0   3846.8688 14584.3369   True\n",
      "  1bbl   spdi  2451.4444 0.9507  -5555.4961  10458.385  False\n",
      "  2bbl    idi  8131.8961    0.0   3436.5677 12827.2245   True\n",
      "  2bbl    mfi  5485.8485 0.9604 -13396.3863 24368.0832  False\n",
      "  2bbl   mpfi 10276.4513   -0.0   7266.8286  13286.074   True\n",
      "  2bbl   spdi  3512.2929 0.6532  -3146.9578 10171.5437  False\n",
      "   idi    mfi -2646.0476 0.9987 -21827.8606 16535.7653  False\n",
      "   idi   mpfi  2144.5552 0.7482  -2378.8272  6667.9376  False\n",
      "   idi   spdi -4619.6032 0.4807 -12086.1137  2846.9074  False\n",
      "   mfi   mpfi  4790.6028 0.9778 -14049.6113  23630.817  False\n",
      "   mfi   spdi -1973.5556 0.9997 -21728.0857 17780.9746  False\n",
      "  mpfi   spdi -6764.1584  0.038 -13303.3098   -225.007   True\n",
      "-------------------------------------------------------------\n"
     ]
    }
   ],
   "source": [
    "tukey = pairwise_tukeyhsd(df.price,df.fuelsystem,alpha=0.05)\n",
    "print (tukey)"
   ]
  },
  {
   "cell_type": "code",
   "execution_count": 88,
   "id": "8907a4ea",
   "metadata": {},
   "outputs": [],
   "source": [
    "df['fuelsystem'].replace({'2bbl':'1bbl'},inplace=True)\n",
    "df['fuelsystem'].replace({'mfi':'1bbl'},inplace=True)\n",
    "df['fuelsystem'].replace({'spfi':'2bbl'},inplace=True)"
   ]
  },
  {
   "cell_type": "code",
   "execution_count": 89,
   "id": "4c177079",
   "metadata": {},
   "outputs": [
    {
     "name": "stdout",
     "output_type": "stream",
     "text": [
      "     Multiple Comparison of Means - Tukey HSD, FWER=0.05     \n",
      "=============================================================\n",
      "group1 group2  meandiff  p-adj     lower      upper    reject\n",
      "-------------------------------------------------------------\n",
      "  1bbl    idi  7880.8131    0.0   3760.0794 12001.5467   True\n",
      "  1bbl   mpfi 10025.3683    0.0   7474.1994 12576.5371   True\n",
      "  1bbl   spdi  3261.2099 0.4828  -2651.4665  9173.8863  False\n",
      "   idi   mpfi  2144.5552  0.521  -1917.0898  6206.2002  False\n",
      "   idi   spdi -4619.6032 0.2835  -11323.948  2084.7417  False\n",
      "  mpfi   spdi -6764.1584 0.0167 -12635.8069  -892.5099   True\n",
      "-------------------------------------------------------------\n"
     ]
    }
   ],
   "source": [
    "tukey = pairwise_tukeyhsd(df.price,df.fuelsystem,alpha=0.05)\n",
    "print (tukey)"
   ]
  },
  {
   "cell_type": "code",
   "execution_count": 90,
   "id": "87bb7f4a",
   "metadata": {},
   "outputs": [],
   "source": [
    "df['fuelsystem'].replace({'spdi':'idi'},inplace=True)\n",
    "df['fuelsystem'].replace({'mfi':'idi'},inplace=True)\n",
    "df['fuelsystem'].replace({'spfi':'1bbl'},inplace=True)"
   ]
  },
  {
   "cell_type": "code",
   "execution_count": 91,
   "id": "60a310c2",
   "metadata": {},
   "outputs": [
    {
     "name": "stdout",
     "output_type": "stream",
     "text": [
      "    Multiple Comparison of Means - Tukey HSD, FWER=0.05    \n",
      "===========================================================\n",
      "group1 group2  meandiff  p-adj    lower     upper    reject\n",
      "-----------------------------------------------------------\n",
      "  1bbl    idi  6494.9321    0.0 3199.3529  9790.5113   True\n",
      "  1bbl   mpfi 10025.3683   -0.0 7687.6833 12363.0532   True\n",
      "   idi   mpfi  3530.4362 0.0286  297.0343   6763.838   True\n",
      "-----------------------------------------------------------\n"
     ]
    }
   ],
   "source": [
    "tukey = pairwise_tukeyhsd(df.price,df.fuelsystem,alpha=0.05)\n",
    "print (tukey)"
   ]
  },
  {
   "cell_type": "code",
   "execution_count": 92,
   "id": "3e440534",
   "metadata": {},
   "outputs": [],
   "source": [
    "lr8 = LabelEncoder()\n",
    "df['fuelsystem'] = lr8.fit_transform(df['fuelsystem'])"
   ]
  },
  {
   "cell_type": "markdown",
   "id": "f9519bb3",
   "metadata": {},
   "source": [
    "### boreratio"
   ]
  },
  {
   "cell_type": "code",
   "execution_count": 93,
   "id": "6368fa1d",
   "metadata": {},
   "outputs": [
    {
     "data": {
      "text/plain": [
       "3.62    23\n",
       "3.19    20\n",
       "3.15    15\n",
       "3.03    12\n",
       "2.97    12\n",
       "3.46     9\n",
       "3.31     8\n",
       "3.43     8\n",
       "3.78     8\n",
       "3.27     7\n",
       "2.91     7\n",
       "3.58     6\n",
       "3.39     6\n",
       "3.33     6\n",
       "3.05     6\n",
       "3.54     6\n",
       "3.70     5\n",
       "3.01     5\n",
       "3.35     4\n",
       "3.17     3\n",
       "3.59     3\n",
       "3.74     3\n",
       "3.47     2\n",
       "3.94     2\n",
       "3.24     2\n",
       "3.63     2\n",
       "3.13     2\n",
       "3.80     2\n",
       "3.50     2\n",
       "2.54     1\n",
       "3.08     1\n",
       "3.61     1\n",
       "3.34     1\n",
       "2.68     1\n",
       "3.60     1\n",
       "2.92     1\n",
       "3.76     1\n",
       "2.99     1\n",
       "Name: boreratio, dtype: int64"
      ]
     },
     "execution_count": 93,
     "metadata": {},
     "output_type": "execute_result"
    }
   ],
   "source": [
    "df.boreratio.value_counts()"
   ]
  },
  {
   "cell_type": "code",
   "execution_count": 94,
   "id": "7ad1485c",
   "metadata": {},
   "outputs": [
    {
     "data": {
      "text/plain": [
       "<AxesSubplot:xlabel='boreratio'>"
      ]
     },
     "execution_count": 94,
     "metadata": {},
     "output_type": "execute_result"
    },
    {
     "data": {
      "image/png": "[encoded data removed]",
      "text/plain": [
       "<Figure size 432x288 with 1 Axes>"
      ]
     },
     "metadata": {
      "needs_background": "light"
     },
     "output_type": "display_data"
    }
   ],
   "source": [
    "sns.boxplot(df.boreratio)"
   ]
  },
  {
   "cell_type": "code",
   "execution_count": 95,
   "id": "ca4d89c7",
   "metadata": {},
   "outputs": [
    {
     "data": {
      "text/plain": [
       "<AxesSubplot:xlabel='boreratio', ylabel='Density'>"
      ]
     },
     "execution_count": 95,
     "metadata": {},
     "output_type": "execute_result"
    },
    {
     "data": {
      "image/png": "[encoded data removed]",
      "text/plain": [
       "<Figure size 432x288 with 1 Axes>"
      ]
     },
     "metadata": {
      "needs_background": "light"
     },
     "output_type": "display_data"
    }
   ],
   "source": [
    "sns.distplot(df.boreratio)"
   ]
  },
  {
   "cell_type": "markdown",
   "id": "9454e0f9",
   "metadata": {},
   "source": [
    "### stroke"
   ]
  },
  {
   "cell_type": "code",
   "execution_count": 96,
   "id": "213f7a56",
   "metadata": {},
   "outputs": [
    {
     "data": {
      "text/plain": [
       "3.400    20\n",
       "3.230    14\n",
       "3.150    14\n",
       "3.030    14\n",
       "3.390    13\n",
       "2.640    11\n",
       "3.290     9\n",
       "3.350     9\n",
       "3.460     8\n",
       "3.110     6\n",
       "3.270     6\n",
       "3.410     6\n",
       "3.070     6\n",
       "3.580     6\n",
       "3.190     6\n",
       "3.500     6\n",
       "3.640     5\n",
       "3.520     5\n",
       "3.860     4\n",
       "3.540     4\n",
       "3.470     4\n",
       "3.255     4\n",
       "3.900     3\n",
       "2.900     3\n",
       "3.100     2\n",
       "4.170     2\n",
       "2.800     2\n",
       "2.190     2\n",
       "3.080     2\n",
       "2.680     2\n",
       "2.360     1\n",
       "3.160     1\n",
       "2.070     1\n",
       "3.210     1\n",
       "3.120     1\n",
       "2.760     1\n",
       "2.870     1\n",
       "Name: stroke, dtype: int64"
      ]
     },
     "execution_count": 96,
     "metadata": {},
     "output_type": "execute_result"
    }
   ],
   "source": [
    "df.stroke.value_counts()"
   ]
  },
  {
   "cell_type": "code",
   "execution_count": 97,
   "id": "32786c96",
   "metadata": {},
   "outputs": [
    {
     "data": {
      "text/plain": [
       "<AxesSubplot:xlabel='stroke'>"
      ]
     },
     "execution_count": 97,
     "metadata": {},
     "output_type": "execute_result"
    },
    {
     "data": {
      "image/png": "[encoded data removed]",
      "text/plain": [
       "<Figure size 432x288 with 1 Axes>"
      ]
     },
     "metadata": {
      "needs_background": "light"
     },
     "output_type": "display_data"
    }
   ],
   "source": [
    "sns.boxplot(df.stroke)"
   ]
  },
  {
   "cell_type": "code",
   "execution_count": 98,
   "id": "bf0a2272",
   "metadata": {},
   "outputs": [],
   "source": [
    "iqr=stats.iqr(df.stroke)\n",
    "q3=df.stroke.quantile(0.75)\n",
    "upper_bond_stroke=q3+(1.5*iqr)"
   ]
  },
  {
   "cell_type": "code",
   "execution_count": 99,
   "id": "5496568a",
   "metadata": {},
   "outputs": [],
   "source": [
    "df.stroke=np.where(df.stroke>upper_bond_stroke,upper_bond_stroke,df.price)"
   ]
  },
  {
   "cell_type": "code",
   "execution_count": 100,
   "id": "22170f49",
   "metadata": {},
   "outputs": [
    {
     "data": {
      "text/plain": [
       "<AxesSubplot:xlabel='stroke'>"
      ]
     },
     "execution_count": 100,
     "metadata": {},
     "output_type": "execute_result"
    },
    {
     "data": {
      "image/png": "[encoded data removed]",
      "text/plain": [
       "<Figure size 432x288 with 1 Axes>"
      ]
     },
     "metadata": {
      "needs_background": "light"
     },
     "output_type": "display_data"
    }
   ],
   "source": [
    "sns.boxplot(df.stroke)"
   ]
  },
  {
   "cell_type": "code",
   "execution_count": 101,
   "id": "714a6e4e",
   "metadata": {},
   "outputs": [
    {
     "data": {
      "text/plain": [
       "<AxesSubplot:xlabel='stroke', ylabel='Density'>"
      ]
     },
     "execution_count": 101,
     "metadata": {},
     "output_type": "execute_result"
    },
    {
     "data": {
      "image/png": "[encoded data removed]",
      "text/plain": [
       "<Figure size 432x288 with 1 Axes>"
      ]
     },
     "metadata": {
      "needs_background": "light"
     },
     "output_type": "display_data"
    }
   ],
   "source": [
    "sns.distplot(df.stroke)"
   ]
  },
  {
   "cell_type": "markdown",
   "id": "dd859f3f",
   "metadata": {},
   "source": [
    "### compressionratio"
   ]
  },
  {
   "cell_type": "code",
   "execution_count": 102,
   "id": "8e21af01",
   "metadata": {
    "scrolled": true
   },
   "outputs": [
    {
     "data": {
      "text/plain": [
       "9.00     46\n",
       "9.40     26\n",
       "8.50     14\n",
       "9.50     13\n",
       "9.30     11\n",
       "8.70      9\n",
       "8.00      8\n",
       "9.20      8\n",
       "7.00      7\n",
       "8.60      5\n",
       "21.00     5\n",
       "8.40      5\n",
       "7.50      5\n",
       "23.00     5\n",
       "9.60      5\n",
       "21.50     4\n",
       "7.60      4\n",
       "10.00     3\n",
       "22.50     3\n",
       "8.30      3\n",
       "8.80      3\n",
       "7.70      2\n",
       "8.10      2\n",
       "9.10      1\n",
       "9.31      1\n",
       "7.80      1\n",
       "9.41      1\n",
       "21.90     1\n",
       "22.00     1\n",
       "22.70     1\n",
       "10.10     1\n",
       "11.50     1\n",
       "Name: compressionratio, dtype: int64"
      ]
     },
     "execution_count": 102,
     "metadata": {},
     "output_type": "execute_result"
    }
   ],
   "source": [
    "df.compressionratio.value_counts()"
   ]
  },
  {
   "cell_type": "code",
   "execution_count": 103,
   "id": "551c6774",
   "metadata": {},
   "outputs": [
    {
     "data": {
      "text/plain": [
       "<AxesSubplot:xlabel='compressionratio'>"
      ]
     },
     "execution_count": 103,
     "metadata": {},
     "output_type": "execute_result"
    },
    {
     "data": {
      "image/png": "[encoded data removed]",
      "text/plain": [
       "<Figure size 432x288 with 1 Axes>"
      ]
     },
     "metadata": {
      "needs_background": "light"
     },
     "output_type": "display_data"
    }
   ],
   "source": [
    "sns.boxplot(df.compressionratio)"
   ]
  },
  {
   "cell_type": "code",
   "execution_count": 104,
   "id": "4a009fc1",
   "metadata": {},
   "outputs": [],
   "source": [
    "iqr=stats.iqr(df.compressionratio)\n",
    "q3=df.compressionratio.quantile(0.75)\n",
    "upper_bond_compressionratio=q3+(1.5*iqr)"
   ]
  },
  {
   "cell_type": "code",
   "execution_count": 105,
   "id": "dad94bb6",
   "metadata": {},
   "outputs": [],
   "source": [
    "df.compressionratio=np.where(df.compressionratio>upper_bond_compressionratio,upper_bond_compressionratio,df.price)"
   ]
  },
  {
   "cell_type": "code",
   "execution_count": 106,
   "id": "9aed34ac",
   "metadata": {},
   "outputs": [
    {
     "data": {
      "text/plain": [
       "<AxesSubplot:xlabel='compressionratio'>"
      ]
     },
     "execution_count": 106,
     "metadata": {},
     "output_type": "execute_result"
    },
    {
     "data": {
      "image/png": "[encoded data removed]",
      "text/plain": [
       "<Figure size 432x288 with 1 Axes>"
      ]
     },
     "metadata": {
      "needs_background": "light"
     },
     "output_type": "display_data"
    }
   ],
   "source": [
    "sns.boxplot(df.compressionratio)"
   ]
  },
  {
   "cell_type": "code",
   "execution_count": 107,
   "id": "1f85355a",
   "metadata": {},
   "outputs": [
    {
     "data": {
      "text/plain": [
       "<AxesSubplot:xlabel='compressionratio', ylabel='Density'>"
      ]
     },
     "execution_count": 107,
     "metadata": {},
     "output_type": "execute_result"
    },
    {
     "data": {
      "image/png": "[encoded data removed]",
      "text/plain": [
       "<Figure size 432x288 with 1 Axes>"
      ]
     },
     "metadata": {
      "needs_background": "light"
     },
     "output_type": "display_data"
    }
   ],
   "source": [
    "sns.distplot(df.compressionratio)"
   ]
  },
  {
   "cell_type": "markdown",
   "id": "c71beb2d",
   "metadata": {},
   "source": [
    "#### horsepower"
   ]
  },
  {
   "cell_type": "code",
   "execution_count": 108,
   "id": "11c1b3be",
   "metadata": {
    "scrolled": true
   },
   "outputs": [
    {
     "data": {
      "text/plain": [
       "68     19\n",
       "70     11\n",
       "69     10\n",
       "116     9\n",
       "110     8\n",
       "95      7\n",
       "114     6\n",
       "160     6\n",
       "101     6\n",
       "62      6\n",
       "88      6\n",
       "145     5\n",
       "76      5\n",
       "97      5\n",
       "84      5\n",
       "90      5\n",
       "82      5\n",
       "102     5\n",
       "92      4\n",
       "111     4\n",
       "123     4\n",
       "86      4\n",
       "207     3\n",
       "73      3\n",
       "182     3\n",
       "121     3\n",
       "85      3\n",
       "152     3\n",
       "176     2\n",
       "94      2\n",
       "56      2\n",
       "112     2\n",
       "161     2\n",
       "184     2\n",
       "155     2\n",
       "156     2\n",
       "52      2\n",
       "100     2\n",
       "162     2\n",
       "140     1\n",
       "115     1\n",
       "134     1\n",
       "78      1\n",
       "142     1\n",
       "288     1\n",
       "143     1\n",
       "48      1\n",
       "200     1\n",
       "58      1\n",
       "55      1\n",
       "60      1\n",
       "175     1\n",
       "154     1\n",
       "72      1\n",
       "120     1\n",
       "64      1\n",
       "135     1\n",
       "262     1\n",
       "106     1\n",
       "Name: horsepower, dtype: int64"
      ]
     },
     "execution_count": 108,
     "metadata": {},
     "output_type": "execute_result"
    }
   ],
   "source": [
    "df.horsepower.value_counts()"
   ]
  },
  {
   "cell_type": "code",
   "execution_count": 109,
   "id": "f6213aaf",
   "metadata": {},
   "outputs": [
    {
     "data": {
      "text/plain": [
       "<AxesSubplot:xlabel='horsepower'>"
      ]
     },
     "execution_count": 109,
     "metadata": {},
     "output_type": "execute_result"
    },
    {
     "data": {
      "image/png": "[encoded data removed]",
      "text/plain": [
       "<Figure size 432x288 with 1 Axes>"
      ]
     },
     "metadata": {
      "needs_background": "light"
     },
     "output_type": "display_data"
    }
   ],
   "source": [
    "sns.boxplot(df.horsepower)"
   ]
  },
  {
   "cell_type": "code",
   "execution_count": 110,
   "id": "5706d71a",
   "metadata": {},
   "outputs": [],
   "source": [
    "iqr=stats.iqr(df.horsepower)\n",
    "q3=df.horsepower.quantile(0.75)\n",
    "upper_bond_horsepower=q3+(1.5*iqr)"
   ]
  },
  {
   "cell_type": "code",
   "execution_count": 111,
   "id": "810aebaa",
   "metadata": {},
   "outputs": [],
   "source": [
    "df.horsepower=np.where(df.horsepower>upper_bond_horsepower,upper_bond_horsepower,df.horsepower)"
   ]
  },
  {
   "cell_type": "code",
   "execution_count": 112,
   "id": "cfd0649d",
   "metadata": {},
   "outputs": [
    {
     "data": {
      "text/plain": [
       "<AxesSubplot:xlabel='horsepower'>"
      ]
     },
     "execution_count": 112,
     "metadata": {},
     "output_type": "execute_result"
    },
    {
     "data": {
      "image/png": "[encoded data removed]",
      "text/plain": [
       "<Figure size 432x288 with 1 Axes>"
      ]
     },
     "metadata": {
      "needs_background": "light"
     },
     "output_type": "display_data"
    }
   ],
   "source": [
    "sns.boxplot(df.horsepower)"
   ]
  },
  {
   "cell_type": "code",
   "execution_count": 113,
   "id": "4f20f21e",
   "metadata": {},
   "outputs": [
    {
     "data": {
      "text/plain": [
       "<AxesSubplot:xlabel='horsepower', ylabel='Density'>"
      ]
     },
     "execution_count": 113,
     "metadata": {},
     "output_type": "execute_result"
    },
    {
     "data": {
      "image/png": "[encoded data removed]",
      "text/plain": [
       "<Figure size 432x288 with 1 Axes>"
      ]
     },
     "metadata": {
      "needs_background": "light"
     },
     "output_type": "display_data"
    }
   ],
   "source": [
    "sns.distplot(df.horsepower)"
   ]
  },
  {
   "cell_type": "markdown",
   "id": "a58b091f",
   "metadata": {},
   "source": [
    "### peakrpm"
   ]
  },
  {
   "cell_type": "code",
   "execution_count": 114,
   "id": "15241553",
   "metadata": {},
   "outputs": [
    {
     "data": {
      "text/plain": [
       "<bound method IndexOpsMixin.value_counts of 0      5000\n",
       "1      5000\n",
       "2      5000\n",
       "3      5500\n",
       "4      5500\n",
       "       ... \n",
       "200    5400\n",
       "201    5300\n",
       "202    5500\n",
       "203    4800\n",
       "204    5400\n",
       "Name: peakrpm, Length: 205, dtype: int64>"
      ]
     },
     "execution_count": 114,
     "metadata": {},
     "output_type": "execute_result"
    }
   ],
   "source": [
    "df.peakrpm.value_counts"
   ]
  },
  {
   "cell_type": "code",
   "execution_count": 115,
   "id": "d407d8f0",
   "metadata": {},
   "outputs": [
    {
     "data": {
      "text/plain": [
       "<AxesSubplot:xlabel='peakrpm'>"
      ]
     },
     "execution_count": 115,
     "metadata": {},
     "output_type": "execute_result"
    },
    {
     "data": {
      "image/png": "[encoded data removed]",
      "text/plain": [
       "<Figure size 432x288 with 1 Axes>"
      ]
     },
     "metadata": {
      "needs_background": "light"
     },
     "output_type": "display_data"
    }
   ],
   "source": [
    "sns.boxplot(df.peakrpm)"
   ]
  },
  {
   "cell_type": "code",
   "execution_count": 116,
   "id": "bee408cf",
   "metadata": {},
   "outputs": [
    {
     "data": {
      "text/plain": [
       "<AxesSubplot:xlabel='peakrpm', ylabel='Density'>"
      ]
     },
     "execution_count": 116,
     "metadata": {},
     "output_type": "execute_result"
    },
    {
     "data": {
      "image/png": "[encoded data removed]",
      "text/plain": [
       "<Figure size 432x288 with 1 Axes>"
      ]
     },
     "metadata": {
      "needs_background": "light"
     },
     "output_type": "display_data"
    }
   ],
   "source": [
    "sns.distplot(df.peakrpm)"
   ]
  },
  {
   "cell_type": "markdown",
   "id": "753a9d12",
   "metadata": {},
   "source": [
    "### citympg"
   ]
  },
  {
   "cell_type": "code",
   "execution_count": 117,
   "id": "65b6cf1c",
   "metadata": {},
   "outputs": [
    {
     "data": {
      "text/plain": [
       "31    28\n",
       "19    27\n",
       "24    22\n",
       "27    14\n",
       "17    13\n",
       "26    12\n",
       "23    12\n",
       "21     8\n",
       "25     8\n",
       "30     8\n",
       "38     7\n",
       "28     7\n",
       "16     6\n",
       "37     6\n",
       "22     4\n",
       "29     3\n",
       "15     3\n",
       "20     3\n",
       "18     3\n",
       "14     2\n",
       "34     1\n",
       "35     1\n",
       "32     1\n",
       "36     1\n",
       "45     1\n",
       "13     1\n",
       "49     1\n",
       "47     1\n",
       "33     1\n",
       "Name: citympg, dtype: int64"
      ]
     },
     "execution_count": 117,
     "metadata": {},
     "output_type": "execute_result"
    }
   ],
   "source": [
    "df.citympg.value_counts()"
   ]
  },
  {
   "cell_type": "code",
   "execution_count": 118,
   "id": "84ca7cfa",
   "metadata": {},
   "outputs": [
    {
     "data": {
      "text/plain": [
       "<AxesSubplot:xlabel='citympg'>"
      ]
     },
     "execution_count": 118,
     "metadata": {},
     "output_type": "execute_result"
    },
    {
     "data": {
      "image/png": "[encoded data removed]",
      "text/plain": [
       "<Figure size 432x288 with 1 Axes>"
      ]
     },
     "metadata": {
      "needs_background": "light"
     },
     "output_type": "display_data"
    }
   ],
   "source": [
    "sns.boxplot(df.citympg)"
   ]
  },
  {
   "cell_type": "code",
   "execution_count": 119,
   "id": "31a43b9d",
   "metadata": {},
   "outputs": [
    {
     "data": {
      "text/plain": [
       "<AxesSubplot:xlabel='citympg', ylabel='Density'>"
      ]
     },
     "execution_count": 119,
     "metadata": {},
     "output_type": "execute_result"
    },
    {
     "data": {
      "image/png": "[encoded data removed]",
      "text/plain": [
       "<Figure size 432x288 with 1 Axes>"
      ]
     },
     "metadata": {
      "needs_background": "light"
     },
     "output_type": "display_data"
    }
   ],
   "source": [
    "sns.distplot(df.citympg)"
   ]
  },
  {
   "cell_type": "markdown",
   "id": "04c3f2ec",
   "metadata": {},
   "source": [
    "### highwaympg"
   ]
  },
  {
   "cell_type": "code",
   "execution_count": 120,
   "id": "a32f6295",
   "metadata": {},
   "outputs": [
    {
     "data": {
      "text/plain": [
       "25    19\n",
       "38    17\n",
       "24    17\n",
       "30    16\n",
       "32    16\n",
       "34    14\n",
       "37    13\n",
       "28    13\n",
       "29    10\n",
       "33     9\n",
       "22     8\n",
       "31     8\n",
       "23     7\n",
       "27     5\n",
       "43     4\n",
       "42     3\n",
       "26     3\n",
       "41     3\n",
       "19     2\n",
       "39     2\n",
       "18     2\n",
       "16     2\n",
       "20     2\n",
       "36     2\n",
       "47     2\n",
       "46     2\n",
       "54     1\n",
       "17     1\n",
       "53     1\n",
       "50     1\n",
       "Name: highwaympg, dtype: int64"
      ]
     },
     "execution_count": 120,
     "metadata": {},
     "output_type": "execute_result"
    }
   ],
   "source": [
    "df.highwaympg.value_counts()"
   ]
  },
  {
   "cell_type": "code",
   "execution_count": 121,
   "id": "0cae9753",
   "metadata": {},
   "outputs": [
    {
     "data": {
      "text/plain": [
       "<AxesSubplot:xlabel='highwaympg'>"
      ]
     },
     "execution_count": 121,
     "metadata": {},
     "output_type": "execute_result"
    },
    {
     "data": {
      "image/png": "[encoded data removed]",
      "text/plain": [
       "<Figure size 432x288 with 1 Axes>"
      ]
     },
     "metadata": {
      "needs_background": "light"
     },
     "output_type": "display_data"
    }
   ],
   "source": [
    " sns.boxplot(df.highwaympg)"
   ]
  },
  {
   "cell_type": "code",
   "execution_count": 122,
   "id": "1043c99f",
   "metadata": {},
   "outputs": [
    {
     "data": {
      "text/plain": [
       "<AxesSubplot:xlabel='highwaympg', ylabel='Density'>"
      ]
     },
     "execution_count": 122,
     "metadata": {},
     "output_type": "execute_result"
    },
    {
     "data": {
      "image/png": "[encoded data removed]",
      "text/plain": [
       "<Figure size 432x288 with 1 Axes>"
      ]
     },
     "metadata": {
      "needs_background": "light"
     },
     "output_type": "display_data"
    }
   ],
   "source": [
    "sns.distplot(df.highwaympg)"
   ]
  },
  {
   "cell_type": "code",
   "execution_count": 123,
   "id": "c0707d2f",
   "metadata": {},
   "outputs": [
    {
     "data": {
      "text/plain": [
       "(205, 19)"
      ]
     },
     "execution_count": 123,
     "metadata": {},
     "output_type": "execute_result"
    }
   ],
   "source": [
    "df.shape"
   ]
  },
  {
   "cell_type": "code",
   "execution_count": 124,
   "id": "647aeff0",
   "metadata": {},
   "outputs": [
    {
     "data": {
      "text/plain": [
       "<AxesSubplot:>"
      ]
     },
     "execution_count": 124,
     "metadata": {},
     "output_type": "execute_result"
    },
    {
     "data": {
      "image/png": "[encoded data removed]",
      "text/plain": [
       "<Figure size 1440x1440 with 2 Axes>"
      ]
     },
     "metadata": {
      "needs_background": "light"
     },
     "output_type": "display_data"
    }
   ],
   "source": [
    "plt.figure(figsize=(20,20))\n",
    "sns.heatmap(df.corr(), annot=True)"
   ]
  },
  {
   "cell_type": "code",
   "execution_count": 125,
   "id": "41459aea",
   "metadata": {},
   "outputs": [],
   "source": [
    "col=df.columns"
   ]
  },
  {
   "cell_type": "code",
   "execution_count": 126,
   "id": "fd7685c7",
   "metadata": {},
   "outputs": [
    {
     "name": "stdout",
     "output_type": "stream",
     "text": [
      "CarName + aspiration + drivewheel + enginelocation + wheelbase + carlength + carwidth + carheight + curbweight + enginesize + fuelsystem + boreratio + stroke + compressionratio + horsepower + peakrpm + citympg + highwaympg + price + "
     ]
    }
   ],
   "source": [
    "for i in col:\n",
    "    print(i,'+',end=\" \")"
   ]
  },
  {
   "cell_type": "code",
   "execution_count": 127,
   "id": "aa2ee8e8",
   "metadata": {},
   "outputs": [],
   "source": [
    "df.price=df.price.transform(np.sqrt)"
   ]
  },
  {
   "cell_type": "code",
   "execution_count": 128,
   "id": "4893ddb1",
   "metadata": {
    "scrolled": true
   },
   "outputs": [
    {
     "name": "stdout",
     "output_type": "stream",
     "text": [
      "                            OLS Regression Results                            \n",
      "==============================================================================\n",
      "Dep. Variable:                  price   R-squared:                       0.965\n",
      "Model:                            OLS   Adj. R-squared:                  0.962\n",
      "Method:                 Least Squares   F-statistic:                     300.8\n",
      "Date:                Wed, 15 Mar 2023   Prob (F-statistic):          7.14e-126\n",
      "Time:                        22:26:59   Log-Likelihood:                -648.55\n",
      "No. Observations:                 205   AIC:                             1333.\n",
      "Df Residuals:                     187   BIC:                             1393.\n",
      "Df Model:                          17                                         \n",
      "Covariance Type:            nonrobust                                         \n",
      "====================================================================================\n",
      "                       coef    std err          t      P>|t|      [0.025      0.975]\n",
      "------------------------------------------------------------------------------------\n",
      "Intercept           29.2858     19.136      1.530      0.128      -8.465      67.036\n",
      "aspiration           1.3079      1.465      0.893      0.373      -1.582       4.198\n",
      "drivewheel          -2.8290      1.350     -2.096      0.037      -5.492      -0.166\n",
      "enginelocation       5.2821      5.034      1.049      0.295      -4.648      15.213\n",
      "wheelbase            0.5185      0.182      2.843      0.005       0.159       0.878\n",
      "carlength            0.0049      0.108      0.046      0.964      -0.208       0.218\n",
      "carwidth             0.0006   8.43e-05      7.486      0.000       0.000       0.001\n",
      "carheight           -1.2549      0.250     -5.025      0.000      -1.748      -0.762\n",
      "curbweight           0.0255      0.003      8.611      0.000       0.020       0.031\n",
      "enginesize           0.0003      0.000      3.377      0.001       0.000       0.001\n",
      "fuelsystem          -0.0543      0.700     -0.078      0.938      -1.434       1.326\n",
      "boreratio           -3.2456      2.340     -1.387      0.167      -7.861       1.370\n",
      "stroke               0.0014   9.37e-05     15.440      0.000       0.001       0.002\n",
      "compressionratio     0.0010      0.000      9.462      0.000       0.001       0.001\n",
      "horsepower          -0.0462      0.038     -1.224      0.223      -0.121       0.028\n",
      "peakrpm          -7.687e-05      0.001     -0.065      0.949      -0.002       0.002\n",
      "citympg              0.3067      0.343      0.893      0.373      -0.371       0.984\n",
      "highwaympg           0.0777      0.317      0.245      0.807      -0.548       0.703\n",
      "==============================================================================\n",
      "Omnibus:                       25.037   Durbin-Watson:                   1.103\n",
      "Prob(Omnibus):                  0.000   Jarque-Bera (JB):               50.781\n",
      "Skew:                           0.592   Prob(JB):                     9.40e-12\n",
      "Kurtosis:                       5.132   Cond. No.                     1.25e+06\n",
      "==============================================================================\n",
      "\n",
      "Notes:\n",
      "[1] Standard Errors assume that the covariance matrix of the errors is correctly specified.\n",
      "[2] The condition number is large, 1.25e+06. This might indicate that there are\n",
      "strong multicollinearity or other numerical problems.\n"
     ]
    }
   ],
   "source": [
    "#Running Linear regression \n",
    "model_1=smf.ols(formula='price~ aspiration + drivewheel + enginelocation + wheelbase + carlength + carwidth + carheight + curbweight + enginesize + fuelsystem + boreratio + stroke + compressionratio + horsepower + peakrpm + citympg + highwaympg',data=df).fit()\n",
    "print(model_1.summary())"
   ]
  },
  {
   "cell_type": "code",
   "execution_count": 129,
   "id": "d8caaa16",
   "metadata": {},
   "outputs": [],
   "source": [
    "df.drop(['CarName','citympg','peakrpm','horsepower','compressionratio','boreratio','carwidth','carheight','curbweight'],axis=1,inplace=True)"
   ]
  },
  {
   "cell_type": "code",
   "execution_count": null,
   "id": "1ae6fba9",
   "metadata": {},
   "outputs": [],
   "source": []
  },
  {
   "cell_type": "code",
   "execution_count": 130,
   "id": "f6edce87",
   "metadata": {},
   "outputs": [
    {
     "data": {
      "text/plain": [
       "0    202\n",
       "1      3\n",
       "Name: enginelocation, dtype: int64"
      ]
     },
     "execution_count": 130,
     "metadata": {},
     "output_type": "execute_result"
    }
   ],
   "source": [
    "df.enginelocation.value_counts()"
   ]
  },
  {
   "cell_type": "code",
   "execution_count": 131,
   "id": "65c3cdc8",
   "metadata": {},
   "outputs": [],
   "source": [
    "df['enginelocation'].replace({1:0},inplace=True)"
   ]
  },
  {
   "cell_type": "code",
   "execution_count": 132,
   "id": "7bbfd80f",
   "metadata": {},
   "outputs": [
    {
     "data": {
      "text/plain": [
       "0    205\n",
       "Name: enginelocation, dtype: int64"
      ]
     },
     "execution_count": 132,
     "metadata": {},
     "output_type": "execute_result"
    }
   ],
   "source": [
    "df.enginelocation.value_counts()"
   ]
  },
  {
   "cell_type": "code",
   "execution_count": 133,
   "id": "9f131fd1",
   "metadata": {},
   "outputs": [
    {
     "data": {
      "text/plain": [
       "1    120\n",
       "2     85\n",
       "Name: drivewheel, dtype: int64"
      ]
     },
     "execution_count": 133,
     "metadata": {},
     "output_type": "execute_result"
    }
   ],
   "source": [
    "df.drivewheel.value_counts()"
   ]
  },
  {
   "cell_type": "code",
   "execution_count": 134,
   "id": "57409973",
   "metadata": {},
   "outputs": [],
   "source": [
    "df['drivewheel'].replace({2:1},inplace=True)"
   ]
  },
  {
   "cell_type": "code",
   "execution_count": 135,
   "id": "f8458205",
   "metadata": {},
   "outputs": [
    {
     "data": {
      "text/plain": [
       "1    205\n",
       "Name: drivewheel, dtype: int64"
      ]
     },
     "execution_count": 135,
     "metadata": {},
     "output_type": "execute_result"
    }
   ],
   "source": [
    "df.drivewheel.value_counts()"
   ]
  },
  {
   "cell_type": "code",
   "execution_count": 136,
   "id": "97f3daec",
   "metadata": {},
   "outputs": [
    {
     "data": {
      "text/plain": [
       "0    168\n",
       "1     37\n",
       "Name: aspiration, dtype: int64"
      ]
     },
     "execution_count": 136,
     "metadata": {},
     "output_type": "execute_result"
    }
   ],
   "source": [
    "df.aspiration.value_counts()"
   ]
  },
  {
   "cell_type": "code",
   "execution_count": 137,
   "id": "81d5d4f7",
   "metadata": {},
   "outputs": [],
   "source": [
    "df['aspiration'].replace({1:0},inplace=True)"
   ]
  },
  {
   "cell_type": "code",
   "execution_count": 138,
   "id": "b05a901a",
   "metadata": {},
   "outputs": [
    {
     "data": {
      "text/plain": [
       "0    205\n",
       "Name: aspiration, dtype: int64"
      ]
     },
     "execution_count": 138,
     "metadata": {},
     "output_type": "execute_result"
    }
   ],
   "source": [
    "df.aspiration.value_counts()"
   ]
  },
  {
   "cell_type": "code",
   "execution_count": 139,
   "id": "5dcfd403",
   "metadata": {
    "scrolled": true
   },
   "outputs": [
    {
     "data": {
      "text/plain": [
       "2    94\n",
       "0    81\n",
       "1    30\n",
       "Name: fuelsystem, dtype: int64"
      ]
     },
     "execution_count": 139,
     "metadata": {},
     "output_type": "execute_result"
    }
   ],
   "source": [
    "df.fuelsystem.value_counts()"
   ]
  },
  {
   "cell_type": "code",
   "execution_count": 140,
   "id": "96be2e2a",
   "metadata": {},
   "outputs": [],
   "source": [
    "df['fuelsystem'].replace({1:0},inplace=True)"
   ]
  },
  {
   "cell_type": "code",
   "execution_count": 141,
   "id": "8a4dc04a",
   "metadata": {},
   "outputs": [
    {
     "data": {
      "text/plain": [
       "0    111\n",
       "2     94\n",
       "Name: fuelsystem, dtype: int64"
      ]
     },
     "execution_count": 141,
     "metadata": {},
     "output_type": "execute_result"
    }
   ],
   "source": [
    "df.fuelsystem.value_counts()"
   ]
  },
  {
   "cell_type": "code",
   "execution_count": 142,
   "id": "18e295f1",
   "metadata": {},
   "outputs": [
    {
     "data": {
      "text/plain": [
       "(205, 10)"
      ]
     },
     "execution_count": 142,
     "metadata": {},
     "output_type": "execute_result"
    }
   ],
   "source": [
    "df.shape"
   ]
  },
  {
   "cell_type": "code",
   "execution_count": 143,
   "id": "f2a9b21e",
   "metadata": {},
   "outputs": [],
   "source": [
    "X=df.drop(['price'],axis=1)\n",
    "Y=df.price"
   ]
  },
  {
   "cell_type": "markdown",
   "id": "6c3a4677",
   "metadata": {},
   "source": [
    "# standard scaling"
   ]
  },
  {
   "cell_type": "code",
   "execution_count": 144,
   "id": "ec03fc9e",
   "metadata": {},
   "outputs": [],
   "source": [
    "from sklearn.preprocessing import StandardScaler"
   ]
  },
  {
   "cell_type": "code",
   "execution_count": 145,
   "id": "d5b5026f",
   "metadata": {},
   "outputs": [],
   "source": [
    "scaler = StandardScaler()\n",
    "X = scaler.fit_transform(X)"
   ]
  },
  {
   "cell_type": "markdown",
   "id": "2e522948",
   "metadata": {},
   "source": [
    "# train test split"
   ]
  },
  {
   "cell_type": "code",
   "execution_count": 146,
   "id": "dd6383a1",
   "metadata": {},
   "outputs": [],
   "source": [
    "from sklearn.model_selection import train_test_split"
   ]
  },
  {
   "cell_type": "code",
   "execution_count": 147,
   "id": "c649867c",
   "metadata": {},
   "outputs": [],
   "source": [
    "X_train,X_test,y_train,y_test=train_test_split(X,Y, test_size=0.2,random_state=20)"
   ]
  },
  {
   "cell_type": "markdown",
   "id": "892a212a",
   "metadata": {},
   "source": [
    "# linear regression"
   ]
  },
  {
   "cell_type": "code",
   "execution_count": 148,
   "id": "379b6c0a",
   "metadata": {},
   "outputs": [],
   "source": [
    "from sklearn.linear_model import LinearRegression\n",
    "from sklearn.metrics import r2_score,mean_squared_error"
   ]
  },
  {
   "cell_type": "code",
   "execution_count": 149,
   "id": "509fe11f",
   "metadata": {},
   "outputs": [],
   "source": [
    "lr=LinearRegression()"
   ]
  },
  {
   "cell_type": "code",
   "execution_count": 150,
   "id": "ba337e1e",
   "metadata": {},
   "outputs": [
    {
     "name": "stdout",
     "output_type": "stream",
     "text": [
      "R2_score:  92.51\n",
      "MSE_score: 40.53\n",
      "RMSE: 6.366317616958802\n"
     ]
    }
   ],
   "source": [
    "lr.fit(X_train,y_train)\n",
    "y_pred=lr.predict(X_test)\n",
    "r2_lr=round(r2_score(y_test,y_pred)*100,2)\n",
    "print('R2_score: ',r2_lr)\n",
    "mse_lr=round(mean_squared_error(y_test,y_pred),2)\n",
    "print('MSE_score:',mse_lr)\n",
    "rmse_lr= np.sqrt(mse_lr)\n",
    "print('RMSE:',rmse_lr)"
   ]
  },
  {
   "cell_type": "markdown",
   "id": "bb70a9ac",
   "metadata": {},
   "source": [
    "# Decision tree"
   ]
  },
  {
   "cell_type": "code",
   "execution_count": 153,
   "id": "4ebe2074",
   "metadata": {},
   "outputs": [],
   "source": [
    "from sklearn.tree import DecisionTreeRegressor\n",
    "from sklearn.model_selection import RandomizedSearchCV\n",
    "from scipy.stats import randint as sp_randint"
   ]
  },
  {
   "cell_type": "code",
   "execution_count": 154,
   "id": "2f7905f0",
   "metadata": {},
   "outputs": [],
   "source": [
    "#define the parameter space for the hyperparemeters\n",
    "param_grid={'splitter':['best','random'],\n",
    "           'criterion':['mse', 'friedman_mse'],\n",
    "           'max_depth':sp_randint(2,10),\n",
    "           'min_samples_split':sp_randint(1,10)}"
   ]
  },
  {
   "cell_type": "code",
   "execution_count": 155,
   "id": "16188a4c",
   "metadata": {},
   "outputs": [],
   "source": [
    "#create the Randomizedsearchcv object\n",
    "decireg=DecisionTreeRegressor()\n",
    "random_search=RandomizedSearchCV(decireg,param_grid,cv=5,n_jobs=-1)"
   ]
  },
  {
   "cell_type": "code",
   "execution_count": 156,
   "id": "154cbde2",
   "metadata": {},
   "outputs": [
    {
     "name": "stdout",
     "output_type": "stream",
     "text": [
      "R2 score: 99.12\n",
      "mse:  4.74\n",
      "RMSE: 2.18\n"
     ]
    }
   ],
   "source": [
    "random_search.fit(X_train,y_train)\n",
    "y_pred1=random_search.predict(X_test)\n",
    "r2_dt=round(r2_score(y_test,y_pred1)*100,2)\n",
    "print('R2 score:',r2_dt)\n",
    "mse_dt=round(mean_squared_error(y_test,y_pred1),2)\n",
    "print('mse: ',mse_dt)\n",
    "rmse_dt=round(np.sqrt(mse_dt),2)\n",
    "print('RMSE:',rmse_dt)"
   ]
  },
  {
   "cell_type": "markdown",
   "id": "a61d1148",
   "metadata": {},
   "source": [
    "# random forest"
   ]
  },
  {
   "cell_type": "code",
   "execution_count": 157,
   "id": "66c83a12",
   "metadata": {},
   "outputs": [],
   "source": [
    "from sklearn.ensemble import RandomForestRegressor\n",
    "from scipy.stats import randint as sp_randint"
   ]
  },
  {
   "cell_type": "code",
   "execution_count": 158,
   "id": "82230905",
   "metadata": {},
   "outputs": [],
   "source": [
    "rf = RandomForestRegressor(random_state=20)"
   ]
  },
  {
   "cell_type": "code",
   "execution_count": 159,
   "id": "150f499f",
   "metadata": {},
   "outputs": [
    {
     "data": {
      "text/plain": [
       "RandomizedSearchCV(cv=5, estimator=RandomForestRegressor(random_state=20),\n",
       "                   param_distributions={'n_estimators': <scipy.stats._distn_infrastructure.rv_frozen object at 0x0000024842FCFF10>})"
      ]
     },
     "execution_count": 159,
     "metadata": {},
     "output_type": "execute_result"
    }
   ],
   "source": [
    "# Use RandomizedSearchCV to find the best number of estimators\n",
    "param_distributions = {'n_estimators': sp_randint(10, 100)}\n",
    "random_search = RandomizedSearchCV(rf, param_distributions, n_iter=10, cv=5)\n",
    "random_search.fit(X_train, y_train)"
   ]
  },
  {
   "cell_type": "code",
   "execution_count": 160,
   "id": "76f02318",
   "metadata": {},
   "outputs": [],
   "source": [
    "# Get the best number of estimators\n",
    "best_n_estimators = random_search.best_params_['n_estimators']"
   ]
  },
  {
   "cell_type": "code",
   "execution_count": 161,
   "id": "73953f0f",
   "metadata": {},
   "outputs": [
    {
     "data": {
      "text/plain": [
       "RandomForestRegressor(n_estimators=98, random_state=42)"
      ]
     },
     "execution_count": 161,
     "metadata": {},
     "output_type": "execute_result"
    }
   ],
   "source": [
    "# Train the random forest model with the best number of estimators\n",
    "rf = RandomForestRegressor(n_estimators=best_n_estimators, random_state=42)\n",
    "rf.fit(X_train, y_train)"
   ]
  },
  {
   "cell_type": "code",
   "execution_count": 162,
   "id": "7b6fa112",
   "metadata": {},
   "outputs": [
    {
     "name": "stdout",
     "output_type": "stream",
     "text": [
      "R2 score: 99.86\n",
      "mse:  0.77\n",
      "RMSE: 0.88\n"
     ]
    }
   ],
   "source": [
    "y_pred2=rf.predict(X_test)\n",
    "r2_rf=round(r2_score(y_test,y_pred2)*100,2)\n",
    "print('R2 score:',r2_rf)\n",
    "mse_rf=round(mean_squared_error(y_test,y_pred2),2)\n",
    "print('mse: ',mse_rf)\n",
    "rmse_rf=round(np.sqrt(mse_rf),2)\n",
    "print('RMSE:',rmse_rf)"
   ]
  },
  {
   "cell_type": "markdown",
   "id": "c75c50d9",
   "metadata": {},
   "source": [
    "# svm"
   ]
  },
  {
   "cell_type": "code",
   "execution_count": 164,
   "id": "43fc7eb4",
   "metadata": {},
   "outputs": [],
   "source": [
    "from sklearn.svm import SVR"
   ]
  },
  {
   "cell_type": "code",
   "execution_count": 165,
   "id": "74442281",
   "metadata": {},
   "outputs": [],
   "source": [
    "X=df.drop(['price'],axis=1)\n",
    "Y=df.price"
   ]
  },
  {
   "cell_type": "code",
   "execution_count": 166,
   "id": "db6e583f",
   "metadata": {},
   "outputs": [],
   "source": [
    "X_train,X_test,y_train,y_test=train_test_split(X,Y, test_size=0.2,random_state=20)"
   ]
  },
  {
   "cell_type": "code",
   "execution_count": 167,
   "id": "6eacc33e",
   "metadata": {},
   "outputs": [],
   "source": [
    "svm = SVR(kernel='linear')"
   ]
  },
  {
   "cell_type": "code",
   "execution_count": 168,
   "id": "8749745e",
   "metadata": {},
   "outputs": [
    {
     "data": {
      "text/plain": [
       "SVR(kernel='linear')"
      ]
     },
     "execution_count": 168,
     "metadata": {},
     "output_type": "execute_result"
    }
   ],
   "source": [
    "svm.fit(X_train, y_train)"
   ]
  },
  {
   "cell_type": "code",
   "execution_count": 169,
   "id": "cc98906f",
   "metadata": {
    "scrolled": true
   },
   "outputs": [
    {
     "data": {
      "text/plain": [
       "array([136.07519817, 102.2323691 ,  97.16207817, 191.50815797,\n",
       "        97.18325733, 128.19475448,  78.34099659, 112.48545617,\n",
       "       167.65040499, 124.82905954,  90.75758745,  96.13031262,\n",
       "       164.81276417,  82.00335245,  92.5790661 ,  80.73746641,\n",
       "        94.74011195,  87.122007  , 110.22506645, 175.51358795,\n",
       "       104.91683224,  93.82547334, 211.17347711, 108.92109001,\n",
       "       177.87073362, 105.17294327,  84.21436036, 107.05253884,\n",
       "       150.90098089,  98.64930691, 129.86904854,  96.61451815,\n",
       "        96.50943282, 105.85090762,  93.58826193, 107.92980322,\n",
       "        95.36671704, 125.75500536,  96.01597256,  90.81680267,\n",
       "       103.79487333])"
      ]
     },
     "execution_count": 169,
     "metadata": {},
     "output_type": "execute_result"
    }
   ],
   "source": [
    "y_pred4 = svm.predict(X_test)\n",
    "y_pred4"
   ]
  },
  {
   "cell_type": "code",
   "execution_count": 170,
   "id": "f8e68426",
   "metadata": {},
   "outputs": [
    {
     "name": "stdout",
     "output_type": "stream",
     "text": [
      "R2 score: 34.05\n"
     ]
    }
   ],
   "source": [
    "r2_svm=round(r2_score(y_test,y_pred4)*100,2)\n",
    "print('R2 score:',r2_svm)"
   ]
  },
  {
   "cell_type": "code",
   "execution_count": 171,
   "id": "8d6657d7",
   "metadata": {},
   "outputs": [
    {
     "name": "stdout",
     "output_type": "stream",
     "text": [
      "Mean Squared Error: 40.532323935437574\n"
     ]
    }
   ],
   "source": [
    "mse_svm = np.mean((y_pred - y_test)**2)\n",
    "print(\"Mean Squared Error:\", mse_svm)"
   ]
  },
  {
   "cell_type": "code",
   "execution_count": 172,
   "id": "1d34af11",
   "metadata": {},
   "outputs": [
    {
     "name": "stdout",
     "output_type": "stream",
     "text": [
      "RMSE: 0.88\n"
     ]
    }
   ],
   "source": [
    "rmse_svm=round(np.sqrt(mse_svm),2)\n",
    "print('RMSE:',rmse_rf)"
   ]
  }
 ],
 "metadata": {
  "kernelspec": {
   "display_name": "Python 3 (ipykernel)",
   "language": "python",
   "name": "python3"
  },
  "language_info": {
   "codemirror_mode": {
    "name": "ipython",
    "version": 3
   },
   "file_extension": ".py",
   "mimetype": "text/x-python",
   "name": "python",
   "nbconvert_exporter": "python",
   "pygments_lexer": "ipython3",
   "version": "3.9.12"
  }
 },
 "nbformat": 4,
 "nbformat_minor": 5
}
